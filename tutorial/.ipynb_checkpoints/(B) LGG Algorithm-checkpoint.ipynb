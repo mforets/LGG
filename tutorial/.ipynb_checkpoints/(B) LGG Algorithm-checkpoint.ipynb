{
 "cells": [
  {
   "cell_type": "markdown",
   "metadata": {},
   "source": [
    "$\\newcommand{\\R}{\\mathbb{R}}$\n",
    "$\\newcommand{\\transp}{\\mathrm{T}}$\n",
    "$\\newcommand{\\jR}{\\mathcal{R}}$"
   ]
  },
  {
   "cell_type": "markdown",
   "metadata": {
    "collapsed": false
   },
   "source": [
    "# B. The LGG Algorithm\n",
    "\n",
    "[SpaceEx](http://spaceex.imag.fr/) is a verification platform for hybrid systems. The basic functionality is to compute the set of reachable sets of a system. Currently, SpaceEx accepts piecewise-linear systems only. The standard way to deal with nonlinearities is to perform a local linearization of the system's dynamics, a method called *hybridization* in this area.  \n",
    " \n",
    "The [LGG (Le Guernic-Girard)](http://ljk.imag.fr/membres/Antoine.Girard/Publications/cav2009.pdf) is an algorithm implemented in SpaceEx (along with more recent methods such as [STC](http://spaceex.imag.fr/sites/default/files/frehse_stc_lgg_comp.pdf)).  \n",
    "\n",
    "In this worksheet we implement the linear part of the LGG algorithm of Le Guernic and Girard, described in [this paper](http://www-ljk.imag.fr/membres/Antoine.Girard/Publications/na-hs.pdf), and make a test in the following simple example. "
   ]
  },
  {
   "cell_type": "markdown",
   "metadata": {},
   "source": [
    "## 1. Hybridization\n",
    "\n",
    "The method known as hybridization consists in performing a local linearization over a set of positions in state-space. \n",
    "\n",
    "This is an illustration of the hybridization technique, from [O. Maler, Computing Reachable Sets: An Introduction](http://www-verimag.imag.fr/~maler/Papers/reach-intro.pdf).\n",
    "![alt text](https://github.com/mforets/SMC-and-set-based-computations/blob/master/fig/hybridization.png?raw=true)"
   ]
  },
  {
   "cell_type": "markdown",
   "metadata": {
    "collapsed": true
   },
   "source": [
    "## 2. A two-dimensional LTI example \n",
    "\n",
    "Consider the system\n",
    "$$\n",
    "\\begin{pmatrix}\n",
    "\\dot{x}_1 \\\\ \\dot{x}_2\n",
    "\\end{pmatrix} = \\begin{pmatrix} -1  & -4 \\\\ 4 & -1 \\end{pmatrix} \\begin{pmatrix}\n",
    "x_1 \\\\ x_2\n",
    "\\end{pmatrix} + \\begin{pmatrix} u_1 \\\\ u_2 \\end{pmatrix}.\n",
    "$$\n",
    "Let $\\mathcal{X}_0 = [0.9,1.1]\\times [-0.1,1.1]$ be the initial set. Suppose that $u_1(t),u_2(t) \\in B_\\infty(0,\\mu)$ for all $t\\geq 0$, with $\\mu=0.05$. What is the set of states reachable at time $T=2$? This two-dimensional example appears in [Gir05](http://www-ljk.imag.fr/membres/Antoine.Girard/Publications/hscc2005.pdf)."
   ]
  },
  {
   "cell_type": "markdown",
   "metadata": {},
   "source": [
    "## 2.1. Numerical integration \n",
    "\n",
    "The solution of the [LTI](https://en.wikipedia.org/wiki/LTI_system_theory) system $\\dot{x}=Ax + u$ is\n",
    "$$\n",
    "x(t) = e^{At}x_0 + \\int_0^t e^{A(t-s)}u(s) ds,\n",
    "$$\n",
    "where $x=(x_1,x_2)^\\transp$ and $u = (u_1, u_2)^\\transp$. Below we numericlly solve this integral for different values of the initial condition. Let us assume that $u_1(t) = \\mu\\cos t$ and $u_2(t) = \\mu \\sin t$, with $\\mu = 0.05$."
   ]
  },
  {
   "cell_type": "markdown",
   "metadata": {
    "collapsed": true
   },
   "source": [
    "*Exercise*. Compute the numerical integral, for different values of $x_0 \\in \\mathcal{X}_0 = [0.9,1.1]\\times [-0.1,1.1]$. \n",
    "*Hint:* Use sage function numerical_integral."
   ]
  },
  {
   "cell_type": "markdown",
   "metadata": {},
   "source": [
    "## 3. Efficient algorithm for the computation of polyhedral approximations of the reachable set \n",
    "\n",
    "This corresponds to Section 4 of [LGG09](http://www-ljk.imag.fr/membres/Antoine.Girard/Publications/na-hs.pdf). Consider the LTI system\n",
    "$$\n",
    "\\dot{x}(t) = Ax(t) + Bu(t),\n",
    "$$\n",
    "with $u(t) \\in U \\subseteq \\R^{d'}$ a compact convex set; $A$ and $B$ are matrices of appropriate dimensions (we assume that the state-space is $n$-dimensional and over the real field). It is convenient to *homogeneize* the system by defining the set $V=BU \\subset \\R^n$, and consider the equivalent system\n",
    "$$\n",
    "\\dot{x}(t) = Ax(t) + v(t),\n",
    "$$\n",
    "with $v(t) \\in V$. \n",
    "\n",
    "**Definition**. The set of states reachable at time $s>0$ from states in a given subset $X \\in \\R^n$ is\n",
    "$$\n",
    "\\jR_s(X) := \\{ x(s) : \\dot{x}=Ax+v,~v\\in V,~\\forall t \\in [0,s]\\text{ and } x(0) \\in X \\}.\n",
    "$$\n",
    "The reachable set on the time interval $[s,s']$ is defined as \n",
    "$$\n",
    "\\jR_{[s,s']}(X) := \\bigcup\\limits_{t\\in[s,s']}\\jR_t(X).\n",
    "$$\n",
    "\n",
    "This object is also often called *reach-pipe*. \n",
    "\n",
    "**Objective**. The goal is to approximate the reach-pipe, $\\jR_{[0,T]} (X_0)$, given an initial set $X_0$ and a finite time horion $T>0$."
   ]
  },
  {
   "cell_type": "markdown",
   "metadata": {},
   "source": [
    "### 3.1. Time-discretization scheme\n",
    "\n",
    "The approach is based on the discretization of time. Let $\\tau = T/N$ be the time step. Then,\n",
    "$$\n",
    "\\jR_{[0,T]} (X_0) = \\bigcup\\limits_{i=0}^{N-1} \\jR_{[i\\tau, (i+1)\\tau]} (X_0).\n",
    "$$\n",
    "The idea is to compute over-approximations of the sets $\\jR_{[i\\tau, (i+1)\\tau]} (X_0)$, and the desired result will be their union."
   ]
  },
  {
   "cell_type": "markdown",
   "metadata": {},
   "source": [
    "### 3.2. Main result \n",
    "\n",
    "The idea is that the reachable set $\\jR_{[0,T]} (X_0)$ can be approximated by the union of convex sets $\\Omega_0 \\cup \\ldots \\cup \\Omega_{N-1}$. The sequence of approximants is built as\n",
    "$$\n",
    "\\Omega_0 := CH\\left(X_0, e^{\\tau A}X_0 \\oplus \\tau V \\oplus \\alpha_{\\tau} B \\right),\n",
    "$$\n",
    "and\n",
    "$$\n",
    "\\Omega_{i+1} := CH\\left( X_0, e^{\\tau A}\\Omega_i \\oplus \\tau V \\oplus \\beta_{\\tau} B\\right),\\qquad i = 0,\\ldots,N-2.\n",
    "$$\n",
    "In these definitions, $\\alpha_{\\tau}$ and $\\beta_{\\tau}$ have explicit formulas which are such that over-approximation is ensured. The main result is that the error bound can be made arbitrarily small by choosing $\\tau$ small enough. More precisely (see Theorem 1 in [LGG09](http://www-ljk.imag.fr/membres/Antoine.Girard/Publications/na-hs.pdf) for details), for all $i=0,\\ldots,N-1$, it holds that\n",
    "$$\n",
    "d^H(\\Omega_i, \\jR_{[i\\tau,(i+1)\\tau]} (X_0)) \\leq \\tau e^{T||A||} \\left( \\dfrac{||A||}{4} D_{X_0} + \\tau ||A||^2  R_{X_0} + e^{\\tau ||A||} R_V \\right), \n",
    "$$\n",
    "where $R_{X_0}$ and $R_V$ are the radius of $X_0$ and $V$ respectively, and $D_{X_0}$ is the diameter of $X_0$. Note that the error bound for the Hausdorff distance is in $\\mathcal{O}(\\tau)$."
   ]
  },
  {
   "cell_type": "markdown",
   "metadata": {},
   "source": [
    "### 3.3. Implementation of the algorithm"
   ]
  },
  {
   "cell_type": "markdown",
   "metadata": {},
   "source": [
    "The initial set that we are given is $\\mathcal{X}_0 = [0.9,1.1]\\times [-0.1,1.1] = B_\\infty([1,0],0.1)$."
   ]
  },
  {
   "cell_type": "code",
   "execution_count": 1,
   "metadata": {
    "collapsed": false
   },
   "outputs": [],
   "source": [
    "reset()"
   ]
  },
  {
   "cell_type": "code",
   "execution_count": 1,
   "metadata": {
    "collapsed": true
   },
   "outputs": [],
   "source": [
    "import sys\n",
    "sys.path.append('..')"
   ]
  },
  {
   "cell_type": "code",
   "execution_count": 2,
   "metadata": {
    "collapsed": false
   },
   "outputs": [],
   "source": [
    "from lib.polyFunctions_core import *\n",
    "from lib.norms import matrix_sup_norm\n",
    "\n",
    "import numpy as np\n",
    "from scipy.linalg import expm, sinm, cosm\n",
    "\n",
    "\n",
    "# LTI system\n",
    "n = 2\n",
    "#A = np.array([[-1, -4], [4, -1]], dtype=float) \n",
    "A = matrix([[-1, -4], [4, -1]])\n",
    "\n",
    "#B = np.array([[1, 0], [0, 1]], dtype=float)\n",
    "B = matrix([[1, 0], [0, 1]])\n",
    "\n",
    "# time horizon, t0=0 is assumed\n",
    "T = 2\n",
    "\n",
    "# input domain U\n",
    "mu = 0.05\n",
    "U = BoxInfty(center = [0,0], radius = mu)\n",
    "\n",
    "# initial condition \n",
    "X0 = BoxInfty(center = [1,0], radius = 0.1)\n",
    "\n",
    "# time discretization \n",
    "tau = 1e-1\n",
    "N = 20 # in the analysis, T = N*tau\n",
    "# compute range of the input under B, V = BU\n",
    "V = polyhedron_linear_map(B, U) "
   ]
  },
  {
   "cell_type": "code",
   "execution_count": 3,
   "metadata": {
    "collapsed": false
   },
   "outputs": [],
   "source": [
    "# compute matrix exponential \n",
    "Phi_tau = expm(np.multiply(A, tau))\n",
    "\n",
    "# compute exp(tau*A)X0\n",
    "expX0 = polyhedron_linear_map(Phi_tau, X0)\n",
    "\n",
    "# compute the initial over-approximation\n",
    "tau_V = polyhedron_linear_map(tau*np.identity(n), V)\n",
    "\n",
    "# compute the bloating factor \n",
    "Ainfty = matrix_sup_norm(A)\n",
    "RX0 = polyhedron_sup_norm(X0)\n",
    "RV = polyhedron_sup_norm(V)\n",
    "\n",
    "unitBall = BoxInfty(center = [0,0], radius = 1)\n",
    "alpha_tau = (exp(tau*Ainfty) - 1 - tau*Ainfty)*(RX0 + RV/Ainfty)\n",
    "alpha_tau_B = polyhedron_linear_map(alpha_tau*np.identity(n), unitBall)\n",
    "\n",
    "# compute the first element of the approximating sequence, Omega_0\n",
    "aux = expX0.Minkowski_sum(tau_V)\n",
    "Omega0 = X0.convex_hull(aux.Minkowski_sum(alpha_tau_B)) "
   ]
  },
  {
   "cell_type": "markdown",
   "metadata": {},
   "source": [
    "Here $\\Omega_0$ is an over-approximation $\\jR_{[0,\\tau]}(X_0)$. The idea is the following:\n",
    "1. $e^{\\tau A}X_0 \\oplus \\tau V$ is an approxmation of the reachable set at time $\\tau$;\n",
    "2. a *bloating* operation followed by a convex hull operation gives an approxmation of $\\jR_{[0,\\tau]}(X_0)$. \n",
    "3. $\\alpha_\\tau$ (the bloating factor) is chosen to ensure over-approxmation. \n",
    "\n",
    "Let us check $\\Omega_0$:"
   ]
  },
  {
   "cell_type": "code",
   "execution_count": 4,
   "metadata": {
    "collapsed": false
   },
   "outputs": [
    {
     "data": {
      "image/png": "[encoded data removed]",
      "text/plain": [
       "Graphics object consisting of 17 graphics primitives"
      ]
     },
     "execution_count": 4,
     "metadata": {},
     "output_type": "execute_result"
    }
   ],
   "source": [
    "Omega0.plot(alpha=0.5) + X0.plot(alpha=0.7,color='blue')"
   ]
  },
  {
   "cell_type": "code",
   "execution_count": 6,
   "metadata": {
    "collapsed": true
   },
   "outputs": [],
   "source": [
    "# build the Omega_i\n",
    "beta_tau = (exp(tau*Ainfty) - 1 - tau*Ainfty)*(RV/Ainfty)\n",
    "beta_tau_B = polyhedron_linear_map(beta_tau*np.identity(n), unitBall)\n",
    "W_tau = tau_V.Minkowski_sum(beta_tau_B) \n",
    "\n",
    "# receives a direction d, and outputs the support function rho_i of Omega_i at d\n",
    "def Omega_i_supports(d, N):\n",
    "    r = list()\n",
    "    s = list()\n",
    "    rhoi = list()\n",
    "    \n",
    "    r.append(d)\n",
    "    s.append(0)\n",
    "    rhoi.append(supp_fun_polyhedron(Omega0, d))\n",
    "    \n",
    "    for i in [0..N-2]:\n",
    "        r.append(np.dot(Phi_tau.transpose(),r[i]))\n",
    "        s.append(s[i] + supp_fun_polyhedron(W_tau, r[i]))\n",
    "        rhoi.append(s[i+1] + supp_fun_polyhedron(Omega0, r[i+1]))\n",
    "    \n",
    "    return rhoi"
   ]
  },
  {
   "cell_type": "code",
   "execution_count": 7,
   "metadata": {
    "collapsed": false
   },
   "outputs": [],
   "source": [
    "# define the directions \n",
    "\n",
    "# directions at random\n",
    "#import random\n",
    "#k=4\n",
    "#theta = [random.uniform(0, 2*pi.n(digits=5)) for i in range(k)]\n",
    "#d = [vector(RR,[cos(theta[i]), sin(theta[i])]) for i in range(k)]\n",
    "\n",
    "# specify directions \n",
    "#theta = [0,pi/2,pi,3*pi/2] # box\n",
    "theta = [i*pi/4 for i in [0..7]] # octagon\n",
    "\n",
    "dList = [vector(RR,[cos(theta[i]), sin(theta[i])]) for i in range(len(theta))]\n",
    "dArray = np.array(dList)\n",
    "\n",
    "# number of directions\n",
    "k = len(dArray)\n",
    "\n",
    "# compute family of support functions\n",
    "Omega_i_Family_SF = list()\n",
    "for i in range(len(dArray)):\n",
    "    d = dArray[i]\n",
    "    Omega_i_Family_SF.append( Omega_i_supports(d, N) ) "
   ]
  },
  {
   "cell_type": "markdown",
   "metadata": {},
   "source": [
    "### 3.5. Test of the implementation\n",
    "\n",
    "It remains to build the family of approximating polyhedrons, and plot the result."
   ]
  },
  {
   "cell_type": "code",
   "execution_count": 9,
   "metadata": {
    "collapsed": false
   },
   "outputs": [],
   "source": [
    "# build each polyhedron using the support functions over-approximation\n",
    "# we have N polyhedrons\n",
    "Omega_i_Poly = list()\n",
    "for i in range(N): #run over polytopes\n",
    "    \n",
    "    # for each polyhedra, I have to use all directions that I know\n",
    "    A = matrix(RR,k,n); b = vector(RR,k)\n",
    "    for j in range(k): #run over directions\n",
    "        s_fun = Omega_i_Family_SF[j][i]\n",
    "        A.set_row(j, dList[j])\n",
    "        b[j] = s_fun\n",
    "        \n",
    "    Omega_i_Poly.append( PolyhedronFromHSpaceRep(A, b) ) "
   ]
  },
  {
   "cell_type": "code",
   "execution_count": 10,
   "metadata": {
    "collapsed": false
   },
   "outputs": [],
   "source": [
    "# plot the result\n",
    "myFig = Graphics()"
   ]
  },
  {
   "cell_type": "code",
   "execution_count": 11,
   "metadata": {
    "collapsed": false
   },
   "outputs": [
    {
     "data": {
      "image/png": "[encoded data removed]",
      "text/plain": [
       "Graphics object consisting of 21 graphics primitives"
      ]
     },
     "metadata": {},
     "output_type": "display_data"
    }
   ],
   "source": [
    "# sanity check\n",
    "myFig = Omega_i_Poly[0].plot(alpha=0.5,color='red') + Omega0.plot(alpha=0.5,color='blue')\n",
    "myFig.show()\n",
    "# we don't actually expect exact matching (because Omega0 is being partially constructed with its support function); unless we take sufficient number of directions"
   ]
  },
  {
   "cell_type": "code",
   "execution_count": 12,
   "metadata": {
    "collapsed": false
   },
   "outputs": [
    {
     "data": {
      "image/png": "[encoded data removed]",
      "text/plain": [
       "Graphics object consisting of 200 graphics primitives"
      ]
     },
     "metadata": {},
     "output_type": "display_data"
    }
   ],
   "source": [
    "myFig = Omega_i_Poly[0].plot(alpha=0.5,color='red') + sum(Omega_i_Poly[i].plot(alpha=0.5) for i in [1..N-1])\n",
    "myFig.show()"
   ]
  },
  {
   "cell_type": "code",
   "execution_count": 250,
   "metadata": {
    "collapsed": false
   },
   "outputs": [],
   "source": [
    "from lib.polyFunctions_core import *\n",
    "from lib.norms import matrix_sup_norm\n",
    "\n",
    "import numpy as np\n",
    "from scipy.linalg import expm, sinm, cosm\n",
    "import random\n",
    "\n",
    "class NotImplementedException(Exception):\n",
    "    def __init__(self, msg):\n",
    "        self.msg = msg\n",
    "    def __str__(self):\n",
    "        return self.msg\n",
    "    \n",
    "def compute_flowpipe(A=None, X0=None, *args, **kwargs):\n",
    "    r\"\"\"\n",
    "    \n",
    "    INPUTS:\n",
    "    \n",
    "    * \"A\" - \n",
    "    \n",
    "    * \"B\" - \n",
    "    \n",
    "    * \"U\" - \n",
    "    \n",
    "    * \"X0\" - The initial states. A Polyhedron. The base_ring of X0 is inherited through all the computation.\n",
    "    \n",
    "    * \"tau\" - (default = 1e-2). Time step.  \n",
    "    \n",
    "    * \"t0\" - (default = 0). The initial time.\n",
    "    \n",
    "    * \"T\" - (default = 1). The final time.\n",
    "    \n",
    "    * \"N\" - (default = ceil(T/tau)). Number of time steps.\n",
    "    \n",
    "    * \"directions\" - (default: random, and a box)\n",
    "    \n",
    "    OUTPUTS:\n",
    "    \n",
    "    * \"flowpipe\"\n",
    "    \n",
    "    \"\"\"\n",
    "\n",
    "    # ---\n",
    "    # Parse input\n",
    "    # ---\n",
    "    \n",
    "    if A is None:\n",
    "        raise ValueError('System matrix A is missing.')\n",
    "    else:\n",
    "        if 'sage.matrix' in str(type(A)):\n",
    "            n = A.ncols()\n",
    "        elif type(A) == np.ndarray:\n",
    "            n = A.shape[0]\n",
    "\n",
    "    if X0 is None:\n",
    "        raise ValueError('Initial state X0 is missing.')\n",
    "    elif 'sage.geometry.polyhedron' not in str(type(X0)):\n",
    "        # If X0 is not some type of polyhedron, try to set an initial point \n",
    "        if type(X0) == list:\n",
    "            X0 = Polyhedron(vertices = [X0])\n",
    "        elif X0.is_vector():\n",
    "            X0 = Polyhedron(vertices = [X0])\n",
    "        else:\n",
    "            raise ValueError('Initial state X0 not understood.')\n",
    "\n",
    "    if B not in args:\n",
    "        # the system is homogeneous: dx/dt = Ax\n",
    "        got_homogeneous = True\n",
    "        raise NotImplementedError('Homogeneous system not implemented.')\n",
    "    else:\n",
    "        got_homogeneous = False\n",
    "        if U not in args:\n",
    "            raise ValueError('Input range U is missing.')\n",
    "    \n",
    "\n",
    "    \n",
    "    tau = kwargs['time_step'] if 'time_step' in kwargs else 1e-2\n",
    "    \n",
    "    T = kwargs['time_horizon'] if 'time_horizon' in kwargs else 1\n",
    "    \n",
    "    t0 = kwargs['initial_time'] if 'initial_time' in kwargs else 0\n",
    "    \n",
    "    N = kwargs['number_of_time_steps'] if 'number_of_time_steps' in kwargs else ceil(T/tau)\n",
    "    \n",
    "    base_ring = kwargs['base_ring'] if 'base_ring' in kwargs else QQ\n",
    "\n",
    "\n",
    "    # compute range of the input under B, V = BU\n",
    "    V = polyhedron_linear_map(B, U) \n",
    "    \n",
    "    # ---\n",
    "    # Compute first element of the approximating sequence\n",
    "    # ---\n",
    "\n",
    "    # compute matrix exponential exp(A*tau)\n",
    "    Phi_tau = expm(np.multiply(A, tau))\n",
    "\n",
    "    # compute exp(tau*A)X0\n",
    "    expX0 = polyhedron_linear_map(Phi_tau, X0)\n",
    "\n",
    "    # compute the initial over-approximation\n",
    "    tau_V = polyhedron_linear_map(tau*np.identity(n), V)\n",
    "\n",
    "    # compute the bloating factor \n",
    "    Ainfty = matrix_sup_norm(A)\n",
    "    RX0 = polyhedron_sup_norm(X0)\n",
    "    RV = polyhedron_sup_norm(V)\n",
    "\n",
    "    unitBall = BoxInfty(center = zero_vector(n), radius = 1)\n",
    "    alpha_tau = (exp(tau*Ainfty) - 1 - tau*Ainfty)*(RX0 + RV/Ainfty)\n",
    "    alpha_tau_B = polyhedron_linear_map(alpha_tau*np.identity(n), unitBall)\n",
    "\n",
    "    # compute the first element of the approximating sequence, Omega_0\n",
    "    aux = expX0.Minkowski_sum(tau_V)\n",
    "    Omega = X0.convex_hull(aux.Minkowski_sum(alpha_tau_B)) \n",
    "\n",
    "    # ---\n",
    "    # Build the sequence of approximations Omega_i\n",
    "    # ---    \n",
    "    \n",
    "    # build the Omega_i\n",
    "    beta_tau = (exp(tau*Ainfty) - 1 - tau*Ainfty)*(RV/Ainfty)\n",
    "    beta_tau_B = polyhedron_linear_map(beta_tau*np.identity(n), unitBall)\n",
    "    W_tau = tau_V.Minkowski_sum(beta_tau_B) \n",
    "\n",
    "    # receives a direction d, and outputs the support function rho_i of Omega_i at d\n",
    "    def _Omega_i_supports(d):\n",
    "        r = []\n",
    "        s = []\n",
    "        rhoi = []\n",
    "    \n",
    "        r.append(d)\n",
    "        s.append(0)\n",
    "        rhoi.append(supp_fun_polyhedron(Omega0, d))\n",
    "    \n",
    "        for i in [0..N-2]:\n",
    "            r.append(np.dot(Phi_tau.transpose(),r[i]))\n",
    "            s.append(s[i] + supp_fun_polyhedron(W_tau, r[i]))\n",
    "            rhoi.append(s[i+1] + supp_fun_polyhedron(Omega0, r[i+1]))\n",
    "    \n",
    "        return rhoi\n",
    "    \n",
    "    # ---\n",
    "    # Define the directions \n",
    "    # ---\n",
    "    \n",
    "    if directions['select'] == 'random':\n",
    "        \n",
    "        k=4\n",
    "        theta = [random.uniform(0, 2*pi.n(digits=5)) for i in range(k)]\n",
    "        d = [vector(RR,[cos(theta[i]), sin(theta[i])]) for i in range(k)]\n",
    "\n",
    "        # specify directions \n",
    "        if directions['template'] == 'box':\n",
    "            theta = [0,pi/2,pi,3*pi/2] # box\n",
    "        \n",
    "        elif directions['template'] == 'octagon':\n",
    "            theta = [i*pi/4 for i in [0..7]] # octagon\n",
    "\n",
    "        dList = [vector(RR,[cos(theta[i]), sin(theta[i])]) for i in range(len(theta))]\n",
    "        dArray = np.array(dList)\n",
    "\n",
    "        # number of directions\n",
    "        k = len(dArray)\n",
    "\n",
    "        # compute family of support functions\n",
    "        Omega_i_Family_SF = list()\n",
    "        for i in range(len(dArray)):\n",
    "            d = dArray[i]\n",
    "            Omega_i_Family_SF.append( Omega_i_supports(d, N) ) \n",
    "    \n",
    "    elif directions['select'] == 'custom':\n",
    "        raise NotImplementedError('Directions select custom not implemented.')\n",
    "    \n",
    "    else:\n",
    "        raise TypeError('Directions select must be: random or custom')\n",
    "        \n",
    "    # ---\n",
    "    # Compute the flowpipe, all the elements of the approximating sequence\n",
    "    # ---\n",
    "    \n",
    "    # build each polyhedron using the support functions over-approximation\n",
    "    # we have N polyhedrons\n",
    "    Omega_i_Poly = list()\n",
    "   \n",
    "    #run over polytopes\n",
    "    for i in range(N): \n",
    "    \n",
    "        # for each polyhedra, I have to use all directions that I know\n",
    "        A = matrix(RR,k,n); b = vector(RR,k)\n",
    "        for j in range(k): #run over directions\n",
    "            s_fun = Omega_i_Family_SF[j][i]\n",
    "            A.set_row(j, dList[j])\n",
    "            b[j] = s_fun\n",
    "        \n",
    "        Omega_i_Poly.append( PolyhedronFromHSpaceRep(A, b) ) \n",
    "    \n",
    "    flowpipe_approximation = [Omega0] + Omega_i_Poly\n",
    "    \n",
    "    return flowpipe_approximation"
   ]
  },
  {
   "cell_type": "code",
   "execution_count": 252,
   "metadata": {
    "collapsed": false
   },
   "outputs": [
    {
     "ename": "NameError",
     "evalue": "global name 'directions' is not defined",
     "output_type": "error",
     "traceback": [
      "\u001b[0;31m---------------------------------------------------------------------------\u001b[0m",
      "\u001b[0;31mNameError\u001b[0m                                 Traceback (most recent call last)",
      "\u001b[0;32m<ipython-input-252-11986c0cc93a>\u001b[0m in \u001b[0;36m<module>\u001b[0;34m()\u001b[0m\n\u001b[1;32m     17\u001b[0m \u001b[0mtau\u001b[0m \u001b[0;34m=\u001b[0m \u001b[0mRealNumber\u001b[0m\u001b[0;34m(\u001b[0m\u001b[0;34m'1e-1'\u001b[0m\u001b[0;34m)\u001b[0m\u001b[0;34m\u001b[0m\u001b[0m\n\u001b[1;32m     18\u001b[0m \u001b[0;34m\u001b[0m\u001b[0m\n\u001b[0;32m---> 19\u001b[0;31m \u001b[0mcompute_flowpipe\u001b[0m\u001b[0;34m(\u001b[0m\u001b[0mA\u001b[0m\u001b[0;34m,\u001b[0m \u001b[0mX0\u001b[0m\u001b[0;34m,\u001b[0m \u001b[0mB\u001b[0m\u001b[0;34m,\u001b[0m \u001b[0mU\u001b[0m\u001b[0;34m,\u001b[0m \u001b[0mtime_step\u001b[0m \u001b[0;34m=\u001b[0m \u001b[0mtau\u001b[0m\u001b[0;34m,\u001b[0m \u001b[0mtime_horizon\u001b[0m \u001b[0;34m=\u001b[0m \u001b[0mT\u001b[0m\u001b[0;34m)\u001b[0m\u001b[0;34m\u001b[0m\u001b[0m\n\u001b[0m",
      "\u001b[0;32m<ipython-input-250-dc5e33f39f06>\u001b[0m in \u001b[0;36mcompute_flowpipe\u001b[0;34m(A, X0, *args, **kwargs)\u001b[0m\n\u001b[1;32m    144\u001b[0m     \u001b[0;31m# ---\u001b[0m\u001b[0;34m\u001b[0m\u001b[0;34m\u001b[0m\u001b[0m\n\u001b[1;32m    145\u001b[0m \u001b[0;34m\u001b[0m\u001b[0m\n\u001b[0;32m--> 146\u001b[0;31m     \u001b[0;32mif\u001b[0m \u001b[0mdirections\u001b[0m\u001b[0;34m[\u001b[0m\u001b[0;34m'select'\u001b[0m\u001b[0;34m]\u001b[0m \u001b[0;34m==\u001b[0m \u001b[0;34m'random'\u001b[0m\u001b[0;34m:\u001b[0m\u001b[0;34m\u001b[0m\u001b[0m\n\u001b[0m\u001b[1;32m    147\u001b[0m \u001b[0;34m\u001b[0m\u001b[0m\n\u001b[1;32m    148\u001b[0m         \u001b[0mk\u001b[0m\u001b[0;34m=\u001b[0m\u001b[0mInteger\u001b[0m\u001b[0;34m(\u001b[0m\u001b[0;36m4\u001b[0m\u001b[0;34m)\u001b[0m\u001b[0;34m\u001b[0m\u001b[0m\n",
      "\u001b[0;31mNameError\u001b[0m: global name 'directions' is not defined"
     ]
    }
   ],
   "source": [
    "# Test algorithm\n",
    "\n",
    "A = matrix([[-1, -4], [4, -1]])\n",
    "B = matrix([[1, 0], [0, 1]])\n",
    "\n",
    "# time horizon, t0=0 is assumed\n",
    "T = 2\n",
    "\n",
    "# input domain U\n",
    "mu = 0.05\n",
    "U = BoxInfty(center = [0,0], radius = mu)\n",
    "\n",
    "# initial condition \n",
    "X0 = BoxInfty(center = [1,0], radius = 0.1)\n",
    "\n",
    "# time discretization \n",
    "tau = 1e-1\n",
    "\n",
    "compute_flowpipe(A, X0, B, U, time_step = tau, time_horizon = T)"
   ]
  },
  {
   "cell_type": "code",
   "execution_count": 24,
   "metadata": {
    "collapsed": false
   },
   "outputs": [
    {
     "data": {
      "text/plain": [
       "(0, 0, 0, 0)"
      ]
     },
     "execution_count": 24,
     "metadata": {},
     "output_type": "execute_result"
    }
   ],
   "source": [
    "zero_vector(4)"
   ]
  },
  {
   "cell_type": "code",
   "execution_count": 27,
   "metadata": {
    "collapsed": false
   },
   "outputs": [],
   "source": [
    "def generate_power(number):\n",
    "    \"\"\"\n",
    "    Examples of use:\n",
    "\n",
    "    >>> raise_two = generate_power(2)\n",
    "    >>> raise_three = generate_power(3)\n",
    "    >>> print(raise_two(7))\n",
    "    128\n",
    "    >>> print(raise_three(5))\n",
    "    243\n",
    "    \"\"\"\n",
    "\n",
    "    # define the inner function ...\n",
    "    def nth_power(power):\n",
    "        return number ** power\n",
    "    # ... which is returned by the factory function\n",
    "\n",
    "    return nth_power\n"
   ]
  },
  {
   "cell_type": "code",
   "execution_count": 28,
   "metadata": {
    "collapsed": true
   },
   "outputs": [],
   "source": [
    "raise_two = generate_power(2)"
   ]
  },
  {
   "cell_type": "code",
   "execution_count": 29,
   "metadata": {
    "collapsed": true
   },
   "outputs": [],
   "source": [
    "raise_three = generate_power(3)"
   ]
  },
  {
   "cell_type": "code",
   "execution_count": 30,
   "metadata": {
    "collapsed": false
   },
   "outputs": [
    {
     "name": "stdout",
     "output_type": "stream",
     "text": [
      "128\n"
     ]
    }
   ],
   "source": [
    "print(raise_two(7))"
   ]
  },
  {
   "cell_type": "code",
   "execution_count": 31,
   "metadata": {
    "collapsed": false
   },
   "outputs": [
    {
     "data": {
      "text/plain": [
       "<type 'function'>"
      ]
     },
     "execution_count": 31,
     "metadata": {},
     "output_type": "execute_result"
    }
   ],
   "source": [
    "def evaluate_symmetric_functions(arguments):\n",
    "    \n",
    "    def f()"
   ]
  },
  {
   "cell_type": "code",
   "execution_count": 33,
   "metadata": {
    "collapsed": false
   },
   "outputs": [
    {
     "data": {
      "text/plain": [
       "243"
      ]
     },
     "execution_count": 33,
     "metadata": {},
     "output_type": "execute_result"
    }
   ],
   "source": [
    "3*3*3*3*3"
   ]
  },
  {
   "cell_type": "code",
   "execution_count": 43,
   "metadata": {
    "collapsed": true
   },
   "outputs": [],
   "source": [
    "var('x y')\n",
    "def f(x, y):\n",
    "    return x-y"
   ]
  },
  {
   "cell_type": "code",
   "execution_count": 49,
   "metadata": {
    "collapsed": false
   },
   "outputs": [],
   "source": [
    "f(x, y) = x-y"
   ]
  },
  {
   "cell_type": "code",
   "execution_count": 57,
   "metadata": {
    "collapsed": false
   },
   "outputs": [
    {
     "data": {
      "text/plain": [
       "(x, y)"
      ]
     },
     "execution_count": 57,
     "metadata": {},
     "output_type": "execute_result"
    }
   ],
   "source": [
    "f.arguments()"
   ]
  },
  {
   "cell_type": "code",
   "execution_count": 91,
   "metadata": {
    "collapsed": false
   },
   "outputs": [],
   "source": [
    "def sym(f):\n",
    "    \n",
    "    # define the symmetric version of f ...\n",
    "    def f_sym(*args):\n",
    "        \n",
    "        # sort args\n",
    "        \n",
    "        return f(y, x)\n",
    "    \n",
    "    # ... which is returned by the factory function\n",
    "    \n",
    "    return f_sym"
   ]
  },
  {
   "cell_type": "code",
   "execution_count": 92,
   "metadata": {
    "collapsed": false
   },
   "outputs": [],
   "source": [
    "f_sym = sym(f)"
   ]
  },
  {
   "cell_type": "code",
   "execution_count": 105,
   "metadata": {
    "collapsed": false
   },
   "outputs": [
    {
     "data": {
      "text/plain": [
       "x - y"
      ]
     },
     "execution_count": 105,
     "metadata": {},
     "output_type": "execute_result"
    }
   ],
   "source": [
    "f(args) = "
   ]
  },
  {
   "cell_type": "code",
   "execution_count": 94,
   "metadata": {
    "collapsed": false
   },
   "outputs": [
    {
     "data": {
      "text/plain": [
       "-x + y"
      ]
     },
     "execution_count": 94,
     "metadata": {},
     "output_type": "execute_result"
    }
   ],
   "source": [
    "f_sym(y, x)"
   ]
  },
  {
   "cell_type": "code",
   "execution_count": 98,
   "metadata": {
    "collapsed": false
   },
   "outputs": [
    {
     "data": {
      "text/plain": [
       "-y + z"
      ]
     },
     "execution_count": 98,
     "metadata": {},
     "output_type": "execute_result"
    }
   ],
   "source": [
    "f(args)"
   ]
  },
  {
   "cell_type": "code",
   "execution_count": 97,
   "metadata": {
    "collapsed": false
   },
   "outputs": [
    {
     "data": {
      "text/plain": [
       "z"
      ]
     },
     "execution_count": 97,
     "metadata": {},
     "output_type": "execute_result"
    }
   ],
   "source": [
    "var('z')"
   ]
  },
  {
   "cell_type": "code",
   "execution_count": 99,
   "metadata": {
    "collapsed": false
   },
   "outputs": [
    {
     "ename": "TypeError",
     "evalue": "tuple() takes at most 1 argument (2 given)",
     "output_type": "error",
     "traceback": [
      "\u001b[0;31m---------------------------------------------------------------------------\u001b[0m",
      "\u001b[0;31mTypeError\u001b[0m                                 Traceback (most recent call last)",
      "\u001b[0;32m<ipython-input-99-7d1c66f67fa8>\u001b[0m in \u001b[0;36m<module>\u001b[0;34m()\u001b[0m\n\u001b[0;32m----> 1\u001b[0;31m \u001b[0margs\u001b[0m \u001b[0;34m=\u001b[0m \u001b[0mtuple\u001b[0m\u001b[0;34m(\u001b[0m\u001b[0mx\u001b[0m\u001b[0;34m,\u001b[0m \u001b[0my\u001b[0m\u001b[0;34m)\u001b[0m\u001b[0;34m\u001b[0m\u001b[0m\n\u001b[0m",
      "\u001b[0;31mTypeError\u001b[0m: tuple() takes at most 1 argument (2 given)"
     ]
    }
   ],
   "source": [
    "args = tuple(x, y)"
   ]
  },
  {
   "cell_type": "code",
   "execution_count": 101,
   "metadata": {
    "collapsed": false
   },
   "outputs": [
    {
     "data": {
      "text/plain": [
       "(0, 1, 2)"
      ]
     },
     "execution_count": 101,
     "metadata": {},
     "output_type": "execute_result"
    }
   ],
   "source": [
    "tuple([0,1,2])"
   ]
  },
  {
   "cell_type": "code",
   "execution_count": 116,
   "metadata": {
    "collapsed": true
   },
   "outputs": [],
   "source": [
    "l = []"
   ]
  },
  {
   "cell_type": "code",
   "execution_count": 117,
   "metadata": {
    "collapsed": true
   },
   "outputs": [],
   "source": [
    "l+=[8]"
   ]
  },
  {
   "cell_type": "code",
   "execution_count": 113,
   "metadata": {
    "collapsed": false
   },
   "outputs": [],
   "source": [
    "def z(y):\n",
    "    \n",
    "    def _internal_func(x):\n",
    "        return y+x+1\n",
    "    \n",
    "    return _internal_func(10)"
   ]
  },
  {
   "cell_type": "code",
   "execution_count": 223,
   "metadata": {
    "collapsed": false
   },
   "outputs": [],
   "source": [
    "# LTI_System = (A, B)\n",
    "\n",
    "def lggTest(A=None, X0=None, *args, **kwargs):\n",
    "    \n",
    "    if A is None:\n",
    "        raise ValueError('System matrix A is missing.')\n",
    "    else:\n",
    "        if 'sage.matrix' in str(type(A))\n",
    "            n = A.ncols()\n",
    "        elif type(A) == np.ndarray\n",
    "            n = A.shape[0]\n",
    "    \n",
    "    if X0 is None:\n",
    "        raise ValueError('Initial state X0 is missing.')\n",
    "    elif 'sage.geometry.polyhedron' not in str(type(X0)):\n",
    "        # If X0 is not some type of polyhedron, try to set an initial point \n",
    "        if type(X0) == list:\n",
    "            X0 = Polyhedron(vertices = [X0])\n",
    "        elif X0.is_vector():\n",
    "            X0 = Polyhedron(vertices = [X0])\n",
    "        else:\n",
    "            raise ValueError('Initial state X0 not understood.')\n",
    "\n",
    "    if B not in args:\n",
    "        # the system is homogeneous: dx/dt = Ax\n",
    "        got_homogeneous = True\n",
    "    else:\n",
    "        got_homogeneous = False\n",
    "        if U not in args:\n",
    "            raise ValueError('Input range U is missing.')\n",
    "    \n",
    "    \n",
    "    tau = kwargs['time_step'] if 'time_step' in kwargs else 1e-2\n",
    "    \n",
    "    T = kwargs['time_horizon'] if 'time_horizon' in kwargs else 1\n",
    "    \n",
    "    t0 = kwargs['initial_time'] if 'initial_time' in kwargs else 0\n",
    "    \n",
    "    N = kwargs['number_of_time_steps'] if 'number_of_time_steps' in kwargs else ceil(T/tau)\n",
    "    \n",
    "    base_ring = kwargs['base_ring'] if 'base_ring' in kwargs else QQ\n",
    "    \n",
    "    return tau, T, t0, N, base_ring"
   ]
  },
  {
   "cell_type": "code",
   "execution_count": 240,
   "metadata": {
    "collapsed": true
   },
   "outputs": [],
   "source": [
    "A = np.array([[-1, -4], [4, -1]], dtype=float) \n",
    "#A = matrix([[-1, -4], [4, -1]])"
   ]
  },
  {
   "cell_type": "code",
   "execution_count": 235,
   "metadata": {
    "collapsed": false
   },
   "outputs": [
    {
     "data": {
      "text/plain": [
       "2"
      ]
     },
     "execution_count": 235,
     "metadata": {},
     "output_type": "execute_result"
    }
   ],
   "source": [
    "A.shape[0]"
   ]
  },
  {
   "cell_type": "code",
   "execution_count": 239,
   "metadata": {
    "collapsed": false
   },
   "outputs": [
    {
     "data": {
      "text/plain": [
       "True"
      ]
     },
     "execution_count": 239,
     "metadata": {},
     "output_type": "execute_result"
    }
   ],
   "source": []
  },
  {
   "cell_type": "code",
   "execution_count": 245,
   "metadata": {
    "collapsed": false
   },
   "outputs": [
    {
     "data": {
      "text/plain": [
       "True"
      ]
     },
     "execution_count": 245,
     "metadata": {},
     "output_type": "execute_result"
    }
   ],
   "source": []
  },
  {
   "cell_type": "code",
   "execution_count": null,
   "metadata": {
    "collapsed": true
   },
   "outputs": [],
   "source": []
  }
 ],
 "metadata": {
  "kernelspec": {
   "display_name": "SageMath 7.2",
   "language": "",
   "name": "sagemath"
  },
  "language_info": {
   "codemirror_mode": {
    "name": "ipython",
    "version": 2
   },
   "file_extension": ".py",
   "mimetype": "text/x-python",
   "name": "python",
   "nbconvert_exporter": "python",
   "pygments_lexer": "ipython2",
   "version": "2.7.10"
  }
 },
 "nbformat": 4,
 "nbformat_minor": 0
}
