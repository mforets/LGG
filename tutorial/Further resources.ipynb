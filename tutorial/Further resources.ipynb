{
 "cells": [
  {
   "cell_type": "markdown",
   "metadata": {},
   "source": [
    "# Resources"
   ]
  },
  {
   "cell_type": "markdown",
   "metadata": {},
   "source": [
    "## Documentation and FAQ \n",
    "\n",
    "1. [FAQ on SageMath Cloud](https://github.com/sagemathinc/smc/wiki/FAQ#Rpack)\n",
    "2. [Geometry package](http://doc.sagemath.org/pdf/en/reference/geometry/geometry.pdf)\n",
    "3. [Optimization package](http://doc.sagemath.org/pdf/en/reference/numerical/numerical.pdf)"
   ]
  },
  {
   "cell_type": "markdown",
   "metadata": {},
   "source": [
    "## The sagemath cell\n",
    "\n",
    "The [sagecell.sagemath.org](https://sagecell.sagemath.org/) is a minimalistic implementation of sage, which does not even require to register. Want to try it? Paste the code below and press *Evaluate* (or SHIFT+ENTER). A feature of sagecell is that it allows to easily embed sage computations on your own webpages ([an example here](http://jasongrout.github.io/applied-linear-algebra/))."
   ]
  },
  {
   "cell_type": "code",
   "execution_count": null,
   "metadata": {
    "collapsed": true
   },
   "outputs": [],
   "source": [
    "from sage.plot.plot3d.shapes import *\n",
    "S = Sphere(.5, color='yellow')\n",
    "S += Cone(.5, .5, color='red').translate(0,0,.3)\n",
    "S += Sphere(.1, color='white').translate(.45,-.1,.15) + Sphere(.05, color='black').translate(.51,-.1,.17)\n",
    "S += Sphere(.1, color='white').translate(.45, .1,.15) + Sphere(.05, color='black').translate(.51, .1,.17)\n",
    "S += Sphere(.1, color='yellow').translate(.5, 0, -.2)\n",
    "S.show()\n",
    "S.scale(1,1,2).show()"
   ]
  },
  {
   "cell_type": "markdown",
   "metadata": {},
   "source": [
    "## Sites with examples\n",
    "\n",
    "2. [A gallery of IPython](https://github.com/ipython/ipython/wiki/A-gallery-of-interesting-IPython-Notebooks). This is an outstanding collection of IPython notebooks.\n",
    "3. [Slideviewer](http://www.damian.oquanta.info/posts/slideviewer-a-simple-way-to-share-your-ipython-slides.html). Tutorial on creating slideshows out of your notebooks.\n",
    "3. [List of Jupyter notebooks by P. Norving](http://norvig.com/ipython/README.html). The introduction to [TSP](http://nbviewer.jupyter.org/url/norvig.com/ipython/TSP.ipynb) is outstanding."
   ]
  },
  {
   "cell_type": "markdown",
   "metadata": {},
   "source": [
    "## Books \n",
    "\n",
    "1. [Calcul mathématique avec SAGE](http://sagebook.gforge.inria.fr), from many authors, in French. Covers the usual topics as control flow, symbolic and numeric computation. Good as a reference. Unfortunately it lets out several interesting more advanced uses of sage (e.g. geometry, more discrete math stufff..).\n",
    "2. [Sage for undergraduates](http://www.people.vcu.edu/~clarson/bard-sage-for-undergraduates-2014.pdf), from Gregory V. Board. He has done an amazing job in this book, not only introducing sagemath basics, but also scientific computing in general (at an elementary level of course). The book is full of examples, and contains many tricks for advanced plotting. [In his webpage](http://www.gregorybard.com/) there are several @interact examples.\n",
    "3. [Sage for power users](http://wstein.org/books/sagebook/sagebook.pdf). To learn how to embed [Cython](https://en.wikipedia.org/wiki/Cython) code into a sage worksheet, among other intresting things."
   ]
  },
  {
   "cell_type": "markdown",
   "metadata": {},
   "source": [
    "## More interesting packages\n",
    "\n",
    "1. [ncpol2sdpa](http://peterwittek.github.io/ncpol2sdpa/) It is a tool that solves global polynomial optimization problems (of either commutative variables or noncommutative operators) through a semidefinite programming (SDP) relaxation. Requires CVXOPT or MOSEK solvers.\n",
    "2. [PyEDA](http://pyeda.readthedocs.io/en/latest/index.html) It is a python library for Electronic Design Automation. Mainly algorithms for performing reachability on graphs, often applied to logic synthesis and verification. Features Binary Decision Diagrams and visualization tools. See the author's tutorial [video in SciPy conference here](https://www.youtube.com/watch?v=cljDuK0ouRs)."
   ]
  },
  {
   "cell_type": "markdown",
   "metadata": {},
   "source": [
    "# HOW-TO's "
   ]
  },
  {
   "cell_type": "markdown",
   "metadata": {},
   "source": [
    "## Installing SAGE on your own computer. \n",
    "\n",
    "This is convenient if you want to have full control of the performance of your algorithms. The installation is easy, you have typically two choices: either install from binaries, or install from source (I recommend to install from binaries if it's the first time). See [installation guide here](http://doc.sagemath.org/html/en/installation/index.html)."
   ]
  },
  {
   "cell_type": "markdown",
   "metadata": {},
   "source": [
    "## Installing external packages \n",
    "\n",
    "One often needs to install external specialized packages. In python, there is the [pip](https://pypi.python.org/pypi/pip) tool for installing packages. For Python 3, there is pip3. \n",
    "\n",
    "### In the SMC \n",
    "\n",
    "You need to have the paid version for doing this. You open a terminal and just do:\n",
    "\n",
    "```bash\n",
    "sage -sh\n",
    "pip install [name-of-your-package]\n",
    "```\n",
    "\n",
    "### In your local sage.\n",
    "\n",
    "As explained [here](jhttps://ask.sagemath.org/question/35457/importing-python-packages-into-sage-or-vice-versa/),\n",
    "with sage 7.4 we can do:\n",
    "\n",
    "```bash\n",
    "$ sage -sh\n",
    "$ pip install [name-of-your-package]\n",
    "```\n",
    "\n",
    "\n",
    "---\n",
    "\n",
    "With sage 7.2 I did:\n",
    "\n",
    "```bash\n",
    "./pip install [name-of-your-package]\n",
    "./sage --python -m easy_install [name-of-your-package]\n",
    "```\n",
    "\n"
   ]
  },
  {
   "cell_type": "markdown",
   "metadata": {},
   "source": [
    "### When restart does not work... \n",
    "\n",
    "Because you installed some package that led to an error (this happening when I installed ncpol2sdpa directly in the main project (without going to sage -sh), in this case the restart server does not work, and sagews become slow and without displaying stuff. A solution is to go to a terminal, then go to \n",
    "```\n",
    "sage -sh \n",
    "```\n",
    "and then remove everything under the local folder, that is, \n",
    "```\n",
    "rm -r ./.local\n",
    "```\n"
   ]
  },
  {
   "cell_type": "markdown",
   "metadata": {},
   "source": [
    "### Installing on a Mac computer \n",
    "\n",
    "I had trouble compiling from sources in Mac OS X El Capitan, v10.11.5, and sage v.7.2. Apparently there is problem that has to do with the OS security features. It is proposed to reboot with CMD+R, enter a terminal and type\n",
    "```\n",
    "csrutil disable\n",
    "```\n",
    "See complete [discussion here](https://groups.google.com/forum/#!topic/sage-devel/OBv5x1v3_6M). \n",
    "\n",
    "refer to my question\n",
    "\n",
    "actually the problem was that there is incompatibility of some sort with Anaconda. This is solved if one uninstalls Anaconda, following these steps."
   ]
  },
  {
   "cell_type": "markdown",
   "metadata": {
    "collapsed": true
   },
   "source": [
    "### Using Github\n",
    "\n",
    "I would be interested in this case of use: project A hosted in SMC to be linked to project B at an existing git repository (e.g. in A we do computations and plots and in B we actually write the paper with our collaborators -- it may happen that some of these collabs are not interested in A). So that when someone updates the git B, it automatically synchronizes with A. \n",
    "\n",
    "Git is already installed and ready to use in SMC via the terminal. But, in order to also interoperate with sites hosting Git repositories, you have to purchase a plan giving you \"internet upgrades\" and then applying this upgrade to your project.\n",
    "\n",
    "It seems that this can be solved using [submodules](https://git-scm.com/book/en/v2/Git-Tools-Submodules).\n",
    "\n",
    "See my post in [nonlinearnotes](http://nonlinearnotes.com/2016/10/15/how-to-setup-a-local-copy-of-your-smc-project/)."
   ]
  },
  {
   "cell_type": "markdown",
   "metadata": {},
   "source": [
    "### Using a library stored somewhere else \n",
    "\n",
    "I have different projects that make use of the same library of scripts. Is there a way to communicate between projects in SMC? Or should we instead use the github feature? Like using github in each SMC project? "
   ]
  }
 ],
 "metadata": {
  "anaconda-cloud": {},
  "kernelspec": {
   "display_name": "Python 2",
   "language": "python",
   "name": "python2"
  },
  "language_info": {
   "codemirror_mode": {
    "name": "ipython",
    "version": 2
   },
   "file_extension": ".py",
   "mimetype": "text/x-python",
   "name": "python",
   "nbconvert_exporter": "python",
   "pygments_lexer": "ipython2",
   "version": "2.7.13"
  }
 },
 "nbformat": 4,
 "nbformat_minor": 0
}
