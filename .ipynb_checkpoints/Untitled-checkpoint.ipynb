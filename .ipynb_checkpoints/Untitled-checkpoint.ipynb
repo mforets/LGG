{
 "cells": [
  {
   "cell_type": "markdown",
   "metadata": {},
   "source": [
    "Dear organizer, \n",
    "I have recently started to work on a parameter synthesis problem for a biochemical system which presents nonlinear hybrid dynamics. This is in the context of my post-doc at the IMAG computer science department here at Grenoble, in the team led by Oded Maler. I would be delighted to visit the BCAM environment during this workshop. Any suggestions regarding cheap accommodation for students/post-docs would be appreciated. Thanks, Marcelo."
   ]
  }
 ],
 "metadata": {
  "anaconda-cloud": {},
  "kernelspec": {
   "display_name": "Python [Root]",
   "language": "python",
   "name": "Python [Root]"
  },
  "language_info": {
   "codemirror_mode": {
    "name": "ipython",
    "version": 3
   },
   "file_extension": ".py",
   "mimetype": "text/x-python",
   "name": "python",
   "nbconvert_exporter": "python",
   "pygments_lexer": "ipython3",
   "version": "3.5.2"
  }
 },
 "nbformat": 4,
 "nbformat_minor": 0
}
