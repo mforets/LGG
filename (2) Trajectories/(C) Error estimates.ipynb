{
 "cells": [
  {
   "cell_type": "markdown",
   "metadata": {},
   "source": [
    "$\\newcommand{\\R}{\\mathbb{R}}$\n",
    "$\\newcommand{\\N}{\\mathbb{N}}$\n",
    "$\\newcommand{\\transp}{\\mathrm{T}}$"
   ]
  },
  {
   "cell_type": "markdown",
   "metadata": {},
   "source": [
    "# C. Error estimates"
   ]
  },
  {
   "cell_type": "markdown",
   "metadata": {
    "collapsed": false
   },
   "source": [
    "We will now provide error bounds for the convergence of Carleman linearization. We develop two approaches:\n",
    "1. In the first approach we integrate the differential equation satisfied by the error, and then obtain a bound by an explicit integral computation. \n",
    "2. In the second approach we exploit the analyticity properties of solutions, and obtain an estimate for the error series. This is obtained by recognising the structural properties of the non-commutative $A_i$'s, then bound their norm and conclude with the method of generating functions.\n",
    "\n",
    "Our estimates are given for the quadratic case, without loss of generality."
   ]
  },
  {
   "cell_type": "markdown",
   "metadata": {},
   "source": [
    "Consider the polynomial quadratic system, \n",
    "$$\n",
    "\\dfrac{dx}{dt} = F_1 x + F_2 x^{[2]},\\qquad x \\in \\R^n,\n",
    "$$\n",
    "then obtain the infinite-dimensional embedding\n",
    "$$\n",
    "\\dfrac{d y_i }{ dt } =  A^i_i y_i +  A^i_{i+1} y_{i+1}, \\qquad i \\in \\N. \n",
    "$$\n",
    "Define the truncated system of order $N$ as\n",
    "$$\n",
    "\\dfrac{d \\hat{y}_i }{ dt } =  A^i_i \\hat{y}_i +  A^i_{i+1} \\hat{y}_{i+1} \\delta_{i < N},\\qquad 1 \\leq i \\leq N, \\label{eq:QuadSystemTrunc}\n",
    "$$\n",
    "where $ \\delta_{i < N}$ is equal to $1$ if $i < N$ and $0$ otherwise."
   ]
  },
  {
   "cell_type": "markdown",
   "metadata": {},
   "source": [
    "**Definition** Define the error of the $i$-th block as \n",
    "$$\n",
    "\\eta_i(t) = y_i(t) - \\hat{y}_i(t), \\qquad 1 \\leq i \\leq N. \\label{eq:errorithblock}\n",
    "$$\n",
    "We also introduce the special notation \n",
    "$$\n",
    "x(t) := y_1(t),\\qquad \\hat{x}(t) := \\hat{y}_1(t) \n",
    "$$\n",
    "for the solution of the exact and truncated systems respectively, projected into $\\R^n$, and the associated \\emph{error on the first block}, or simply the \\emph{error}, as\n",
    "$$\n",
    "e(t) := \\eta_1(t) = x(t) - \\hat{x}(t)\n",
    "$$"
   ]
  },
  {
   "cell_type": "markdown",
   "metadata": {},
   "source": [
    "## C.1. With a-priori estimate \n",
    "\n",
    "Our first results is an error bound based on an a-priori estimate of the norm of the exact solution $x(t)$. Hereafter we assume that $||F_1||\\neq 0$.\n",
    "\n",
    "**Theorem**. Let $x : I \\to \\R^n$ be a solution of the quadratic system. Let $\\alpha > 0$ be such that\n",
    "$$\n",
    "\\alpha \\geq ||x||_t := \\sup_{\\tau \\in [0,t]} ||x(\\tau)||. \n",
    "$$\n",
    "\n",
    "Then, the error $e(t) = x(t) - \\hat{x}(t)$ on the solution obtained by Carleman linearization truncated at order $N$ satisfies the estimate\n",
    "$$\n",
    "||e(t)|| \\leq  \\dfrac{\\alpha^{N+1} ||F_2||^N}{||F_1||^N} (e^{||F_1||t} - 1)^N.\n",
    "$$\n",
    "Moreover, for all $t$ such that $0 < t < \\frac{1}{||F_1||} \\ln (1+1/\\beta_t)$, where $\\beta_t := \\frac{||x||_t ||F_2||}{||F_1||}$, the solution of the truncated system converges, that is, $\\lim\\limits_{N\\to \\infty} ||e(t)|| = 0$."
   ]
  },
  {
   "cell_type": "markdown",
   "metadata": {},
   "source": [
    "## C.2. Without a-priori estimate"
   ]
  },
  {
   "cell_type": "markdown",
   "metadata": {},
   "source": [
    "Our second result is a refined version of the previous Theorem, where only the initial condition is required (instead of a-priori estimates on the norm of the solution. \n",
    "\n",
    "**Theorem**. Let $x : I\\to \\R^n$ be a solution of the quadratic system. Let\n",
    "$$\n",
    "\\beta_0 := \\frac{||x_0||~||F_2||}{||F_1||}. \\label{eq:beta0defi}\n",
    "$$\n",
    "Then, the error $e(t) = x(t) - \\hat{x}(t)$ on the solution obtained by Carleman linearization truncated at order $N$ satisfies the estimate\n",
    "$$\n",
    "||e(t)|| \\leq \\dfrac{||x_0|| e^{||F_1||t}}{(1+\\beta_0) - \\beta_0 e^{||F_1||t}}\\left[ \\beta_0 (e^{||F_1|| t} - 1 )\\right]^N. \n",
    "$$\n",
    "Moreover, for all $0 < t < T^*$, where\n",
    "$$\n",
    "T^* := \\frac{1}{||F_1||} \\ln \\left(1 +  \\frac{1}{\\beta_0} \\right), \n",
    "$$\n",
    "the solution of the truncated system converges, that is,\n",
    "$$\n",
    "\\lim_{N\\to \\infty} ||e(t)|| = 0, \\qquad \\text{ for all }  t < T^*.\n",
    "$$"
   ]
  },
  {
   "cell_type": "code",
   "execution_count": null,
   "metadata": {
    "collapsed": true
   },
   "outputs": [],
   "source": []
  }
 ],
 "metadata": {
  "kernelspec": {
   "display_name": "Python 2 (SageMath)",
   "language": "python",
   "name": "python2"
  },
  "language_info": {
   "codemirror_mode": {
    "name": "ipython",
    "version": 2
   },
   "file_extension": ".py",
   "mimetype": "text/x-python",
   "name": "python",
   "nbconvert_exporter": "python",
   "pygments_lexer": "ipython2",
   "version": "2.7.10"
  }
 },
 "nbformat": 4,
 "nbformat_minor": 0
}
