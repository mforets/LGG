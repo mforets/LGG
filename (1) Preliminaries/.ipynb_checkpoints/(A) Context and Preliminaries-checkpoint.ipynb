{
 "cells": [
  {
   "cell_type": "markdown",
   "metadata": {
    "collapsed": false
   },
   "source": [
    "## 2 Support function\n",
    "\n",
    "Let $\\Omega \\subset \\mathbb{R}^n$ be a compact convex set. The support function of $\\Omega$, $\\rho_\\Omega : \\mathbb{R}^n \\to \\mathbb{R}$, is defined as \n",
    "\\begin{equation}\n",
    "\\rho_\\Omega(d) = \\max_{x \\in \\Omega}~~ d^\\mathrm{T}\\cdot x\n",
    "\\end{equation}\n",
    "A polyhedral over-approximation of $\\Omega$ can be built via support functions.\n",
    "\n",
    "**Proposition**. Let $\\{\\ell_1,\\ldots,\\ell_r\\}$ be a family of chosen vectors in $\\R^n$. Let define the half-spaces $H_k = \\{ x \\in \\R^n: \\ell_k^\\transp \\cdot x \\leq \\rho_\\Omega(\\ell_k)\\}$ for all $k=1,\\ldots,r$. Then:\n",
    "1. The polyhedron $\\bar{\\Omega} := \\bigcap\\limits_{k = 1}^r H_k$ is an over-approximation of $\\Omega$, that is, $\\Omega \\subseteq \\bar{\\Omega}$.\n",
    "2. The over-approximation is *tight*, in the sense that $\\Omega$ touches the faces of $\\bar{\\Omega}$.\n"
   ]
  }
 ],
 "metadata": {
  "kernelspec": {
   "display_name": "SageMath 6.10",
   "language": "",
   "name": "sagemath"
  },
  "language_info": {
   "codemirror_mode": {
    "name": "ipython",
    "version": 2
   },
   "file_extension": ".py",
   "mimetype": "text/x-python",
   "name": "python",
   "nbconvert_exporter": "python",
   "pygments_lexer": "ipython2",
   "version": "2.7.10"
  }
 },
 "nbformat": 4,
 "nbformat_minor": 0
}
