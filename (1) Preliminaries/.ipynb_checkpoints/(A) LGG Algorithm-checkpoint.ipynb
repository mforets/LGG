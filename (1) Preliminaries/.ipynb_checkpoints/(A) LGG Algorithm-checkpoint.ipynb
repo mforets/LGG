{
 "cells": [
  {
   "cell_type": "markdown",
   "metadata": {},
   "source": [
    "$\\newcommand{\\R}{\\mathbb{R}}$\n",
    "$\\newcommand{\\transp}{\\mathrm{T}}$"
   ]
  },
  {
   "cell_type": "markdown",
   "metadata": {
    "collapsed": false
   },
   "source": [
    "# Part I. LGG Algorithm\n",
    "\n",
    "[SpaceEx](http://spaceex.imag.fr/) is a verification platform for hybrid systems. The basic functionality is to compute the set of reachable sets of a system. Currently, SpaceEx accepts piecewise-linear systems only. The standard way to deal with nonlinearities is to perform a local linearization of the system's dynamics, a method called *hybridization* in this area.  \n",
    " \n",
    "The [LGG (Le Guernic-Girard)](http://ljk.imag.fr/membres/Antoine.Girard/Publications/cav2009.pdf) is an algorithm implemented in SpaceEx (along with more recent methods such as [STC](http://spaceex.imag.fr/sites/default/files/frehse_stc_lgg_comp.pdf)).  \n",
    "\n",
    "In this worksheet we implement the linear part of the LGG algorithm, described in [this paper](http://www-ljk.imag.fr/membres/Antoine.Girard/Publications/na-hs.pdf), and make some tests. "
   ]
  },
  {
   "cell_type": "markdown",
   "metadata": {
    "collapsed": true
   },
   "source": [
    "## I.1.1 Example\n",
    "\n",
    "Consider the system\n",
    "$$\n",
    "\\begin{pmatrix}\n",
    "\\dot{x}_1 \\\\ \\dot{x}_2\n",
    "\\end{pmatrix} = \\begin{pmatrix} 0  & 1 \\\\ -1 & 0 \\end{pmatrix} \\begin{pmatrix}\n",
    "x_1 \\\\ x_2\n",
    "\\end{pmatrix} + \\begin{pmatrix} u_1(t) \\\\ u_2(t) \\end{pmatrix}\n",
    "$$\n",
    "Let $\\mathcal{X}_0 = B_\\infty(1,1/4)$ be the initial set. Suppose that $u_1(t),u_2(t) \\in B_\\infty(0,1/2)$ for all $t\\geq 0$. What is the set of states reachable at time $T=1$? "
   ]
  },
  {
   "cell_type": "code",
   "execution_count": 5,
   "metadata": {
    "collapsed": false
   },
   "outputs": [],
   "source": []
  },
  {
   "cell_type": "markdown",
   "metadata": {},
   "source": [
    "## I.1.2 Local linearization \n",
    "\n",
    "Perform some Taylor series manipulations. For this case we can take for instance the Van der Pol oscillator. Then make a plot of the state-space. We can even do as Nikos to generate a piecewise-linear model and then solve this system, though this may take more time -- but is very interesting to contrast with the other method of global linearization. "
   ]
  },
  {
   "cell_type": "markdown",
   "metadata": {},
   "source": [
    "## I.1.3 Numerical integration \n",
    "\n",
    "The solution of the [LTI](https://en.wikipedia.org/wiki/LTI_system_theory) system $\\dot{x}=Ax + u$ is\n",
    "$$\n",
    "x(t) = e^{At}x_0 + \\int_0^t e^{A(t-s)}u(s) ds,\n",
    "$$\n",
    "where $x=(x_1,x_2)^\\transp$ and $u = (u_1, u_2)^\\transp$. Below we numericlly solve this integral for different values of the initial condition. Let us assume that $u_1(t) =U_{max} \\cos t$ and $u_2(t) = U_{max} \\sin t$, with $U_{max} = 1/2$."
   ]
  },
  {
   "cell_type": "code",
   "execution_count": 7,
   "metadata": {
    "collapsed": true
   },
   "outputs": [],
   "source": [
    "%display typeset\n",
    "# numerical integral \n",
    "\n",
    "# define input\n",
    "var('t')\n",
    "Umax = 1/2\n",
    "u1 = Umax*cos(t)\n",
    "u2 = Umax*sin(t)\n",
    "\n"
   ]
  },
  {
   "cell_type": "markdown",
   "metadata": {},
   "source": [
    "## I.1.1 Support functions \n",
    "\n"
   ]
  },
  {
   "cell_type": "markdown",
   "metadata": {},
   "source": [
    "## 1.2 xxx"
   ]
  },
  {
   "cell_type": "code",
   "execution_count": null,
   "metadata": {
    "collapsed": true
   },
   "outputs": [],
   "source": []
  }
 ],
 "metadata": {
  "kernelspec": {
   "display_name": "SageMath 6.10",
   "language": "",
   "name": "sagemath"
  },
  "language_info": {
   "codemirror_mode": {
    "name": "ipython",
    "version": 2
   },
   "file_extension": ".py",
   "mimetype": "text/x-python",
   "name": "python",
   "nbconvert_exporter": "python",
   "pygments_lexer": "ipython2",
   "version": "2.7.10"
  }
 },
 "nbformat": 4,
 "nbformat_minor": 0
}
