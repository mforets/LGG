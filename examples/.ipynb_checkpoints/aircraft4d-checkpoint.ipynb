{
 "cells": [
  {
   "cell_type": "markdown",
   "metadata": {},
   "source": [
    "We consider an LTI system that represents a longitudinal aircraft dynamics. The matrix $A$ represents stability derivatives of a Boeing 747 aircraft cruising at an altitude of 40kft with speed 774 ft/sec.\n",
    "\n",
    "Let $\\dot{x} = Ax + B u$, with state $x = [u,\\alpha,\\dot{\\theta}, \\theta]^T \\in \\mathbb{R}^4$ comprised of deviations in aircraft speed, angle of attack, pitch-rate, and pitch angle respectively. The matrix $A$ is \n",
    "$$\n",
    "A = \\begin{pmatrix}\n",
    "-0.0030 & 0.0390 & 0 & -0.3220 \\\\\n",
    "-0.0650 & -0.3190 & 7.7400 & 0 \\\\\n",
    "0.0200 & -0.1010 & -0.4290 & 0 \\\\\n",
    "0 & 0 & 1 & 0\n",
    "\\end{pmatrix},\n",
    "$$\n",
    "and \n",
    "$$\n",
    "B = \\begin{pmatrix}\n",
    "0.0100 \\\\ -0.1800 \\\\ -1.1600 \\\\ 0\n",
    "\\end{pmatrix}\n",
    "$$\n",
    "The input is $u \\in [-13.3,13.3] \\in \\mathbb{R}$ (measured in degrees).\n",
    "\n",
    "\n",
    "---\n",
    "References:\n",
    "1. A. Bryson. Control of Spacecraft and Aircraft. Princeton Univ. Press, 1994.\n",
    "2. S. Kaynama, M. Oishi. Schur-Based decomposition for reachability analysis of Linear-Time-Invariant systems. Joint 48th IEEE Conf on Decision and Control, 2009."
   ]
  },
  {
   "cell_type": "code",
   "execution_count": 1,
   "metadata": {
    "collapsed": false
   },
   "outputs": [],
   "source": [
    "import sys\n",
    "sys.path.append('..')\n",
    "\n",
    "from src.lgg import compute_flowpipe, plot_flowpipe\n",
    "from lib.polyFunctions_core import BoxInfty"
   ]
  },
  {
   "cell_type": "code",
   "execution_count": 9,
   "metadata": {
    "collapsed": false
   },
   "outputs": [],
   "source": [
    "# set A and B in: dx/dt = Ax + Bu\n",
    "\n",
    "# system coefficient matrix\n",
    "A = matrix(QQ, 4, 4)\n",
    "A.set_row(0, [-0.0030 , 0.0390 , 0 , -0.3220])\n",
    "A.set_row(1, [-0.0650 , -0.3190 , 7.7400 , 0])\n",
    "A.set_row(2, [0.0200 , -0.1010 , -0.4290 , 0])\n",
    "A.set_row(3, [0 , 0 , 1 , 0])\n",
    "\n",
    "B = matrix(QQ, 4, 1)\n",
    "B.set_column(0,[0.01, -0.18, -1.16, 0])\n",
    "\n",
    "# time horizon \n",
    "T = 0.5\n",
    "\n",
    "# input range\n",
    "U = BoxInfty(lengths=[[-13.3,13.3]])\n",
    "\n",
    "# initial condition \n",
    "X0 = [1,1,1,0]\n",
    "#X0 = BoxInfty(center = [1,1,1,0], radius = 0.001) # gives MIPSolverException\n",
    "\n",
    "# time discretization \n",
    "tau = 1e-1"
   ]
  },
  {
   "cell_type": "code",
   "execution_count": 10,
   "metadata": {
    "collapsed": false
   },
   "outputs": [
    {
     "name": "stdout",
     "output_type": "stream",
     "text": [
      "CPU times: user 94.2 ms, sys: 47 ms, total: 141 ms\n",
      "Wall time: 229 ms\n"
     ]
    }
   ],
   "source": [
    "%%time\n",
    "fp = compute_flowpipe(A, X0, B, U, time_horizon = T, time_step = tau, directions={'select':'box'}, base_ring = RDF)"
   ]
  },
  {
   "cell_type": "code",
   "execution_count": 11,
   "metadata": {
    "collapsed": false
   },
   "outputs": [
    {
     "data": {
      "image/png": "[encoded data removed]",
      "text/plain": [
       "Graphics object consisting of 165 graphics primitives"
      ]
     },
     "metadata": {},
     "output_type": "display_data"
    }
   ],
   "source": [
    "# plot the result\n",
    "plot_flowpipe(fp, projection_directions = [0,3])"
   ]
  },
  {
   "cell_type": "code",
   "execution_count": null,
   "metadata": {
    "collapsed": true
   },
   "outputs": [],
   "source": [
    "p = fp[0]"
   ]
  },
  {
   "cell_type": "code",
   "execution_count": null,
   "metadata": {
    "collapsed": false
   },
   "outputs": [],
   "source": [
    "var('x')\n",
    "p.projection(lambda x: [x[0],x[1]] )"
   ]
  },
  {
   "cell_type": "code",
   "execution_count": null,
   "metadata": {
    "collapsed": false
   },
   "outputs": [],
   "source": [
    "p = fp[0]"
   ]
  },
  {
   "cell_type": "code",
   "execution_count": null,
   "metadata": {
    "collapsed": false
   },
   "outputs": [],
   "source": [
    "p.projection?"
   ]
  },
  {
   "cell_type": "code",
   "execution_count": null,
   "metadata": {
    "collapsed": false
   },
   "outputs": [],
   "source": [
    "P = fp[0].projection()"
   ]
  },
  {
   "cell_type": "code",
   "execution_count": null,
   "metadata": {
    "collapsed": false
   },
   "outputs": [],
   "source": [
    "P.render_2d?"
   ]
  },
  {
   "cell_type": "code",
   "execution_count": null,
   "metadata": {
    "collapsed": false
   },
   "outputs": [],
   "source": [
    "fp[1].proj"
   ]
  },
  {
   "cell_type": "code",
   "execution_count": null,
   "metadata": {
    "collapsed": false
   },
   "outputs": [],
   "source": [
    "from sage.geometry.polyhedron.plot import Projection"
   ]
  },
  {
   "cell_type": "code",
   "execution_count": null,
   "metadata": {
    "collapsed": false
   },
   "outputs": [],
   "source": [
    "Projection(fp[0], proj = lambda x : [x[0], x[1]]).plot()"
   ]
  },
  {
   "cell_type": "code",
   "execution_count": null,
   "metadata": {
    "collapsed": true
   },
   "outputs": [],
   "source": []
  },
  {
   "cell_type": "code",
   "execution_count": null,
   "metadata": {
    "collapsed": true
   },
   "outputs": [],
   "source": []
  }
 ],
 "metadata": {
  "kernelspec": {
   "display_name": "SageMath 7.2",
   "language": "",
   "name": "sagemath"
  },
  "language_info": {
   "codemirror_mode": {
    "name": "ipython",
    "version": 2
   },
   "file_extension": ".py",
   "mimetype": "text/x-python",
   "name": "python",
   "nbconvert_exporter": "python",
   "pygments_lexer": "ipython2",
   "version": "2.7.10"
  }
 },
 "nbformat": 4,
 "nbformat_minor": 0
}
