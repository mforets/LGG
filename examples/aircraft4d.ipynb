{
 "cells": [
  {
   "cell_type": "markdown",
   "metadata": {},
   "source": [
    "We consider an LTI system that represents a longitudinal aircraft dynamics. The matrix $A$ represents stability derivatives of a Boeing 747 aircraft cruising at an altitude of 40kft with speed 774 ft/sec.\n",
    "\n",
    "Let $\\dot{x} = Ax + B u$, with state $x = [u,\\alpha,\\dot{\\theta}, \\theta]^T \\in \\mathbb{R}^4$ comprised of deviations in aircraft speed, angle of attack, pitch-rate, and pitch angle respectively. The matrix $A$ is \n",
    "$$\n",
    "A = \\begin{pmatrix}\n",
    "-0.0030 & 0.0390 & 0 & -0.3220 \\\\\n",
    "-0.0650 & -0.3190 & 7.7400 & 0 \\\\\n",
    "0.0200 & -0.1010 & -0.4290 & 0 \\\\\n",
    "0 & 0 & 1 & 0\n",
    "\\end{pmatrix},\n",
    "$$\n",
    "and \n",
    "$$\n",
    "B = \\begin{pmatrix}\n",
    "0.0100 \\\\ -0.1800 \\\\ -1.1600 \\\\ 0\n",
    "\\end{pmatrix}\n",
    "$$\n",
    "The input is $u \\in [-13.3,13.3] \\in \\mathbb{R}$ (measured in degrees).\n",
    "\n",
    "\n",
    "---\n",
    "References:\n",
    "1. A. Bryson. Control of Spacecraft and Aircraft. Princeton Univ. Press, 1994.\n",
    "2. S. Kaynama, M. Oishi. Schur-Based decomposition for reachability analysis of Linear-Time-Invariant systems. Joint 48th IEEE Conf on Decision and Control, 2009."
   ]
  },
  {
   "cell_type": "markdown",
   "metadata": {},
   "source": [
    "## Inhomogeneous case\n",
    "\n",
    "Set $A$ and $B$ in $dx/dt = Ax + Bu$."
   ]
  },
  {
   "cell_type": "code",
   "execution_count": 1,
   "metadata": {
    "collapsed": false
   },
   "outputs": [],
   "source": [
    "import sys\n",
    "sys.path.append('..')\n",
    "\n",
    "from src.lgg import compute_flowpipe, plot_flowpipe\n",
    "from lib.polyFunctions_core import BoxInfty"
   ]
  },
  {
   "cell_type": "code",
   "execution_count": 2,
   "metadata": {
    "collapsed": false
   },
   "outputs": [],
   "source": [
    "# system coefficient matrix\n",
    "A = matrix(RDF, 4, 4)\n",
    "A.set_row(0, [-0.0030 , 0.0390 , 0 , -0.3220])\n",
    "A.set_row(1, [-0.0650 , -0.3190 , 7.7400 , 0])\n",
    "A.set_row(2, [0.0200 , -0.1010 , -0.4290 , 0])\n",
    "A.set_row(3, [0 , 0 , 1 , 0])\n",
    "\n",
    "B = matrix(RDF, 4, 1)\n",
    "B.set_column(0,[0.01, -0.18, -1.16, 0])\n",
    "\n",
    "# time horizon \n",
    "T = 2\n",
    "\n",
    "# input range\n",
    "U = BoxInfty(lengths=[[-13.3,13.3]])\n",
    "\n",
    "# initial condition \n",
    "#X0 = [1,1,1,0] \n",
    "X0 = BoxInfty(center = [1,1,1,0], radius = 0.01, base_ring = RDF)\n",
    "#X0 = BoxInfty(lengths = [[-1,1],[-1,1],[-1,1],[-1,1]], base_ring = RDF) \n",
    "\n",
    "# time discretization \n",
    "tau = 1e-1"
   ]
  },
  {
   "cell_type": "code",
   "execution_count": 3,
   "metadata": {
    "collapsed": false
   },
   "outputs": [
    {
     "name": "stdout",
     "output_type": "stream",
     "text": [
      "CPU times: user 790 ms, sys: 154 ms, total: 944 ms\n",
      "Wall time: 616 ms\n"
     ]
    }
   ],
   "source": [
    "%%time \n",
    "fp = compute_flowpipe(A, X0, B, U, time_horizon = T, time_step = tau, directions={'select':'box'}, base_ring = QQ, solver='GLPK', verbose=0)"
   ]
  },
  {
   "cell_type": "markdown",
   "metadata": {},
   "source": [
    "## Homogeneous case"
   ]
  },
  {
   "cell_type": "markdown",
   "metadata": {},
   "source": [
    "Solve: $dx/dt = Ax$."
   ]
  },
  {
   "cell_type": "code",
   "execution_count": 14,
   "metadata": {
    "collapsed": false
   },
   "outputs": [],
   "source": [
    "import sys\n",
    "sys.path.append('..')\n",
    "\n",
    "from src.lgg import compute_flowpipe, plot_flowpipe\n",
    "from lib.polyFunctions_core import BoxInfty\n",
    "\n",
    "# this is a slightly modified matrix, obtained from Aircraft4D model\n",
    "# dx/dt = Ax\n",
    "\n",
    "A = matrix(RDF, 5, 5)\n",
    "A.set_row(0, [-0.003 , 0.039 ,   0.0, -0.322 ,  0.01])\n",
    "A.set_row(1, [-0.065 ,-0.319 ,  7.74 ,   0.0 , -0.18])\n",
    "A.set_row(2, [  0.02 ,-0.101 ,-0.429  ,  0.0  ,-1.16])\n",
    "A.set_row(3, [   0.0 ,   0.0 ,   1.0   , 0.0 ,   0.0])\n",
    "A.set_row(4, [   0.0  ,  0.0  ,  0.0    ,0.0,    0.0])\n",
    "\n",
    "# time horizon \n",
    "T = 2\n",
    "\n",
    "# initial condition \n",
    "#X0 = [1,1,1,0,0] \n",
    "X0 = BoxInfty(center = [1,1,1,0,0], radius = 0.1, base_ring = RDF)\n",
    "#X0 = BoxInfty(lengths = [[-1,1],[-1,1],[-1,1],[-1,1],[-13.3,13.3]], base_ring = RDF)\n",
    "\n",
    "# time discretization \n",
    "tau = 1e-1"
   ]
  },
  {
   "cell_type": "code",
   "execution_count": 18,
   "metadata": {
    "collapsed": false
   },
   "outputs": [
    {
     "name": "stdout",
     "output_type": "stream",
     "text": [
      "CPU times: user 514 ms, sys: 159 ms, total: 673 ms\n",
      "Wall time: 482 ms\n"
     ]
    }
   ],
   "source": [
    "%%time\n",
    "fp = compute_flowpipe(A, X0, time_horizon = T, time_step = tau, directions={'select':'box'}, base_ring=QQ, solver='GLPK', verbose=0)"
   ]
  },
  {
   "cell_type": "markdown",
   "metadata": {},
   "source": [
    "*Remark.* If $T$ is \"big\" or if $\\tau$ is \"small\", we get ```MIPSolverException```. For instance, try with $T=1$ and $\\tau = 1e-2$. However, if $T=0.01$ and $\\tau = 1e-2$, then it works properly. Below, we try with another solver."
   ]
  },
  {
   "cell_type": "markdown",
   "metadata": {
    "collapsed": false
   },
   "source": [
    "## Plots"
   ]
  },
  {
   "cell_type": "code",
   "execution_count": 19,
   "metadata": {
    "collapsed": false
   },
   "outputs": [
    {
     "data": {
      "image/png": "[encoded data removed]",
      "text/plain": [
       "Graphics object consisting of 1620 graphics primitives"
      ]
     },
     "metadata": {},
     "output_type": "display_data"
    }
   ],
   "source": [
    "plot_flowpipe(fp, projection_directions = [1,2])"
   ]
  },
  {
   "cell_type": "markdown",
   "metadata": {},
   "source": [
    "## Open Issues"
   ]
  },
  {
   "cell_type": "markdown",
   "metadata": {},
   "source": [
    "### Choice of base_ring for the initial condition"
   ]
  },
  {
   "cell_type": "markdown",
   "metadata": {},
   "source": [
    "*Observations*:\n",
    "\n",
    "* with $T=2$, $A$ and $B$ as `RDF`, and $X0 = [1,1,1,0]$ (a point), $\\tau = 1e-1$ it works, directions=box, base_ring=RDF, it works. However, it does not work if we change $X0$ by a box. $N=20$. Here GLPK takes 387ms, and Gurobi takes 663ms.\n",
    "\n",
    "* the same conditions as the last point, but we change $X0$ by a box: `X0 = BoxInfty(center = [1,1,1,0], radius = 0.0001) # gives MIPSolverException`. \n",
    "\n",
    "* $T=2$, $A$ and $B$ as `RDF`, with X0 = BoxInfty(center = [1,1,1,0], radius = 0.01, base_ring=RDF) # gives MIPSolverException` and `fp = compute_flowpipe(A, X0, B, U, time_horizon = T, time_step = tau, directions={'select':'box'}, base_ring = QQ, solver='GLPK', verbose=0)` it works.\n",
    "    "
   ]
  },
  {
   "cell_type": "code",
   "execution_count": null,
   "metadata": {
    "collapsed": true
   },
   "outputs": [],
   "source": [
    "import sys\n",
    "sys.path.append('..')\n",
    "\n",
    "from src.lgg import compute_flowpipe, plot_flowpipe\n",
    "from lib.polyFunctions_core import BoxInfty\n",
    "\n",
    "# not mandatory\n",
    "import numpy as np\n",
    "from src.lgg import PolyhedronToHSpaceRep, PolyhedronFromHSpaceRep, polyhedron_linear_map, matrix_sup_norm, polyhedron_sup_norm, supp_fun_polyhedron\n",
    "from scipy.linalg import expm\n",
    "\n",
    "\n",
    "# system coefficient matrix\n",
    "A = matrix(RDF, 4, 4)\n",
    "A.set_row(0, [-0.0030 , 0.0390 , 0 , -0.3220])\n",
    "A.set_row(1, [-0.0650 , -0.3190 , 7.7400 , 0])\n",
    "A.set_row(2, [0.0200 , -0.1010 , -0.4290 , 0])\n",
    "A.set_row(3, [0 , 0 , 1 , 0])\n",
    "\n",
    "B = matrix(RDF, 4, 1)\n",
    "B.set_column(0,[0.01, -0.18, -1.16, 0])\n",
    "\n",
    "# time horizon \n",
    "T = 2\n",
    "\n",
    "# input range\n",
    "U = BoxInfty(lengths=[[-13.3,13.3]])\n",
    "\n",
    "# initial condition \n",
    "#X0 = [1,1,1,0] \n",
    "X0 = BoxInfty(center = [1,1,1,0], radius = 0.01, base_ring = RDF)\n",
    "#X0 = BoxInfty(lengths = [[-1,1],[-1,1],[-1,1],[-1,1]], base_ring = RDF) \n",
    "\n",
    "# time discretization \n",
    "tau = 1e-1"
   ]
  },
  {
   "cell_type": "code",
   "execution_count": null,
   "metadata": {
    "collapsed": true
   },
   "outputs": [],
   "source": [
    "%%time \n",
    "fp = compute_flowpipe(A, X0, B, U, time_horizon = T, time_step = tau, directions={'select':'box'}, base_ring = QQ, solver='GLPK', verbose=0)"
   ]
  },
  {
   "cell_type": "code",
   "execution_count": null,
   "metadata": {
    "collapsed": true
   },
   "outputs": [],
   "source": [
    "X0.base_ring(), B.base_ring()"
   ]
  },
  {
   "cell_type": "code",
   "execution_count": null,
   "metadata": {
    "collapsed": true
   },
   "outputs": [],
   "source": [
    "base_ring = QQ; n=4\n",
    "\n",
    "V = polyhedron_linear_map(B, U, base_ring = QQ)\n",
    "Phi_tau = expm(np.multiply(A, tau))\n",
    "expX0 = polyhedron_linear_map(Phi_tau, X0, base_ring = base_ring)\n",
    "tau_V = polyhedron_linear_map(tau*np.identity(4), V)\n",
    "Ainfty = matrix_sup_norm(A)\n",
    "RX0 = polyhedron_sup_norm(X0)\n",
    "RV = polyhedron_sup_norm(V)\n",
    "\n",
    "\n",
    "unitBall = BoxInfty(center = zero_vector(n), radius = 1, base_ring = base_ring)\n",
    "alpha_tau = (exp(tau*Ainfty) - 1 - tau*Ainfty)*(RX0 + RV/Ainfty)\n",
    "alpha_tau_B = polyhedron_linear_map(alpha_tau*np.identity(4), unitBall)\n",
    "\n",
    "aux = expX0.Minkowski_sum(tau_V)\n",
    "Omega0 = X0.convex_hull(aux.Minkowski_sum(alpha_tau_B))\n",
    "\n",
    "beta_tau = (exp(tau*Ainfty) - 1 - tau*Ainfty)*(RV/Ainfty)\n",
    "\n",
    "beta_tau_B = polyhedron_linear_map(beta_tau*np.identity(n), unitBall, base_ring=RDF)\n",
    "\n",
    "W_tau = tau_V.Minkowski_sum(beta_tau_B)"
   ]
  },
  {
   "cell_type": "code",
   "execution_count": null,
   "metadata": {
    "collapsed": true
   },
   "outputs": [],
   "source": [
    "Omega0.base_ring(), W_tau.base_ring()"
   ]
  },
  {
   "cell_type": "code",
   "execution_count": null,
   "metadata": {
    "collapsed": true
   },
   "outputs": [],
   "source": [
    "Omega0.inequalities_list()"
   ]
  },
  {
   "cell_type": "code",
   "execution_count": null,
   "metadata": {
    "collapsed": true
   },
   "outputs": [],
   "source": [
    "base_ring = RDF\n",
    "v = vector(base_ring, 4); v"
   ]
  },
  {
   "cell_type": "code",
   "execution_count": null,
   "metadata": {
    "collapsed": true
   },
   "outputs": [],
   "source": [
    "d = [-1,0,0,0]\n",
    "\n",
    "supp_fun_polyhedron(Omega0, d, solver='Gurobi', verbose=1)"
   ]
  },
  {
   "cell_type": "code",
   "execution_count": null,
   "metadata": {
    "collapsed": true
   },
   "outputs": [],
   "source": [
    "d = [-1,-1,-2,-3]\n",
    "\n",
    "supp_fun_polyhedron(W_tau, d, solver='Gurobi', verbose=1)"
   ]
  }
 ],
 "metadata": {
  "kernelspec": {
   "display_name": "SageMath 7.4",
   "language": "",
   "name": "sagemath"
  },
  "language_info": {
   "codemirror_mode": {
    "name": "ipython",
    "version": 2
   },
   "file_extension": ".py",
   "mimetype": "text/x-python",
   "name": "python",
   "nbconvert_exporter": "python",
   "pygments_lexer": "ipython2",
   "version": "2.7.10"
  }
 },
 "nbformat": 4,
 "nbformat_minor": 0
}
