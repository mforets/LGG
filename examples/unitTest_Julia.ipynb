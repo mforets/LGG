{
 "cells": [
  {
   "cell_type": "code",
   "execution_count": 1,
   "metadata": {
    "collapsed": true
   },
   "outputs": [
    {
     "name": "stderr",
     "output_type": "stream",
     "text": [
      "INFO: Cloning cache of GeometryTypes from https://github.com/JuliaGeometry/GeometryTypes.jl.git\n",
      "INFO: Cloning cache of JuMP from https://github.com/JuliaOpt/JuMP.jl.git\n",
      "INFO: Cloning cache of MathProgBase from https://github.com/JuliaOpt/MathProgBase.jl.git\n",
      "INFO: Cloning cache of Polyhedra from https://github.com/JuliaPolyhedra/Polyhedra.jl.git\n",
      "INFO: Cloning cache of ReverseDiffSparse from https://github.com/mlubin/ReverseDiffSparse.jl.git\n",
      "INFO: Downgrading ForwardDiff: v0.3.3 => v0.2.5\n",
      "INFO: Installing GeometryTypes v0.2.1\n",
      "INFO: Installing JuMP v0.14.2\n",
      "INFO: Installing MathProgBase v0.5.8\n",
      "INFO: Downgrading Optim: v0.7.2 => v0.6.1\n",
      "INFO: Installing Polyhedra v0.1.2\n",
      "INFO: Installing ReverseDiffSparse v0.5.8\n",
      "INFO: Removing DiffBase v0.0.2\n",
      "INFO: Removing LineSearches v0.1.2\n",
      "INFO: Package database updated\n",
      "INFO: METADATA is out-of-date — you may not have the latest version of Polyhedra\n",
      "INFO: Use `Pkg.update()` to get the latest versions of your packages\n"
     ]
    }
   ],
   "source": [
    "Pkg.add(\"Polyhedra\")"
   ]
  },
  {
   "cell_type": "code",
   "execution_count": 2,
   "metadata": {
    "collapsed": true
   },
   "outputs": [
    {
     "name": "stderr",
     "output_type": "stream",
     "text": [
      "INFO: Cloning cache of CDDLib from https://github.com/JuliaPolyhedra/CDDLib.jl.git\n",
      "INFO: Installing CDDLib v0.1.1\n",
      "INFO: Building Homebrew\n"
     ]
    },
    {
     "name": "stdout",
     "output_type": "stream",
     "text": [
      "Updated 2 taps (homebrew/core, homebrew/science).\n",
      "==> New Formulae\n",
      "homebrew/science/wiggletools\n",
      "==> Updated Formulae\n",
      "abcl\n",
      "agda\n",
      "arangodb\n",
      "aws-sdk-cpp\n",
      "awscli\n",
      "cabal-install\n",
      "conan\n",
      "consul\n",
      "cookiecutter\n",
      "curl\n",
      "dnscrypt-proxy\n",
      "epeg\n",
      "fabric\n",
      "flow\n",
      "folly\n",
      "format-udf\n",
      "geoserver\n",
      "ghc\n",
      "git-annex\n",
      "global\n",
      "gmp\n",
      "goenv\n",
      "h2o\n",
      "homebrew/science/biobloomtools\n",
      "homebrew/science/cmor\n",
      "homebrew/science/opencv\n",
      "ice\n",
      "isl\n",
      "jenkins\n",
      "jmxtrans\n",
      "kops\n",
      "kubernetes-cli\n",
      "lcov\n",
      "libhttpseverywhere\n",
      "libsass\n",
      "libvoikko\n",
      "meson\n",
      "minizinc\n",
      "monetdb\n",
      "mongo-cxx-driver\n",
      "mypy\n",
      "nmap\n",
      "node\n",
      "openrtsp\n",
      "osquery\n",
      "rocksdb\n",
      "sassc\n",
      "sourcekitten\n",
      "squid\n",
      "sslyze\n",
      "swi-prolog\n",
      "swiftformat\n",
      "swiftlint\n",
      "sysdig\n",
      "tbb\n",
      "terragrunt\n",
      "tor\n",
      "webp\n",
      "wireguard-tools\n",
      "xonsh\n",
      "yarn\n",
      "youtube-dl\n"
     ]
    },
    {
     "name": "stderr",
     "output_type": "stream",
     "text": [
      "Error: Refusing to uninstall /Users/forets/.julia/v0.5/Homebrew/deps/usr/Cellar/gmp/6.1.1\n",
      "because it is required by nettle 3.3, which is currently installed.\n",
      "You can override this and force removal with:\n",
      "  brew uninstall --ignore-dependencies gmp\n",
      "==============================[ ERROR: Homebrew ]===============================\n",
      "\n",
      "LoadError: failed process: Process(`/Users/forets/.julia/v0.5/Homebrew/deps/usr/bin/brew rm gmp --force`, ProcessExited(1)) [1]\n",
      "while loading /Users/forets/.julia/v0.5/Homebrew/deps/build.jl, in expression starting on line 2\n",
      "\n",
      "================================================================================\n",
      "INFO: Building CDDLib\n",
      "INFO: Attempting to Create directory /Users/forets/.julia/v0.5/CDDLib/deps/downloads\n",
      "INFO: Downloading file https://github.com/blegat/cddlib/archive/5ff766051042f3413c534af8ffcbbe00f66b3ab1.zip\n",
      "  % Total    % Received % Xferd  Average Speed   Time    Time     Time  Current\n",
      "                                 Dload  Upload   Total   Spent    Left  Speed\n",
      "100   152    0   152    0     0    154      0 --:--:-- --:--:-- --:--:--   154\n",
      "100 1595k    0 1595k    0     0   157k      0 --:--:--  0:00:10 --:--:--  176k"
     ]
    },
    {
     "name": "stdout",
     "output_type": "stream",
     "text": [
      "Archive:  /Users/forets/.julia/v0.5/CDDLib/deps/downloads/5ff766051042f3413c534af8ffcbbe00f66b3ab1.zip\n",
      "5ff766051042f3413c534af8ffcbbe00f66b3ab1\n",
      "   creating: /Users/forets/.julia/v0.5/CDDLib/deps/src/cddlib-5ff766051042f3413c534af8ffcbbe00f66b3ab1/\n",
      " extracting: /Users/forets/.julia/v0.5/CDDLib/deps/src/cddlib-5ff766051042f3413c534af8ffcbbe00f66b3ab1/.gitignore  \n",
      "  inflating: /Users/forets/.julia/v0.5/CDDLib/deps/src/cddlib-5ff766051042f3413c534af8ffcbbe00f66b3ab1/AUTHORS  \n",
      "  inflating: /Users/forets/.julia/v0.5/CDDLib/deps/src/cddlib-5ff766051042f3413c534af8ffcbbe00f66b3ab1/COPYING  \n",
      "  inflating: /Users/forets/.julia/v0.5/CDDLib/deps/src/cddlib-5ff766051042f3413c534af8ffcbbe00f66b3ab1/ChangeLog  \n",
      "    linking: /Users/forets/.julia/v0.5/CDDLib/deps/src/cddlib-5ff766051042f3413c534af8ffcbbe00f66b3ab1/HISTORY  -> ChangeLog \n",
      "  inflating: /Users/forets/.julia/v0.5/CDDLib/deps/src/cddlib-5ff766051042f3413c534af8ffcbbe00f66b3ab1/INSTALL  \n",
      "  inflating: /Users/forets/.julia/v0.5/CDDLib/deps/src/cddlib-5ff766051042f3413c534af8ffcbbe00f66b3ab1/Makefile.am  \n",
      "  inflating: /Users/forets/.julia/v0.5/CDDLib/deps/src/cddlib-5ff766051042f3413c534af8ffcbbe00f66b3ab1/Makefile.in  \n",
      "    linking: /Users/forets/.julia/v0.5/CDDLib/deps/src/cddlib-5ff766051042f3413c534af8ffcbbe00f66b3ab1/NEWS  -> HISTORY \n",
      "  inflating: /Users/forets/.julia/v0.5/CDDLib/deps/src/cddlib-5ff766051042f3413c534af8ffcbbe00f66b3ab1/README  \n",
      "  inflating: /Users/forets/.julia/v0.5/CDDLib/deps/src/cddlib-5ff766051042f3413c534af8ffcbbe00f66b3ab1/README.core2processor  \n",
      "  inflating: /Users/forets/.julia/v0.5/CDDLib/deps/src/cddlib-5ff766051042f3413c534af8ffcbbe00f66b3ab1/aclocal.m4  \n",
      "  inflating: /Users/forets/.julia/v0.5/CDDLib/deps/src/cddlib-5ff766051042f3413c534af8ffcbbe00f66b3ab1/ar-lib  \n",
      "  inflating: /Users/forets/.julia/v0.5/CDDLib/deps/src/cddlib-5ff766051042f3413c534af8ffcbbe00f66b3ab1/compile  \n",
      "  inflating: /Users/forets/.julia/v0.5/CDDLib/deps/src/cddlib-5ff766051042f3413c534af8ffcbbe00f66b3ab1/config.guess  \n",
      "  inflating: /Users/forets/.julia/v0.5/CDDLib/deps/src/cddlib-5ff766051042f3413c534af8ffcbbe00f66b3ab1/config.sub  \n",
      "  inflating: /Users/forets/.julia/v0.5/CDDLib/deps/src/cddlib-5ff766051042f3413c534af8ffcbbe00f66b3ab1/configure  \n",
      "  inflating: /Users/forets/.julia/v0.5/CDDLib/deps/src/cddlib-5ff766051042f3413c534af8ffcbbe00f66b3ab1/configure.ac  \n",
      "  inflating: /Users/forets/.julia/v0.5/CDDLib/deps/src/cddlib-5ff766051042f3413c534af8ffcbbe00f66b3ab1/depcomp  \n",
      "   creating: /Users/forets/.julia/v0.5/CDDLib/deps/src/cddlib-5ff766051042f3413c534af8ffcbbe00f66b3ab1/doc/\n",
      "  inflating: /Users/forets/.julia/v0.5/CDDLib/deps/src/cddlib-5ff766051042f3413c534af8ffcbbe00f66b3ab1/doc/.gitignore  \n",
      "  inflating: /Users/forets/.julia/v0.5/CDDLib/deps/src/cddlib-5ff766051042f3413c534af8ffcbbe00f66b3ab1/doc/cddlibman.dvi  \n",
      "  inflating: /Users/forets/.julia/v0.5/CDDLib/deps/src/cddlib-5ff766051042f3413c534af8ffcbbe00f66b3ab1/doc/cddlibman.pdf  \n",
      "  inflating: /Users/forets/.julia/v0.5/CDDLib/deps/src/cddlib-5ff766051042f3413c534af8ffcbbe00f66b3ab1/doc/cddlibman.ps  \n"
     ]
    },
    {
     "name": "stderr",
     "output_type": "stream",
     "text": [
      "\r",
      "100 1663k    0 1663k    0     0   156k      0 --:--:--  0:00:10 --:--:--  152k\n",
      "INFO: Done downloading file https://github.com/blegat/cddlib/archive/5ff766051042f3413c534af8ffcbbe00f66b3ab1.zip\n",
      "INFO: Attempting to Create directory /Users/forets/.julia/v0.5/CDDLib/deps/src\n",
      "INFO: Attempting to Create directory /Users/forets/.julia/v0.5/CDDLib/deps\n",
      "INFO: Directory /Users/forets/.julia/v0.5/CDDLib/deps already created\n"
     ]
    },
    {
     "name": "stdout",
     "output_type": "stream",
     "text": [
      "  inflating: /Users/forets/.julia/v0.5/CDDLib/deps/src/cddlib-5ff766051042f3413c534af8ffcbbe00f66b3ab1/doc/cddlibman.tex  \n",
      "  inflating: /Users/forets/.julia/v0.5/CDDLib/deps/src/cddlib-5ff766051042f3413c534af8ffcbbe00f66b3ab1/doc/html.sty  \n",
      "   creating: /Users/forets/.julia/v0.5/CDDLib/deps/src/cddlib-5ff766051042f3413c534af8ffcbbe00f66b3ab1/examples-ext/\n",
      "  inflating: /Users/forets/.julia/v0.5/CDDLib/deps/src/cddlib-5ff766051042f3413c534af8ffcbbe00f66b3ab1/examples-ext/ccc4.ext  \n",
      "  inflating: /Users/forets/.julia/v0.5/CDDLib/deps/src/cddlib-5ff766051042f3413c534af8ffcbbe00f66b3ab1/examples-ext/ccc5.ext  \n",
      "  inflating: /Users/forets/.julia/v0.5/CDDLib/deps/src/cddlib-5ff766051042f3413c534af8ffcbbe00f66b3ab1/examples-ext/ccc6.ext  \n",
      "  inflating: /Users/forets/.julia/v0.5/CDDLib/deps/src/cddlib-5ff766051042f3413c534af8ffcbbe00f66b3ab1/examples-ext/ccp4.ext  \n",
      "  inflating: /Users/forets/.julia/v0.5/CDDLib/deps/src/cddlib-5ff766051042f3413c534af8ffcbbe00f66b3ab1/examples-ext/ccp5.ext  \n",
      "  inflating: /Users/forets/.julia/v0.5/CDDLib/deps/src/cddlib-5ff766051042f3413c534af8ffcbbe00f66b3ab1/examples-ext/ccp6.ext  \n",
      "  inflating: /Users/forets/.julia/v0.5/CDDLib/deps/src/cddlib-5ff766051042f3413c534af8ffcbbe00f66b3ab1/examples-ext/cyclic10-4.ext  \n",
      "  inflating: /Users/forets/.julia/v0.5/CDDLib/deps/src/cddlib-5ff766051042f3413c534af8ffcbbe00f66b3ab1/examples-ext/cyclic12-6.ext  \n",
      "  inflating: /Users/forets/.julia/v0.5/CDDLib/deps/src/cddlib-5ff766051042f3413c534af8ffcbbe00f66b3ab1/examples-ext/cyclic14-8.ext  \n",
      "  inflating: /Users/forets/.julia/v0.5/CDDLib/deps/src/cddlib-5ff766051042f3413c534af8ffcbbe00f66b3ab1/examples-ext/cyclic16-10.ext  \n",
      "  inflating: /Users/forets/.julia/v0.5/CDDLib/deps/src/cddlib-5ff766051042f3413c534af8ffcbbe00f66b3ab1/examples-ext/irbox20-4.ext  \n",
      "  inflating: /Users/forets/.julia/v0.5/CDDLib/deps/src/cddlib-5ff766051042f3413c534af8ffcbbe00f66b3ab1/examples-ext/irbox200-4.ext  \n",
      "  inflating: /Users/forets/.julia/v0.5/CDDLib/deps/src/cddlib-5ff766051042f3413c534af8ffcbbe00f66b3ab1/examples-ext/prodst62.ext  \n",
      "  inflating: /Users/forets/.julia/v0.5/CDDLib/deps/src/cddlib-5ff766051042f3413c534af8ffcbbe00f66b3ab1/examples-ext/reg24-5.ext  \n",
      "  inflating: /Users/forets/.julia/v0.5/CDDLib/deps/src/cddlib-5ff766051042f3413c534af8ffcbbe00f66b3ab1/examples-ext/reg600-5.ext  \n",
      "   creating: /Users/forets/.julia/v0.5/CDDLib/deps/src/cddlib-5ff766051042f3413c534af8ffcbbe00f66b3ab1/examples-ine/\n",
      "  inflating: /Users/forets/.julia/v0.5/CDDLib/deps/src/cddlib-5ff766051042f3413c534af8ffcbbe00f66b3ab1/examples-ine/allzero.ine  \n",
      "  inflating: /Users/forets/.julia/v0.5/CDDLib/deps/src/cddlib-5ff766051042f3413c534af8ffcbbe00f66b3ab1/examples-ine/cross10.ine  \n",
      "  inflating: /Users/forets/.julia/v0.5/CDDLib/deps/src/cddlib-5ff766051042f3413c534af8ffcbbe00f66b3ab1/examples-ine/cross12.ine  \n",
      "  inflating: /Users/forets/.julia/v0.5/CDDLib/deps/src/cddlib-5ff766051042f3413c534af8ffcbbe00f66b3ab1/examples-ine/cross6.ine  \n",
      "  inflating: /Users/forets/.julia/v0.5/CDDLib/deps/src/cddlib-5ff766051042f3413c534af8ffcbbe00f66b3ab1/examples-ine/cross8.ine  \n",
      "  inflating: /Users/forets/.julia/v0.5/CDDLib/deps/src/cddlib-5ff766051042f3413c534af8ffcbbe00f66b3ab1/examples-ine/cube10.ine  \n",
      "  inflating: /Users/forets/.julia/v0.5/CDDLib/deps/src/cddlib-5ff766051042f3413c534af8ffcbbe00f66b3ab1/examples-ine/cube12.ine  \n",
      "  inflating: /Users/forets/.julia/v0.5/CDDLib/deps/src/cddlib-5ff766051042f3413c534af8ffcbbe00f66b3ab1/examples-ine/cube6.ine  \n",
      "  inflating: /Users/forets/.julia/v0.5/CDDLib/deps/src/cddlib-5ff766051042f3413c534af8ffcbbe00f66b3ab1/examples-ine/cube8.ine  \n",
      "  inflating: /Users/forets/.julia/v0.5/CDDLib/deps/src/cddlib-5ff766051042f3413c534af8ffcbbe00f66b3ab1/examples-ine/cubocta.ine  \n",
      "  inflating: /Users/forets/.julia/v0.5/CDDLib/deps/src/cddlib-5ff766051042f3413c534af8ffcbbe00f66b3ab1/examples-ine/ex1.ine  \n",
      "  inflating: /Users/forets/.julia/v0.5/CDDLib/deps/src/cddlib-5ff766051042f3413c534af8ffcbbe00f66b3ab1/examples-ine/infeas.ine  \n",
      "  inflating: /Users/forets/.julia/v0.5/CDDLib/deps/src/cddlib-5ff766051042f3413c534af8ffcbbe00f66b3ab1/examples-ine/integralpoints.ine  \n",
      "  inflating: /Users/forets/.julia/v0.5/CDDLib/deps/src/cddlib-5ff766051042f3413c534af8ffcbbe00f66b3ab1/examples-ine/kkd18_4.ine  \n",
      "  inflating: /Users/forets/.julia/v0.5/CDDLib/deps/src/cddlib-5ff766051042f3413c534af8ffcbbe00f66b3ab1/examples-ine/kkd27_5.ine  \n",
      "  inflating: /Users/forets/.julia/v0.5/CDDLib/deps/src/cddlib-5ff766051042f3413c534af8ffcbbe00f66b3ab1/examples-ine/kkd38_6.ine  \n",
      "  inflating: /Users/forets/.julia/v0.5/CDDLib/deps/src/cddlib-5ff766051042f3413c534af8ffcbbe00f66b3ab1/examples-ine/nonfull.ine  \n",
      "  inflating: /Users/forets/.julia/v0.5/CDDLib/deps/src/cddlib-5ff766051042f3413c534af8ffcbbe00f66b3ab1/examples-ine/origin.ine  \n",
      "  inflating: /Users/forets/.julia/v0.5/CDDLib/deps/src/cddlib-5ff766051042f3413c534af8ffcbbe00f66b3ab1/examples-ine/reg24-5.ine  \n",
      "  inflating: /Users/forets/.julia/v0.5/CDDLib/deps/src/cddlib-5ff766051042f3413c534af8ffcbbe00f66b3ab1/examples-ine/sampleh1.ine  \n",
      "  inflating: /Users/forets/.julia/v0.5/CDDLib/deps/src/cddlib-5ff766051042f3413c534af8ffcbbe00f66b3ab1/examples-ine/sampleh2.ine  \n",
      "  inflating: /Users/forets/.julia/v0.5/CDDLib/deps/src/cddlib-5ff766051042f3413c534af8ffcbbe00f66b3ab1/examples-ine/sampleh3.ine  \n",
      "  inflating: /Users/forets/.julia/v0.5/CDDLib/deps/src/cddlib-5ff766051042f3413c534af8ffcbbe00f66b3ab1/examples-ine/sampleh4.ine  \n",
      "  inflating: /Users/forets/.julia/v0.5/CDDLib/deps/src/cddlib-5ff766051042f3413c534af8ffcbbe00f66b3ab1/examples-ine/sampleh5.ine  \n",
      "  inflating: /Users/forets/.julia/v0.5/CDDLib/deps/src/cddlib-5ff766051042f3413c534af8ffcbbe00f66b3ab1/examples-ine/sampleh6.ine  \n",
      "  inflating: /Users/forets/.julia/v0.5/CDDLib/deps/src/cddlib-5ff766051042f3413c534af8ffcbbe00f66b3ab1/examples-ine/sampleh7.ine  \n",
      "  inflating: /Users/forets/.julia/v0.5/CDDLib/deps/src/cddlib-5ff766051042f3413c534af8ffcbbe00f66b3ab1/examples-ine/sampleh8.ine  \n",
      "  inflating: /Users/forets/.julia/v0.5/CDDLib/deps/src/cddlib-5ff766051042f3413c534af8ffcbbe00f66b3ab1/examples-ine/samplelp.ine  \n",
      "  inflating: /Users/forets/.julia/v0.5/CDDLib/deps/src/cddlib-5ff766051042f3413c534af8ffcbbe00f66b3ab1/examples-ine/samplelp1.ine  \n",
      "  inflating: /Users/forets/.julia/v0.5/CDDLib/deps/src/cddlib-5ff766051042f3413c534af8ffcbbe00f66b3ab1/examples-ine/samplelp2.ine  \n",
      "  inflating: /Users/forets/.julia/v0.5/CDDLib/deps/src/cddlib-5ff766051042f3413c534af8ffcbbe00f66b3ab1/examples-ine/samplelp3.ine  \n",
      "  inflating: /Users/forets/.julia/v0.5/CDDLib/deps/src/cddlib-5ff766051042f3413c534af8ffcbbe00f66b3ab1/examples-ine/samplelp4.ine  \n",
      "   creating: /Users/forets/.julia/v0.5/CDDLib/deps/src/cddlib-5ff766051042f3413c534af8ffcbbe00f66b3ab1/examples-ine3d/\n",
      "  inflating: /Users/forets/.julia/v0.5/CDDLib/deps/src/cddlib-5ff766051042f3413c534af8ffcbbe00f66b3ab1/examples-ine3d/cube3.ine  \n",
      "  inflating: /Users/forets/.julia/v0.5/CDDLib/deps/src/cddlib-5ff766051042f3413c534af8ffcbbe00f66b3ab1/examples-ine3d/cubocta.ine  \n",
      "  inflating: /Users/forets/.julia/v0.5/CDDLib/deps/src/cddlib-5ff766051042f3413c534af8ffcbbe00f66b3ab1/examples-ine3d/dodeca.ine  \n",
      "  inflating: /Users/forets/.julia/v0.5/CDDLib/deps/src/cddlib-5ff766051042f3413c534af8ffcbbe00f66b3ab1/examples-ine3d/grcubocta.ine  \n",
      "  inflating: /Users/forets/.julia/v0.5/CDDLib/deps/src/cddlib-5ff766051042f3413c534af8ffcbbe00f66b3ab1/examples-ine3d/hexocta.ine  \n",
      "  inflating: /Users/forets/.julia/v0.5/CDDLib/deps/src/cddlib-5ff766051042f3413c534af8ffcbbe00f66b3ab1/examples-ine3d/icododeca.ine  \n",
      "  inflating: /Users/forets/.julia/v0.5/CDDLib/deps/src/cddlib-5ff766051042f3413c534af8ffcbbe00f66b3ab1/examples-ine3d/rcubocta.ine  \n",
      "  inflating: /Users/forets/.julia/v0.5/CDDLib/deps/src/cddlib-5ff766051042f3413c534af8ffcbbe00f66b3ab1/examples-ine3d/rhomtria.ine  \n",
      "   creating: /Users/forets/.julia/v0.5/CDDLib/deps/src/cddlib-5ff766051042f3413c534af8ffcbbe00f66b3ab1/examples-ml/\n",
      "  inflating: /Users/forets/.julia/v0.5/CDDLib/deps/src/cddlib-5ff766051042f3413c534af8ffcbbe00f66b3ab1/examples-ml/Combinatorica5.m  \n",
      "  inflating: /Users/forets/.julia/v0.5/CDDLib/deps/src/cddlib-5ff766051042f3413c534af8ffcbbe00f66b3ab1/examples-ml/ExtendGraphics30.tar  \n",
      "  inflating: /Users/forets/.julia/v0.5/CDDLib/deps/src/cddlib-5ff766051042f3413c534af8ffcbbe00f66b3ab1/examples-ml/IOPolyhedra.m  \n",
      "  inflating: /Users/forets/.julia/v0.5/CDDLib/deps/src/cddlib-5ff766051042f3413c534af8ffcbbe00f66b3ab1/examples-ml/PolytopeSkeleton.m  \n",
      "  inflating: /Users/forets/.julia/v0.5/CDDLib/deps/src/cddlib-5ff766051042f3413c534af8ffcbbe00f66b3ab1/examples-ml/README.cddmathlink  \n",
      "  inflating: /Users/forets/.julia/v0.5/CDDLib/deps/src/cddlib-5ff766051042f3413c534af8ffcbbe00f66b3ab1/examples-ml/UnfoldPolytope.m  \n",
      "  inflating: /Users/forets/.julia/v0.5/CDDLib/deps/src/cddlib-5ff766051042f3413c534af8ffcbbe00f66b3ab1/examples-ml/cddml-DietProblem.nb  \n",
      "  inflating: /Users/forets/.julia/v0.5/CDDLib/deps/src/cddlib-5ff766051042f3413c534af8ffcbbe00f66b3ab1/examples-ml/cddml-PolytopeSkeleton.nb  \n",
      "  inflating: /Users/forets/.julia/v0.5/CDDLib/deps/src/cddlib-5ff766051042f3413c534af8ffcbbe00f66b3ab1/examples-ml/cddml-Zonotope.m  \n",
      "  inflating: /Users/forets/.julia/v0.5/CDDLib/deps/src/cddlib-5ff766051042f3413c534af8ffcbbe00f66b3ab1/examples-ml/cddml-Zonotope.nb  \n",
      "  inflating: /Users/forets/.julia/v0.5/CDDLib/deps/src/cddlib-5ff766051042f3413c534af8ffcbbe00f66b3ab1/examples-ml/cddml-notebook.nb  \n",
      "   creating: /Users/forets/.julia/v0.5/CDDLib/deps/src/cddlib-5ff766051042f3413c534af8ffcbbe00f66b3ab1/examples/\n",
      "  inflating: /Users/forets/.julia/v0.5/CDDLib/deps/src/cddlib-5ff766051042f3413c534af8ffcbbe00f66b3ab1/examples/project1.ine  \n",
      "  inflating: /Users/forets/.julia/v0.5/CDDLib/deps/src/cddlib-5ff766051042f3413c534af8ffcbbe00f66b3ab1/examples/project1res.ine  \n",
      "  inflating: /Users/forets/.julia/v0.5/CDDLib/deps/src/cddlib-5ff766051042f3413c534af8ffcbbe00f66b3ab1/examples/project2.ine  \n",
      "  inflating: /Users/forets/.julia/v0.5/CDDLib/deps/src/cddlib-5ff766051042f3413c534af8ffcbbe00f66b3ab1/examples/project2res.ine  \n",
      "  inflating: /Users/forets/.julia/v0.5/CDDLib/deps/src/cddlib-5ff766051042f3413c534af8ffcbbe00f66b3ab1/examples/redcheck.ext  \n",
      "  inflating: /Users/forets/.julia/v0.5/CDDLib/deps/src/cddlib-5ff766051042f3413c534af8ffcbbe00f66b3ab1/examples/sample.ine  \n",
      "  inflating: /Users/forets/.julia/v0.5/CDDLib/deps/src/cddlib-5ff766051042f3413c534af8ffcbbe00f66b3ab1/examples/sampleh1.ine  \n",
      "  inflating: /Users/forets/.julia/v0.5/CDDLib/deps/src/cddlib-5ff766051042f3413c534af8ffcbbe00f66b3ab1/examples/sampleh2.ine  \n",
      "  inflating: /Users/forets/.julia/v0.5/CDDLib/deps/src/cddlib-5ff766051042f3413c534af8ffcbbe00f66b3ab1/examples/sampleh3.ine  \n",
      "  inflating: /Users/forets/.julia/v0.5/CDDLib/deps/src/cddlib-5ff766051042f3413c534af8ffcbbe00f66b3ab1/examples/sampleh4.ine  \n",
      "  inflating: /Users/forets/.julia/v0.5/CDDLib/deps/src/cddlib-5ff766051042f3413c534af8ffcbbe00f66b3ab1/examples/sampleh5.ine  \n",
      "  inflating: /Users/forets/.julia/v0.5/CDDLib/deps/src/cddlib-5ff766051042f3413c534af8ffcbbe00f66b3ab1/examples/sampleh6.ine  \n",
      "  inflating: /Users/forets/.julia/v0.5/CDDLib/deps/src/cddlib-5ff766051042f3413c534af8ffcbbe00f66b3ab1/examples/sampleh7.ine  \n",
      "  inflating: /Users/forets/.julia/v0.5/CDDLib/deps/src/cddlib-5ff766051042f3413c534af8ffcbbe00f66b3ab1/examples/sampleh8.ine  \n",
      "  inflating: /Users/forets/.julia/v0.5/CDDLib/deps/src/cddlib-5ff766051042f3413c534af8ffcbbe00f66b3ab1/examples/samplelp.ine  \n",
      "  inflating: /Users/forets/.julia/v0.5/CDDLib/deps/src/cddlib-5ff766051042f3413c534af8ffcbbe00f66b3ab1/examples/samplelp.testlp1_gmp_output  \n",
      "  inflating: /Users/forets/.julia/v0.5/CDDLib/deps/src/cddlib-5ff766051042f3413c534af8ffcbbe00f66b3ab1/examples/samplelp.testlp1_output  \n",
      "  inflating: /Users/forets/.julia/v0.5/CDDLib/deps/src/cddlib-5ff766051042f3413c534af8ffcbbe00f66b3ab1/examples/samplelp1.ine  \n",
      "  inflating: /Users/forets/.julia/v0.5/CDDLib/deps/src/cddlib-5ff766051042f3413c534af8ffcbbe00f66b3ab1/examples/samplelp2.ine  \n",
      "  inflating: /Users/forets/.julia/v0.5/CDDLib/deps/src/cddlib-5ff766051042f3413c534af8ffcbbe00f66b3ab1/examples/samplelp3.ine  \n",
      "  inflating: /Users/forets/.julia/v0.5/CDDLib/deps/src/cddlib-5ff766051042f3413c534af8ffcbbe00f66b3ab1/examples/samplelp4.ine  \n",
      "  inflating: /Users/forets/.julia/v0.5/CDDLib/deps/src/cddlib-5ff766051042f3413c534af8ffcbbe00f66b3ab1/examples/samplelp_big.ine  \n",
      "  inflating: /Users/forets/.julia/v0.5/CDDLib/deps/src/cddlib-5ff766051042f3413c534af8ffcbbe00f66b3ab1/examples/samplelp_big_dualinfeas.ine  \n",
      "  inflating: /Users/forets/.julia/v0.5/CDDLib/deps/src/cddlib-5ff766051042f3413c534af8ffcbbe00f66b3ab1/examples/samplev1.ext  \n",
      "  inflating: /Users/forets/.julia/v0.5/CDDLib/deps/src/cddlib-5ff766051042f3413c534af8ffcbbe00f66b3ab1/examples/samplev2.ext  \n",
      "  inflating: /Users/forets/.julia/v0.5/CDDLib/deps/src/cddlib-5ff766051042f3413c534af8ffcbbe00f66b3ab1/examples/samplev3.ext  \n",
      "  inflating: /Users/forets/.julia/v0.5/CDDLib/deps/src/cddlib-5ff766051042f3413c534af8ffcbbe00f66b3ab1/install-sh  \n",
      "   creating: /Users/forets/.julia/v0.5/CDDLib/deps/src/cddlib-5ff766051042f3413c534af8ffcbbe00f66b3ab1/lib-src-gmp/\n",
      "  inflating: /Users/forets/.julia/v0.5/CDDLib/deps/src/cddlib-5ff766051042f3413c534af8ffcbbe00f66b3ab1/lib-src-gmp/Makefile.am  \n",
      "  inflating: /Users/forets/.julia/v0.5/CDDLib/deps/src/cddlib-5ff766051042f3413c534af8ffcbbe00f66b3ab1/lib-src-gmp/Makefile.in  \n",
      "    linking: /Users/forets/.julia/v0.5/CDDLib/deps/src/cddlib-5ff766051042f3413c534af8ffcbbe00f66b3ab1/lib-src-gmp/cdd.h  -> ../lib-src/cdd.h \n",
      "  inflating: /Users/forets/.julia/v0.5/CDDLib/deps/src/cddlib-5ff766051042f3413c534af8ffcbbe00f66b3ab1/lib-src-gmp/cdd_f.h  \n",
      "    linking: /Users/forets/.julia/v0.5/CDDLib/deps/src/cddlib-5ff766051042f3413c534af8ffcbbe00f66b3ab1/lib-src-gmp/cddcore.c  -> ../lib-src/cddcore.c \n",
      "  inflating: /Users/forets/.julia/v0.5/CDDLib/deps/src/cddlib-5ff766051042f3413c534af8ffcbbe00f66b3ab1/lib-src-gmp/cddcore_f.c  \n",
      "    linking: /Users/forets/.julia/v0.5/CDDLib/deps/src/cddlib-5ff766051042f3413c534af8ffcbbe00f66b3ab1/lib-src-gmp/cddio.c  -> ../lib-src/cddio.c \n",
      "  inflating: /Users/forets/.julia/v0.5/CDDLib/deps/src/cddlib-5ff766051042f3413c534af8ffcbbe00f66b3ab1/lib-src-gmp/cddio_f.c  \n",
      "    linking: /Users/forets/.julia/v0.5/CDDLib/deps/src/cddlib-5ff766051042f3413c534af8ffcbbe00f66b3ab1/lib-src-gmp/cddlib.c  -> ../lib-src/cddlib.c \n",
      "  inflating: /Users/forets/.julia/v0.5/CDDLib/deps/src/cddlib-5ff766051042f3413c534af8ffcbbe00f66b3ab1/lib-src-gmp/cddlib_f.c  \n",
      "    linking: /Users/forets/.julia/v0.5/CDDLib/deps/src/cddlib-5ff766051042f3413c534af8ffcbbe00f66b3ab1/lib-src-gmp/cddlp.c  -> ../lib-src/cddlp.c \n",
      "  inflating: /Users/forets/.julia/v0.5/CDDLib/deps/src/cddlib-5ff766051042f3413c534af8ffcbbe00f66b3ab1/lib-src-gmp/cddlp_f.c  \n",
      "    linking: /Users/forets/.julia/v0.5/CDDLib/deps/src/cddlib-5ff766051042f3413c534af8ffcbbe00f66b3ab1/lib-src-gmp/cddmp.c  -> ../lib-src/cddmp.c \n",
      "    linking: /Users/forets/.julia/v0.5/CDDLib/deps/src/cddlib-5ff766051042f3413c534af8ffcbbe00f66b3ab1/lib-src-gmp/cddmp.h  -> ../lib-src/cddmp.h \n",
      "  inflating: /Users/forets/.julia/v0.5/CDDLib/deps/src/cddlib-5ff766051042f3413c534af8ffcbbe00f66b3ab1/lib-src-gmp/cddmp_f.c  \n",
      "  inflating: /Users/forets/.julia/v0.5/CDDLib/deps/src/cddlib-5ff766051042f3413c534af8ffcbbe00f66b3ab1/lib-src-gmp/cddmp_f.h  \n",
      "    linking: /Users/forets/.julia/v0.5/CDDLib/deps/src/cddlib-5ff766051042f3413c534af8ffcbbe00f66b3ab1/lib-src-gmp/cddproj.c  -> ../lib-src/cddproj.c \n",
      "  inflating: /Users/forets/.julia/v0.5/CDDLib/deps/src/cddlib-5ff766051042f3413c534af8ffcbbe00f66b3ab1/lib-src-gmp/cddproj_f.c  \n",
      "    linking: /Users/forets/.julia/v0.5/CDDLib/deps/src/cddlib-5ff766051042f3413c534af8ffcbbe00f66b3ab1/lib-src-gmp/cddstd.c  -> ../lib-src/cddstd.c \n",
      "    linking: /Users/forets/.julia/v0.5/CDDLib/deps/src/cddlib-5ff766051042f3413c534af8ffcbbe00f66b3ab1/lib-src-gmp/cddstd.h  -> ../lib-src/cddstd.h \n",
      "  inflating: /Users/forets/.julia/v0.5/CDDLib/deps/src/cddlib-5ff766051042f3413c534af8ffcbbe00f66b3ab1/lib-src-gmp/cddstd_f.c  \n",
      "  inflating: /Users/forets/.julia/v0.5/CDDLib/deps/src/cddlib-5ff766051042f3413c534af8ffcbbe00f66b3ab1/lib-src-gmp/cddstd_f.h  \n",
      "    linking: /Users/forets/.julia/v0.5/CDDLib/deps/src/cddlib-5ff766051042f3413c534af8ffcbbe00f66b3ab1/lib-src-gmp/cddtypes.h  -> ../lib-src/cddtypes.h \n",
      "  inflating: /Users/forets/.julia/v0.5/CDDLib/deps/src/cddlib-5ff766051042f3413c534af8ffcbbe00f66b3ab1/lib-src-gmp/cddtypes_f.h  \n",
      "    linking: /Users/forets/.julia/v0.5/CDDLib/deps/src/cddlib-5ff766051042f3413c534af8ffcbbe00f66b3ab1/lib-src-gmp/setoper.c  -> ../lib-src/setoper.c \n",
      "    linking: /Users/forets/.julia/v0.5/CDDLib/deps/src/cddlib-5ff766051042f3413c534af8ffcbbe00f66b3ab1/lib-src-gmp/setoper.h  -> ../lib-src/setoper.h \n",
      "   creating: /Users/forets/.julia/v0.5/CDDLib/deps/src/cddlib-5ff766051042f3413c534af8ffcbbe00f66b3ab1/lib-src/\n",
      "  inflating: /Users/forets/.julia/v0.5/CDDLib/deps/src/cddlib-5ff766051042f3413c534af8ffcbbe00f66b3ab1/lib-src/Makefile.am  \n",
      "  inflating: /Users/forets/.julia/v0.5/CDDLib/deps/src/cddlib-5ff766051042f3413c534af8ffcbbe00f66b3ab1/lib-src/Makefile.in  \n",
      "  inflating: /Users/forets/.julia/v0.5/CDDLib/deps/src/cddlib-5ff766051042f3413c534af8ffcbbe00f66b3ab1/lib-src/cdd.h  \n",
      "  inflating: /Users/forets/.julia/v0.5/CDDLib/deps/src/cddlib-5ff766051042f3413c534af8ffcbbe00f66b3ab1/lib-src/cddcore.c  \n",
      "  inflating: /Users/forets/.julia/v0.5/CDDLib/deps/src/cddlib-5ff766051042f3413c534af8ffcbbe00f66b3ab1/lib-src/cddio.c  \n",
      "  inflating: /Users/forets/.julia/v0.5/CDDLib/deps/src/cddlib-5ff766051042f3413c534af8ffcbbe00f66b3ab1/lib-src/cddlib.c  \n",
      "  inflating: /Users/forets/.julia/v0.5/CDDLib/deps/src/cddlib-5ff766051042f3413c534af8ffcbbe00f66b3ab1/lib-src/cddlp.c  \n",
      "  inflating: /Users/forets/.julia/v0.5/CDDLib/deps/src/cddlib-5ff766051042f3413c534af8ffcbbe00f66b3ab1/lib-src/cddmp.c  \n",
      "  inflating: /Users/forets/.julia/v0.5/CDDLib/deps/src/cddlib-5ff766051042f3413c534af8ffcbbe00f66b3ab1/lib-src/cddmp.h  \n",
      "  inflating: /Users/forets/.julia/v0.5/CDDLib/deps/src/cddlib-5ff766051042f3413c534af8ffcbbe00f66b3ab1/lib-src/cddproj.c  \n",
      "  inflating: /Users/forets/.julia/v0.5/CDDLib/deps/src/cddlib-5ff766051042f3413c534af8ffcbbe00f66b3ab1/lib-src/cddstd.c  \n",
      "  inflating: /Users/forets/.julia/v0.5/CDDLib/deps/src/cddlib-5ff766051042f3413c534af8ffcbbe00f66b3ab1/lib-src/cddstd.h  \n",
      "  inflating: /Users/forets/.julia/v0.5/CDDLib/deps/src/cddlib-5ff766051042f3413c534af8ffcbbe00f66b3ab1/lib-src/cddtypes.h  \n",
      "  inflating: /Users/forets/.julia/v0.5/CDDLib/deps/src/cddlib-5ff766051042f3413c534af8ffcbbe00f66b3ab1/lib-src/setoper.c  \n",
      "  inflating: /Users/forets/.julia/v0.5/CDDLib/deps/src/cddlib-5ff766051042f3413c534af8ffcbbe00f66b3ab1/lib-src/setoper.h  \n",
      "  inflating: /Users/forets/.julia/v0.5/CDDLib/deps/src/cddlib-5ff766051042f3413c534af8ffcbbe00f66b3ab1/ltmain.sh  \n",
      "   creating: /Users/forets/.julia/v0.5/CDDLib/deps/src/cddlib-5ff766051042f3413c534af8ffcbbe00f66b3ab1/m4/\n",
      "  inflating: /Users/forets/.julia/v0.5/CDDLib/deps/src/cddlib-5ff766051042f3413c534af8ffcbbe00f66b3ab1/m4/libtool.m4  \n",
      "  inflating: /Users/forets/.julia/v0.5/CDDLib/deps/src/cddlib-5ff766051042f3413c534af8ffcbbe00f66b3ab1/m4/ltoptions.m4  \n",
      "  inflating: /Users/forets/.julia/v0.5/CDDLib/deps/src/cddlib-5ff766051042f3413c534af8ffcbbe00f66b3ab1/m4/ltsugar.m4  \n",
      "  inflating: /Users/forets/.julia/v0.5/CDDLib/deps/src/cddlib-5ff766051042f3413c534af8ffcbbe00f66b3ab1/m4/ltversion.m4  \n",
      "  inflating: /Users/forets/.julia/v0.5/CDDLib/deps/src/cddlib-5ff766051042f3413c534af8ffcbbe00f66b3ab1/m4/lt~obsolete.m4  \n",
      "  inflating: /Users/forets/.julia/v0.5/CDDLib/deps/src/cddlib-5ff766051042f3413c534af8ffcbbe00f66b3ab1/make_all_f.sh  \n",
      "  inflating: /Users/forets/.julia/v0.5/CDDLib/deps/src/cddlib-5ff766051042f3413c534af8ffcbbe00f66b3ab1/make_f.sh  \n",
      "  inflating: /Users/forets/.julia/v0.5/CDDLib/deps/src/cddlib-5ff766051042f3413c534af8ffcbbe00f66b3ab1/missing  \n",
      "  inflating: /Users/forets/.julia/v0.5/CDDLib/deps/src/cddlib-5ff766051042f3413c534af8ffcbbe00f66b3ab1/mkinstalldirs  \n",
      "   creating: /Users/forets/.julia/v0.5/CDDLib/deps/src/cddlib-5ff766051042f3413c534af8ffcbbe00f66b3ab1/src-gmp/\n",
      "  inflating: /Users/forets/.julia/v0.5/CDDLib/deps/src/cddlib-5ff766051042f3413c534af8ffcbbe00f66b3ab1/src-gmp/.gdb_history  \n",
      "  inflating: /Users/forets/.julia/v0.5/CDDLib/deps/src/cddlib-5ff766051042f3413c534af8ffcbbe00f66b3ab1/src-gmp/Makefile.am  \n",
      "  inflating: /Users/forets/.julia/v0.5/CDDLib/deps/src/cddlib-5ff766051042f3413c534af8ffcbbe00f66b3ab1/src-gmp/Makefile.in  \n",
      "    linking: /Users/forets/.julia/v0.5/CDDLib/deps/src/cddlib-5ff766051042f3413c534af8ffcbbe00f66b3ab1/src-gmp/adjacency.c  -> ../src/adjacency.c \n",
      "    linking: /Users/forets/.julia/v0.5/CDDLib/deps/src/cddlib-5ff766051042f3413c534af8ffcbbe00f66b3ab1/src-gmp/allfaces.c  -> ../src/allfaces.c \n",
      "    linking: /Users/forets/.julia/v0.5/CDDLib/deps/src/cddlib-5ff766051042f3413c534af8ffcbbe00f66b3ab1/src-gmp/fourier.c  -> ../src/fourier.c \n",
      "    linking: /Users/forets/.julia/v0.5/CDDLib/deps/src/cddlib-5ff766051042f3413c534af8ffcbbe00f66b3ab1/src-gmp/lcdd.c  -> ../src/lcdd.c \n",
      "    linking: /Users/forets/.julia/v0.5/CDDLib/deps/src/cddlib-5ff766051042f3413c534af8ffcbbe00f66b3ab1/src-gmp/projection.c  -> ../src/projection.c \n",
      "    linking: /Users/forets/.julia/v0.5/CDDLib/deps/src/cddlib-5ff766051042f3413c534af8ffcbbe00f66b3ab1/src-gmp/redcheck.c  -> ../src/redcheck.c \n",
      "    linking: /Users/forets/.julia/v0.5/CDDLib/deps/src/cddlib-5ff766051042f3413c534af8ffcbbe00f66b3ab1/src-gmp/redundancies.c  -> ../src/redundancies.c \n",
      "    linking: /Users/forets/.julia/v0.5/CDDLib/deps/src/cddlib-5ff766051042f3413c534af8ffcbbe00f66b3ab1/src-gmp/redundancies_clarkson.c  -> ../src/redundancies_clarkson.c \n",
      "    linking: /Users/forets/.julia/v0.5/CDDLib/deps/src/cddlib-5ff766051042f3413c534af8ffcbbe00f66b3ab1/src-gmp/simplecdd.c  -> ../src/simplecdd.c \n",
      "    linking: /Users/forets/.julia/v0.5/CDDLib/deps/src/cddlib-5ff766051042f3413c534af8ffcbbe00f66b3ab1/src-gmp/testcdd1.c  -> ../src/testcdd1.c \n",
      "    linking: /Users/forets/.julia/v0.5/CDDLib/deps/src/cddlib-5ff766051042f3413c534af8ffcbbe00f66b3ab1/src-gmp/testcdd2.c  -> ../src/testcdd2.c \n",
      "    linking: /Users/forets/.julia/v0.5/CDDLib/deps/src/cddlib-5ff766051042f3413c534af8ffcbbe00f66b3ab1/src-gmp/testlp1.c  -> ../src/testlp1.c \n",
      "    linking: /Users/forets/.julia/v0.5/CDDLib/deps/src/cddlib-5ff766051042f3413c534af8ffcbbe00f66b3ab1/src-gmp/testlp2.c  -> ../src/testlp2.c \n",
      "    linking: /Users/forets/.julia/v0.5/CDDLib/deps/src/cddlib-5ff766051042f3413c534af8ffcbbe00f66b3ab1/src-gmp/testlp3.c  -> ../src/testlp3.c \n",
      "    linking: /Users/forets/.julia/v0.5/CDDLib/deps/src/cddlib-5ff766051042f3413c534af8ffcbbe00f66b3ab1/src-gmp/testshoot.c  -> ../src/testshoot.c \n",
      "  inflating: /Users/forets/.julia/v0.5/CDDLib/deps/src/cddlib-5ff766051042f3413c534af8ffcbbe00f66b3ab1/src-gmp/testuniq.c  \n",
      "   creating: /Users/forets/.julia/v0.5/CDDLib/deps/src/cddlib-5ff766051042f3413c534af8ffcbbe00f66b3ab1/src/\n",
      "  inflating: /Users/forets/.julia/v0.5/CDDLib/deps/src/cddlib-5ff766051042f3413c534af8ffcbbe00f66b3ab1/src/Makefile.am  \n",
      "  inflating: /Users/forets/.julia/v0.5/CDDLib/deps/src/cddlib-5ff766051042f3413c534af8ffcbbe00f66b3ab1/src/Makefile.in  \n",
      "  inflating: /Users/forets/.julia/v0.5/CDDLib/deps/src/cddlib-5ff766051042f3413c534af8ffcbbe00f66b3ab1/src/adjacency.c  \n",
      "  inflating: /Users/forets/.julia/v0.5/CDDLib/deps/src/cddlib-5ff766051042f3413c534af8ffcbbe00f66b3ab1/src/allfaces.c  \n",
      "  inflating: /Users/forets/.julia/v0.5/CDDLib/deps/src/cddlib-5ff766051042f3413c534af8ffcbbe00f66b3ab1/src/fourier.c  \n",
      "  inflating: /Users/forets/.julia/v0.5/CDDLib/deps/src/cddlib-5ff766051042f3413c534af8ffcbbe00f66b3ab1/src/lcdd.c  \n",
      "  inflating: /Users/forets/.julia/v0.5/CDDLib/deps/src/cddlib-5ff766051042f3413c534af8ffcbbe00f66b3ab1/src/minkowski.c  \n",
      "  inflating: /Users/forets/.julia/v0.5/CDDLib/deps/src/cddlib-5ff766051042f3413c534af8ffcbbe00f66b3ab1/src/projection.c  \n",
      "  inflating: /Users/forets/.julia/v0.5/CDDLib/deps/src/cddlib-5ff766051042f3413c534af8ffcbbe00f66b3ab1/src/redcheck.c  \n",
      "  inflating: /Users/forets/.julia/v0.5/CDDLib/deps/src/cddlib-5ff766051042f3413c534af8ffcbbe00f66b3ab1/src/redexter.c  \n",
      "  inflating: /Users/forets/.julia/v0.5/CDDLib/deps/src/cddlib-5ff766051042f3413c534af8ffcbbe00f66b3ab1/src/redundancies.c  \n",
      "  inflating: /Users/forets/.julia/v0.5/CDDLib/deps/src/cddlib-5ff766051042f3413c534af8ffcbbe00f66b3ab1/src/redundancies_clarkson.c  \n",
      "  inflating: /Users/forets/.julia/v0.5/CDDLib/deps/src/cddlib-5ff766051042f3413c534af8ffcbbe00f66b3ab1/src/simplecdd.c  \n",
      "  inflating: /Users/forets/.julia/v0.5/CDDLib/deps/src/cddlib-5ff766051042f3413c534af8ffcbbe00f66b3ab1/src/testcdd1.c  \n",
      "  inflating: /Users/forets/.julia/v0.5/CDDLib/deps/src/cddlib-5ff766051042f3413c534af8ffcbbe00f66b3ab1/src/testcdd2.c  \n",
      "  inflating: /Users/forets/.julia/v0.5/CDDLib/deps/src/cddlib-5ff766051042f3413c534af8ffcbbe00f66b3ab1/src/testlp1.c  \n",
      "  inflating: /Users/forets/.julia/v0.5/CDDLib/deps/src/cddlib-5ff766051042f3413c534af8ffcbbe00f66b3ab1/src/testlp2.c  \n",
      "  inflating: /Users/forets/.julia/v0.5/CDDLib/deps/src/cddlib-5ff766051042f3413c534af8ffcbbe00f66b3ab1/src/testlp3.c  \n",
      "  inflating: /Users/forets/.julia/v0.5/CDDLib/deps/src/cddlib-5ff766051042f3413c534af8ffcbbe00f66b3ab1/src/testshoot.c  \n",
      "  inflating: /Users/forets/.julia/v0.5/CDDLib/deps/src/cddlib-5ff766051042f3413c534af8ffcbbe00f66b3ab1/src/testuniq.c  \n",
      "finishing deferred symbolic links:\n",
      "  /Users/forets/.julia/v0.5/CDDLib/deps/src/cddlib-5ff766051042f3413c534af8ffcbbe00f66b3ab1/HISTORY -> ChangeLog\n",
      "  /Users/forets/.julia/v0.5/CDDLib/deps/src/cddlib-5ff766051042f3413c534af8ffcbbe00f66b3ab1/NEWS -> HISTORY\n",
      "  /Users/forets/.julia/v0.5/CDDLib/deps/src/cddlib-5ff766051042f3413c534af8ffcbbe00f66b3ab1/lib-src-gmp/cdd.h -> ../lib-src/cdd.h\n",
      "  /Users/forets/.julia/v0.5/CDDLib/deps/src/cddlib-5ff766051042f3413c534af8ffcbbe00f66b3ab1/lib-src-gmp/cddcore.c -> ../lib-src/cddcore.c\n",
      "  /Users/forets/.julia/v0.5/CDDLib/deps/src/cddlib-5ff766051042f3413c534af8ffcbbe00f66b3ab1/lib-src-gmp/cddio.c -> ../lib-src/cddio.c\n",
      "  /Users/forets/.julia/v0.5/CDDLib/deps/src/cddlib-5ff766051042f3413c534af8ffcbbe00f66b3ab1/lib-src-gmp/cddlib.c -> ../lib-src/cddlib.c\n",
      "  /Users/forets/.julia/v0.5/CDDLib/deps/src/cddlib-5ff766051042f3413c534af8ffcbbe00f66b3ab1/lib-src-gmp/cddlp.c -> ../lib-src/cddlp.c\n",
      "  /Users/forets/.julia/v0.5/CDDLib/deps/src/cddlib-5ff766051042f3413c534af8ffcbbe00f66b3ab1/lib-src-gmp/cddmp.c -> ../lib-src/cddmp.c\n",
      "  /Users/forets/.julia/v0.5/CDDLib/deps/src/cddlib-5ff766051042f3413c534af8ffcbbe00f66b3ab1/lib-src-gmp/cddmp.h -> ../lib-src/cddmp.h\n",
      "  /Users/forets/.julia/v0.5/CDDLib/deps/src/cddlib-5ff766051042f3413c534af8ffcbbe00f66b3ab1/lib-src-gmp/cddproj.c -> ../lib-src/cddproj.c\n",
      "  /Users/forets/.julia/v0.5/CDDLib/deps/src/cddlib-5ff766051042f3413c534af8ffcbbe00f66b3ab1/lib-src-gmp/cddstd.c -> ../lib-src/cddstd.c\n",
      "  /Users/forets/.julia/v0.5/CDDLib/deps/src/cddlib-5ff766051042f3413c534af8ffcbbe00f66b3ab1/lib-src-gmp/cddstd.h -> ../lib-src/cddstd.h\n",
      "  /Users/forets/.julia/v0.5/CDDLib/deps/src/cddlib-5ff766051042f3413c534af8ffcbbe00f66b3ab1/lib-src-gmp/cddtypes.h -> ../lib-src/cddtypes.h\n",
      "  /Users/forets/.julia/v0.5/CDDLib/deps/src/cddlib-5ff766051042f3413c534af8ffcbbe00f66b3ab1/lib-src-gmp/setoper.c -> ../lib-src/setoper.c\n",
      "  /Users/forets/.julia/v0.5/CDDLib/deps/src/cddlib-5ff766051042f3413c534af8ffcbbe00f66b3ab1/lib-src-gmp/setoper.h -> ../lib-src/setoper.h\n",
      "  /Users/forets/.julia/v0.5/CDDLib/deps/src/cddlib-5ff766051042f3413c534af8ffcbbe00f66b3ab1/src-gmp/adjacency.c -> ../src/adjacency.c\n",
      "  /Users/forets/.julia/v0.5/CDDLib/deps/src/cddlib-5ff766051042f3413c534af8ffcbbe00f66b3ab1/src-gmp/allfaces.c -> ../src/allfaces.c\n",
      "  /Users/forets/.julia/v0.5/CDDLib/deps/src/cddlib-5ff766051042f3413c534af8ffcbbe00f66b3ab1/src-gmp/fourier.c -> ../src/fourier.c\n",
      "  /Users/forets/.julia/v0.5/CDDLib/deps/src/cddlib-5ff766051042f3413c534af8ffcbbe00f66b3ab1/src-gmp/lcdd.c -> ../src/lcdd.c\n",
      "  /Users/forets/.julia/v0.5/CDDLib/deps/src/cddlib-5ff766051042f3413c534af8ffcbbe00f66b3ab1/src-gmp/projection.c -> ../src/projection.c\n",
      "  /Users/forets/.julia/v0.5/CDDLib/deps/src/cddlib-5ff766051042f3413c534af8ffcbbe00f66b3ab1/src-gmp/redcheck.c -> ../src/redcheck.c\n",
      "  /Users/forets/.julia/v0.5/CDDLib/deps/src/cddlib-5ff766051042f3413c534af8ffcbbe00f66b3ab1/src-gmp/redundancies.c -> ../src/redundancies.c\n",
      "  /Users/forets/.julia/v0.5/CDDLib/deps/src/cddlib-5ff766051042f3413c534af8ffcbbe00f66b3ab1/src-gmp/redundancies_clarkson.c -> ../src/redundancies_clarkson.c\n",
      "  /Users/forets/.julia/v0.5/CDDLib/deps/src/cddlib-5ff766051042f3413c534af8ffcbbe00f66b3ab1/src-gmp/simplecdd.c -> ../src/simplecdd.c\n",
      "  /Users/forets/.julia/v0.5/CDDLib/deps/src/cddlib-5ff766051042f3413c534af8ffcbbe00f66b3ab1/src-gmp/testcdd1.c -> ../src/testcdd1.c\n",
      "  /Users/forets/.julia/v0.5/CDDLib/deps/src/cddlib-5ff766051042f3413c534af8ffcbbe00f66b3ab1/src-gmp/testcdd2.c -> ../src/testcdd2.c\n",
      "  /Users/forets/.julia/v0.5/CDDLib/deps/src/cddlib-5ff766051042f3413c534af8ffcbbe00f66b3ab1/src-gmp/testlp1.c -> ../src/testlp1.c\n",
      "  /Users/forets/.julia/v0.5/CDDLib/deps/src/cddlib-5ff766051042f3413c534af8ffcbbe00f66b3ab1/src-gmp/testlp2.c -> ../src/testlp2.c\n",
      "  /Users/forets/.julia/v0.5/CDDLib/deps/src/cddlib-5ff766051042f3413c534af8ffcbbe00f66b3ab1/src-gmp/testlp3.c -> ../src/testlp3.c\n",
      "  /Users/forets/.julia/v0.5/CDDLib/deps/src/cddlib-5ff766051042f3413c534af8ffcbbe00f66b3ab1/src-gmp/testshoot.c -> ../src/testshoot.c\n"
     ]
    },
    {
     "name": "stderr",
     "output_type": "stream",
     "text": [
      "INFO: Attempting to Create directory /Users/forets/.julia/v0.5/CDDLib/deps/builds/libcddgmp\n",
      "INFO: Changing Directory to /Users/forets/.julia/v0.5/CDDLib/deps/builds/libcddgmp\n"
     ]
    },
    {
     "name": "stdout",
     "output_type": "stream",
     "text": [
      "checking for a BSD-compatible install... /usr/local/opt/coreutils/libexec/gnubin/install -c\n",
      "checking whether build environment is sane... yes\n",
      "checking for a thread-safe mkdir -p... /usr/local/opt/coreutils/libexec/gnubin/mkdir -p\n",
      "checking for gawk... no\n",
      "checking for mawk... no\n",
      "checking for nawk... no\n",
      "checking for awk... awk\n",
      "checking whether make sets $(MAKE)... yes\n",
      "checking whether make supports nested variables... yes\n",
      "checking for gawk... (cached) awk\n",
      "checking for gcc... gcc\n",
      "checking whether the C compiler works... yes\n",
      "checking for C compiler default output file name... a.out\n",
      "checking for suffix of executables... \n",
      "checking whether we are cross compiling... no\n",
      "checking for suffix of object files... o\n",
      "checking whether we are using the GNU C compiler... yes\n",
      "checking whether gcc accepts -g... yes\n",
      "checking for gcc option to accept ISO C89... none needed\n",
      "checking whether gcc understands -c and -o together... yes\n",
      "checking for style of include used by make... GNU\n",
      "checking dependency style of gcc... gcc3\n",
      "checking the archiver (ar) interface... ar\n",
      "checking whether ln -s works... yes\n",
      "checking whether make sets $(MAKE)... (cached) yes\n",
      "checking build system type... x86_64-apple-darwin15.6.0\n",
      "checking host system type... x86_64-apple-darwin15.6.0\n",
      "checking how to print strings... printf\n",
      "checking for a sed that does not truncate output... /usr/bin/sed\n",
      "checking for grep that handles long lines and -e... /usr/bin/grep\n",
      "checking for egrep... /usr/bin/grep -E\n",
      "checking for fgrep... /usr/bin/grep -F\n",
      "checking for ld used by gcc... ld\n",
      "checking if the linker (ld) is GNU ld... no\n",
      "checking for BSD- or MS-compatible name lister (nm)... /usr/bin/nm -B\n",
      "checking the name lister (/usr/bin/nm -B) interface... BSD nm\n",
      "checking the maximum length of command line arguments... 196608\n",
      "checking how to convert x86_64-apple-darwin15.6.0 file names to x86_64-apple-darwin15.6.0 format... func_convert_file_noop\n",
      "checking how to convert x86_64-apple-darwin15.6.0 file names to toolchain format... func_convert_file_noop\n",
      "checking for ld option to reload object files... -r\n",
      "checking for objdump... no\n",
      "checking how to recognize dependent libraries... pass_all\n",
      "checking for dlltool... no\n",
      "checking how to associate runtime and link libraries... printf %s\\n\n",
      "checking for archiver @FILE support... no\n",
      "checking for strip... strip\n",
      "checking for ranlib... ranlib\n",
      "checking command to parse /usr/bin/nm -B output from gcc object... ok\n",
      "checking for sysroot... no\n",
      "checking for a working dd... /usr/local/opt/coreutils/libexec/gnubin/dd\n",
      "checking how to truncate binary pipes... /usr/local/opt/coreutils/libexec/gnubin/dd bs=4096 count=1\n",
      "checking for mt... no\n",
      "checking if : is a manifest tool... no\n",
      "checking for dsymutil... dsymutil\n",
      "checking for nmedit... nmedit\n",
      "checking for lipo... lipo\n",
      "checking for otool... otool\n",
      "checking for otool64... no\n",
      "checking for -single_module linker flag... yes\n",
      "checking for -exported_symbols_list linker flag... yes\n",
      "checking for -force_load linker flag... yes\n",
      "checking how to run the C preprocessor... cpp\n",
      "checking for ANSI C header files... yes\n",
      "checking for sys/types.h... yes\n",
      "checking for sys/stat.h... yes\n",
      "checking for stdlib.h... yes\n",
      "checking for string.h... yes\n",
      "checking for memory.h... yes\n",
      "checking for strings.h... yes\n",
      "checking for inttypes.h... yes\n",
      "checking for stdint.h... yes\n",
      "checking for unistd.h... yes\n",
      "checking for dlfcn.h... yes\n",
      "checking for objdir... .libs\n",
      "checking if gcc supports -fno-rtti -fno-exceptions... no\n",
      "checking for gcc option to produce PIC... -fno-common -DPIC\n",
      "checking if gcc PIC flag -fno-common -DPIC works... yes\n",
      "checking if gcc static flag -static works... no\n",
      "checking if gcc supports -c -o file.o... yes\n",
      "checking if gcc supports -c -o file.o... (cached) yes\n",
      "checking whether the gcc linker (ld) supports shared libraries... yes\n",
      "checking dynamic linker characteristics... darwin15.6.0 dyld\n",
      "checking how to hardcode library paths into programs... immediate\n",
      "checking whether stripping libraries is possible... yes\n",
      "checking if libtool supports shared libraries... yes\n",
      "checking whether to build shared libraries... yes\n",
      "checking whether to build static libraries... yes\n",
      "checking for main in -lgmp... yes\n",
      "checking limits.h usability... yes\n",
      "checking limits.h presence... yes\n",
      "checking for limits.h... yes\n",
      "checking for stdlib.h... (cached) yes\n",
      "checking for string.h... (cached) yes\n",
      "checking gmp.h usability... yes\n",
      "checking gmp.h presence... yes\n",
      "checking for gmp.h... yes\n",
      "checking for strchr... yes\n",
      "checking that generated files are newer than configure... done\n",
      "configure: creating ./config.status\n",
      "config.status: creating Makefile\n",
      "config.status: creating lib-src-gmp/Makefile\n",
      "config.status: creating lib-src/Makefile\n",
      "config.status: creating src-gmp/Makefile\n",
      "config.status: creating src/Makefile\n",
      "config.status: executing depfiles commands\n",
      "config.status: executing libtool commands\n",
      "Making all in lib-src\n",
      "depbase=`echo cddstd.lo | sed 's|[^/]*$|.deps/&|;s|\\.lo$||'`;\\\n",
      "\t/bin/sh ../libtool  --tag=CC   --mode=compile gcc -DPACKAGE_NAME=\\\"cddlib\\\" -DPACKAGE_TARNAME=\\\"cddlib\\\" -DPACKAGE_VERSION=\\\"0.94\\\" -DPACKAGE_STRING=\\\"cddlib\\ 0.94\\\" -DPACKAGE_BUGREPORT=\\\"\\\" -DPACKAGE_URL=\\\"\\\" -DPACKAGE=\\\"cddlib\\\" -DVERSION=\\\"0.94\\\" -DSTDC_HEADERS=1 -DHAVE_SYS_TYPES_H=1 -DHAVE_SYS_STAT_H=1 -DHAVE_STDLIB_H=1 -DHAVE_STRING_H=1 -DHAVE_MEMORY_H=1 -DHAVE_STRINGS_H=1 -DHAVE_INTTYPES_H=1 -DHAVE_STDINT_H=1 -DHAVE_UNISTD_H=1 -DHAVE_DLFCN_H=1 -DLT_OBJDIR=\\\".libs/\\\" -DHAVE_LIBGMP=1 -DHAVE_LIMITS_H=1 -DHAVE_STDLIB_H=1 -DHAVE_STRING_H=1 -DHAVE_GMP_H=1 -DHAVE_STRCHR=1 -I. -I/Users/forets/.julia/v0.5/CDDLib/deps/src/cddlib-5ff766051042f3413c534af8ffcbbe00f66b3ab1/lib-src  -UGMPRATIONAL -DGMPRATIONAL -I/Users/forets/.julia/v0.5/CDDLib/deps/src/cddlib-5ff766051042f3413c534af8ffcbbe00f66b3ab1/lib-src -I/Users/forets/.julia/v0.5/CDDLib/deps/src/cddlib-5ff766051042f3413c534af8ffcbbe00f66b3ab1/lib-src-gmp -I/Users/forets/.julia/v0.5/Homebrew/deps/usr/include -UGMPRATIONAL -g -O2 -MT cddstd.lo -MD -MP -MF $depbase.Tpo -c -o cddstd.lo /Users/forets/.julia/v0.5/CDDLib/deps/src/cddlib-5ff766051042f3413c534af8ffcbbe00f66b3ab1/lib-src/cddstd.c &&\\\n",
      "\tmv -f $depbase.Tpo $depbase.Plo\n",
      "depbase=`echo cddcore.lo | sed 's|[^/]*$|.deps/&|;s|\\.lo$||'`;\\\n",
      "\t/bin/sh ../libtool  --tag=CC   --mode=compile gcc -DPACKAGE_NAME=\\\"cddlib\\\" -DPACKAGE_TARNAME=\\\"cddlib\\\" -DPACKAGE_VERSION=\\\"0.94\\\" -DPACKAGE_STRING=\\\"cddlib\\ 0.94\\\" -DPACKAGE_BUGREPORT=\\\"\\\" -DPACKAGE_URL=\\\"\\\" -DPACKAGE=\\\"cddlib\\\" -DVERSION=\\\"0.94\\\" -DSTDC_HEADERS=1 -DHAVE_SYS_TYPES_H=1 -DHAVE_SYS_STAT_H=1 -DHAVE_STDLIB_H=1 -DHAVE_STRING_H=1 -DHAVE_MEMORY_H=1 -DHAVE_STRINGS_H=1 -DHAVE_INTTYPES_H=1 -DHAVE_STDINT_H=1 -DHAVE_UNISTD_H=1 -DHAVE_DLFCN_H=1 -DLT_OBJDIR=\\\".libs/\\\" -DHAVE_LIBGMP=1 -DHAVE_LIMITS_H=1 -DHAVE_STDLIB_H=1 -DHAVE_STRING_H=1 -DHAVE_GMP_H=1 -DHAVE_STRCHR=1 -I. -I/Users/forets/.julia/v0.5/CDDLib/deps/src/cddlib-5ff766051042f3413c534af8ffcbbe00f66b3ab1/lib-src  -UGMPRATIONAL -DGMPRATIONAL -I/Users/forets/.julia/v0.5/CDDLib/deps/src/cddlib-5ff766051042f3413c534af8ffcbbe00f66b3ab1/lib-src -I/Users/forets/.julia/v0.5/CDDLib/deps/src/cddlib-5ff766051042f3413c534af8ffcbbe00f66b3ab1/lib-src-gmp -I/Users/forets/.julia/v0.5/Homebrew/deps/usr/include -UGMPRATIONAL -g -O2 -MT cddcore.lo -MD -MP -MF $depbase.Tpo -c -o cddcore.lo /Users/forets/.julia/v0.5/CDDLib/deps/src/cddlib-5ff766051042f3413c534af8ffcbbe00f66b3ab1/lib-src/cddcore.c &&\\\n",
      "\tmv -f $depbase.Tpo $depbase.Plo\n",
      "depbase=`echo cddlp.lo | sed 's|[^/]*$|.deps/&|;s|\\.lo$||'`;\\\n",
      "\t/bin/sh ../libtool  --tag=CC   --mode=compile gcc -DPACKAGE_NAME=\\\"cddlib\\\" -DPACKAGE_TARNAME=\\\"cddlib\\\" -DPACKAGE_VERSION=\\\"0.94\\\" -DPACKAGE_STRING=\\\"cddlib\\ 0.94\\\" -DPACKAGE_BUGREPORT=\\\"\\\" -DPACKAGE_URL=\\\"\\\" -DPACKAGE=\\\"cddlib\\\" -DVERSION=\\\"0.94\\\" -DSTDC_HEADERS=1 -DHAVE_SYS_TYPES_H=1 -DHAVE_SYS_STAT_H=1 -DHAVE_STDLIB_H=1 -DHAVE_STRING_H=1 -DHAVE_MEMORY_H=1 -DHAVE_STRINGS_H=1 -DHAVE_INTTYPES_H=1 -DHAVE_STDINT_H=1 -DHAVE_UNISTD_H=1 -DHAVE_DLFCN_H=1 -DLT_OBJDIR=\\\".libs/\\\" -DHAVE_LIBGMP=1 -DHAVE_LIMITS_H=1 -DHAVE_STDLIB_H=1 -DHAVE_STRING_H=1 -DHAVE_GMP_H=1 -DHAVE_STRCHR=1 -I. -I/Users/forets/.julia/v0.5/CDDLib/deps/src/cddlib-5ff766051042f3413c534af8ffcbbe00f66b3ab1/lib-src  -UGMPRATIONAL -DGMPRATIONAL -I/Users/forets/.julia/v0.5/CDDLib/deps/src/cddlib-5ff766051042f3413c534af8ffcbbe00f66b3ab1/lib-src -I/Users/forets/.julia/v0.5/CDDLib/deps/src/cddlib-5ff766051042f3413c534af8ffcbbe00f66b3ab1/lib-src-gmp -I/Users/forets/.julia/v0.5/Homebrew/deps/usr/include -UGMPRATIONAL -g -O2 -MT cddlp.lo -MD -MP -MF $depbase.Tpo -c -o cddlp.lo /Users/forets/.julia/v0.5/CDDLib/deps/src/cddlib-5ff766051042f3413c534af8ffcbbe00f66b3ab1/lib-src/cddlp.c &&\\\n",
      "\tmv -f $depbase.Tpo $depbase.Plo\n",
      "depbase=`echo cddmp.lo | sed 's|[^/]*$|.deps/&|;s|\\.lo$||'`;\\\n",
      "\t/bin/sh ../libtool  --tag=CC   --mode=compile gcc -DPACKAGE_NAME=\\\"cddlib\\\" -DPACKAGE_TARNAME=\\\"cddlib\\\" -DPACKAGE_VERSION=\\\"0.94\\\" -DPACKAGE_STRING=\\\"cddlib\\ 0.94\\\" -DPACKAGE_BUGREPORT=\\\"\\\" -DPACKAGE_URL=\\\"\\\" -DPACKAGE=\\\"cddlib\\\" -DVERSION=\\\"0.94\\\" -DSTDC_HEADERS=1 -DHAVE_SYS_TYPES_H=1 -DHAVE_SYS_STAT_H=1 -DHAVE_STDLIB_H=1 -DHAVE_STRING_H=1 -DHAVE_MEMORY_H=1 -DHAVE_STRINGS_H=1 -DHAVE_INTTYPES_H=1 -DHAVE_STDINT_H=1 -DHAVE_UNISTD_H=1 -DHAVE_DLFCN_H=1 -DLT_OBJDIR=\\\".libs/\\\" -DHAVE_LIBGMP=1 -DHAVE_LIMITS_H=1 -DHAVE_STDLIB_H=1 -DHAVE_STRING_H=1 -DHAVE_GMP_H=1 -DHAVE_STRCHR=1 -I. -I/Users/forets/.julia/v0.5/CDDLib/deps/src/cddlib-5ff766051042f3413c534af8ffcbbe00f66b3ab1/lib-src  -UGMPRATIONAL -DGMPRATIONAL -I/Users/forets/.julia/v0.5/CDDLib/deps/src/cddlib-5ff766051042f3413c534af8ffcbbe00f66b3ab1/lib-src -I/Users/forets/.julia/v0.5/CDDLib/deps/src/cddlib-5ff766051042f3413c534af8ffcbbe00f66b3ab1/lib-src-gmp -I/Users/forets/.julia/v0.5/Homebrew/deps/usr/include -UGMPRATIONAL -g -O2 -MT cddmp.lo -MD -MP -MF $depbase.Tpo -c -o cddmp.lo /Users/forets/.julia/v0.5/CDDLib/deps/src/cddlib-5ff766051042f3413c534af8ffcbbe00f66b3ab1/lib-src/cddmp.c &&\\\n",
      "\tmv -f $depbase.Tpo $depbase.Plo\n",
      "depbase=`echo cddio.lo | sed 's|[^/]*$|.deps/&|;s|\\.lo$||'`;\\\n",
      "\t/bin/sh ../libtool  --tag=CC   --mode=compile gcc -DPACKAGE_NAME=\\\"cddlib\\\" -DPACKAGE_TARNAME=\\\"cddlib\\\" -DPACKAGE_VERSION=\\\"0.94\\\" -DPACKAGE_STRING=\\\"cddlib\\ 0.94\\\" -DPACKAGE_BUGREPORT=\\\"\\\" -DPACKAGE_URL=\\\"\\\" -DPACKAGE=\\\"cddlib\\\" -DVERSION=\\\"0.94\\\" -DSTDC_HEADERS=1 -DHAVE_SYS_TYPES_H=1 -DHAVE_SYS_STAT_H=1 -DHAVE_STDLIB_H=1 -DHAVE_STRING_H=1 -DHAVE_MEMORY_H=1 -DHAVE_STRINGS_H=1 -DHAVE_INTTYPES_H=1 -DHAVE_STDINT_H=1 -DHAVE_UNISTD_H=1 -DHAVE_DLFCN_H=1 -DLT_OBJDIR=\\\".libs/\\\" -DHAVE_LIBGMP=1 -DHAVE_LIMITS_H=1 -DHAVE_STDLIB_H=1 -DHAVE_STRING_H=1 -DHAVE_GMP_H=1 -DHAVE_STRCHR=1 -I. -I/Users/forets/.julia/v0.5/CDDLib/deps/src/cddlib-5ff766051042f3413c534af8ffcbbe00f66b3ab1/lib-src  -UGMPRATIONAL -DGMPRATIONAL -I/Users/forets/.julia/v0.5/CDDLib/deps/src/cddlib-5ff766051042f3413c534af8ffcbbe00f66b3ab1/lib-src -I/Users/forets/.julia/v0.5/CDDLib/deps/src/cddlib-5ff766051042f3413c534af8ffcbbe00f66b3ab1/lib-src-gmp -I/Users/forets/.julia/v0.5/Homebrew/deps/usr/include -UGMPRATIONAL -g -O2 -MT cddio.lo -MD -MP -MF $depbase.Tpo -c -o cddio.lo /Users/forets/.julia/v0.5/CDDLib/deps/src/cddlib-5ff766051042f3413c534af8ffcbbe00f66b3ab1/lib-src/cddio.c &&\\\n",
      "\tmv -f $depbase.Tpo $depbase.Plo\n",
      "depbase=`echo cddlib.lo | sed 's|[^/]*$|.deps/&|;s|\\.lo$||'`;\\\n",
      "\t/bin/sh ../libtool  --tag=CC   --mode=compile gcc -DPACKAGE_NAME=\\\"cddlib\\\" -DPACKAGE_TARNAME=\\\"cddlib\\\" -DPACKAGE_VERSION=\\\"0.94\\\" -DPACKAGE_STRING=\\\"cddlib\\ 0.94\\\" -DPACKAGE_BUGREPORT=\\\"\\\" -DPACKAGE_URL=\\\"\\\" -DPACKAGE=\\\"cddlib\\\" -DVERSION=\\\"0.94\\\" -DSTDC_HEADERS=1 -DHAVE_SYS_TYPES_H=1 -DHAVE_SYS_STAT_H=1 -DHAVE_STDLIB_H=1 -DHAVE_STRING_H=1 -DHAVE_MEMORY_H=1 -DHAVE_STRINGS_H=1 -DHAVE_INTTYPES_H=1 -DHAVE_STDINT_H=1 -DHAVE_UNISTD_H=1 -DHAVE_DLFCN_H=1 -DLT_OBJDIR=\\\".libs/\\\" -DHAVE_LIBGMP=1 -DHAVE_LIMITS_H=1 -DHAVE_STDLIB_H=1 -DHAVE_STRING_H=1 -DHAVE_GMP_H=1 -DHAVE_STRCHR=1 -I. -I/Users/forets/.julia/v0.5/CDDLib/deps/src/cddlib-5ff766051042f3413c534af8ffcbbe00f66b3ab1/lib-src  -UGMPRATIONAL -DGMPRATIONAL -I/Users/forets/.julia/v0.5/CDDLib/deps/src/cddlib-5ff766051042f3413c534af8ffcbbe00f66b3ab1/lib-src -I/Users/forets/.julia/v0.5/CDDLib/deps/src/cddlib-5ff766051042f3413c534af8ffcbbe00f66b3ab1/lib-src-gmp -I/Users/forets/.julia/v0.5/Homebrew/deps/usr/include -UGMPRATIONAL -g -O2 -MT cddlib.lo -MD -MP -MF $depbase.Tpo -c -o cddlib.lo /Users/forets/.julia/v0.5/CDDLib/deps/src/cddlib-5ff766051042f3413c534af8ffcbbe00f66b3ab1/lib-src/cddlib.c &&\\\n",
      "\tmv -f $depbase.Tpo $depbase.Plo\n",
      "depbase=`echo cddproj.lo | sed 's|[^/]*$|.deps/&|;s|\\.lo$||'`;\\\n",
      "\t/bin/sh ../libtool  --tag=CC   --mode=compile gcc -DPACKAGE_NAME=\\\"cddlib\\\" -DPACKAGE_TARNAME=\\\"cddlib\\\" -DPACKAGE_VERSION=\\\"0.94\\\" -DPACKAGE_STRING=\\\"cddlib\\ 0.94\\\" -DPACKAGE_BUGREPORT=\\\"\\\" -DPACKAGE_URL=\\\"\\\" -DPACKAGE=\\\"cddlib\\\" -DVERSION=\\\"0.94\\\" -DSTDC_HEADERS=1 -DHAVE_SYS_TYPES_H=1 -DHAVE_SYS_STAT_H=1 -DHAVE_STDLIB_H=1 -DHAVE_STRING_H=1 -DHAVE_MEMORY_H=1 -DHAVE_STRINGS_H=1 -DHAVE_INTTYPES_H=1 -DHAVE_STDINT_H=1 -DHAVE_UNISTD_H=1 -DHAVE_DLFCN_H=1 -DLT_OBJDIR=\\\".libs/\\\" -DHAVE_LIBGMP=1 -DHAVE_LIMITS_H=1 -DHAVE_STDLIB_H=1 -DHAVE_STRING_H=1 -DHAVE_GMP_H=1 -DHAVE_STRCHR=1 -I. -I/Users/forets/.julia/v0.5/CDDLib/deps/src/cddlib-5ff766051042f3413c534af8ffcbbe00f66b3ab1/lib-src  -UGMPRATIONAL -DGMPRATIONAL -I/Users/forets/.julia/v0.5/CDDLib/deps/src/cddlib-5ff766051042f3413c534af8ffcbbe00f66b3ab1/lib-src -I/Users/forets/.julia/v0.5/CDDLib/deps/src/cddlib-5ff766051042f3413c534af8ffcbbe00f66b3ab1/lib-src-gmp -I/Users/forets/.julia/v0.5/Homebrew/deps/usr/include -UGMPRATIONAL -g -O2 -MT cddproj.lo -MD -MP -MF $depbase.Tpo -c -o cddproj.lo /Users/forets/.julia/v0.5/CDDLib/deps/src/cddlib-5ff766051042f3413c534af8ffcbbe00f66b3ab1/lib-src/cddproj.c &&\\\n",
      "\tmv -f $depbase.Tpo $depbase.Plo\n",
      "depbase=`echo setoper.lo | sed 's|[^/]*$|.deps/&|;s|\\.lo$||'`;\\\n",
      "\t/bin/sh ../libtool  --tag=CC   --mode=compile gcc -DPACKAGE_NAME=\\\"cddlib\\\" -DPACKAGE_TARNAME=\\\"cddlib\\\" -DPACKAGE_VERSION=\\\"0.94\\\" -DPACKAGE_STRING=\\\"cddlib\\ 0.94\\\" -DPACKAGE_BUGREPORT=\\\"\\\" -DPACKAGE_URL=\\\"\\\" -DPACKAGE=\\\"cddlib\\\" -DVERSION=\\\"0.94\\\" -DSTDC_HEADERS=1 -DHAVE_SYS_TYPES_H=1 -DHAVE_SYS_STAT_H=1 -DHAVE_STDLIB_H=1 -DHAVE_STRING_H=1 -DHAVE_MEMORY_H=1 -DHAVE_STRINGS_H=1 -DHAVE_INTTYPES_H=1 -DHAVE_STDINT_H=1 -DHAVE_UNISTD_H=1 -DHAVE_DLFCN_H=1 -DLT_OBJDIR=\\\".libs/\\\" -DHAVE_LIBGMP=1 -DHAVE_LIMITS_H=1 -DHAVE_STDLIB_H=1 -DHAVE_STRING_H=1 -DHAVE_GMP_H=1 -DHAVE_STRCHR=1 -I. -I/Users/forets/.julia/v0.5/CDDLib/deps/src/cddlib-5ff766051042f3413c534af8ffcbbe00f66b3ab1/lib-src  -UGMPRATIONAL -DGMPRATIONAL -I/Users/forets/.julia/v0.5/CDDLib/deps/src/cddlib-5ff766051042f3413c534af8ffcbbe00f66b3ab1/lib-src -I/Users/forets/.julia/v0.5/CDDLib/deps/src/cddlib-5ff766051042f3413c534af8ffcbbe00f66b3ab1/lib-src-gmp -I/Users/forets/.julia/v0.5/Homebrew/deps/usr/include -UGMPRATIONAL -g -O2 -MT setoper.lo -MD -MP -MF $depbase.Tpo -c -o setoper.lo /Users/forets/.julia/v0.5/CDDLib/deps/src/cddlib-5ff766051042f3413c534af8ffcbbe00f66b3ab1/lib-src/setoper.c &&\\\n",
      "\tmv -f $depbase.Tpo $depbase.Plo\n"
     ]
    },
    {
     "name": "stderr",
     "output_type": "stream",
     "text": [
      "INFO: Changing Directory to /Users/forets/.julia/v0.5/CDDLib/deps/builds/libcddgmp\n"
     ]
    },
    {
     "name": "stdout",
     "output_type": "stream",
     "text": [
      "libtool: compile:  gcc -DPACKAGE_NAME=\\\"cddlib\\\" -DPACKAGE_TARNAME=\\\"cddlib\\\" -DPACKAGE_VERSION=\\\"0.94\\\" \"-DPACKAGE_STRING=\\\"cddlib 0.94\\\"\" -DPACKAGE_BUGREPORT=\\\"\\\" -DPACKAGE_URL=\\\"\\\" -DPACKAGE=\\\"cddlib\\\" -DVERSION=\\\"0.94\\\" -DSTDC_HEADERS=1 -DHAVE_SYS_TYPES_H=1 -DHAVE_SYS_STAT_H=1 -DHAVE_STDLIB_H=1 -DHAVE_STRING_H=1 -DHAVE_MEMORY_H=1 -DHAVE_STRINGS_H=1 -DHAVE_INTTYPES_H=1 -DHAVE_STDINT_H=1 -DHAVE_UNISTD_H=1 -DHAVE_DLFCN_H=1 -DLT_OBJDIR=\\\".libs/\\\" -DHAVE_LIBGMP=1 -DHAVE_LIMITS_H=1 -DHAVE_STDLIB_H=1 -DHAVE_STRING_H=1 -DHAVE_GMP_H=1 -DHAVE_STRCHR=1 -I. -I/Users/forets/.julia/v0.5/CDDLib/deps/src/cddlib-5ff766051042f3413c534af8ffcbbe00f66b3ab1/lib-src -UGMPRATIONAL -DGMPRATIONAL -I/Users/forets/.julia/v0.5/CDDLib/deps/src/cddlib-5ff766051042f3413c534af8ffcbbe00f66b3ab1/lib-src -I/Users/forets/.julia/v0.5/CDDLib/deps/src/cddlib-5ff766051042f3413c534af8ffcbbe00f66b3ab1/lib-src-gmp -I/Users/forets/.julia/v0.5/Homebrew/deps/usr/include -UGMPRATIONAL -g -O2 -MT cddio.lo -MD -MP -MF .deps/cddio.Tpo -c /Users/forets/.julia/v0.5/CDDLib/deps/src/cddlib-5ff766051042f3413c534af8ffcbbe00f66b3ab1/lib-src/cddio.c  -fno-common -DPIC -o .libs/cddio.o\n",
      "libtool: compile:  gcc -DPACKAGE_NAME=\\\"cddlib\\\" -DPACKAGE_TARNAME=\\\"cddlib\\\" -DPACKAGE_VERSION=\\\"0.94\\\" \"-DPACKAGE_STRING=\\\"cddlib 0.94\\\"\" -DPACKAGE_BUGREPORT=\\\"\\\" -DPACKAGE_URL=\\\"\\\" -DPACKAGE=\\\"cddlib\\\" -DVERSION=\\\"0.94\\\" -DSTDC_HEADERS=1 -DHAVE_SYS_TYPES_H=1 -DHAVE_SYS_STAT_H=1 -DHAVE_STDLIB_H=1 -DHAVE_STRING_H=1 -DHAVE_MEMORY_H=1 -DHAVE_STRINGS_H=1 -DHAVE_INTTYPES_H=1 -DHAVE_STDINT_H=1 -DHAVE_UNISTD_H=1 -DHAVE_DLFCN_H=1 -DLT_OBJDIR=\\\".libs/\\\" -DHAVE_LIBGMP=1 -DHAVE_LIMITS_H=1 -DHAVE_STDLIB_H=1 -DHAVE_STRING_H=1 -DHAVE_GMP_H=1 -DHAVE_STRCHR=1 -I. -I/Users/forets/.julia/v0.5/CDDLib/deps/src/cddlib-5ff766051042f3413c534af8ffcbbe00f66b3ab1/lib-src -UGMPRATIONAL -DGMPRATIONAL -I/Users/forets/.julia/v0.5/CDDLib/deps/src/cddlib-5ff766051042f3413c534af8ffcbbe00f66b3ab1/lib-src -I/Users/forets/.julia/v0.5/CDDLib/deps/src/cddlib-5ff766051042f3413c534af8ffcbbe00f66b3ab1/lib-src-gmp -I/Users/forets/.julia/v0.5/Homebrew/deps/usr/include -UGMPRATIONAL -g -O2 -MT cddmp.lo -MD -MP -MF .deps/cddmp.Tpo -c /Users/forets/.julia/v0.5/CDDLib/deps/src/cddlib-5ff766051042f3413c534af8ffcbbe00f66b3ab1/lib-src/cddmp.c  -fno-common -DPIC -o .libs/cddmp.o\n",
      "libtool: compile:  gcc -DPACKAGE_NAME=\\\"cddlib\\\" -DPACKAGE_TARNAME=\\\"cddlib\\\" -DPACKAGE_VERSION=\\\"0.94\\\" \"-DPACKAGE_STRING=\\\"cddlib 0.94\\\"\" -DPACKAGE_BUGREPORT=\\\"\\\" -DPACKAGE_URL=\\\"\\\" -DPACKAGE=\\\"cddlib\\\" -DVERSION=\\\"0.94\\\" -DSTDC_HEADERS=1 -DHAVE_SYS_TYPES_H=1 -DHAVE_SYS_STAT_H=1 -DHAVE_STDLIB_H=1 -DHAVE_STRING_H=1 -DHAVE_MEMORY_H=1 -DHAVE_STRINGS_H=1 -DHAVE_INTTYPES_H=1 -DHAVE_STDINT_H=1 -DHAVE_UNISTD_H=1 -DHAVE_DLFCN_H=1 -DLT_OBJDIR=\\\".libs/\\\" -DHAVE_LIBGMP=1 -DHAVE_LIMITS_H=1 -DHAVE_STDLIB_H=1 -DHAVE_STRING_H=1 -DHAVE_GMP_H=1 -DHAVE_STRCHR=1 -I. -I/Users/forets/.julia/v0.5/CDDLib/deps/src/cddlib-5ff766051042f3413c534af8ffcbbe00f66b3ab1/lib-src -UGMPRATIONAL -DGMPRATIONAL -I/Users/forets/.julia/v0.5/CDDLib/deps/src/cddlib-5ff766051042f3413c534af8ffcbbe00f66b3ab1/lib-src -I/Users/forets/.julia/v0.5/CDDLib/deps/src/cddlib-5ff766051042f3413c534af8ffcbbe00f66b3ab1/lib-src-gmp -I/Users/forets/.julia/v0.5/Homebrew/deps/usr/include -UGMPRATIONAL -g -O2 -MT cddproj.lo -MD -MP -MF .deps/cddproj.Tpo -c /Users/forets/.julia/v0.5/CDDLib/deps/src/cddlib-5ff766051042f3413c534af8ffcbbe00f66b3ab1/lib-src/cddproj.c  -fno-common -DPIC -o .libs/cddproj.o\n",
      "libtool: compile:  gcc -DPACKAGE_NAME=\\\"cddlib\\\" -DPACKAGE_TARNAME=\\\"cddlib\\\" -DPACKAGE_VERSION=\\\"0.94\\\" \"-DPACKAGE_STRING=\\\"cddlib 0.94\\\"\" -DPACKAGE_BUGREPORT=\\\"\\\" -DPACKAGE_URL=\\\"\\\" -DPACKAGE=\\\"cddlib\\\" -DVERSION=\\\"0.94\\\" -DSTDC_HEADERS=1 -DHAVE_SYS_TYPES_H=1 -DHAVE_SYS_STAT_H=1 -DHAVE_STDLIB_H=1 -DHAVE_STRING_H=1 -DHAVE_MEMORY_H=1 -DHAVE_STRINGS_H=1 -DHAVE_INTTYPES_H=1 -DHAVE_STDINT_H=1 -DHAVE_UNISTD_H=1 -DHAVE_DLFCN_H=1 -DLT_OBJDIR=\\\".libs/\\\" -DHAVE_LIBGMP=1 -DHAVE_LIMITS_H=1 -DHAVE_STDLIB_H=1 -DHAVE_STRING_H=1 -DHAVE_GMP_H=1 -DHAVE_STRCHR=1 -I. -I/Users/forets/.julia/v0.5/CDDLib/deps/src/cddlib-5ff766051042f3413c534af8ffcbbe00f66b3ab1/lib-src -UGMPRATIONAL -DGMPRATIONAL -I/Users/forets/.julia/v0.5/CDDLib/deps/src/cddlib-5ff766051042f3413c534af8ffcbbe00f66b3ab1/lib-src -I/Users/forets/.julia/v0.5/CDDLib/deps/src/cddlib-5ff766051042f3413c534af8ffcbbe00f66b3ab1/lib-src-gmp -I/Users/forets/.julia/v0.5/Homebrew/deps/usr/include -UGMPRATIONAL -g -O2 -MT cddcore.lo -MD -MP -MF .deps/cddcore.Tpo -c /Users/forets/.julia/v0.5/CDDLib/deps/src/cddlib-5ff766051042f3413c534af8ffcbbe00f66b3ab1/lib-src/cddcore.c  -fno-common -DPIC -o .libs/cddcore.o\n",
      "libtool: compile:  gcc -DPACKAGE_NAME=\\\"cddlib\\\" -DPACKAGE_TARNAME=\\\"cddlib\\\" -DPACKAGE_VERSION=\\\"0.94\\\" \"-DPACKAGE_STRING=\\\"cddlib 0.94\\\"\" -DPACKAGE_BUGREPORT=\\\"\\\" -DPACKAGE_URL=\\\"\\\" -DPACKAGE=\\\"cddlib\\\" -DVERSION=\\\"0.94\\\" -DSTDC_HEADERS=1 -DHAVE_SYS_TYPES_H=1 -DHAVE_SYS_STAT_H=1 -DHAVE_STDLIB_H=1 -DHAVE_STRING_H=1 -DHAVE_MEMORY_H=1 -DHAVE_STRINGS_H=1 -DHAVE_INTTYPES_H=1 -DHAVE_STDINT_H=1 -DHAVE_UNISTD_H=1 -DHAVE_DLFCN_H=1 -DLT_OBJDIR=\\\".libs/\\\" -DHAVE_LIBGMP=1 -DHAVE_LIMITS_H=1 -DHAVE_STDLIB_H=1 -DHAVE_STRING_H=1 -DHAVE_GMP_H=1 -DHAVE_STRCHR=1 -I. -I/Users/forets/.julia/v0.5/CDDLib/deps/src/cddlib-5ff766051042f3413c534af8ffcbbe00f66b3ab1/lib-src -UGMPRATIONAL -DGMPRATIONAL -I/Users/forets/.julia/v0.5/CDDLib/deps/src/cddlib-5ff766051042f3413c534af8ffcbbe00f66b3ab1/lib-src -I/Users/forets/.julia/v0.5/CDDLib/deps/src/cddlib-5ff766051042f3413c534af8ffcbbe00f66b3ab1/lib-src-gmp -I/Users/forets/.julia/v0.5/Homebrew/deps/usr/include -UGMPRATIONAL -g -O2 -MT cddlib.lo -MD -MP -MF .deps/cddlib.Tpo -c /Users/forets/.julia/v0.5/CDDLib/deps/src/cddlib-5ff766051042f3413c534af8ffcbbe00f66b3ab1/lib-src/cddlib.c  -fno-common -DPIC -o .libs/cddlib.o\n",
      "libtool: compile:  gcc -DPACKAGE_NAME=\\\"cddlib\\\" -DPACKAGE_TARNAME=\\\"cddlib\\\" -DPACKAGE_VERSION=\\\"0.94\\\" \"-DPACKAGE_STRING=\\\"cddlib 0.94\\\"\" -DPACKAGE_BUGREPORT=\\\"\\\" -DPACKAGE_URL=\\\"\\\" -DPACKAGE=\\\"cddlib\\\" -DVERSION=\\\"0.94\\\" -DSTDC_HEADERS=1 -DHAVE_SYS_TYPES_H=1 -DHAVE_SYS_STAT_H=1 -DHAVE_STDLIB_H=1 -DHAVE_STRING_H=1 -DHAVE_MEMORY_H=1 -DHAVE_STRINGS_H=1 -DHAVE_INTTYPES_H=1 -DHAVE_STDINT_H=1 -DHAVE_UNISTD_H=1 -DHAVE_DLFCN_H=1 -DLT_OBJDIR=\\\".libs/\\\" -DHAVE_LIBGMP=1 -DHAVE_LIMITS_H=1 -DHAVE_STDLIB_H=1 -DHAVE_STRING_H=1 -DHAVE_GMP_H=1 -DHAVE_STRCHR=1 -I. -I/Users/forets/.julia/v0.5/CDDLib/deps/src/cddlib-5ff766051042f3413c534af8ffcbbe00f66b3ab1/lib-src -UGMPRATIONAL -DGMPRATIONAL -I/Users/forets/.julia/v0.5/CDDLib/deps/src/cddlib-5ff766051042f3413c534af8ffcbbe00f66b3ab1/lib-src -I/Users/forets/.julia/v0.5/CDDLib/deps/src/cddlib-5ff766051042f3413c534af8ffcbbe00f66b3ab1/lib-src-gmp -I/Users/forets/.julia/v0.5/Homebrew/deps/usr/include -UGMPRATIONAL -g -O2 -MT cddstd.lo -MD -MP -MF .deps/cddstd.Tpo -c /Users/forets/.julia/v0.5/CDDLib/deps/src/cddlib-5ff766051042f3413c534af8ffcbbe00f66b3ab1/lib-src/cddstd.c  -fno-common -DPIC -o .libs/cddstd.o\n",
      "libtool: compile:  gcc -DPACKAGE_NAME=\\\"cddlib\\\" -DPACKAGE_TARNAME=\\\"cddlib\\\" -DPACKAGE_VERSION=\\\"0.94\\\" \"-DPACKAGE_STRING=\\\"cddlib 0.94\\\"\" -DPACKAGE_BUGREPORT=\\\"\\\" -DPACKAGE_URL=\\\"\\\" -DPACKAGE=\\\"cddlib\\\" -DVERSION=\\\"0.94\\\" -DSTDC_HEADERS=1 -DHAVE_SYS_TYPES_H=1 -DHAVE_SYS_STAT_H=1 -DHAVE_STDLIB_H=1 -DHAVE_STRING_H=1 -DHAVE_MEMORY_H=1 -DHAVE_STRINGS_H=1 -DHAVE_INTTYPES_H=1 -DHAVE_STDINT_H=1 -DHAVE_UNISTD_H=1 -DHAVE_DLFCN_H=1 -DLT_OBJDIR=\\\".libs/\\\" -DHAVE_LIBGMP=1 -DHAVE_LIMITS_H=1 -DHAVE_STDLIB_H=1 -DHAVE_STRING_H=1 -DHAVE_GMP_H=1 -DHAVE_STRCHR=1 -I. -I/Users/forets/.julia/v0.5/CDDLib/deps/src/cddlib-5ff766051042f3413c534af8ffcbbe00f66b3ab1/lib-src -UGMPRATIONAL -DGMPRATIONAL -I/Users/forets/.julia/v0.5/CDDLib/deps/src/cddlib-5ff766051042f3413c534af8ffcbbe00f66b3ab1/lib-src -I/Users/forets/.julia/v0.5/CDDLib/deps/src/cddlib-5ff766051042f3413c534af8ffcbbe00f66b3ab1/lib-src-gmp -I/Users/forets/.julia/v0.5/Homebrew/deps/usr/include -UGMPRATIONAL -g -O2 -MT cddlp.lo -MD -MP -MF .deps/cddlp.Tpo -c /Users/forets/.julia/v0.5/CDDLib/deps/src/cddlib-5ff766051042f3413c534af8ffcbbe00f66b3ab1/lib-src/cddlp.c  -fno-common -DPIC -o .libs/cddlp.o\n",
      "libtool: compile:  gcc -DPACKAGE_NAME=\\\"cddlib\\\" -DPACKAGE_TARNAME=\\\"cddlib\\\" -DPACKAGE_VERSION=\\\"0.94\\\" \"-DPACKAGE_STRING=\\\"cddlib 0.94\\\"\" -DPACKAGE_BUGREPORT=\\\"\\\" -DPACKAGE_URL=\\\"\\\" -DPACKAGE=\\\"cddlib\\\" -DVERSION=\\\"0.94\\\" -DSTDC_HEADERS=1 -DHAVE_SYS_TYPES_H=1 -DHAVE_SYS_STAT_H=1 -DHAVE_STDLIB_H=1 -DHAVE_STRING_H=1 -DHAVE_MEMORY_H=1 -DHAVE_STRINGS_H=1 -DHAVE_INTTYPES_H=1 -DHAVE_STDINT_H=1 -DHAVE_UNISTD_H=1 -DHAVE_DLFCN_H=1 -DLT_OBJDIR=\\\".libs/\\\" -DHAVE_LIBGMP=1 -DHAVE_LIMITS_H=1 -DHAVE_STDLIB_H=1 -DHAVE_STRING_H=1 -DHAVE_GMP_H=1 -DHAVE_STRCHR=1 -I. -I/Users/forets/.julia/v0.5/CDDLib/deps/src/cddlib-5ff766051042f3413c534af8ffcbbe00f66b3ab1/lib-src -UGMPRATIONAL -DGMPRATIONAL -I/Users/forets/.julia/v0.5/CDDLib/deps/src/cddlib-5ff766051042f3413c534af8ffcbbe00f66b3ab1/lib-src -I/Users/forets/.julia/v0.5/CDDLib/deps/src/cddlib-5ff766051042f3413c534af8ffcbbe00f66b3ab1/lib-src-gmp -I/Users/forets/.julia/v0.5/Homebrew/deps/usr/include -UGMPRATIONAL -g -O2 -MT setoper.lo -MD -MP -MF .deps/setoper.Tpo -c /Users/forets/.julia/v0.5/CDDLib/deps/src/cddlib-5ff766051042f3413c534af8ffcbbe00f66b3ab1/lib-src/setoper.c  -fno-common -DPIC -o .libs/setoper.o\n",
      "libtool: compile:  gcc -DPACKAGE_NAME=\\\"cddlib\\\" -DPACKAGE_TARNAME=\\\"cddlib\\\" -DPACKAGE_VERSION=\\\"0.94\\\" \"-DPACKAGE_STRING=\\\"cddlib 0.94\\\"\" -DPACKAGE_BUGREPORT=\\\"\\\" -DPACKAGE_URL=\\\"\\\" -DPACKAGE=\\\"cddlib\\\" -DVERSION=\\\"0.94\\\" -DSTDC_HEADERS=1 -DHAVE_SYS_TYPES_H=1 -DHAVE_SYS_STAT_H=1 -DHAVE_STDLIB_H=1 -DHAVE_STRING_H=1 -DHAVE_MEMORY_H=1 -DHAVE_STRINGS_H=1 -DHAVE_INTTYPES_H=1 -DHAVE_STDINT_H=1 -DHAVE_UNISTD_H=1 -DHAVE_DLFCN_H=1 -DLT_OBJDIR=\\\".libs/\\\" -DHAVE_LIBGMP=1 -DHAVE_LIMITS_H=1 -DHAVE_STDLIB_H=1 -DHAVE_STRING_H=1 -DHAVE_GMP_H=1 -DHAVE_STRCHR=1 -I. -I/Users/forets/.julia/v0.5/CDDLib/deps/src/cddlib-5ff766051042f3413c534af8ffcbbe00f66b3ab1/lib-src -UGMPRATIONAL -DGMPRATIONAL -I/Users/forets/.julia/v0.5/CDDLib/deps/src/cddlib-5ff766051042f3413c534af8ffcbbe00f66b3ab1/lib-src -I/Users/forets/.julia/v0.5/CDDLib/deps/src/cddlib-5ff766051042f3413c534af8ffcbbe00f66b3ab1/lib-src-gmp -I/Users/forets/.julia/v0.5/Homebrew/deps/usr/include -UGMPRATIONAL -g -O2 -MT cddstd.lo -MD -MP -MF .deps/cddstd.Tpo -c /Users/forets/.julia/v0.5/CDDLib/deps/src/cddlib-5ff766051042f3413c534af8ffcbbe00f66b3ab1/lib-src/cddstd.c -o cddstd.o >/dev/null 2>&1\n",
      "libtool: compile:  gcc -DPACKAGE_NAME=\\\"cddlib\\\" -DPACKAGE_TARNAME=\\\"cddlib\\\" -DPACKAGE_VERSION=\\\"0.94\\\" \"-DPACKAGE_STRING=\\\"cddlib 0.94\\\"\" -DPACKAGE_BUGREPORT=\\\"\\\" -DPACKAGE_URL=\\\"\\\" -DPACKAGE=\\\"cddlib\\\" -DVERSION=\\\"0.94\\\" -DSTDC_HEADERS=1 -DHAVE_SYS_TYPES_H=1 -DHAVE_SYS_STAT_H=1 -DHAVE_STDLIB_H=1 -DHAVE_STRING_H=1 -DHAVE_MEMORY_H=1 -DHAVE_STRINGS_H=1 -DHAVE_INTTYPES_H=1 -DHAVE_STDINT_H=1 -DHAVE_UNISTD_H=1 -DHAVE_DLFCN_H=1 -DLT_OBJDIR=\\\".libs/\\\" -DHAVE_LIBGMP=1 -DHAVE_LIMITS_H=1 -DHAVE_STDLIB_H=1 -DHAVE_STRING_H=1 -DHAVE_GMP_H=1 -DHAVE_STRCHR=1 -I. -I/Users/forets/.julia/v0.5/CDDLib/deps/src/cddlib-5ff766051042f3413c534af8ffcbbe00f66b3ab1/lib-src -UGMPRATIONAL -DGMPRATIONAL -I/Users/forets/.julia/v0.5/CDDLib/deps/src/cddlib-5ff766051042f3413c534af8ffcbbe00f66b3ab1/lib-src -I/Users/forets/.julia/v0.5/CDDLib/deps/src/cddlib-5ff766051042f3413c534af8ffcbbe00f66b3ab1/lib-src-gmp -I/Users/forets/.julia/v0.5/Homebrew/deps/usr/include -UGMPRATIONAL -g -O2 -MT cddmp.lo -MD -MP -MF .deps/cddmp.Tpo -c /Users/forets/.julia/v0.5/CDDLib/deps/src/cddlib-5ff766051042f3413c534af8ffcbbe00f66b3ab1/lib-src/cddmp.c -o cddmp.o >/dev/null 2>&1\n",
      "libtool: compile:  gcc -DPACKAGE_NAME=\\\"cddlib\\\" -DPACKAGE_TARNAME=\\\"cddlib\\\" -DPACKAGE_VERSION=\\\"0.94\\\" \"-DPACKAGE_STRING=\\\"cddlib 0.94\\\"\" -DPACKAGE_BUGREPORT=\\\"\\\" -DPACKAGE_URL=\\\"\\\" -DPACKAGE=\\\"cddlib\\\" -DVERSION=\\\"0.94\\\" -DSTDC_HEADERS=1 -DHAVE_SYS_TYPES_H=1 -DHAVE_SYS_STAT_H=1 -DHAVE_STDLIB_H=1 -DHAVE_STRING_H=1 -DHAVE_MEMORY_H=1 -DHAVE_STRINGS_H=1 -DHAVE_INTTYPES_H=1 -DHAVE_STDINT_H=1 -DHAVE_UNISTD_H=1 -DHAVE_DLFCN_H=1 -DLT_OBJDIR=\\\".libs/\\\" -DHAVE_LIBGMP=1 -DHAVE_LIMITS_H=1 -DHAVE_STDLIB_H=1 -DHAVE_STRING_H=1 -DHAVE_GMP_H=1 -DHAVE_STRCHR=1 -I. -I/Users/forets/.julia/v0.5/CDDLib/deps/src/cddlib-5ff766051042f3413c534af8ffcbbe00f66b3ab1/lib-src -UGMPRATIONAL -DGMPRATIONAL -I/Users/forets/.julia/v0.5/CDDLib/deps/src/cddlib-5ff766051042f3413c534af8ffcbbe00f66b3ab1/lib-src -I/Users/forets/.julia/v0.5/CDDLib/deps/src/cddlib-5ff766051042f3413c534af8ffcbbe00f66b3ab1/lib-src-gmp -I/Users/forets/.julia/v0.5/Homebrew/deps/usr/include -UGMPRATIONAL -g -O2 -MT cddproj.lo -MD -MP -MF .deps/cddproj.Tpo -c /Users/forets/.julia/v0.5/CDDLib/deps/src/cddlib-5ff766051042f3413c534af8ffcbbe00f66b3ab1/lib-src/cddproj.c -o cddproj.o >/dev/null 2>&1\n",
      "libtool: compile:  gcc -DPACKAGE_NAME=\\\"cddlib\\\" -DPACKAGE_TARNAME=\\\"cddlib\\\" -DPACKAGE_VERSION=\\\"0.94\\\" \"-DPACKAGE_STRING=\\\"cddlib 0.94\\\"\" -DPACKAGE_BUGREPORT=\\\"\\\" -DPACKAGE_URL=\\\"\\\" -DPACKAGE=\\\"cddlib\\\" -DVERSION=\\\"0.94\\\" -DSTDC_HEADERS=1 -DHAVE_SYS_TYPES_H=1 -DHAVE_SYS_STAT_H=1 -DHAVE_STDLIB_H=1 -DHAVE_STRING_H=1 -DHAVE_MEMORY_H=1 -DHAVE_STRINGS_H=1 -DHAVE_INTTYPES_H=1 -DHAVE_STDINT_H=1 -DHAVE_UNISTD_H=1 -DHAVE_DLFCN_H=1 -DLT_OBJDIR=\\\".libs/\\\" -DHAVE_LIBGMP=1 -DHAVE_LIMITS_H=1 -DHAVE_STDLIB_H=1 -DHAVE_STRING_H=1 -DHAVE_GMP_H=1 -DHAVE_STRCHR=1 -I. -I/Users/forets/.julia/v0.5/CDDLib/deps/src/cddlib-5ff766051042f3413c534af8ffcbbe00f66b3ab1/lib-src -UGMPRATIONAL -DGMPRATIONAL -I/Users/forets/.julia/v0.5/CDDLib/deps/src/cddlib-5ff766051042f3413c534af8ffcbbe00f66b3ab1/lib-src -I/Users/forets/.julia/v0.5/CDDLib/deps/src/cddlib-5ff766051042f3413c534af8ffcbbe00f66b3ab1/lib-src-gmp -I/Users/forets/.julia/v0.5/Homebrew/deps/usr/include -UGMPRATIONAL -g -O2 -MT cddlib.lo -MD -MP -MF .deps/cddlib.Tpo -c /Users/forets/.julia/v0.5/CDDLib/deps/src/cddlib-5ff766051042f3413c534af8ffcbbe00f66b3ab1/lib-src/cddlib.c -o cddlib.o >/dev/null 2>&1\n",
      "libtool: compile:  gcc -DPACKAGE_NAME=\\\"cddlib\\\" -DPACKAGE_TARNAME=\\\"cddlib\\\" -DPACKAGE_VERSION=\\\"0.94\\\" \"-DPACKAGE_STRING=\\\"cddlib 0.94\\\"\" -DPACKAGE_BUGREPORT=\\\"\\\" -DPACKAGE_URL=\\\"\\\" -DPACKAGE=\\\"cddlib\\\" -DVERSION=\\\"0.94\\\" -DSTDC_HEADERS=1 -DHAVE_SYS_TYPES_H=1 -DHAVE_SYS_STAT_H=1 -DHAVE_STDLIB_H=1 -DHAVE_STRING_H=1 -DHAVE_MEMORY_H=1 -DHAVE_STRINGS_H=1 -DHAVE_INTTYPES_H=1 -DHAVE_STDINT_H=1 -DHAVE_UNISTD_H=1 -DHAVE_DLFCN_H=1 -DLT_OBJDIR=\\\".libs/\\\" -DHAVE_LIBGMP=1 -DHAVE_LIMITS_H=1 -DHAVE_STDLIB_H=1 -DHAVE_STRING_H=1 -DHAVE_GMP_H=1 -DHAVE_STRCHR=1 -I. -I/Users/forets/.julia/v0.5/CDDLib/deps/src/cddlib-5ff766051042f3413c534af8ffcbbe00f66b3ab1/lib-src -UGMPRATIONAL -DGMPRATIONAL -I/Users/forets/.julia/v0.5/CDDLib/deps/src/cddlib-5ff766051042f3413c534af8ffcbbe00f66b3ab1/lib-src -I/Users/forets/.julia/v0.5/CDDLib/deps/src/cddlib-5ff766051042f3413c534af8ffcbbe00f66b3ab1/lib-src-gmp -I/Users/forets/.julia/v0.5/Homebrew/deps/usr/include -UGMPRATIONAL -g -O2 -MT setoper.lo -MD -MP -MF .deps/setoper.Tpo -c /Users/forets/.julia/v0.5/CDDLib/deps/src/cddlib-5ff766051042f3413c534af8ffcbbe00f66b3ab1/lib-src/setoper.c -o setoper.o >/dev/null 2>&1\n",
      "libtool: compile:  gcc -DPACKAGE_NAME=\\\"cddlib\\\" -DPACKAGE_TARNAME=\\\"cddlib\\\" -DPACKAGE_VERSION=\\\"0.94\\\" \"-DPACKAGE_STRING=\\\"cddlib 0.94\\\"\" -DPACKAGE_BUGREPORT=\\\"\\\" -DPACKAGE_URL=\\\"\\\" -DPACKAGE=\\\"cddlib\\\" -DVERSION=\\\"0.94\\\" -DSTDC_HEADERS=1 -DHAVE_SYS_TYPES_H=1 -DHAVE_SYS_STAT_H=1 -DHAVE_STDLIB_H=1 -DHAVE_STRING_H=1 -DHAVE_MEMORY_H=1 -DHAVE_STRINGS_H=1 -DHAVE_INTTYPES_H=1 -DHAVE_STDINT_H=1 -DHAVE_UNISTD_H=1 -DHAVE_DLFCN_H=1 -DLT_OBJDIR=\\\".libs/\\\" -DHAVE_LIBGMP=1 -DHAVE_LIMITS_H=1 -DHAVE_STDLIB_H=1 -DHAVE_STRING_H=1 -DHAVE_GMP_H=1 -DHAVE_STRCHR=1 -I. -I/Users/forets/.julia/v0.5/CDDLib/deps/src/cddlib-5ff766051042f3413c534af8ffcbbe00f66b3ab1/lib-src -UGMPRATIONAL -DGMPRATIONAL -I/Users/forets/.julia/v0.5/CDDLib/deps/src/cddlib-5ff766051042f3413c534af8ffcbbe00f66b3ab1/lib-src -I/Users/forets/.julia/v0.5/CDDLib/deps/src/cddlib-5ff766051042f3413c534af8ffcbbe00f66b3ab1/lib-src-gmp -I/Users/forets/.julia/v0.5/Homebrew/deps/usr/include -UGMPRATIONAL -g -O2 -MT cddio.lo -MD -MP -MF .deps/cddio.Tpo -c /Users/forets/.julia/v0.5/CDDLib/deps/src/cddlib-5ff766051042f3413c534af8ffcbbe00f66b3ab1/lib-src/cddio.c -o cddio.o >/dev/null 2>&1\n",
      "libtool: compile:  gcc -DPACKAGE_NAME=\\\"cddlib\\\" -DPACKAGE_TARNAME=\\\"cddlib\\\" -DPACKAGE_VERSION=\\\"0.94\\\" \"-DPACKAGE_STRING=\\\"cddlib 0.94\\\"\" -DPACKAGE_BUGREPORT=\\\"\\\" -DPACKAGE_URL=\\\"\\\" -DPACKAGE=\\\"cddlib\\\" -DVERSION=\\\"0.94\\\" -DSTDC_HEADERS=1 -DHAVE_SYS_TYPES_H=1 -DHAVE_SYS_STAT_H=1 -DHAVE_STDLIB_H=1 -DHAVE_STRING_H=1 -DHAVE_MEMORY_H=1 -DHAVE_STRINGS_H=1 -DHAVE_INTTYPES_H=1 -DHAVE_STDINT_H=1 -DHAVE_UNISTD_H=1 -DHAVE_DLFCN_H=1 -DLT_OBJDIR=\\\".libs/\\\" -DHAVE_LIBGMP=1 -DHAVE_LIMITS_H=1 -DHAVE_STDLIB_H=1 -DHAVE_STRING_H=1 -DHAVE_GMP_H=1 -DHAVE_STRCHR=1 -I. -I/Users/forets/.julia/v0.5/CDDLib/deps/src/cddlib-5ff766051042f3413c534af8ffcbbe00f66b3ab1/lib-src -UGMPRATIONAL -DGMPRATIONAL -I/Users/forets/.julia/v0.5/CDDLib/deps/src/cddlib-5ff766051042f3413c534af8ffcbbe00f66b3ab1/lib-src -I/Users/forets/.julia/v0.5/CDDLib/deps/src/cddlib-5ff766051042f3413c534af8ffcbbe00f66b3ab1/lib-src-gmp -I/Users/forets/.julia/v0.5/Homebrew/deps/usr/include -UGMPRATIONAL -g -O2 -MT cddcore.lo -MD -MP -MF .deps/cddcore.Tpo -c /Users/forets/.julia/v0.5/CDDLib/deps/src/cddlib-5ff766051042f3413c534af8ffcbbe00f66b3ab1/lib-src/cddcore.c -o cddcore.o >/dev/null 2>&1\n",
      "libtool: compile:  gcc -DPACKAGE_NAME=\\\"cddlib\\\" -DPACKAGE_TARNAME=\\\"cddlib\\\" -DPACKAGE_VERSION=\\\"0.94\\\" \"-DPACKAGE_STRING=\\\"cddlib 0.94\\\"\" -DPACKAGE_BUGREPORT=\\\"\\\" -DPACKAGE_URL=\\\"\\\" -DPACKAGE=\\\"cddlib\\\" -DVERSION=\\\"0.94\\\" -DSTDC_HEADERS=1 -DHAVE_SYS_TYPES_H=1 -DHAVE_SYS_STAT_H=1 -DHAVE_STDLIB_H=1 -DHAVE_STRING_H=1 -DHAVE_MEMORY_H=1 -DHAVE_STRINGS_H=1 -DHAVE_INTTYPES_H=1 -DHAVE_STDINT_H=1 -DHAVE_UNISTD_H=1 -DHAVE_DLFCN_H=1 -DLT_OBJDIR=\\\".libs/\\\" -DHAVE_LIBGMP=1 -DHAVE_LIMITS_H=1 -DHAVE_STDLIB_H=1 -DHAVE_STRING_H=1 -DHAVE_GMP_H=1 -DHAVE_STRCHR=1 -I. -I/Users/forets/.julia/v0.5/CDDLib/deps/src/cddlib-5ff766051042f3413c534af8ffcbbe00f66b3ab1/lib-src -UGMPRATIONAL -DGMPRATIONAL -I/Users/forets/.julia/v0.5/CDDLib/deps/src/cddlib-5ff766051042f3413c534af8ffcbbe00f66b3ab1/lib-src -I/Users/forets/.julia/v0.5/CDDLib/deps/src/cddlib-5ff766051042f3413c534af8ffcbbe00f66b3ab1/lib-src-gmp -I/Users/forets/.julia/v0.5/Homebrew/deps/usr/include -UGMPRATIONAL -g -O2 -MT cddlp.lo -MD -MP -MF .deps/cddlp.Tpo -c /Users/forets/.julia/v0.5/CDDLib/deps/src/cddlib-5ff766051042f3413c534af8ffcbbe00f66b3ab1/lib-src/cddlp.c -o cddlp.o >/dev/null 2>&1\n",
      "/bin/sh ../libtool  --tag=CC   --mode=link gcc -UGMPRATIONAL -g -O2 -version-info 0:0:0 -no-undefined -L/Applications/SageMath/local/lib -Wl,-rpath,/Applications/SageMath/local/lib  -L/Users/forets/.julia/v0.5/CDDLib/deps/usr/lib -L/Users/forets/.julia/v0.5/Homebrew/deps/usr/lib -Wl,-rpath -Wl,/Users/forets/.julia/v0.5/CDDLib/deps/usr/lib -o libcdd.la -rpath /Users/forets/.julia/v0.5/CDDLib/deps/usr/lib cddstd.lo cddcore.lo cddlp.lo cddmp.lo cddio.lo cddlib.lo cddproj.lo setoper.lo  -lgmp \n",
      "libtool: link: gcc -dynamiclib  -o .libs/libcdd.0.dylib  .libs/cddstd.o .libs/cddcore.o .libs/cddlp.o .libs/cddmp.o .libs/cddio.o .libs/cddlib.o .libs/cddproj.o .libs/setoper.o   -L/Applications/SageMath/local/lib -L/Users/forets/.julia/v0.5/CDDLib/deps/usr/lib -L/Users/forets/.julia/v0.5/Homebrew/deps/usr/lib -lgmp  -g -O2 -Wl,-rpath -Wl,/Applications/SageMath/local/lib -Wl,-rpath -Wl,/Users/forets/.julia/v0.5/CDDLib/deps/usr/lib   -install_name  /Users/forets/.julia/v0.5/CDDLib/deps/usr/lib/libcdd.0.dylib -compatibility_version 1 -current_version 1.0 -Wl,-single_module\n",
      "libtool: link: (cd \".libs\" && rm -f \"libcdd.dylib\" && ln -s \"libcdd.0.dylib\" \"libcdd.dylib\")\n",
      "libtool: link: ar cru .libs/libcdd.a  cddstd.o cddcore.o cddlp.o cddmp.o cddio.o cddlib.o cddproj.o setoper.o\n",
      "libtool: link: ranlib .libs/libcdd.a\n",
      "libtool: link: ( cd \".libs\" && rm -f \"libcdd.la\" && ln -s \"../libcdd.la\" \"libcdd.la\" )\n",
      "Making all in src\n",
      "depbase=`echo simplecdd.o | sed 's|[^/]*$|.deps/&|;s|\\.o$||'`;\\\n",
      "\tgcc -DPACKAGE_NAME=\\\"cddlib\\\" -DPACKAGE_TARNAME=\\\"cddlib\\\" -DPACKAGE_VERSION=\\\"0.94\\\" -DPACKAGE_STRING=\\\"cddlib\\ 0.94\\\" -DPACKAGE_BUGREPORT=\\\"\\\" -DPACKAGE_URL=\\\"\\\" -DPACKAGE=\\\"cddlib\\\" -DVERSION=\\\"0.94\\\" -DSTDC_HEADERS=1 -DHAVE_SYS_TYPES_H=1 -DHAVE_SYS_STAT_H=1 -DHAVE_STDLIB_H=1 -DHAVE_STRING_H=1 -DHAVE_MEMORY_H=1 -DHAVE_STRINGS_H=1 -DHAVE_INTTYPES_H=1 -DHAVE_STDINT_H=1 -DHAVE_UNISTD_H=1 -DHAVE_DLFCN_H=1 -DLT_OBJDIR=\\\".libs/\\\" -DHAVE_LIBGMP=1 -DHAVE_LIMITS_H=1 -DHAVE_STDLIB_H=1 -DHAVE_STRING_H=1 -DHAVE_GMP_H=1 -DHAVE_STRCHR=1 -I. -I/Users/forets/.julia/v0.5/CDDLib/deps/src/cddlib-5ff766051042f3413c534af8ffcbbe00f66b3ab1/src  -I../lib-src -UGMPRATIONAL -DGMPRATIONAL -I/Users/forets/.julia/v0.5/CDDLib/deps/src/cddlib-5ff766051042f3413c534af8ffcbbe00f66b3ab1/lib-src -I/Users/forets/.julia/v0.5/CDDLib/deps/src/cddlib-5ff766051042f3413c534af8ffcbbe00f66b3ab1/lib-src-gmp -I/Users/forets/.julia/v0.5/Homebrew/deps/usr/include -UGMPRATIONAL -g -O2 -MT simplecdd.o -MD -MP -MF $depbase.Tpo -c -o simplecdd.o /Users/forets/.julia/v0.5/CDDLib/deps/src/cddlib-5ff766051042f3413c534af8ffcbbe00f66b3ab1/src/simplecdd.c &&\\\n",
      "\tmv -f $depbase.Tpo $depbase.Po\n",
      "depbase=`echo lcdd.o | sed 's|[^/]*$|.deps/&|;s|\\.o$||'`;\\\n",
      "\tgcc -DPACKAGE_NAME=\\\"cddlib\\\" -DPACKAGE_TARNAME=\\\"cddlib\\\" -DPACKAGE_VERSION=\\\"0.94\\\" -DPACKAGE_STRING=\\\"cddlib\\ 0.94\\\" -DPACKAGE_BUGREPORT=\\\"\\\" -DPACKAGE_URL=\\\"\\\" -DPACKAGE=\\\"cddlib\\\" -DVERSION=\\\"0.94\\\" -DSTDC_HEADERS=1 -DHAVE_SYS_TYPES_H=1 -DHAVE_SYS_STAT_H=1 -DHAVE_STDLIB_H=1 -DHAVE_STRING_H=1 -DHAVE_MEMORY_H=1 -DHAVE_STRINGS_H=1 -DHAVE_INTTYPES_H=1 -DHAVE_STDINT_H=1 -DHAVE_UNISTD_H=1 -DHAVE_DLFCN_H=1 -DLT_OBJDIR=\\\".libs/\\\" -DHAVE_LIBGMP=1 -DHAVE_LIMITS_H=1 -DHAVE_STDLIB_H=1 -DHAVE_STRING_H=1 -DHAVE_GMP_H=1 -DHAVE_STRCHR=1 -I. -I/Users/forets/.julia/v0.5/CDDLib/deps/src/cddlib-5ff766051042f3413c534af8ffcbbe00f66b3ab1/src  -I../lib-src -UGMPRATIONAL -DGMPRATIONAL -I/Users/forets/.julia/v0.5/CDDLib/deps/src/cddlib-5ff766051042f3413c534af8ffcbbe00f66b3ab1/lib-src -I/Users/forets/.julia/v0.5/CDDLib/deps/src/cddlib-5ff766051042f3413c534af8ffcbbe00f66b3ab1/lib-src-gmp -I/Users/forets/.julia/v0.5/Homebrew/deps/usr/include -UGMPRATIONAL -g -O2 -MT lcdd.o -MD -MP -MF $depbase.Tpo -c -o lcdd.o /Users/forets/.julia/v0.5/CDDLib/deps/src/cddlib-5ff766051042f3413c534af8ffcbbe00f66b3ab1/src/lcdd.c &&\\\n",
      "\tmv -f $depbase.Tpo $depbase.Po\n",
      "depbase=`echo redcheck.o | sed 's|[^/]*$|.deps/&|;s|\\.o$||'`;\\\n",
      "\tgcc -DPACKAGE_NAME=\\\"cddlib\\\" -DPACKAGE_TARNAME=\\\"cddlib\\\" -DPACKAGE_VERSION=\\\"0.94\\\" -DPACKAGE_STRING=\\\"cddlib\\ 0.94\\\" -DPACKAGE_BUGREPORT=\\\"\\\" -DPACKAGE_URL=\\\"\\\" -DPACKAGE=\\\"cddlib\\\" -DVERSION=\\\"0.94\\\" -DSTDC_HEADERS=1 -DHAVE_SYS_TYPES_H=1 -DHAVE_SYS_STAT_H=1 -DHAVE_STDLIB_H=1 -DHAVE_STRING_H=1 -DHAVE_MEMORY_H=1 -DHAVE_STRINGS_H=1 -DHAVE_INTTYPES_H=1 -DHAVE_STDINT_H=1 -DHAVE_UNISTD_H=1 -DHAVE_DLFCN_H=1 -DLT_OBJDIR=\\\".libs/\\\" -DHAVE_LIBGMP=1 -DHAVE_LIMITS_H=1 -DHAVE_STDLIB_H=1 -DHAVE_STRING_H=1 -DHAVE_GMP_H=1 -DHAVE_STRCHR=1 -I. -I/Users/forets/.julia/v0.5/CDDLib/deps/src/cddlib-5ff766051042f3413c534af8ffcbbe00f66b3ab1/src  -I../lib-src -UGMPRATIONAL -DGMPRATIONAL -I/Users/forets/.julia/v0.5/CDDLib/deps/src/cddlib-5ff766051042f3413c534af8ffcbbe00f66b3ab1/lib-src -I/Users/forets/.julia/v0.5/CDDLib/deps/src/cddlib-5ff766051042f3413c534af8ffcbbe00f66b3ab1/lib-src-gmp -I/Users/forets/.julia/v0.5/Homebrew/deps/usr/include -UGMPRATIONAL -g -O2 -MT redcheck.o -MD -MP -MF $depbase.Tpo -c -o redcheck.o /Users/forets/.julia/v0.5/CDDLib/deps/src/cddlib-5ff766051042f3413c534af8ffcbbe00f66b3ab1/src/redcheck.c &&\\\n",
      "\tmv -f $depbase.Tpo $depbase.Po\n",
      "depbase=`echo fourier.o | sed 's|[^/]*$|.deps/&|;s|\\.o$||'`;\\\n",
      "\tgcc -DPACKAGE_NAME=\\\"cddlib\\\" -DPACKAGE_TARNAME=\\\"cddlib\\\" -DPACKAGE_VERSION=\\\"0.94\\\" -DPACKAGE_STRING=\\\"cddlib\\ 0.94\\\" -DPACKAGE_BUGREPORT=\\\"\\\" -DPACKAGE_URL=\\\"\\\" -DPACKAGE=\\\"cddlib\\\" -DVERSION=\\\"0.94\\\" -DSTDC_HEADERS=1 -DHAVE_SYS_TYPES_H=1 -DHAVE_SYS_STAT_H=1 -DHAVE_STDLIB_H=1 -DHAVE_STRING_H=1 -DHAVE_MEMORY_H=1 -DHAVE_STRINGS_H=1 -DHAVE_INTTYPES_H=1 -DHAVE_STDINT_H=1 -DHAVE_UNISTD_H=1 -DHAVE_DLFCN_H=1 -DLT_OBJDIR=\\\".libs/\\\" -DHAVE_LIBGMP=1 -DHAVE_LIMITS_H=1 -DHAVE_STDLIB_H=1 -DHAVE_STRING_H=1 -DHAVE_GMP_H=1 -DHAVE_STRCHR=1 -I. -I/Users/forets/.julia/v0.5/CDDLib/deps/src/cddlib-5ff766051042f3413c534af8ffcbbe00f66b3ab1/src  -I../lib-src -UGMPRATIONAL -DGMPRATIONAL -I/Users/forets/.julia/v0.5/CDDLib/deps/src/cddlib-5ff766051042f3413c534af8ffcbbe00f66b3ab1/lib-src -I/Users/forets/.julia/v0.5/CDDLib/deps/src/cddlib-5ff766051042f3413c534af8ffcbbe00f66b3ab1/lib-src-gmp -I/Users/forets/.julia/v0.5/Homebrew/deps/usr/include -UGMPRATIONAL -g -O2 -MT fourier.o -MD -MP -MF $depbase.Tpo -c -o fourier.o /Users/forets/.julia/v0.5/CDDLib/deps/src/cddlib-5ff766051042f3413c534af8ffcbbe00f66b3ab1/src/fourier.c &&\\\n",
      "\tmv -f $depbase.Tpo $depbase.Po\n",
      "depbase=`echo projection.o | sed 's|[^/]*$|.deps/&|;s|\\.o$||'`;\\\n",
      "\tgcc -DPACKAGE_NAME=\\\"cddlib\\\" -DPACKAGE_TARNAME=\\\"cddlib\\\" -DPACKAGE_VERSION=\\\"0.94\\\" -DPACKAGE_STRING=\\\"cddlib\\ 0.94\\\" -DPACKAGE_BUGREPORT=\\\"\\\" -DPACKAGE_URL=\\\"\\\" -DPACKAGE=\\\"cddlib\\\" -DVERSION=\\\"0.94\\\" -DSTDC_HEADERS=1 -DHAVE_SYS_TYPES_H=1 -DHAVE_SYS_STAT_H=1 -DHAVE_STDLIB_H=1 -DHAVE_STRING_H=1 -DHAVE_MEMORY_H=1 -DHAVE_STRINGS_H=1 -DHAVE_INTTYPES_H=1 -DHAVE_STDINT_H=1 -DHAVE_UNISTD_H=1 -DHAVE_DLFCN_H=1 -DLT_OBJDIR=\\\".libs/\\\" -DHAVE_LIBGMP=1 -DHAVE_LIMITS_H=1 -DHAVE_STDLIB_H=1 -DHAVE_STRING_H=1 -DHAVE_GMP_H=1 -DHAVE_STRCHR=1 -I. -I/Users/forets/.julia/v0.5/CDDLib/deps/src/cddlib-5ff766051042f3413c534af8ffcbbe00f66b3ab1/src  -I../lib-src -UGMPRATIONAL -DGMPRATIONAL -I/Users/forets/.julia/v0.5/CDDLib/deps/src/cddlib-5ff766051042f3413c534af8ffcbbe00f66b3ab1/lib-src -I/Users/forets/.julia/v0.5/CDDLib/deps/src/cddlib-5ff766051042f3413c534af8ffcbbe00f66b3ab1/lib-src-gmp -I/Users/forets/.julia/v0.5/Homebrew/deps/usr/include -UGMPRATIONAL -g -O2 -MT projection.o -MD -MP -MF $depbase.Tpo -c -o projection.o /Users/forets/.julia/v0.5/CDDLib/deps/src/cddlib-5ff766051042f3413c534af8ffcbbe00f66b3ab1/src/projection.c &&\\\n",
      "\tmv -f $depbase.Tpo $depbase.Po\n",
      "depbase=`echo adjacency.o | sed 's|[^/]*$|.deps/&|;s|\\.o$||'`;\\\n",
      "\tgcc -DPACKAGE_NAME=\\\"cddlib\\\" -DPACKAGE_TARNAME=\\\"cddlib\\\" -DPACKAGE_VERSION=\\\"0.94\\\" -DPACKAGE_STRING=\\\"cddlib\\ 0.94\\\" -DPACKAGE_BUGREPORT=\\\"\\\" -DPACKAGE_URL=\\\"\\\" -DPACKAGE=\\\"cddlib\\\" -DVERSION=\\\"0.94\\\" -DSTDC_HEADERS=1 -DHAVE_SYS_TYPES_H=1 -DHAVE_SYS_STAT_H=1 -DHAVE_STDLIB_H=1 -DHAVE_STRING_H=1 -DHAVE_MEMORY_H=1 -DHAVE_STRINGS_H=1 -DHAVE_INTTYPES_H=1 -DHAVE_STDINT_H=1 -DHAVE_UNISTD_H=1 -DHAVE_DLFCN_H=1 -DLT_OBJDIR=\\\".libs/\\\" -DHAVE_LIBGMP=1 -DHAVE_LIMITS_H=1 -DHAVE_STDLIB_H=1 -DHAVE_STRING_H=1 -DHAVE_GMP_H=1 -DHAVE_STRCHR=1 -I. -I/Users/forets/.julia/v0.5/CDDLib/deps/src/cddlib-5ff766051042f3413c534af8ffcbbe00f66b3ab1/src  -I../lib-src -UGMPRATIONAL -DGMPRATIONAL -I/Users/forets/.julia/v0.5/CDDLib/deps/src/cddlib-5ff766051042f3413c534af8ffcbbe00f66b3ab1/lib-src -I/Users/forets/.julia/v0.5/CDDLib/deps/src/cddlib-5ff766051042f3413c534af8ffcbbe00f66b3ab1/lib-src-gmp -I/Users/forets/.julia/v0.5/Homebrew/deps/usr/include -UGMPRATIONAL -g -O2 -MT adjacency.o -MD -MP -MF $depbase.Tpo -c -o adjacency.o /Users/forets/.julia/v0.5/CDDLib/deps/src/cddlib-5ff766051042f3413c534af8ffcbbe00f66b3ab1/src/adjacency.c &&\\\n",
      "\tmv -f $depbase.Tpo $depbase.Po\n"
     ]
    },
    {
     "name": "stderr",
     "output_type": "stream",
     "text": [
      "ld: warning: directory not found for option '-L/Users/forets/.julia/v0.5/CDDLib/deps/usr/lib'\n"
     ]
    },
    {
     "name": "stdout",
     "output_type": "stream",
     "text": [
      "depbase=`echo allfaces.o | sed 's|[^/]*$|.deps/&|;s|\\.o$||'`;\\\n",
      "\tgcc -DPACKAGE_NAME=\\\"cddlib\\\" -DPACKAGE_TARNAME=\\\"cddlib\\\" -DPACKAGE_VERSION=\\\"0.94\\\" -DPACKAGE_STRING=\\\"cddlib\\ 0.94\\\" -DPACKAGE_BUGREPORT=\\\"\\\" -DPACKAGE_URL=\\\"\\\" -DPACKAGE=\\\"cddlib\\\" -DVERSION=\\\"0.94\\\" -DSTDC_HEADERS=1 -DHAVE_SYS_TYPES_H=1 -DHAVE_SYS_STAT_H=1 -DHAVE_STDLIB_H=1 -DHAVE_STRING_H=1 -DHAVE_MEMORY_H=1 -DHAVE_STRINGS_H=1 -DHAVE_INTTYPES_H=1 -DHAVE_STDINT_H=1 -DHAVE_UNISTD_H=1 -DHAVE_DLFCN_H=1 -DLT_OBJDIR=\\\".libs/\\\" -DHAVE_LIBGMP=1 -DHAVE_LIMITS_H=1 -DHAVE_STDLIB_H=1 -DHAVE_STRING_H=1 -DHAVE_GMP_H=1 -DHAVE_STRCHR=1 -I. -I/Users/forets/.julia/v0.5/CDDLib/deps/src/cddlib-5ff766051042f3413c534af8ffcbbe00f66b3ab1/src  -I../lib-src -UGMPRATIONAL -DGMPRATIONAL -I/Users/forets/.julia/v0.5/CDDLib/deps/src/cddlib-5ff766051042f3413c534af8ffcbbe00f66b3ab1/lib-src -I/Users/forets/.julia/v0.5/CDDLib/deps/src/cddlib-5ff766051042f3413c534af8ffcbbe00f66b3ab1/lib-src-gmp -I/Users/forets/.julia/v0.5/Homebrew/deps/usr/include -UGMPRATIONAL -g -O2 -MT allfaces.o -MD -MP -MF $depbase.Tpo -c -o allfaces.o /Users/forets/.julia/v0.5/CDDLib/deps/src/cddlib-5ff766051042f3413c534af8ffcbbe00f66b3ab1/src/allfaces.c &&\\\n",
      "\tmv -f $depbase.Tpo $depbase.Po\n",
      "depbase=`echo testcdd1.o | sed 's|[^/]*$|.deps/&|;s|\\.o$||'`;\\\n",
      "\tgcc -DPACKAGE_NAME=\\\"cddlib\\\" -DPACKAGE_TARNAME=\\\"cddlib\\\" -DPACKAGE_VERSION=\\\"0.94\\\" -DPACKAGE_STRING=\\\"cddlib\\ 0.94\\\" -DPACKAGE_BUGREPORT=\\\"\\\" -DPACKAGE_URL=\\\"\\\" -DPACKAGE=\\\"cddlib\\\" -DVERSION=\\\"0.94\\\" -DSTDC_HEADERS=1 -DHAVE_SYS_TYPES_H=1 -DHAVE_SYS_STAT_H=1 -DHAVE_STDLIB_H=1 -DHAVE_STRING_H=1 -DHAVE_MEMORY_H=1 -DHAVE_STRINGS_H=1 -DHAVE_INTTYPES_H=1 -DHAVE_STDINT_H=1 -DHAVE_UNISTD_H=1 -DHAVE_DLFCN_H=1 -DLT_OBJDIR=\\\".libs/\\\" -DHAVE_LIBGMP=1 -DHAVE_LIMITS_H=1 -DHAVE_STDLIB_H=1 -DHAVE_STRING_H=1 -DHAVE_GMP_H=1 -DHAVE_STRCHR=1 -I. -I/Users/forets/.julia/v0.5/CDDLib/deps/src/cddlib-5ff766051042f3413c534af8ffcbbe00f66b3ab1/src  -I../lib-src -UGMPRATIONAL -DGMPRATIONAL -I/Users/forets/.julia/v0.5/CDDLib/deps/src/cddlib-5ff766051042f3413c534af8ffcbbe00f66b3ab1/lib-src -I/Users/forets/.julia/v0.5/CDDLib/deps/src/cddlib-5ff766051042f3413c534af8ffcbbe00f66b3ab1/lib-src-gmp -I/Users/forets/.julia/v0.5/Homebrew/deps/usr/include -UGMPRATIONAL -g -O2 -MT testcdd1.o -MD -MP -MF $depbase.Tpo -c -o testcdd1.o /Users/forets/.julia/v0.5/CDDLib/deps/src/cddlib-5ff766051042f3413c534af8ffcbbe00f66b3ab1/src/testcdd1.c &&\\\n",
      "\tmv -f $depbase.Tpo $depbase.Po\n",
      "depbase=`echo testshoot.o | sed 's|[^/]*$|.deps/&|;s|\\.o$||'`;\\\n",
      "\tgcc -DPACKAGE_NAME=\\\"cddlib\\\" -DPACKAGE_TARNAME=\\\"cddlib\\\" -DPACKAGE_VERSION=\\\"0.94\\\" -DPACKAGE_STRING=\\\"cddlib\\ 0.94\\\" -DPACKAGE_BUGREPORT=\\\"\\\" -DPACKAGE_URL=\\\"\\\" -DPACKAGE=\\\"cddlib\\\" -DVERSION=\\\"0.94\\\" -DSTDC_HEADERS=1 -DHAVE_SYS_TYPES_H=1 -DHAVE_SYS_STAT_H=1 -DHAVE_STDLIB_H=1 -DHAVE_STRING_H=1 -DHAVE_MEMORY_H=1 -DHAVE_STRINGS_H=1 -DHAVE_INTTYPES_H=1 -DHAVE_STDINT_H=1 -DHAVE_UNISTD_H=1 -DHAVE_DLFCN_H=1 -DLT_OBJDIR=\\\".libs/\\\" -DHAVE_LIBGMP=1 -DHAVE_LIMITS_H=1 -DHAVE_STDLIB_H=1 -DHAVE_STRING_H=1 -DHAVE_GMP_H=1 -DHAVE_STRCHR=1 -I. -I/Users/forets/.julia/v0.5/CDDLib/deps/src/cddlib-5ff766051042f3413c534af8ffcbbe00f66b3ab1/src  -I../lib-src -UGMPRATIONAL -DGMPRATIONAL -I/Users/forets/.julia/v0.5/CDDLib/deps/src/cddlib-5ff766051042f3413c534af8ffcbbe00f66b3ab1/lib-src -I/Users/forets/.julia/v0.5/CDDLib/deps/src/cddlib-5ff766051042f3413c534af8ffcbbe00f66b3ab1/lib-src-gmp -I/Users/forets/.julia/v0.5/Homebrew/deps/usr/include -UGMPRATIONAL -g -O2 -MT testshoot.o -MD -MP -MF $depbase.Tpo -c -o testshoot.o /Users/forets/.julia/v0.5/CDDLib/deps/src/cddlib-5ff766051042f3413c534af8ffcbbe00f66b3ab1/src/testshoot.c &&\\\n",
      "\tmv -f $depbase.Tpo $depbase.Po\n",
      "depbase=`echo testcdd2.o | sed 's|[^/]*$|.deps/&|;s|\\.o$||'`;\\\n",
      "\tgcc -DPACKAGE_NAME=\\\"cddlib\\\" -DPACKAGE_TARNAME=\\\"cddlib\\\" -DPACKAGE_VERSION=\\\"0.94\\\" -DPACKAGE_STRING=\\\"cddlib\\ 0.94\\\" -DPACKAGE_BUGREPORT=\\\"\\\" -DPACKAGE_URL=\\\"\\\" -DPACKAGE=\\\"cddlib\\\" -DVERSION=\\\"0.94\\\" -DSTDC_HEADERS=1 -DHAVE_SYS_TYPES_H=1 -DHAVE_SYS_STAT_H=1 -DHAVE_STDLIB_H=1 -DHAVE_STRING_H=1 -DHAVE_MEMORY_H=1 -DHAVE_STRINGS_H=1 -DHAVE_INTTYPES_H=1 -DHAVE_STDINT_H=1 -DHAVE_UNISTD_H=1 -DHAVE_DLFCN_H=1 -DLT_OBJDIR=\\\".libs/\\\" -DHAVE_LIBGMP=1 -DHAVE_LIMITS_H=1 -DHAVE_STDLIB_H=1 -DHAVE_STRING_H=1 -DHAVE_GMP_H=1 -DHAVE_STRCHR=1 -I. -I/Users/forets/.julia/v0.5/CDDLib/deps/src/cddlib-5ff766051042f3413c534af8ffcbbe00f66b3ab1/src  -I../lib-src -UGMPRATIONAL -DGMPRATIONAL -I/Users/forets/.julia/v0.5/CDDLib/deps/src/cddlib-5ff766051042f3413c534af8ffcbbe00f66b3ab1/lib-src -I/Users/forets/.julia/v0.5/CDDLib/deps/src/cddlib-5ff766051042f3413c534af8ffcbbe00f66b3ab1/lib-src-gmp -I/Users/forets/.julia/v0.5/Homebrew/deps/usr/include -UGMPRATIONAL -g -O2 -MT testcdd2.o -MD -MP -MF $depbase.Tpo -c -o testcdd2.o /Users/forets/.julia/v0.5/CDDLib/deps/src/cddlib-5ff766051042f3413c534af8ffcbbe00f66b3ab1/src/testcdd2.c &&\\\n",
      "\tmv -f $depbase.Tpo $depbase.Po\n",
      "depbase=`echo testlp1.o | sed 's|[^/]*$|.deps/&|;s|\\.o$||'`;\\\n",
      "\tgcc -DPACKAGE_NAME=\\\"cddlib\\\" -DPACKAGE_TARNAME=\\\"cddlib\\\" -DPACKAGE_VERSION=\\\"0.94\\\" -DPACKAGE_STRING=\\\"cddlib\\ 0.94\\\" -DPACKAGE_BUGREPORT=\\\"\\\" -DPACKAGE_URL=\\\"\\\" -DPACKAGE=\\\"cddlib\\\" -DVERSION=\\\"0.94\\\" -DSTDC_HEADERS=1 -DHAVE_SYS_TYPES_H=1 -DHAVE_SYS_STAT_H=1 -DHAVE_STDLIB_H=1 -DHAVE_STRING_H=1 -DHAVE_MEMORY_H=1 -DHAVE_STRINGS_H=1 -DHAVE_INTTYPES_H=1 -DHAVE_STDINT_H=1 -DHAVE_UNISTD_H=1 -DHAVE_DLFCN_H=1 -DLT_OBJDIR=\\\".libs/\\\" -DHAVE_LIBGMP=1 -DHAVE_LIMITS_H=1 -DHAVE_STDLIB_H=1 -DHAVE_STRING_H=1 -DHAVE_GMP_H=1 -DHAVE_STRCHR=1 -I. -I/Users/forets/.julia/v0.5/CDDLib/deps/src/cddlib-5ff766051042f3413c534af8ffcbbe00f66b3ab1/src  -I../lib-src -UGMPRATIONAL -DGMPRATIONAL -I/Users/forets/.julia/v0.5/CDDLib/deps/src/cddlib-5ff766051042f3413c534af8ffcbbe00f66b3ab1/lib-src -I/Users/forets/.julia/v0.5/CDDLib/deps/src/cddlib-5ff766051042f3413c534af8ffcbbe00f66b3ab1/lib-src-gmp -I/Users/forets/.julia/v0.5/Homebrew/deps/usr/include -UGMPRATIONAL -g -O2 -MT testlp1.o -MD -MP -MF $depbase.Tpo -c -o testlp1.o /Users/forets/.julia/v0.5/CDDLib/deps/src/cddlib-5ff766051042f3413c534af8ffcbbe00f66b3ab1/src/testlp1.c &&\\\n",
      "\tmv -f $depbase.Tpo $depbase.Po\n",
      "depbase=`echo testlp2.o | sed 's|[^/]*$|.deps/&|;s|\\.o$||'`;\\\n",
      "\tgcc -DPACKAGE_NAME=\\\"cddlib\\\" -DPACKAGE_TARNAME=\\\"cddlib\\\" -DPACKAGE_VERSION=\\\"0.94\\\" -DPACKAGE_STRING=\\\"cddlib\\ 0.94\\\" -DPACKAGE_BUGREPORT=\\\"\\\" -DPACKAGE_URL=\\\"\\\" -DPACKAGE=\\\"cddlib\\\" -DVERSION=\\\"0.94\\\" -DSTDC_HEADERS=1 -DHAVE_SYS_TYPES_H=1 -DHAVE_SYS_STAT_H=1 -DHAVE_STDLIB_H=1 -DHAVE_STRING_H=1 -DHAVE_MEMORY_H=1 -DHAVE_STRINGS_H=1 -DHAVE_INTTYPES_H=1 -DHAVE_STDINT_H=1 -DHAVE_UNISTD_H=1 -DHAVE_DLFCN_H=1 -DLT_OBJDIR=\\\".libs/\\\" -DHAVE_LIBGMP=1 -DHAVE_LIMITS_H=1 -DHAVE_STDLIB_H=1 -DHAVE_STRING_H=1 -DHAVE_GMP_H=1 -DHAVE_STRCHR=1 -I. -I/Users/forets/.julia/v0.5/CDDLib/deps/src/cddlib-5ff766051042f3413c534af8ffcbbe00f66b3ab1/src  -I../lib-src -UGMPRATIONAL -DGMPRATIONAL -I/Users/forets/.julia/v0.5/CDDLib/deps/src/cddlib-5ff766051042f3413c534af8ffcbbe00f66b3ab1/lib-src -I/Users/forets/.julia/v0.5/CDDLib/deps/src/cddlib-5ff766051042f3413c534af8ffcbbe00f66b3ab1/lib-src-gmp -I/Users/forets/.julia/v0.5/Homebrew/deps/usr/include -UGMPRATIONAL -g -O2 -MT testlp2.o -MD -MP -MF $depbase.Tpo -c -o testlp2.o /Users/forets/.julia/v0.5/CDDLib/deps/src/cddlib-5ff766051042f3413c534af8ffcbbe00f66b3ab1/src/testlp2.c &&\\\n",
      "\tmv -f $depbase.Tpo $depbase.Po\n",
      "depbase=`echo testlp3.o | sed 's|[^/]*$|.deps/&|;s|\\.o$||'`;\\\n",
      "\tgcc -DPACKAGE_NAME=\\\"cddlib\\\" -DPACKAGE_TARNAME=\\\"cddlib\\\" -DPACKAGE_VERSION=\\\"0.94\\\" -DPACKAGE_STRING=\\\"cddlib\\ 0.94\\\" -DPACKAGE_BUGREPORT=\\\"\\\" -DPACKAGE_URL=\\\"\\\" -DPACKAGE=\\\"cddlib\\\" -DVERSION=\\\"0.94\\\" -DSTDC_HEADERS=1 -DHAVE_SYS_TYPES_H=1 -DHAVE_SYS_STAT_H=1 -DHAVE_STDLIB_H=1 -DHAVE_STRING_H=1 -DHAVE_MEMORY_H=1 -DHAVE_STRINGS_H=1 -DHAVE_INTTYPES_H=1 -DHAVE_STDINT_H=1 -DHAVE_UNISTD_H=1 -DHAVE_DLFCN_H=1 -DLT_OBJDIR=\\\".libs/\\\" -DHAVE_LIBGMP=1 -DHAVE_LIMITS_H=1 -DHAVE_STDLIB_H=1 -DHAVE_STRING_H=1 -DHAVE_GMP_H=1 -DHAVE_STRCHR=1 -I. -I/Users/forets/.julia/v0.5/CDDLib/deps/src/cddlib-5ff766051042f3413c534af8ffcbbe00f66b3ab1/src  -I../lib-src -UGMPRATIONAL -DGMPRATIONAL -I/Users/forets/.julia/v0.5/CDDLib/deps/src/cddlib-5ff766051042f3413c534af8ffcbbe00f66b3ab1/lib-src -I/Users/forets/.julia/v0.5/CDDLib/deps/src/cddlib-5ff766051042f3413c534af8ffcbbe00f66b3ab1/lib-src-gmp -I/Users/forets/.julia/v0.5/Homebrew/deps/usr/include -UGMPRATIONAL -g -O2 -MT testlp3.o -MD -MP -MF $depbase.Tpo -c -o testlp3.o /Users/forets/.julia/v0.5/CDDLib/deps/src/cddlib-5ff766051042f3413c534af8ffcbbe00f66b3ab1/src/testlp3.c &&\\\n",
      "\tmv -f $depbase.Tpo $depbase.Po\n",
      "/bin/sh ../libtool  --tag=CC   --mode=link gcc -UGMPRATIONAL -g -O2  -L/Applications/SageMath/local/lib -Wl,-rpath,/Applications/SageMath/local/lib  -L/Users/forets/.julia/v0.5/CDDLib/deps/usr/lib -L/Users/forets/.julia/v0.5/Homebrew/deps/usr/lib -Wl,-rpath -Wl,/Users/forets/.julia/v0.5/CDDLib/deps/usr/lib -o scdd simplecdd.o ../lib-src/libcdd.la -lgmp \n",
      "/bin/sh ../libtool  --tag=CC   --mode=link gcc -UGMPRATIONAL -g -O2  -L/Applications/SageMath/local/lib -Wl,-rpath,/Applications/SageMath/local/lib  -L/Users/forets/.julia/v0.5/CDDLib/deps/usr/lib -L/Users/forets/.julia/v0.5/Homebrew/deps/usr/lib -Wl,-rpath -Wl,/Users/forets/.julia/v0.5/CDDLib/deps/usr/lib -o lcdd lcdd.o ../lib-src/libcdd.la -lgmp \n",
      "/bin/sh ../libtool  --tag=CC   --mode=link gcc -UGMPRATIONAL -g -O2  -L/Applications/SageMath/local/lib -Wl,-rpath,/Applications/SageMath/local/lib  -L/Users/forets/.julia/v0.5/CDDLib/deps/usr/lib -L/Users/forets/.julia/v0.5/Homebrew/deps/usr/lib -Wl,-rpath -Wl,/Users/forets/.julia/v0.5/CDDLib/deps/usr/lib -o redcheck redcheck.o ../lib-src/libcdd.la -lgmp \n",
      "/bin/sh ../libtool  --tag=CC   --mode=link gcc -UGMPRATIONAL -g -O2  -L/Applications/SageMath/local/lib -Wl,-rpath,/Applications/SageMath/local/lib  -L/Users/forets/.julia/v0.5/CDDLib/deps/usr/lib -L/Users/forets/.julia/v0.5/Homebrew/deps/usr/lib -Wl,-rpath -Wl,/Users/forets/.julia/v0.5/CDDLib/deps/usr/lib -o fourier fourier.o ../lib-src/libcdd.la -lgmp \n",
      "/bin/sh ../libtool  --tag=CC   --mode=link gcc -UGMPRATIONAL -g -O2  -L/Applications/SageMath/local/lib -Wl,-rpath,/Applications/SageMath/local/lib  -L/Users/forets/.julia/v0.5/CDDLib/deps/usr/lib -L/Users/forets/.julia/v0.5/Homebrew/deps/usr/lib -Wl,-rpath -Wl,/Users/forets/.julia/v0.5/CDDLib/deps/usr/lib -o projection projection.o ../lib-src/libcdd.la -lgmp \n",
      "/bin/sh ../libtool  --tag=CC   --mode=link gcc -UGMPRATIONAL -g -O2  -L/Applications/SageMath/local/lib -Wl,-rpath,/Applications/SageMath/local/lib  -L/Users/forets/.julia/v0.5/CDDLib/deps/usr/lib -L/Users/forets/.julia/v0.5/Homebrew/deps/usr/lib -Wl,-rpath -Wl,/Users/forets/.julia/v0.5/CDDLib/deps/usr/lib -o adjacency adjacency.o ../lib-src/libcdd.la -lgmp \n",
      "/bin/sh ../libtool  --tag=CC   --mode=link gcc -UGMPRATIONAL -g -O2  -L/Applications/SageMath/local/lib -Wl,-rpath,/Applications/SageMath/local/lib  -L/Users/forets/.julia/v0.5/CDDLib/deps/usr/lib -L/Users/forets/.julia/v0.5/Homebrew/deps/usr/lib -Wl,-rpath -Wl,/Users/forets/.julia/v0.5/CDDLib/deps/usr/lib -o allfaces allfaces.o ../lib-src/libcdd.la -lgmp \n",
      "/bin/sh ../libtool  --tag=CC   --mode=link gcc -UGMPRATIONAL -g -O2  -L/Applications/SageMath/local/lib -Wl,-rpath,/Applications/SageMath/local/lib  -L/Users/forets/.julia/v0.5/CDDLib/deps/usr/lib -L/Users/forets/.julia/v0.5/Homebrew/deps/usr/lib -Wl,-rpath -Wl,/Users/forets/.julia/v0.5/CDDLib/deps/usr/lib -o testcdd1 testcdd1.o ../lib-src/libcdd.la -lgmp \n",
      "libtool: link: gcc -UGMPRATIONAL -g -O2 -Wl,-rpath -Wl,/Applications/SageMath/local/lib -Wl,-rpath -Wl,/Users/forets/.julia/v0.5/CDDLib/deps/usr/lib -o .libs/scdd simplecdd.o  -L/Applications/SageMath/local/lib -L/Users/forets/.julia/v0.5/CDDLib/deps/usr/lib -L/Users/forets/.julia/v0.5/Homebrew/deps/usr/lib ../lib-src/.libs/libcdd.dylib -lgmp\n",
      "libtool: link: gcc -UGMPRATIONAL -g -O2 -Wl,-rpath -Wl,/Applications/SageMath/local/lib -Wl,-rpath -Wl,/Users/forets/.julia/v0.5/CDDLib/deps/usr/lib -o .libs/lcdd lcdd.o  -L/Applications/SageMath/local/lib -L/Users/forets/.julia/v0.5/CDDLib/deps/usr/lib -L/Users/forets/.julia/v0.5/Homebrew/deps/usr/lib ../lib-src/.libs/libcdd.dylib -lgmp\n",
      "libtool: link: gcc -UGMPRATIONAL -g -O2 -Wl,-rpath -Wl,/Applications/SageMath/local/lib -Wl,-rpath -Wl,/Users/forets/.julia/v0.5/CDDLib/deps/usr/lib -o .libs/redcheck redcheck.o  -L/Applications/SageMath/local/lib -L/Users/forets/.julia/v0.5/CDDLib/deps/usr/lib -L/Users/forets/.julia/v0.5/Homebrew/deps/usr/lib ../lib-src/.libs/libcdd.dylib -lgmp\n",
      "/bin/sh ../libtool  --tag=CC   --mode=link gcc -UGMPRATIONAL -g -O2  -L/Applications/SageMath/local/lib -Wl,-rpath,/Applications/SageMath/local/lib  -L/Users/forets/.julia/v0.5/CDDLib/deps/usr/lib -L/Users/forets/.julia/v0.5/Homebrew/deps/usr/lib -Wl,-rpath -Wl,/Users/forets/.julia/v0.5/CDDLib/deps/usr/lib -o testshoot testshoot.o ../lib-src/libcdd.la -lgmp \n",
      "/bin/sh ../libtool  --tag=CC   --mode=link gcc -UGMPRATIONAL -g -O2  -L/Applications/SageMath/local/lib -Wl,-rpath,/Applications/SageMath/local/lib  -L/Users/forets/.julia/v0.5/CDDLib/deps/usr/lib -L/Users/forets/.julia/v0.5/Homebrew/deps/usr/lib -Wl,-rpath -Wl,/Users/forets/.julia/v0.5/CDDLib/deps/usr/lib -o testcdd2 testcdd2.o ../lib-src/libcdd.la -lgmp \n",
      "/bin/sh ../libtool  --tag=CC   --mode=link gcc -UGMPRATIONAL -g -O2  -L/Applications/SageMath/local/lib -Wl,-rpath,/Applications/SageMath/local/lib  -L/Users/forets/.julia/v0.5/CDDLib/deps/usr/lib -L/Users/forets/.julia/v0.5/Homebrew/deps/usr/lib -Wl,-rpath -Wl,/Users/forets/.julia/v0.5/CDDLib/deps/usr/lib -o testlp1 testlp1.o ../lib-src/libcdd.la -lgmp \n"
     ]
    },
    {
     "name": "stderr",
     "output_type": "stream",
     "text": [
      "ldld::  warningwarning::  directorydirectory  notnot  foundfound  forfor  optionoption  ''--LL//UsersUsers//foretsforets//..juliajulia//v0.5v0.5//CDDLibCDDLib//depsdeps//usrusr//liblib''\n",
      "\n",
      "ld: warning: directory not found for option '-L/Users/forets/.julia/v0.5/CDDLib/deps/usr/lib'\n"
     ]
    },
    {
     "name": "stdout",
     "output_type": "stream",
     "text": [
      "libtool: link: gcc -UGMPRATIONAL -g -O2 -Wl,-rpath -Wl,/Applications/SageMath/local/lib -Wl,-rpath -Wl,/Users/forets/.julia/v0.5/CDDLib/deps/usr/lib -o .libs/fourier fourier.o  -L/Applications/SageMath/local/lib -L/Users/forets/.julia/v0.5/CDDLib/deps/usr/lib -L/Users/forets/.julia/v0.5/Homebrew/deps/usr/lib ../lib-src/.libs/libcdd.dylib -lgmp\n",
      "libtool: link: gcc -UGMPRATIONAL -g -O2 -Wl,-rpath -Wl,/Applications/SageMath/local/lib -Wl,-rpath -Wl,/Users/forets/.julia/v0.5/CDDLib/deps/usr/lib -o .libs/projection projection.o  -L/Applications/SageMath/local/lib -L/Users/forets/.julia/v0.5/CDDLib/deps/usr/lib -L/Users/forets/.julia/v0.5/Homebrew/deps/usr/lib ../lib-src/.libs/libcdd.dylib -lgmp\n",
      "libtool: link: gcc -UGMPRATIONAL -g -O2 -Wl,-rpath -Wl,/Applications/SageMath/local/lib -Wl,-rpath -Wl,/Users/forets/.julia/v0.5/CDDLib/deps/usr/lib -o .libs/adjacency adjacency.o  -L/Applications/SageMath/local/lib -L/Users/forets/.julia/v0.5/CDDLib/deps/usr/lib -L/Users/forets/.julia/v0.5/Homebrew/deps/usr/lib ../lib-src/.libs/libcdd.dylib -lgmp\n",
      "libtool: link: gcc -UGMPRATIONAL -g -O2 -Wl,-rpath -Wl,/Applications/SageMath/local/lib -Wl,-rpath -Wl,/Users/forets/.julia/v0.5/CDDLib/deps/usr/lib -o .libs/allfaces allfaces.o  -L/Applications/SageMath/local/lib -L/Users/forets/.julia/v0.5/CDDLib/deps/usr/lib -L/Users/forets/.julia/v0.5/Homebrew/deps/usr/lib ../lib-src/.libs/libcdd.dylib -lgmp\n",
      "libtool: link: gcc -UGMPRATIONAL -g -O2 -Wl,-rpath -Wl,/Applications/SageMath/local/lib -Wl,-rpath -Wl,/Users/forets/.julia/v0.5/CDDLib/deps/usr/lib -o .libs/testcdd1 testcdd1.o  -L/Applications/SageMath/local/lib -L/Users/forets/.julia/v0.5/CDDLib/deps/usr/lib -L/Users/forets/.julia/v0.5/Homebrew/deps/usr/lib ../lib-src/.libs/libcdd.dylib -lgmp\n",
      "/bin/sh ../libtool  --tag=CC   --mode=link gcc -UGMPRATIONAL -g -O2  -L/Applications/SageMath/local/lib -Wl,-rpath,/Applications/SageMath/local/lib  -L/Users/forets/.julia/v0.5/CDDLib/deps/usr/lib -L/Users/forets/.julia/v0.5/Homebrew/deps/usr/lib -Wl,-rpath -Wl,/Users/forets/.julia/v0.5/CDDLib/deps/usr/lib -o testlp2 testlp2.o ../lib-src/libcdd.la -lgmp \n",
      "/bin/sh ../libtool  --tag=CC   --mode=link gcc -UGMPRATIONAL -g -O2  -L/Applications/SageMath/local/lib -Wl,-rpath,/Applications/SageMath/local/lib  -L/Users/forets/.julia/v0.5/CDDLib/deps/usr/lib -L/Users/forets/.julia/v0.5/Homebrew/deps/usr/lib -Wl,-rpath -Wl,/Users/forets/.julia/v0.5/CDDLib/deps/usr/lib -o testlp3 testlp3.o ../lib-src/libcdd.la -lgmp \n"
     ]
    },
    {
     "name": "stderr",
     "output_type": "stream",
     "text": [
      "ld: warning: directory not found for option '-L/Users/forets/.julia/v0.5/CDDLib/deps/usr/lib'\n",
      "ld: warning: directory not found for option '-L/Users/forets/.julia/v0.5/CDDLib/deps/usr/lib'\n",
      "ld: warning: directory not found for option '-L/Users/forets/.julia/v0.5/CDDLib/deps/usr/lib'\n",
      "ld: warning: directory not found for option '-L/Users/forets/.julia/v0.5/CDDLib/deps/usr/lib'\n",
      "ld: warning: directory not found for option '-L/Users/forets/.julia/v0.5/CDDLib/deps/usr/lib'\n"
     ]
    },
    {
     "name": "stdout",
     "output_type": "stream",
     "text": [
      "libtool: link: gcc -UGMPRATIONAL -g -O2 -Wl,-rpath -Wl,/Applications/SageMath/local/lib -Wl,-rpath -Wl,/Users/forets/.julia/v0.5/CDDLib/deps/usr/lib -o .libs/testshoot testshoot.o  -L/Applications/SageMath/local/lib -L/Users/forets/.julia/v0.5/CDDLib/deps/usr/lib -L/Users/forets/.julia/v0.5/Homebrew/deps/usr/lib ../lib-src/.libs/libcdd.dylib -lgmp\n",
      "libtool: link: gcc -UGMPRATIONAL -g -O2 -Wl,-rpath -Wl,/Applications/SageMath/local/lib -Wl,-rpath -Wl,/Users/forets/.julia/v0.5/CDDLib/deps/usr/lib -o .libs/testcdd2 testcdd2.o  -L/Applications/SageMath/local/lib -L/Users/forets/.julia/v0.5/CDDLib/deps/usr/lib -L/Users/forets/.julia/v0.5/Homebrew/deps/usr/lib ../lib-src/.libs/libcdd.dylib -lgmp\n",
      "libtool: link: gcc -UGMPRATIONAL -g -O2 -Wl,-rpath -Wl,/Applications/SageMath/local/lib -Wl,-rpath -Wl,/Users/forets/.julia/v0.5/CDDLib/deps/usr/lib -o .libs/testlp1 testlp1.o  -L/Applications/SageMath/local/lib -L/Users/forets/.julia/v0.5/CDDLib/deps/usr/lib -L/Users/forets/.julia/v0.5/Homebrew/deps/usr/lib ../lib-src/.libs/libcdd.dylib -lgmp\n",
      "libtool: link: gcc -UGMPRATIONAL -g -O2 -Wl,-rpath -Wl,/Applications/SageMath/local/lib -Wl,-rpath -Wl,/Users/forets/.julia/v0.5/CDDLib/deps/usr/lib -o .libs/testlp3 testlp3.o  -L/Applications/SageMath/local/lib -L/Users/forets/.julia/v0.5/CDDLib/deps/usr/lib -L/Users/forets/.julia/v0.5/Homebrew/deps/usr/lib ../lib-src/.libs/libcdd.dylib -lgmp\n",
      "libtool: link: gcc -UGMPRATIONAL -g -O2 -Wl,-rpath -Wl,/Applications/SageMath/local/lib -Wl,-rpath -Wl,/Users/forets/.julia/v0.5/CDDLib/deps/usr/lib -o .libs/testlp2 testlp2.o  -L/Applications/SageMath/local/lib -L/Users/forets/.julia/v0.5/CDDLib/deps/usr/lib -L/Users/forets/.julia/v0.5/Homebrew/deps/usr/lib ../lib-src/.libs/libcdd.dylib -lgmp\n"
     ]
    },
    {
     "name": "stderr",
     "output_type": "stream",
     "text": [
      "ld: warning: directory not found for option 'ld-L/:Users/forets/ .julia/v0.5/warningCDDLib:/ depsdirectory not found for option '-L/Users/forets/.julia/v0.5/CDDLib/deps/usr/usr/lib'\n",
      "/lib'\n",
      "ld: warning: directory not found for option '-L/Users/forets/.julia/v0.5/CDDLib/deps/usr/lib'\n"
     ]
    },
    {
     "name": "stdout",
     "output_type": "stream",
     "text": [
      "Making all in lib-src-gmp\n",
      "depbase=`echo cddstd.lo | sed 's|[^/]*$|.deps/&|;s|\\.lo$||'`;\\\n",
      "\t/bin/sh ../libtool  --tag=CC   --mode=compile gcc -DPACKAGE_NAME=\\\"cddlib\\\" -DPACKAGE_TARNAME=\\\"cddlib\\\" -DPACKAGE_VERSION=\\\"0.94\\\" -DPACKAGE_STRING=\\\"cddlib\\ 0.94\\\" -DPACKAGE_BUGREPORT=\\\"\\\" -DPACKAGE_URL=\\\"\\\" -DPACKAGE=\\\"cddlib\\\" -DVERSION=\\\"0.94\\\" -DSTDC_HEADERS=1 -DHAVE_SYS_TYPES_H=1 -DHAVE_SYS_STAT_H=1 -DHAVE_STDLIB_H=1 -DHAVE_STRING_H=1 -DHAVE_MEMORY_H=1 -DHAVE_STRINGS_H=1 -DHAVE_INTTYPES_H=1 -DHAVE_STDINT_H=1 -DHAVE_UNISTD_H=1 -DHAVE_DLFCN_H=1 -DLT_OBJDIR=\\\".libs/\\\" -DHAVE_LIBGMP=1 -DHAVE_LIMITS_H=1 -DHAVE_STDLIB_H=1 -DHAVE_STRING_H=1 -DHAVE_GMP_H=1 -DHAVE_STRCHR=1 -I. -I/Users/forets/.julia/v0.5/CDDLib/deps/src/cddlib-5ff766051042f3413c534af8ffcbbe00f66b3ab1/lib-src-gmp  -I/usr/local/include -DGMPRATIONAL -DGMPRATIONAL -I/Users/forets/.julia/v0.5/CDDLib/deps/src/cddlib-5ff766051042f3413c534af8ffcbbe00f66b3ab1/lib-src -I/Users/forets/.julia/v0.5/CDDLib/deps/src/cddlib-5ff766051042f3413c534af8ffcbbe00f66b3ab1/lib-src-gmp -I/Users/forets/.julia/v0.5/Homebrew/deps/usr/include  -g -O2 -MT cddstd.lo -MD -MP -MF $depbase.Tpo -c -o cddstd.lo /Users/forets/.julia/v0.5/CDDLib/deps/src/cddlib-5ff766051042f3413c534af8ffcbbe00f66b3ab1/lib-src-gmp/cddstd.c &&\\\n",
      "\tmv -f $depbase.Tpo $depbase.Plo\n",
      "depbase=`echo cddcore.lo | sed 's|[^/]*$|.deps/&|;s|\\.lo$||'`;\\\n",
      "\t/bin/sh ../libtool  --tag=CC   --mode=compile gcc -DPACKAGE_NAME=\\\"cddlib\\\" -DPACKAGE_TARNAME=\\\"cddlib\\\" -DPACKAGE_VERSION=\\\"0.94\\\" -DPACKAGE_STRING=\\\"cddlib\\ 0.94\\\" -DPACKAGE_BUGREPORT=\\\"\\\" -DPACKAGE_URL=\\\"\\\" -DPACKAGE=\\\"cddlib\\\" -DVERSION=\\\"0.94\\\" -DSTDC_HEADERS=1 -DHAVE_SYS_TYPES_H=1 -DHAVE_SYS_STAT_H=1 -DHAVE_STDLIB_H=1 -DHAVE_STRING_H=1 -DHAVE_MEMORY_H=1 -DHAVE_STRINGS_H=1 -DHAVE_INTTYPES_H=1 -DHAVE_STDINT_H=1 -DHAVE_UNISTD_H=1 -DHAVE_DLFCN_H=1 -DLT_OBJDIR=\\\".libs/\\\" -DHAVE_LIBGMP=1 -DHAVE_LIMITS_H=1 -DHAVE_STDLIB_H=1 -DHAVE_STRING_H=1 -DHAVE_GMP_H=1 -DHAVE_STRCHR=1 -I. -I/Users/forets/.julia/v0.5/CDDLib/deps/src/cddlib-5ff766051042f3413c534af8ffcbbe00f66b3ab1/lib-src-gmp  -I/usr/local/include -DGMPRATIONAL -DGMPRATIONAL -I/Users/forets/.julia/v0.5/CDDLib/deps/src/cddlib-5ff766051042f3413c534af8ffcbbe00f66b3ab1/lib-src -I/Users/forets/.julia/v0.5/CDDLib/deps/src/cddlib-5ff766051042f3413c534af8ffcbbe00f66b3ab1/lib-src-gmp -I/Users/forets/.julia/v0.5/Homebrew/deps/usr/include  -g -O2 -MT cddcore.lo -MD -MP -MF $depbase.Tpo -c -o cddcore.lo /Users/forets/.julia/v0.5/CDDLib/deps/src/cddlib-5ff766051042f3413c534af8ffcbbe00f66b3ab1/lib-src-gmp/cddcore.c &&\\\n",
      "\tmv -f $depbase.Tpo $depbase.Plo\n",
      "depbase=`echo cddlp.lo | sed 's|[^/]*$|.deps/&|;s|\\.lo$||'`;\\\n",
      "\t/bin/sh ../libtool  --tag=CC   --mode=compile gcc -DPACKAGE_NAME=\\\"cddlib\\\" -DPACKAGE_TARNAME=\\\"cddlib\\\" -DPACKAGE_VERSION=\\\"0.94\\\" -DPACKAGE_STRING=\\\"cddlib\\ 0.94\\\" -DPACKAGE_BUGREPORT=\\\"\\\" -DPACKAGE_URL=\\\"\\\" -DPACKAGE=\\\"cddlib\\\" -DVERSION=\\\"0.94\\\" -DSTDC_HEADERS=1 -DHAVE_SYS_TYPES_H=1 -DHAVE_SYS_STAT_H=1 -DHAVE_STDLIB_H=1 -DHAVE_STRING_H=1 -DHAVE_MEMORY_H=1 -DHAVE_STRINGS_H=1 -DHAVE_INTTYPES_H=1 -DHAVE_STDINT_H=1 -DHAVE_UNISTD_H=1 -DHAVE_DLFCN_H=1 -DLT_OBJDIR=\\\".libs/\\\" -DHAVE_LIBGMP=1 -DHAVE_LIMITS_H=1 -DHAVE_STDLIB_H=1 -DHAVE_STRING_H=1 -DHAVE_GMP_H=1 -DHAVE_STRCHR=1 -I. -I/Users/forets/.julia/v0.5/CDDLib/deps/src/cddlib-5ff766051042f3413c534af8ffcbbe00f66b3ab1/lib-src-gmp  -I/usr/local/include -DGMPRATIONAL -DGMPRATIONAL -I/Users/forets/.julia/v0.5/CDDLib/deps/src/cddlib-5ff766051042f3413c534af8ffcbbe00f66b3ab1/lib-src -I/Users/forets/.julia/v0.5/CDDLib/deps/src/cddlib-5ff766051042f3413c534af8ffcbbe00f66b3ab1/lib-src-gmp -I/Users/forets/.julia/v0.5/Homebrew/deps/usr/include  -g -O2 -MT cddlp.lo -MD -MP -MF $depbase.Tpo -c -o cddlp.lo /Users/forets/.julia/v0.5/CDDLib/deps/src/cddlib-5ff766051042f3413c534af8ffcbbe00f66b3ab1/lib-src-gmp/cddlp.c &&\\\n",
      "\tmv -f $depbase.Tpo $depbase.Plo\n",
      "depbase=`echo cddmp.lo | sed 's|[^/]*$|.deps/&|;s|\\.lo$||'`;\\\n",
      "\t/bin/sh ../libtool  --tag=CC   --mode=compile gcc -DPACKAGE_NAME=\\\"cddlib\\\" -DPACKAGE_TARNAME=\\\"cddlib\\\" -DPACKAGE_VERSION=\\\"0.94\\\" -DPACKAGE_STRING=\\\"cddlib\\ 0.94\\\" -DPACKAGE_BUGREPORT=\\\"\\\" -DPACKAGE_URL=\\\"\\\" -DPACKAGE=\\\"cddlib\\\" -DVERSION=\\\"0.94\\\" -DSTDC_HEADERS=1 -DHAVE_SYS_TYPES_H=1 -DHAVE_SYS_STAT_H=1 -DHAVE_STDLIB_H=1 -DHAVE_STRING_H=1 -DHAVE_MEMORY_H=1 -DHAVE_STRINGS_H=1 -DHAVE_INTTYPES_H=1 -DHAVE_STDINT_H=1 -DHAVE_UNISTD_H=1 -DHAVE_DLFCN_H=1 -DLT_OBJDIR=\\\".libs/\\\" -DHAVE_LIBGMP=1 -DHAVE_LIMITS_H=1 -DHAVE_STDLIB_H=1 -DHAVE_STRING_H=1 -DHAVE_GMP_H=1 -DHAVE_STRCHR=1 -I. -I/Users/forets/.julia/v0.5/CDDLib/deps/src/cddlib-5ff766051042f3413c534af8ffcbbe00f66b3ab1/lib-src-gmp  -I/usr/local/include -DGMPRATIONAL -DGMPRATIONAL -I/Users/forets/.julia/v0.5/CDDLib/deps/src/cddlib-5ff766051042f3413c534af8ffcbbe00f66b3ab1/lib-src -I/Users/forets/.julia/v0.5/CDDLib/deps/src/cddlib-5ff766051042f3413c534af8ffcbbe00f66b3ab1/lib-src-gmp -I/Users/forets/.julia/v0.5/Homebrew/deps/usr/include  -g -O2 -MT cddmp.lo -MD -MP -MF $depbase.Tpo -c -o cddmp.lo /Users/forets/.julia/v0.5/CDDLib/deps/src/cddlib-5ff766051042f3413c534af8ffcbbe00f66b3ab1/lib-src-gmp/cddmp.c &&\\\n",
      "\tmv -f $depbase.Tpo $depbase.Plo\n",
      "depbase=`echo cddio.lo | sed 's|[^/]*$|.deps/&|;s|\\.lo$||'`;\\\n",
      "\t/bin/sh ../libtool  --tag=CC   --mode=compile gcc -DPACKAGE_NAME=\\\"cddlib\\\" -DPACKAGE_TARNAME=\\\"cddlib\\\" -DPACKAGE_VERSION=\\\"0.94\\\" -DPACKAGE_STRING=\\\"cddlib\\ 0.94\\\" -DPACKAGE_BUGREPORT=\\\"\\\" -DPACKAGE_URL=\\\"\\\" -DPACKAGE=\\\"cddlib\\\" -DVERSION=\\\"0.94\\\" -DSTDC_HEADERS=1 -DHAVE_SYS_TYPES_H=1 -DHAVE_SYS_STAT_H=1 -DHAVE_STDLIB_H=1 -DHAVE_STRING_H=1 -DHAVE_MEMORY_H=1 -DHAVE_STRINGS_H=1 -DHAVE_INTTYPES_H=1 -DHAVE_STDINT_H=1 -DHAVE_UNISTD_H=1 -DHAVE_DLFCN_H=1 -DLT_OBJDIR=\\\".libs/\\\" -DHAVE_LIBGMP=1 -DHAVE_LIMITS_H=1 -DHAVE_STDLIB_H=1 -DHAVE_STRING_H=1 -DHAVE_GMP_H=1 -DHAVE_STRCHR=1 -I. -I/Users/forets/.julia/v0.5/CDDLib/deps/src/cddlib-5ff766051042f3413c534af8ffcbbe00f66b3ab1/lib-src-gmp  -I/usr/local/include -DGMPRATIONAL -DGMPRATIONAL -I/Users/forets/.julia/v0.5/CDDLib/deps/src/cddlib-5ff766051042f3413c534af8ffcbbe00f66b3ab1/lib-src -I/Users/forets/.julia/v0.5/CDDLib/deps/src/cddlib-5ff766051042f3413c534af8ffcbbe00f66b3ab1/lib-src-gmp -I/Users/forets/.julia/v0.5/Homebrew/deps/usr/include  -g -O2 -MT cddio.lo -MD -MP -MF $depbase.Tpo -c -o cddio.lo /Users/forets/.julia/v0.5/CDDLib/deps/src/cddlib-5ff766051042f3413c534af8ffcbbe00f66b3ab1/lib-src-gmp/cddio.c &&\\\n",
      "\tmv -f $depbase.Tpo $depbase.Plo\n",
      "depbase=`echo cddlib.lo | sed 's|[^/]*$|.deps/&|;s|\\.lo$||'`;\\\n",
      "\t/bin/sh ../libtool  --tag=CC   --mode=compile gcc -DPACKAGE_NAME=\\\"cddlib\\\" -DPACKAGE_TARNAME=\\\"cddlib\\\" -DPACKAGE_VERSION=\\\"0.94\\\" -DPACKAGE_STRING=\\\"cddlib\\ 0.94\\\" -DPACKAGE_BUGREPORT=\\\"\\\" -DPACKAGE_URL=\\\"\\\" -DPACKAGE=\\\"cddlib\\\" -DVERSION=\\\"0.94\\\" -DSTDC_HEADERS=1 -DHAVE_SYS_TYPES_H=1 -DHAVE_SYS_STAT_H=1 -DHAVE_STDLIB_H=1 -DHAVE_STRING_H=1 -DHAVE_MEMORY_H=1 -DHAVE_STRINGS_H=1 -DHAVE_INTTYPES_H=1 -DHAVE_STDINT_H=1 -DHAVE_UNISTD_H=1 -DHAVE_DLFCN_H=1 -DLT_OBJDIR=\\\".libs/\\\" -DHAVE_LIBGMP=1 -DHAVE_LIMITS_H=1 -DHAVE_STDLIB_H=1 -DHAVE_STRING_H=1 -DHAVE_GMP_H=1 -DHAVE_STRCHR=1 -I. -I/Users/forets/.julia/v0.5/CDDLib/deps/src/cddlib-5ff766051042f3413c534af8ffcbbe00f66b3ab1/lib-src-gmp  -I/usr/local/include -DGMPRATIONAL -DGMPRATIONAL -I/Users/forets/.julia/v0.5/CDDLib/deps/src/cddlib-5ff766051042f3413c534af8ffcbbe00f66b3ab1/lib-src -I/Users/forets/.julia/v0.5/CDDLib/deps/src/cddlib-5ff766051042f3413c534af8ffcbbe00f66b3ab1/lib-src-gmp -I/Users/forets/.julia/v0.5/Homebrew/deps/usr/include  -g -O2 -MT cddlib.lo -MD -MP -MF $depbase.Tpo -c -o cddlib.lo /Users/forets/.julia/v0.5/CDDLib/deps/src/cddlib-5ff766051042f3413c534af8ffcbbe00f66b3ab1/lib-src-gmp/cddlib.c &&\\\n",
      "\tmv -f $depbase.Tpo $depbase.Plo\n",
      "depbase=`echo cddproj.lo | sed 's|[^/]*$|.deps/&|;s|\\.lo$||'`;\\\n",
      "\t/bin/sh ../libtool  --tag=CC   --mode=compile gcc -DPACKAGE_NAME=\\\"cddlib\\\" -DPACKAGE_TARNAME=\\\"cddlib\\\" -DPACKAGE_VERSION=\\\"0.94\\\" -DPACKAGE_STRING=\\\"cddlib\\ 0.94\\\" -DPACKAGE_BUGREPORT=\\\"\\\" -DPACKAGE_URL=\\\"\\\" -DPACKAGE=\\\"cddlib\\\" -DVERSION=\\\"0.94\\\" -DSTDC_HEADERS=1 -DHAVE_SYS_TYPES_H=1 -DHAVE_SYS_STAT_H=1 -DHAVE_STDLIB_H=1 -DHAVE_STRING_H=1 -DHAVE_MEMORY_H=1 -DHAVE_STRINGS_H=1 -DHAVE_INTTYPES_H=1 -DHAVE_STDINT_H=1 -DHAVE_UNISTD_H=1 -DHAVE_DLFCN_H=1 -DLT_OBJDIR=\\\".libs/\\\" -DHAVE_LIBGMP=1 -DHAVE_LIMITS_H=1 -DHAVE_STDLIB_H=1 -DHAVE_STRING_H=1 -DHAVE_GMP_H=1 -DHAVE_STRCHR=1 -I. -I/Users/forets/.julia/v0.5/CDDLib/deps/src/cddlib-5ff766051042f3413c534af8ffcbbe00f66b3ab1/lib-src-gmp  -I/usr/local/include -DGMPRATIONAL -DGMPRATIONAL -I/Users/forets/.julia/v0.5/CDDLib/deps/src/cddlib-5ff766051042f3413c534af8ffcbbe00f66b3ab1/lib-src -I/Users/forets/.julia/v0.5/CDDLib/deps/src/cddlib-5ff766051042f3413c534af8ffcbbe00f66b3ab1/lib-src-gmp -I/Users/forets/.julia/v0.5/Homebrew/deps/usr/include  -g -O2 -MT cddproj.lo -MD -MP -MF $depbase.Tpo -c -o cddproj.lo /Users/forets/.julia/v0.5/CDDLib/deps/src/cddlib-5ff766051042f3413c534af8ffcbbe00f66b3ab1/lib-src-gmp/cddproj.c &&\\\n",
      "\tmv -f $depbase.Tpo $depbase.Plo\n",
      "depbase=`echo cddstd_f.lo | sed 's|[^/]*$|.deps/&|;s|\\.lo$||'`;\\\n",
      "\t/bin/sh ../libtool  --tag=CC   --mode=compile gcc -DPACKAGE_NAME=\\\"cddlib\\\" -DPACKAGE_TARNAME=\\\"cddlib\\\" -DPACKAGE_VERSION=\\\"0.94\\\" -DPACKAGE_STRING=\\\"cddlib\\ 0.94\\\" -DPACKAGE_BUGREPORT=\\\"\\\" -DPACKAGE_URL=\\\"\\\" -DPACKAGE=\\\"cddlib\\\" -DVERSION=\\\"0.94\\\" -DSTDC_HEADERS=1 -DHAVE_SYS_TYPES_H=1 -DHAVE_SYS_STAT_H=1 -DHAVE_STDLIB_H=1 -DHAVE_STRING_H=1 -DHAVE_MEMORY_H=1 -DHAVE_STRINGS_H=1 -DHAVE_INTTYPES_H=1 -DHAVE_STDINT_H=1 -DHAVE_UNISTD_H=1 -DHAVE_DLFCN_H=1 -DLT_OBJDIR=\\\".libs/\\\" -DHAVE_LIBGMP=1 -DHAVE_LIMITS_H=1 -DHAVE_STDLIB_H=1 -DHAVE_STRING_H=1 -DHAVE_GMP_H=1 -DHAVE_STRCHR=1 -I. -I/Users/forets/.julia/v0.5/CDDLib/deps/src/cddlib-5ff766051042f3413c534af8ffcbbe00f66b3ab1/lib-src-gmp  -I/usr/local/include -DGMPRATIONAL -DGMPRATIONAL -I/Users/forets/.julia/v0.5/CDDLib/deps/src/cddlib-5ff766051042f3413c534af8ffcbbe00f66b3ab1/lib-src -I/Users/forets/.julia/v0.5/CDDLib/deps/src/cddlib-5ff766051042f3413c534af8ffcbbe00f66b3ab1/lib-src-gmp -I/Users/forets/.julia/v0.5/Homebrew/deps/usr/include  -g -O2 -MT cddstd_f.lo -MD -MP -MF $depbase.Tpo -c -o cddstd_f.lo /Users/forets/.julia/v0.5/CDDLib/deps/src/cddlib-5ff766051042f3413c534af8ffcbbe00f66b3ab1/lib-src-gmp/cddstd_f.c &&\\\n",
      "\tmv -f $depbase.Tpo $depbase.Plo\n"
     ]
    },
    {
     "name": "stderr",
     "output_type": "stream",
     "text": [
      "ld: warning: directory not found for option '-L/Users/forets/.julia/v0.5/CDDLib/deps/usr/lib'\n",
      "ld: warning: directory not found for option '-L/Users/forets/.julia/v0.5/CDDLib/deps/usr/lib'\n"
     ]
    },
    {
     "name": "stdout",
     "output_type": "stream",
     "text": [
      "libtool: compile:  gcc -DPACKAGE_NAME=\\\"cddlib\\\" -DPACKAGE_TARNAME=\\\"cddlib\\\" -DPACKAGE_VERSION=\\\"0.94\\\" \"-DPACKAGE_STRING=\\\"cddlib 0.94\\\"\" -DPACKAGE_BUGREPORT=\\\"\\\" -DPACKAGE_URL=\\\"\\\" -DPACKAGE=\\\"cddlib\\\" -DVERSION=\\\"0.94\\\" -DSTDC_HEADERS=1 -DHAVE_SYS_TYPES_H=1 -DHAVE_SYS_STAT_H=1 -DHAVE_STDLIB_H=1 -DHAVE_STRING_H=1 -DHAVE_MEMORY_H=1 -DHAVE_STRINGS_H=1 -DHAVE_INTTYPES_H=1 -DHAVE_STDINT_H=1 -DHAVE_UNISTD_H=1 -DHAVE_DLFCN_H=1 -DLT_OBJDIR=\\\".libs/\\\" -DHAVE_LIBGMP=1 -DHAVE_LIMITS_H=1 -DHAVE_STDLIB_H=1 -DHAVE_STRING_H=1 -DHAVE_GMP_H=1 -DHAVE_STRCHR=1 -I. -I/Users/forets/.julia/v0.5/CDDLib/deps/src/cddlib-5ff766051042f3413c534af8ffcbbe00f66b3ab1/lib-src-gmp -I/usr/local/include -DGMPRATIONAL -DGMPRATIONAL -I/Users/forets/.julia/v0.5/CDDLib/deps/src/cddlib-5ff766051042f3413c534af8ffcbbe00f66b3ab1/lib-src -I/Users/forets/.julia/v0.5/CDDLib/deps/src/cddlib-5ff766051042f3413c534af8ffcbbe00f66b3ab1/lib-src-gmp -I/Users/forets/.julia/v0.5/Homebrew/deps/usr/include -g -O2 -MT cddlp.lo -MD -MP -MF .deps/cddlp.Tpo -c /Users/forets/.julia/v0.5/CDDLib/deps/src/cddlib-5ff766051042f3413c534af8ffcbbe00f66b3ab1/lib-src-gmp/cddlp.c  -fno-common -DPIC -o .libs/cddlp.o\n",
      "libtool: compile:  gcc -DPACKAGE_NAME=\\\"cddlib\\\" -DPACKAGE_TARNAME=\\\"cddlib\\\" -DPACKAGE_VERSION=\\\"0.94\\\" \"-DPACKAGE_STRING=\\\"cddlib 0.94\\\"\" -DPACKAGE_BUGREPORT=\\\"\\\" -DPACKAGE_URL=\\\"\\\" -DPACKAGE=\\\"cddlib\\\" -DVERSION=\\\"0.94\\\" -DSTDC_HEADERS=1 -DHAVE_SYS_TYPES_H=1 -DHAVE_SYS_STAT_H=1 -DHAVE_STDLIB_H=1 -DHAVE_STRING_H=1 -DHAVE_MEMORY_H=1 -DHAVE_STRINGS_H=1 -DHAVE_INTTYPES_H=1 -DHAVE_STDINT_H=1 -DHAVE_UNISTD_H=1 -DHAVE_DLFCN_H=1 -DLT_OBJDIR=\\\".libs/\\\" -DHAVE_LIBGMP=1 -DHAVE_LIMITS_H=1 -DHAVE_STDLIB_H=1 -DHAVE_STRING_H=1 -DHAVE_GMP_H=1 -DHAVE_STRCHR=1 -I. -I/Users/forets/.julia/v0.5/CDDLib/deps/src/cddlib-5ff766051042f3413c534af8ffcbbe00f66b3ab1/lib-src-gmp -I/usr/local/include -DGMPRATIONAL -DGMPRATIONAL -I/Users/forets/.julia/v0.5/CDDLib/deps/src/cddlib-5ff766051042f3413c534af8ffcbbe00f66b3ab1/lib-src -I/Users/forets/.julia/v0.5/CDDLib/deps/src/cddlib-5ff766051042f3413c534af8ffcbbe00f66b3ab1/lib-src-gmp -I/Users/forets/.julia/v0.5/Homebrew/deps/usr/include -g -O2 -MT cddcore.lo -MD -MP -MF .deps/cddcore.Tpo -c /Users/forets/.julia/v0.5/CDDLib/deps/src/cddlib-5ff766051042f3413c534af8ffcbbe00f66b3ab1/lib-src-gmp/cddcore.c  -fno-common -DPIC -o .libs/cddcore.o\n",
      "libtool: compile:  gcc -DPACKAGE_NAME=\\\"cddlib\\\" -DPACKAGE_TARNAME=\\\"cddlib\\\" -DPACKAGE_VERSION=\\\"0.94\\\" \"-DPACKAGE_STRING=\\\"cddlib 0.94\\\"\" -DPACKAGE_BUGREPORT=\\\"\\\" -DPACKAGE_URL=\\\"\\\" -DPACKAGE=\\\"cddlib\\\" -DVERSION=\\\"0.94\\\" -DSTDC_HEADERS=1 -DHAVE_SYS_TYPES_H=1 -DHAVE_SYS_STAT_H=1 -DHAVE_STDLIB_H=1 -DHAVE_STRING_H=1 -DHAVE_MEMORY_H=1 -DHAVE_STRINGS_H=1 -DHAVE_INTTYPES_H=1 -DHAVE_STDINT_H=1 -DHAVE_UNISTD_H=1 -DHAVE_DLFCN_H=1 -DLT_OBJDIR=\\\".libs/\\\" -DHAVE_LIBGMP=1 -DHAVE_LIMITS_H=1 -DHAVE_STDLIB_H=1 -DHAVE_STRING_H=1 -DHAVE_GMP_H=1 -DHAVE_STRCHR=1 -I. -I/Users/forets/.julia/v0.5/CDDLib/deps/src/cddlib-5ff766051042f3413c534af8ffcbbe00f66b3ab1/lib-src-gmp -I/usr/local/include -DGMPRATIONAL -DGMPRATIONAL -I/Users/forets/.julia/v0.5/CDDLib/deps/src/cddlib-5ff766051042f3413c534af8ffcbbe00f66b3ab1/lib-src -I/Users/forets/.julia/v0.5/CDDLib/deps/src/cddlib-5ff766051042f3413c534af8ffcbbe00f66b3ab1/lib-src-gmp -I/Users/forets/.julia/v0.5/Homebrew/deps/usr/include -g -O2 -MT cddlib.lo -MD -MP -MF .deps/cddlib.Tpo -c /Users/forets/.julia/v0.5/CDDLib/deps/src/cddlib-5ff766051042f3413c534af8ffcbbe00f66b3ab1/lib-src-gmp/cddlib.c  -fno-common -DPIC -o .libs/cddlib.o\n",
      "libtool: compile:  gcc -DPACKAGE_NAME=\\\"cddlib\\\" -DPACKAGE_TARNAME=\\\"cddlib\\\" -DPACKAGE_VERSION=\\\"0.94\\\" \"-DPACKAGE_STRING=\\\"cddlib 0.94\\\"\" -DPACKAGE_BUGREPORT=\\\"\\\" -DPACKAGE_URL=\\\"\\\" -DPACKAGE=\\\"cddlib\\\" -DVERSION=\\\"0.94\\\" -DSTDC_HEADERS=1 -DHAVE_SYS_TYPES_H=1 -DHAVE_SYS_STAT_H=1 -DHAVE_STDLIB_H=1 -DHAVE_STRING_H=1 -DHAVE_MEMORY_H=1 -DHAVE_STRINGS_H=1 -DHAVE_INTTYPES_H=1 -DHAVE_STDINT_H=1 -DHAVE_UNISTD_H=1 -DHAVE_DLFCN_H=1 -DLT_OBJDIR=\\\".libs/\\\" -DHAVE_LIBGMP=1 -DHAVE_LIMITS_H=1 -DHAVE_STDLIB_H=1 -DHAVE_STRING_H=1 -DHAVE_GMP_H=1 -DHAVE_STRCHR=1 -I. -I/Users/forets/.julia/v0.5/CDDLib/deps/src/cddlib-5ff766051042f3413c534af8ffcbbe00f66b3ab1/lib-src-gmp -I/usr/local/include -DGMPRATIONAL -DGMPRATIONAL -I/Users/forets/.julia/v0.5/CDDLib/deps/src/cddlib-5ff766051042f3413c534af8ffcbbe00f66b3ab1/lib-src -I/Users/forets/.julia/v0.5/CDDLib/deps/src/cddlib-5ff766051042f3413c534af8ffcbbe00f66b3ab1/lib-src-gmp -I/Users/forets/.julia/v0.5/Homebrew/deps/usr/include -g -O2 -MT cddproj.lo -MD -MP -MF .deps/cddproj.Tpo -c /Users/forets/.julia/v0.5/CDDLib/deps/src/cddlib-5ff766051042f3413c534af8ffcbbe00f66b3ab1/lib-src-gmp/cddproj.c  -fno-common -DPIC -o .libs/cddproj.o\n",
      "libtool: compile:  gcc -DPACKAGE_NAME=\\\"cddlib\\\" -DPACKAGE_TARNAME=\\\"cddlib\\\" -DPACKAGE_VERSION=\\\"0.94\\\" \"-DPACKAGE_STRING=\\\"cddlib 0.94\\\"\" -DPACKAGE_BUGREPORT=\\\"\\\" -DPACKAGE_URL=\\\"\\\" -DPACKAGE=\\\"cddlib\\\" -DVERSION=\\\"0.94\\\" -DSTDC_HEADERS=1 -DHAVE_SYS_TYPES_H=1 -DHAVE_SYS_STAT_H=1 -DHAVE_STDLIB_H=1 -DHAVE_STRING_H=1 -DHAVE_MEMORY_H=1 -DHAVE_STRINGS_H=1 -DHAVE_INTTYPES_H=1 -DHAVE_STDINT_H=1 -DHAVE_UNISTD_H=1 -DHAVE_DLFCN_H=1 -DLT_OBJDIR=\\\".libs/\\\" -DHAVE_LIBGMP=1 -DHAVE_LIMITS_H=1 -DHAVE_STDLIB_H=1 -DHAVE_STRING_H=1 -DHAVE_GMP_H=1 -DHAVE_STRCHR=1 -I. -I/Users/forets/.julia/v0.5/CDDLib/deps/src/cddlib-5ff766051042f3413c534af8ffcbbe00f66b3ab1/lib-src-gmp -I/usr/local/include -DGMPRATIONAL -DGMPRATIONAL -I/Users/forets/.julia/v0.5/CDDLib/deps/src/cddlib-5ff766051042f3413c534af8ffcbbe00f66b3ab1/lib-src -I/Users/forets/.julia/v0.5/CDDLib/deps/src/cddlib-5ff766051042f3413c534af8ffcbbe00f66b3ab1/lib-src-gmp -I/Users/forets/.julia/v0.5/Homebrew/deps/usr/include -g -O2 -MT cddstd_f.lo -MD -MP -MF .deps/cddstd_f.Tpo -c /Users/forets/.julia/v0.5/CDDLib/deps/src/cddlib-5ff766051042f3413c534af8ffcbbe00f66b3ab1/lib-src-gmp/cddstd_f.c  -fno-common -DPIC -o .libs/cddstd_f.o\n",
      "libtool: compile:  gcc -DPACKAGE_NAME=\\\"cddlib\\\" -DPACKAGE_TARNAME=\\\"cddlib\\\" -DPACKAGE_VERSION=\\\"0.94\\\" \"-DPACKAGE_STRING=\\\"cddlib 0.94\\\"\" -DPACKAGE_BUGREPORT=\\\"\\\" -DPACKAGE_URL=\\\"\\\" -DPACKAGE=\\\"cddlib\\\" -DVERSION=\\\"0.94\\\" -DSTDC_HEADERS=1 -DHAVE_SYS_TYPES_H=1 -DHAVE_SYS_STAT_H=1 -DHAVE_STDLIB_H=1 -DHAVE_STRING_H=1 -DHAVE_MEMORY_H=1 -DHAVE_STRINGS_H=1 -DHAVE_INTTYPES_H=1 -DHAVE_STDINT_H=1 -DHAVE_UNISTD_H=1 -DHAVE_DLFCN_H=1 -DLT_OBJDIR=\\\".libs/\\\" -DHAVE_LIBGMP=1 -DHAVE_LIMITS_H=1 -DHAVE_STDLIB_H=1 -DHAVE_STRING_H=1 -DHAVE_GMP_H=1 -DHAVE_STRCHR=1 -I. -I/Users/forets/.julia/v0.5/CDDLib/deps/src/cddlib-5ff766051042f3413c534af8ffcbbe00f66b3ab1/lib-src-gmp -I/usr/local/include -DGMPRATIONAL -DGMPRATIONAL -I/Users/forets/.julia/v0.5/CDDLib/deps/src/cddlib-5ff766051042f3413c534af8ffcbbe00f66b3ab1/lib-src -I/Users/forets/.julia/v0.5/CDDLib/deps/src/cddlib-5ff766051042f3413c534af8ffcbbe00f66b3ab1/lib-src-gmp -I/Users/forets/.julia/v0.5/Homebrew/deps/usr/include -g -O2 -MT cddstd.lo -MD -MP -MF .deps/cddstd.Tpo -c /Users/forets/.julia/v0.5/CDDLib/deps/src/cddlib-5ff766051042f3413c534af8ffcbbe00f66b3ab1/lib-src-gmp/cddstd.c  -fno-common -DPIC -o .libs/cddstd.o\n",
      "libtool: compile:  gcc -DPACKAGE_NAME=\\\"cddlib\\\" -DPACKAGE_TARNAME=\\\"cddlib\\\" -DPACKAGE_VERSION=\\\"0.94\\\" \"-DPACKAGE_STRING=\\\"cddlib 0.94\\\"\" -DPACKAGE_BUGREPORT=\\\"\\\" -DPACKAGE_URL=\\\"\\\" -DPACKAGE=\\\"cddlib\\\" -DVERSION=\\\"0.94\\\" -DSTDC_HEADERS=1 -DHAVE_SYS_TYPES_H=1 -DHAVE_SYS_STAT_H=1 -DHAVE_STDLIB_H=1 -DHAVE_STRING_H=1 -DHAVE_MEMORY_H=1 -DHAVE_STRINGS_H=1 -DHAVE_INTTYPES_H=1 -DHAVE_STDINT_H=1 -DHAVE_UNISTD_H=1 -DHAVE_DLFCN_H=1 -DLT_OBJDIR=\\\".libs/\\\" -DHAVE_LIBGMP=1 -DHAVE_LIMITS_H=1 -DHAVE_STDLIB_H=1 -DHAVE_STRING_H=1 -DHAVE_GMP_H=1 -DHAVE_STRCHR=1 -I. -I/Users/forets/.julia/v0.5/CDDLib/deps/src/cddlib-5ff766051042f3413c534af8ffcbbe00f66b3ab1/lib-src-gmp -I/usr/local/include -DGMPRATIONAL -DGMPRATIONAL -I/Users/forets/.julia/v0.5/CDDLib/deps/src/cddlib-5ff766051042f3413c534af8ffcbbe00f66b3ab1/lib-src -I/Users/forets/.julia/v0.5/CDDLib/deps/src/cddlib-5ff766051042f3413c534af8ffcbbe00f66b3ab1/lib-src-gmp -I/Users/forets/.julia/v0.5/Homebrew/deps/usr/include -g -O2 -MT cddmp.lo -MD -MP -MF .deps/cddmp.Tpo -c /Users/forets/.julia/v0.5/CDDLib/deps/src/cddlib-5ff766051042f3413c534af8ffcbbe00f66b3ab1/lib-src-gmp/cddmp.c  -fno-common -DPIC -o .libs/cddmp.o\n",
      "libtool: compile:  gcc -DPACKAGE_NAME=\\\"cddlib\\\" -DPACKAGE_TARNAME=\\\"cddlib\\\" -DPACKAGE_VERSION=\\\"0.94\\\" \"-DPACKAGE_STRING=\\\"cddlib 0.94\\\"\" -DPACKAGE_BUGREPORT=\\\"\\\" -DPACKAGE_URL=\\\"\\\" -DPACKAGE=\\\"cddlib\\\" -DVERSION=\\\"0.94\\\" -DSTDC_HEADERS=1 -DHAVE_SYS_TYPES_H=1 -DHAVE_SYS_STAT_H=1 -DHAVE_STDLIB_H=1 -DHAVE_STRING_H=1 -DHAVE_MEMORY_H=1 -DHAVE_STRINGS_H=1 -DHAVE_INTTYPES_H=1 -DHAVE_STDINT_H=1 -DHAVE_UNISTD_H=1 -DHAVE_DLFCN_H=1 -DLT_OBJDIR=\\\".libs/\\\" -DHAVE_LIBGMP=1 -DHAVE_LIMITS_H=1 -DHAVE_STDLIB_H=1 -DHAVE_STRING_H=1 -DHAVE_GMP_H=1 -DHAVE_STRCHR=1 -I. -I/Users/forets/.julia/v0.5/CDDLib/deps/src/cddlib-5ff766051042f3413c534af8ffcbbe00f66b3ab1/lib-src-gmp -I/usr/local/include -DGMPRATIONAL -DGMPRATIONAL -I/Users/forets/.julia/v0.5/CDDLib/deps/src/cddlib-5ff766051042f3413c534af8ffcbbe00f66b3ab1/lib-src -I/Users/forets/.julia/v0.5/CDDLib/deps/src/cddlib-5ff766051042f3413c534af8ffcbbe00f66b3ab1/lib-src-gmp -I/Users/forets/.julia/v0.5/Homebrew/deps/usr/include -g -O2 -MT cddio.lo -MD -MP -MF .deps/cddio.Tpo -c /Users/forets/.julia/v0.5/CDDLib/deps/src/cddlib-5ff766051042f3413c534af8ffcbbe00f66b3ab1/lib-src-gmp/cddio.c  -fno-common -DPIC -o .libs/cddio.o\n",
      "libtool: compile:  gcc -DPACKAGE_NAME=\\\"cddlib\\\" -DPACKAGE_TARNAME=\\\"cddlib\\\" -DPACKAGE_VERSION=\\\"0.94\\\" \"-DPACKAGE_STRING=\\\"cddlib 0.94\\\"\" -DPACKAGE_BUGREPORT=\\\"\\\" -DPACKAGE_URL=\\\"\\\" -DPACKAGE=\\\"cddlib\\\" -DVERSION=\\\"0.94\\\" -DSTDC_HEADERS=1 -DHAVE_SYS_TYPES_H=1 -DHAVE_SYS_STAT_H=1 -DHAVE_STDLIB_H=1 -DHAVE_STRING_H=1 -DHAVE_MEMORY_H=1 -DHAVE_STRINGS_H=1 -DHAVE_INTTYPES_H=1 -DHAVE_STDINT_H=1 -DHAVE_UNISTD_H=1 -DHAVE_DLFCN_H=1 -DLT_OBJDIR=\\\".libs/\\\" -DHAVE_LIBGMP=1 -DHAVE_LIMITS_H=1 -DHAVE_STDLIB_H=1 -DHAVE_STRING_H=1 -DHAVE_GMP_H=1 -DHAVE_STRCHR=1 -I. -I/Users/forets/.julia/v0.5/CDDLib/deps/src/cddlib-5ff766051042f3413c534af8ffcbbe00f66b3ab1/lib-src-gmp -I/usr/local/include -DGMPRATIONAL -DGMPRATIONAL -I/Users/forets/.julia/v0.5/CDDLib/deps/src/cddlib-5ff766051042f3413c534af8ffcbbe00f66b3ab1/lib-src -I/Users/forets/.julia/v0.5/CDDLib/deps/src/cddlib-5ff766051042f3413c534af8ffcbbe00f66b3ab1/lib-src-gmp -I/Users/forets/.julia/v0.5/Homebrew/deps/usr/include -g -O2 -MT cddstd_f.lo -MD -MP -MF .deps/cddstd_f.Tpo -c /Users/forets/.julia/v0.5/CDDLib/deps/src/cddlib-5ff766051042f3413c534af8ffcbbe00f66b3ab1/lib-src-gmp/cddstd_f.c -o cddstd_f.o >/dev/null 2>&1\n",
      "libtool: compile:  gcc -DPACKAGE_NAME=\\\"cddlib\\\" -DPACKAGE_TARNAME=\\\"cddlib\\\" -DPACKAGE_VERSION=\\\"0.94\\\" \"-DPACKAGE_STRING=\\\"cddlib 0.94\\\"\" -DPACKAGE_BUGREPORT=\\\"\\\" -DPACKAGE_URL=\\\"\\\" -DPACKAGE=\\\"cddlib\\\" -DVERSION=\\\"0.94\\\" -DSTDC_HEADERS=1 -DHAVE_SYS_TYPES_H=1 -DHAVE_SYS_STAT_H=1 -DHAVE_STDLIB_H=1 -DHAVE_STRING_H=1 -DHAVE_MEMORY_H=1 -DHAVE_STRINGS_H=1 -DHAVE_INTTYPES_H=1 -DHAVE_STDINT_H=1 -DHAVE_UNISTD_H=1 -DHAVE_DLFCN_H=1 -DLT_OBJDIR=\\\".libs/\\\" -DHAVE_LIBGMP=1 -DHAVE_LIMITS_H=1 -DHAVE_STDLIB_H=1 -DHAVE_STRING_H=1 -DHAVE_GMP_H=1 -DHAVE_STRCHR=1 -I. -I/Users/forets/.julia/v0.5/CDDLib/deps/src/cddlib-5ff766051042f3413c534af8ffcbbe00f66b3ab1/lib-src-gmp -I/usr/local/include -DGMPRATIONAL -DGMPRATIONAL -I/Users/forets/.julia/v0.5/CDDLib/deps/src/cddlib-5ff766051042f3413c534af8ffcbbe00f66b3ab1/lib-src -I/Users/forets/.julia/v0.5/CDDLib/deps/src/cddlib-5ff766051042f3413c534af8ffcbbe00f66b3ab1/lib-src-gmp -I/Users/forets/.julia/v0.5/Homebrew/deps/usr/include -g -O2 -MT cddstd.lo -MD -MP -MF .deps/cddstd.Tpo -c /Users/forets/.julia/v0.5/CDDLib/deps/src/cddlib-5ff766051042f3413c534af8ffcbbe00f66b3ab1/lib-src-gmp/cddstd.c -o cddstd.o >/dev/null 2>&1\n",
      "libtool: compile:  gcc -DPACKAGE_NAME=\\\"cddlib\\\" -DPACKAGE_TARNAME=\\\"cddlib\\\" -DPACKAGE_VERSION=\\\"0.94\\\" \"-DPACKAGE_STRING=\\\"cddlib 0.94\\\"\" -DPACKAGE_BUGREPORT=\\\"\\\" -DPACKAGE_URL=\\\"\\\" -DPACKAGE=\\\"cddlib\\\" -DVERSION=\\\"0.94\\\" -DSTDC_HEADERS=1 -DHAVE_SYS_TYPES_H=1 -DHAVE_SYS_STAT_H=1 -DHAVE_STDLIB_H=1 -DHAVE_STRING_H=1 -DHAVE_MEMORY_H=1 -DHAVE_STRINGS_H=1 -DHAVE_INTTYPES_H=1 -DHAVE_STDINT_H=1 -DHAVE_UNISTD_H=1 -DHAVE_DLFCN_H=1 -DLT_OBJDIR=\\\".libs/\\\" -DHAVE_LIBGMP=1 -DHAVE_LIMITS_H=1 -DHAVE_STDLIB_H=1 -DHAVE_STRING_H=1 -DHAVE_GMP_H=1 -DHAVE_STRCHR=1 -I. -I/Users/forets/.julia/v0.5/CDDLib/deps/src/cddlib-5ff766051042f3413c534af8ffcbbe00f66b3ab1/lib-src-gmp -I/usr/local/include -DGMPRATIONAL -DGMPRATIONAL -I/Users/forets/.julia/v0.5/CDDLib/deps/src/cddlib-5ff766051042f3413c534af8ffcbbe00f66b3ab1/lib-src -I/Users/forets/.julia/v0.5/CDDLib/deps/src/cddlib-5ff766051042f3413c534af8ffcbbe00f66b3ab1/lib-src-gmp -I/Users/forets/.julia/v0.5/Homebrew/deps/usr/include -g -O2 -MT cddmp.lo -MD -MP -MF .deps/cddmp.Tpo -c /Users/forets/.julia/v0.5/CDDLib/deps/src/cddlib-5ff766051042f3413c534af8ffcbbe00f66b3ab1/lib-src-gmp/cddmp.c -o cddmp.o >/dev/null 2>&1\n",
      "libtool: compile:  gcc -DPACKAGE_NAME=\\\"cddlib\\\" -DPACKAGE_TARNAME=\\\"cddlib\\\" -DPACKAGE_VERSION=\\\"0.94\\\" \"-DPACKAGE_STRING=\\\"cddlib 0.94\\\"\" -DPACKAGE_BUGREPORT=\\\"\\\" -DPACKAGE_URL=\\\"\\\" -DPACKAGE=\\\"cddlib\\\" -DVERSION=\\\"0.94\\\" -DSTDC_HEADERS=1 -DHAVE_SYS_TYPES_H=1 -DHAVE_SYS_STAT_H=1 -DHAVE_STDLIB_H=1 -DHAVE_STRING_H=1 -DHAVE_MEMORY_H=1 -DHAVE_STRINGS_H=1 -DHAVE_INTTYPES_H=1 -DHAVE_STDINT_H=1 -DHAVE_UNISTD_H=1 -DHAVE_DLFCN_H=1 -DLT_OBJDIR=\\\".libs/\\\" -DHAVE_LIBGMP=1 -DHAVE_LIMITS_H=1 -DHAVE_STDLIB_H=1 -DHAVE_STRING_H=1 -DHAVE_GMP_H=1 -DHAVE_STRCHR=1 -I. -I/Users/forets/.julia/v0.5/CDDLib/deps/src/cddlib-5ff766051042f3413c534af8ffcbbe00f66b3ab1/lib-src-gmp -I/usr/local/include -DGMPRATIONAL -DGMPRATIONAL -I/Users/forets/.julia/v0.5/CDDLib/deps/src/cddlib-5ff766051042f3413c534af8ffcbbe00f66b3ab1/lib-src -I/Users/forets/.julia/v0.5/CDDLib/deps/src/cddlib-5ff766051042f3413c534af8ffcbbe00f66b3ab1/lib-src-gmp -I/Users/forets/.julia/v0.5/Homebrew/deps/usr/include -g -O2 -MT cddproj.lo -MD -MP -MF .deps/cddproj.Tpo -c /Users/forets/.julia/v0.5/CDDLib/deps/src/cddlib-5ff766051042f3413c534af8ffcbbe00f66b3ab1/lib-src-gmp/cddproj.c -o cddproj.o >/dev/null 2>&1\n",
      "depbase=`echo cddcore_f.lo | sed 's|[^/]*$|.deps/&|;s|\\.lo$||'`;\\\n",
      "\t/bin/sh ../libtool  --tag=CC   --mode=compile gcc -DPACKAGE_NAME=\\\"cddlib\\\" -DPACKAGE_TARNAME=\\\"cddlib\\\" -DPACKAGE_VERSION=\\\"0.94\\\" -DPACKAGE_STRING=\\\"cddlib\\ 0.94\\\" -DPACKAGE_BUGREPORT=\\\"\\\" -DPACKAGE_URL=\\\"\\\" -DPACKAGE=\\\"cddlib\\\" -DVERSION=\\\"0.94\\\" -DSTDC_HEADERS=1 -DHAVE_SYS_TYPES_H=1 -DHAVE_SYS_STAT_H=1 -DHAVE_STDLIB_H=1 -DHAVE_STRING_H=1 -DHAVE_MEMORY_H=1 -DHAVE_STRINGS_H=1 -DHAVE_INTTYPES_H=1 -DHAVE_STDINT_H=1 -DHAVE_UNISTD_H=1 -DHAVE_DLFCN_H=1 -DLT_OBJDIR=\\\".libs/\\\" -DHAVE_LIBGMP=1 -DHAVE_LIMITS_H=1 -DHAVE_STDLIB_H=1 -DHAVE_STRING_H=1 -DHAVE_GMP_H=1 -DHAVE_STRCHR=1 -I. -I/Users/forets/.julia/v0.5/CDDLib/deps/src/cddlib-5ff766051042f3413c534af8ffcbbe00f66b3ab1/lib-src-gmp  -I/usr/local/include -DGMPRATIONAL -DGMPRATIONAL -I/Users/forets/.julia/v0.5/CDDLib/deps/src/cddlib-5ff766051042f3413c534af8ffcbbe00f66b3ab1/lib-src -I/Users/forets/.julia/v0.5/CDDLib/deps/src/cddlib-5ff766051042f3413c534af8ffcbbe00f66b3ab1/lib-src-gmp -I/Users/forets/.julia/v0.5/Homebrew/deps/usr/include  -g -O2 -MT cddcore_f.lo -MD -MP -MF $depbase.Tpo -c -o cddcore_f.lo /Users/forets/.julia/v0.5/CDDLib/deps/src/cddlib-5ff766051042f3413c534af8ffcbbe00f66b3ab1/lib-src-gmp/cddcore_f.c &&\\\n",
      "\tmv -f $depbase.Tpo $depbase.Plo\n",
      "libtool: compile:  gcc -DPACKAGE_NAME=\\\"cddlib\\\" -DPACKAGE_TARNAME=\\\"cddlib\\\" -DPACKAGE_VERSION=\\\"0.94\\\" \"-DPACKAGE_STRING=\\\"cddlib 0.94\\\"\" -DPACKAGE_BUGREPORT=\\\"\\\" -DPACKAGE_URL=\\\"\\\" -DPACKAGE=\\\"cddlib\\\" -DVERSION=\\\"0.94\\\" -DSTDC_HEADERS=1 -DHAVE_SYS_TYPES_H=1 -DHAVE_SYS_STAT_H=1 -DHAVE_STDLIB_H=1 -DHAVE_STRING_H=1 -DHAVE_MEMORY_H=1 -DHAVE_STRINGS_H=1 -DHAVE_INTTYPES_H=1 -DHAVE_STDINT_H=1 -DHAVE_UNISTD_H=1 -DHAVE_DLFCN_H=1 -DLT_OBJDIR=\\\".libs/\\\" -DHAVE_LIBGMP=1 -DHAVE_LIMITS_H=1 -DHAVE_STDLIB_H=1 -DHAVE_STRING_H=1 -DHAVE_GMP_H=1 -DHAVE_STRCHR=1 -I. -I/Users/forets/.julia/v0.5/CDDLib/deps/src/cddlib-5ff766051042f3413c534af8ffcbbe00f66b3ab1/lib-src-gmp -I/usr/local/include -DGMPRATIONAL -DGMPRATIONAL -I/Users/forets/.julia/v0.5/CDDLib/deps/src/cddlib-5ff766051042f3413c534af8ffcbbe00f66b3ab1/lib-src -I/Users/forets/.julia/v0.5/CDDLib/deps/src/cddlib-5ff766051042f3413c534af8ffcbbe00f66b3ab1/lib-src-gmp -I/Users/forets/.julia/v0.5/Homebrew/deps/usr/include -g -O2 -MT cddlib.lo -MD -MP -MF .deps/cddlib.Tpo -c /Users/forets/.julia/v0.5/CDDLib/deps/src/cddlib-5ff766051042f3413c534af8ffcbbe00f66b3ab1/lib-src-gmp/cddlib.c -o cddlib.o >/dev/null 2>&1\n",
      "depbase=`echo cddlp_f.lo | sed 's|[^/]*$|.deps/&|;s|\\.lo$||'`;\\\n",
      "\t/bin/sh ../libtool  --tag=CC   --mode=compile gcc -DPACKAGE_NAME=\\\"cddlib\\\" -DPACKAGE_TARNAME=\\\"cddlib\\\" -DPACKAGE_VERSION=\\\"0.94\\\" -DPACKAGE_STRING=\\\"cddlib\\ 0.94\\\" -DPACKAGE_BUGREPORT=\\\"\\\" -DPACKAGE_URL=\\\"\\\" -DPACKAGE=\\\"cddlib\\\" -DVERSION=\\\"0.94\\\" -DSTDC_HEADERS=1 -DHAVE_SYS_TYPES_H=1 -DHAVE_SYS_STAT_H=1 -DHAVE_STDLIB_H=1 -DHAVE_STRING_H=1 -DHAVE_MEMORY_H=1 -DHAVE_STRINGS_H=1 -DHAVE_INTTYPES_H=1 -DHAVE_STDINT_H=1 -DHAVE_UNISTD_H=1 -DHAVE_DLFCN_H=1 -DLT_OBJDIR=\\\".libs/\\\" -DHAVE_LIBGMP=1 -DHAVE_LIMITS_H=1 -DHAVE_STDLIB_H=1 -DHAVE_STRING_H=1 -DHAVE_GMP_H=1 -DHAVE_STRCHR=1 -I. -I/Users/forets/.julia/v0.5/CDDLib/deps/src/cddlib-5ff766051042f3413c534af8ffcbbe00f66b3ab1/lib-src-gmp  -I/usr/local/include -DGMPRATIONAL -DGMPRATIONAL -I/Users/forets/.julia/v0.5/CDDLib/deps/src/cddlib-5ff766051042f3413c534af8ffcbbe00f66b3ab1/lib-src -I/Users/forets/.julia/v0.5/CDDLib/deps/src/cddlib-5ff766051042f3413c534af8ffcbbe00f66b3ab1/lib-src-gmp -I/Users/forets/.julia/v0.5/Homebrew/deps/usr/include  -g -O2 -MT cddlp_f.lo -MD -MP -MF $depbase.Tpo -c -o cddlp_f.lo /Users/forets/.julia/v0.5/CDDLib/deps/src/cddlib-5ff766051042f3413c534af8ffcbbe00f66b3ab1/lib-src-gmp/cddlp_f.c &&\\\n",
      "\tmv -f $depbase.Tpo $depbase.Plo\n",
      "depbase=`echo cddmp_f.lo | sed 's|[^/]*$|.deps/&|;s|\\.lo$||'`;\\\n",
      "\t/bin/sh ../libtool  --tag=CC   --mode=compile gcc -DPACKAGE_NAME=\\\"cddlib\\\" -DPACKAGE_TARNAME=\\\"cddlib\\\" -DPACKAGE_VERSION=\\\"0.94\\\" -DPACKAGE_STRING=\\\"cddlib\\ 0.94\\\" -DPACKAGE_BUGREPORT=\\\"\\\" -DPACKAGE_URL=\\\"\\\" -DPACKAGE=\\\"cddlib\\\" -DVERSION=\\\"0.94\\\" -DSTDC_HEADERS=1 -DHAVE_SYS_TYPES_H=1 -DHAVE_SYS_STAT_H=1 -DHAVE_STDLIB_H=1 -DHAVE_STRING_H=1 -DHAVE_MEMORY_H=1 -DHAVE_STRINGS_H=1 -DHAVE_INTTYPES_H=1 -DHAVE_STDINT_H=1 -DHAVE_UNISTD_H=1 -DHAVE_DLFCN_H=1 -DLT_OBJDIR=\\\".libs/\\\" -DHAVE_LIBGMP=1 -DHAVE_LIMITS_H=1 -DHAVE_STDLIB_H=1 -DHAVE_STRING_H=1 -DHAVE_GMP_H=1 -DHAVE_STRCHR=1 -I. -I/Users/forets/.julia/v0.5/CDDLib/deps/src/cddlib-5ff766051042f3413c534af8ffcbbe00f66b3ab1/lib-src-gmp  -I/usr/local/include -DGMPRATIONAL -DGMPRATIONAL -I/Users/forets/.julia/v0.5/CDDLib/deps/src/cddlib-5ff766051042f3413c534af8ffcbbe00f66b3ab1/lib-src -I/Users/forets/.julia/v0.5/CDDLib/deps/src/cddlib-5ff766051042f3413c534af8ffcbbe00f66b3ab1/lib-src-gmp -I/Users/forets/.julia/v0.5/Homebrew/deps/usr/include  -g -O2 -MT cddmp_f.lo -MD -MP -MF $depbase.Tpo -c -o cddmp_f.lo /Users/forets/.julia/v0.5/CDDLib/deps/src/cddlib-5ff766051042f3413c534af8ffcbbe00f66b3ab1/lib-src-gmp/cddmp_f.c &&\\\n",
      "\tmv -f $depbase.Tpo $depbase.Plo\n",
      "depbase=`echo cddio_f.lo | sed 's|[^/]*$|.deps/&|;s|\\.lo$||'`;\\\n",
      "\t/bin/sh ../libtool  --tag=CC   --mode=compile gcc -DPACKAGE_NAME=\\\"cddlib\\\" -DPACKAGE_TARNAME=\\\"cddlib\\\" -DPACKAGE_VERSION=\\\"0.94\\\" -DPACKAGE_STRING=\\\"cddlib\\ 0.94\\\" -DPACKAGE_BUGREPORT=\\\"\\\" -DPACKAGE_URL=\\\"\\\" -DPACKAGE=\\\"cddlib\\\" -DVERSION=\\\"0.94\\\" -DSTDC_HEADERS=1 -DHAVE_SYS_TYPES_H=1 -DHAVE_SYS_STAT_H=1 -DHAVE_STDLIB_H=1 -DHAVE_STRING_H=1 -DHAVE_MEMORY_H=1 -DHAVE_STRINGS_H=1 -DHAVE_INTTYPES_H=1 -DHAVE_STDINT_H=1 -DHAVE_UNISTD_H=1 -DHAVE_DLFCN_H=1 -DLT_OBJDIR=\\\".libs/\\\" -DHAVE_LIBGMP=1 -DHAVE_LIMITS_H=1 -DHAVE_STDLIB_H=1 -DHAVE_STRING_H=1 -DHAVE_GMP_H=1 -DHAVE_STRCHR=1 -I. -I/Users/forets/.julia/v0.5/CDDLib/deps/src/cddlib-5ff766051042f3413c534af8ffcbbe00f66b3ab1/lib-src-gmp  -I/usr/local/include -DGMPRATIONAL -DGMPRATIONAL -I/Users/forets/.julia/v0.5/CDDLib/deps/src/cddlib-5ff766051042f3413c534af8ffcbbe00f66b3ab1/lib-src -I/Users/forets/.julia/v0.5/CDDLib/deps/src/cddlib-5ff766051042f3413c534af8ffcbbe00f66b3ab1/lib-src-gmp -I/Users/forets/.julia/v0.5/Homebrew/deps/usr/include  -g -O2 -MT cddio_f.lo -MD -MP -MF $depbase.Tpo -c -o cddio_f.lo /Users/forets/.julia/v0.5/CDDLib/deps/src/cddlib-5ff766051042f3413c534af8ffcbbe00f66b3ab1/lib-src-gmp/cddio_f.c &&\\\n",
      "\tmv -f $depbase.Tpo $depbase.Plo\n",
      "depbase=`echo cddlib_f.lo | sed 's|[^/]*$|.deps/&|;s|\\.lo$||'`;\\\n",
      "\t/bin/sh ../libtool  --tag=CC   --mode=compile gcc -DPACKAGE_NAME=\\\"cddlib\\\" -DPACKAGE_TARNAME=\\\"cddlib\\\" -DPACKAGE_VERSION=\\\"0.94\\\" -DPACKAGE_STRING=\\\"cddlib\\ 0.94\\\" -DPACKAGE_BUGREPORT=\\\"\\\" -DPACKAGE_URL=\\\"\\\" -DPACKAGE=\\\"cddlib\\\" -DVERSION=\\\"0.94\\\" -DSTDC_HEADERS=1 -DHAVE_SYS_TYPES_H=1 -DHAVE_SYS_STAT_H=1 -DHAVE_STDLIB_H=1 -DHAVE_STRING_H=1 -DHAVE_MEMORY_H=1 -DHAVE_STRINGS_H=1 -DHAVE_INTTYPES_H=1 -DHAVE_STDINT_H=1 -DHAVE_UNISTD_H=1 -DHAVE_DLFCN_H=1 -DLT_OBJDIR=\\\".libs/\\\" -DHAVE_LIBGMP=1 -DHAVE_LIMITS_H=1 -DHAVE_STDLIB_H=1 -DHAVE_STRING_H=1 -DHAVE_GMP_H=1 -DHAVE_STRCHR=1 -I. -I/Users/forets/.julia/v0.5/CDDLib/deps/src/cddlib-5ff766051042f3413c534af8ffcbbe00f66b3ab1/lib-src-gmp  -I/usr/local/include -DGMPRATIONAL -DGMPRATIONAL -I/Users/forets/.julia/v0.5/CDDLib/deps/src/cddlib-5ff766051042f3413c534af8ffcbbe00f66b3ab1/lib-src -I/Users/forets/.julia/v0.5/CDDLib/deps/src/cddlib-5ff766051042f3413c534af8ffcbbe00f66b3ab1/lib-src-gmp -I/Users/forets/.julia/v0.5/Homebrew/deps/usr/include  -g -O2 -MT cddlib_f.lo -MD -MP -MF $depbase.Tpo -c -o cddlib_f.lo /Users/forets/.julia/v0.5/CDDLib/deps/src/cddlib-5ff766051042f3413c534af8ffcbbe00f66b3ab1/lib-src-gmp/cddlib_f.c &&\\\n",
      "\tmv -f $depbase.Tpo $depbase.Plo\n",
      "libtool: compile:  gcc -DPACKAGE_NAME=\\\"cddlib\\\" -DPACKAGE_TARNAME=\\\"cddlib\\\" -DPACKAGE_VERSION=\\\"0.94\\\" \"-DPACKAGE_STRING=\\\"cddlib 0.94\\\"\" -DPACKAGE_BUGREPORT=\\\"\\\" -DPACKAGE_URL=\\\"\\\" -DPACKAGE=\\\"cddlib\\\" -DVERSION=\\\"0.94\\\" -DSTDC_HEADERS=1 -DHAVE_SYS_TYPES_H=1 -DHAVE_SYS_STAT_H=1 -DHAVE_STDLIB_H=1 -DHAVE_STRING_H=1 -DHAVE_MEMORY_H=1 -DHAVE_STRINGS_H=1 -DHAVE_INTTYPES_H=1 -DHAVE_STDINT_H=1 -DHAVE_UNISTD_H=1 -DHAVE_DLFCN_H=1 -DLT_OBJDIR=\\\".libs/\\\" -DHAVE_LIBGMP=1 -DHAVE_LIMITS_H=1 -DHAVE_STDLIB_H=1 -DHAVE_STRING_H=1 -DHAVE_GMP_H=1 -DHAVE_STRCHR=1 -I. -I/Users/forets/.julia/v0.5/CDDLib/deps/src/cddlib-5ff766051042f3413c534af8ffcbbe00f66b3ab1/lib-src-gmp -I/usr/local/include -DGMPRATIONAL -DGMPRATIONAL -I/Users/forets/.julia/v0.5/CDDLib/deps/src/cddlib-5ff766051042f3413c534af8ffcbbe00f66b3ab1/lib-src -I/Users/forets/.julia/v0.5/CDDLib/deps/src/cddlib-5ff766051042f3413c534af8ffcbbe00f66b3ab1/lib-src-gmp -I/Users/forets/.julia/v0.5/Homebrew/deps/usr/include -g -O2 -MT cddcore_f.lo -MD -MP -MF .deps/cddcore_f.Tpo -c /Users/forets/.julia/v0.5/CDDLib/deps/src/cddlib-5ff766051042f3413c534af8ffcbbe00f66b3ab1/lib-src-gmp/cddcore_f.c  -fno-common -DPIC -o .libs/cddcore_f.o\n",
      "libtool: compile:  gcc -DPACKAGE_NAME=\\\"cddlib\\\" -DPACKAGE_TARNAME=\\\"cddlib\\\" -DPACKAGE_VERSION=\\\"0.94\\\" \"-DPACKAGE_STRING=\\\"cddlib 0.94\\\"\" -DPACKAGE_BUGREPORT=\\\"\\\" -DPACKAGE_URL=\\\"\\\" -DPACKAGE=\\\"cddlib\\\" -DVERSION=\\\"0.94\\\" -DSTDC_HEADERS=1 -DHAVE_SYS_TYPES_H=1 -DHAVE_SYS_STAT_H=1 -DHAVE_STDLIB_H=1 -DHAVE_STRING_H=1 -DHAVE_MEMORY_H=1 -DHAVE_STRINGS_H=1 -DHAVE_INTTYPES_H=1 -DHAVE_STDINT_H=1 -DHAVE_UNISTD_H=1 -DHAVE_DLFCN_H=1 -DLT_OBJDIR=\\\".libs/\\\" -DHAVE_LIBGMP=1 -DHAVE_LIMITS_H=1 -DHAVE_STDLIB_H=1 -DHAVE_STRING_H=1 -DHAVE_GMP_H=1 -DHAVE_STRCHR=1 -I. -I/Users/forets/.julia/v0.5/CDDLib/deps/src/cddlib-5ff766051042f3413c534af8ffcbbe00f66b3ab1/lib-src-gmp -I/usr/local/include -DGMPRATIONAL -DGMPRATIONAL -I/Users/forets/.julia/v0.5/CDDLib/deps/src/cddlib-5ff766051042f3413c534af8ffcbbe00f66b3ab1/lib-src -I/Users/forets/.julia/v0.5/CDDLib/deps/src/cddlib-5ff766051042f3413c534af8ffcbbe00f66b3ab1/lib-src-gmp -I/Users/forets/.julia/v0.5/Homebrew/deps/usr/include -g -O2 -MT cddmp_f.lo -MD -MP -MF .deps/cddmp_f.Tpo -c /Users/forets/.julia/v0.5/CDDLib/deps/src/cddlib-5ff766051042f3413c534af8ffcbbe00f66b3ab1/lib-src-gmp/cddmp_f.c  -fno-common -DPIC -o .libs/cddmp_f.o\n",
      "libtool: compile:  gcc -DPACKAGE_NAME=\\\"cddlib\\\" -DPACKAGE_TARNAME=\\\"cddlib\\\" -DPACKAGE_VERSION=\\\"0.94\\\" \"-DPACKAGE_STRING=\\\"cddlib 0.94\\\"\" -DPACKAGE_BUGREPORT=\\\"\\\" -DPACKAGE_URL=\\\"\\\" -DPACKAGE=\\\"cddlib\\\" -DVERSION=\\\"0.94\\\" -DSTDC_HEADERS=1 -DHAVE_SYS_TYPES_H=1 -DHAVE_SYS_STAT_H=1 -DHAVE_STDLIB_H=1 -DHAVE_STRING_H=1 -DHAVE_MEMORY_H=1 -DHAVE_STRINGS_H=1 -DHAVE_INTTYPES_H=1 -DHAVE_STDINT_H=1 -DHAVE_UNISTD_H=1 -DHAVE_DLFCN_H=1 -DLT_OBJDIR=\\\".libs/\\\" -DHAVE_LIBGMP=1 -DHAVE_LIMITS_H=1 -DHAVE_STDLIB_H=1 -DHAVE_STRING_H=1 -DHAVE_GMP_H=1 -DHAVE_STRCHR=1 -I. -I/Users/forets/.julia/v0.5/CDDLib/deps/src/cddlib-5ff766051042f3413c534af8ffcbbe00f66b3ab1/lib-src-gmp -I/usr/local/include -DGMPRATIONAL -DGMPRATIONAL -I/Users/forets/.julia/v0.5/CDDLib/deps/src/cddlib-5ff766051042f3413c534af8ffcbbe00f66b3ab1/lib-src -I/Users/forets/.julia/v0.5/CDDLib/deps/src/cddlib-5ff766051042f3413c534af8ffcbbe00f66b3ab1/lib-src-gmp -I/Users/forets/.julia/v0.5/Homebrew/deps/usr/include -g -O2 -MT cddlp_f.lo -MD -MP -MF .deps/cddlp_f.Tpo -c /Users/forets/.julia/v0.5/CDDLib/deps/src/cddlib-5ff766051042f3413c534af8ffcbbe00f66b3ab1/lib-src-gmp/cddlp_f.c  -fno-common -DPIC -o .libs/cddlp_f.o\n",
      "libtool: compile:  gcc -DPACKAGE_NAME=\\\"cddlib\\\" -DPACKAGE_TARNAME=\\\"cddlib\\\" -DPACKAGE_VERSION=\\\"0.94\\\" \"-DPACKAGE_STRING=\\\"cddlib 0.94\\\"\" -DPACKAGE_BUGREPORT=\\\"\\\" -DPACKAGE_URL=\\\"\\\" -DPACKAGE=\\\"cddlib\\\" -DVERSION=\\\"0.94\\\" -DSTDC_HEADERS=1 -DHAVE_SYS_TYPES_H=1 -DHAVE_SYS_STAT_H=1 -DHAVE_STDLIB_H=1 -DHAVE_STRING_H=1 -DHAVE_MEMORY_H=1 -DHAVE_STRINGS_H=1 -DHAVE_INTTYPES_H=1 -DHAVE_STDINT_H=1 -DHAVE_UNISTD_H=1 -DHAVE_DLFCN_H=1 -DLT_OBJDIR=\\\".libs/\\\" -DHAVE_LIBGMP=1 -DHAVE_LIMITS_H=1 -DHAVE_STDLIB_H=1 -DHAVE_STRING_H=1 -DHAVE_GMP_H=1 -DHAVE_STRCHR=1 -I. -I/Users/forets/.julia/v0.5/CDDLib/deps/src/cddlib-5ff766051042f3413c534af8ffcbbe00f66b3ab1/lib-src-gmp -I/usr/local/include -DGMPRATIONAL -DGMPRATIONAL -I/Users/forets/.julia/v0.5/CDDLib/deps/src/cddlib-5ff766051042f3413c534af8ffcbbe00f66b3ab1/lib-src -I/Users/forets/.julia/v0.5/CDDLib/deps/src/cddlib-5ff766051042f3413c534af8ffcbbe00f66b3ab1/lib-src-gmp -I/Users/forets/.julia/v0.5/Homebrew/deps/usr/include -g -O2 -MT cddmp_f.lo -MD -MP -MF .deps/cddmp_f.Tpo -c /Users/forets/.julia/v0.5/CDDLib/deps/src/cddlib-5ff766051042f3413c534af8ffcbbe00f66b3ab1/lib-src-gmp/cddmp_f.c -o cddmp_f.o >/dev/null 2>&1\n",
      "libtool: compile:  gcc -DPACKAGE_NAME=\\\"cddlib\\\" -DPACKAGE_TARNAME=\\\"cddlib\\\" -DPACKAGE_VERSION=\\\"0.94\\\" \"-DPACKAGE_STRING=\\\"cddlib 0.94\\\"\" -DPACKAGE_BUGREPORT=\\\"\\\" -DPACKAGE_URL=\\\"\\\" -DPACKAGE=\\\"cddlib\\\" -DVERSION=\\\"0.94\\\" -DSTDC_HEADERS=1 -DHAVE_SYS_TYPES_H=1 -DHAVE_SYS_STAT_H=1 -DHAVE_STDLIB_H=1 -DHAVE_STRING_H=1 -DHAVE_MEMORY_H=1 -DHAVE_STRINGS_H=1 -DHAVE_INTTYPES_H=1 -DHAVE_STDINT_H=1 -DHAVE_UNISTD_H=1 -DHAVE_DLFCN_H=1 -DLT_OBJDIR=\\\".libs/\\\" -DHAVE_LIBGMP=1 -DHAVE_LIMITS_H=1 -DHAVE_STDLIB_H=1 -DHAVE_STRING_H=1 -DHAVE_GMP_H=1 -DHAVE_STRCHR=1 -I. -I/Users/forets/.julia/v0.5/CDDLib/deps/src/cddlib-5ff766051042f3413c534af8ffcbbe00f66b3ab1/lib-src-gmp -I/usr/local/include -DGMPRATIONAL -DGMPRATIONAL -I/Users/forets/.julia/v0.5/CDDLib/deps/src/cddlib-5ff766051042f3413c534af8ffcbbe00f66b3ab1/lib-src -I/Users/forets/.julia/v0.5/CDDLib/deps/src/cddlib-5ff766051042f3413c534af8ffcbbe00f66b3ab1/lib-src-gmp -I/Users/forets/.julia/v0.5/Homebrew/deps/usr/include -g -O2 -MT cddio_f.lo -MD -MP -MF .deps/cddio_f.Tpo -c /Users/forets/.julia/v0.5/CDDLib/deps/src/cddlib-5ff766051042f3413c534af8ffcbbe00f66b3ab1/lib-src-gmp/cddio_f.c  -fno-common -DPIC -o .libs/cddio_f.o\n",
      "libtool: compile:  gcc -DPACKAGE_NAME=\\\"cddlib\\\" -DPACKAGE_TARNAME=\\\"cddlib\\\" -DPACKAGE_VERSION=\\\"0.94\\\" \"-DPACKAGE_STRING=\\\"cddlib 0.94\\\"\" -DPACKAGE_BUGREPORT=\\\"\\\" -DPACKAGE_URL=\\\"\\\" -DPACKAGE=\\\"cddlib\\\" -DVERSION=\\\"0.94\\\" -DSTDC_HEADERS=1 -DHAVE_SYS_TYPES_H=1 -DHAVE_SYS_STAT_H=1 -DHAVE_STDLIB_H=1 -DHAVE_STRING_H=1 -DHAVE_MEMORY_H=1 -DHAVE_STRINGS_H=1 -DHAVE_INTTYPES_H=1 -DHAVE_STDINT_H=1 -DHAVE_UNISTD_H=1 -DHAVE_DLFCN_H=1 -DLT_OBJDIR=\\\".libs/\\\" -DHAVE_LIBGMP=1 -DHAVE_LIMITS_H=1 -DHAVE_STDLIB_H=1 -DHAVE_STRING_H=1 -DHAVE_GMP_H=1 -DHAVE_STRCHR=1 -I. -I/Users/forets/.julia/v0.5/CDDLib/deps/src/cddlib-5ff766051042f3413c534af8ffcbbe00f66b3ab1/lib-src-gmp -I/usr/local/include -DGMPRATIONAL -DGMPRATIONAL -I/Users/forets/.julia/v0.5/CDDLib/deps/src/cddlib-5ff766051042f3413c534af8ffcbbe00f66b3ab1/lib-src -I/Users/forets/.julia/v0.5/CDDLib/deps/src/cddlib-5ff766051042f3413c534af8ffcbbe00f66b3ab1/lib-src-gmp -I/Users/forets/.julia/v0.5/Homebrew/deps/usr/include -g -O2 -MT cddio.lo -MD -MP -MF .deps/cddio.Tpo -c /Users/forets/.julia/v0.5/CDDLib/deps/src/cddlib-5ff766051042f3413c534af8ffcbbe00f66b3ab1/lib-src-gmp/cddio.c -o cddio.o >/dev/null 2>&1\n",
      "libtool: compile:  gcc -DPACKAGE_NAME=\\\"cddlib\\\" -DPACKAGE_TARNAME=\\\"cddlib\\\" -DPACKAGE_VERSION=\\\"0.94\\\" \"-DPACKAGE_STRING=\\\"cddlib 0.94\\\"\" -DPACKAGE_BUGREPORT=\\\"\\\" -DPACKAGE_URL=\\\"\\\" -DPACKAGE=\\\"cddlib\\\" -DVERSION=\\\"0.94\\\" -DSTDC_HEADERS=1 -DHAVE_SYS_TYPES_H=1 -DHAVE_SYS_STAT_H=1 -DHAVE_STDLIB_H=1 -DHAVE_STRING_H=1 -DHAVE_MEMORY_H=1 -DHAVE_STRINGS_H=1 -DHAVE_INTTYPES_H=1 -DHAVE_STDINT_H=1 -DHAVE_UNISTD_H=1 -DHAVE_DLFCN_H=1 -DLT_OBJDIR=\\\".libs/\\\" -DHAVE_LIBGMP=1 -DHAVE_LIMITS_H=1 -DHAVE_STDLIB_H=1 -DHAVE_STRING_H=1 -DHAVE_GMP_H=1 -DHAVE_STRCHR=1 -I. -I/Users/forets/.julia/v0.5/CDDLib/deps/src/cddlib-5ff766051042f3413c534af8ffcbbe00f66b3ab1/lib-src-gmp -I/usr/local/include -DGMPRATIONAL -DGMPRATIONAL -I/Users/forets/.julia/v0.5/CDDLib/deps/src/cddlib-5ff766051042f3413c534af8ffcbbe00f66b3ab1/lib-src -I/Users/forets/.julia/v0.5/CDDLib/deps/src/cddlib-5ff766051042f3413c534af8ffcbbe00f66b3ab1/lib-src-gmp -I/Users/forets/.julia/v0.5/Homebrew/deps/usr/include -g -O2 -MT cddlib_f.lo -MD -MP -MF .deps/cddlib_f.Tpo -c /Users/forets/.julia/v0.5/CDDLib/deps/src/cddlib-5ff766051042f3413c534af8ffcbbe00f66b3ab1/lib-src-gmp/cddlib_f.c  -fno-common -DPIC -o .libs/cddlib_f.o\n",
      "depbase=`echo cddproj_f.lo | sed 's|[^/]*$|.deps/&|;s|\\.lo$||'`;\\\n",
      "\t/bin/sh ../libtool  --tag=CC   --mode=compile gcc -DPACKAGE_NAME=\\\"cddlib\\\" -DPACKAGE_TARNAME=\\\"cddlib\\\" -DPACKAGE_VERSION=\\\"0.94\\\" -DPACKAGE_STRING=\\\"cddlib\\ 0.94\\\" -DPACKAGE_BUGREPORT=\\\"\\\" -DPACKAGE_URL=\\\"\\\" -DPACKAGE=\\\"cddlib\\\" -DVERSION=\\\"0.94\\\" -DSTDC_HEADERS=1 -DHAVE_SYS_TYPES_H=1 -DHAVE_SYS_STAT_H=1 -DHAVE_STDLIB_H=1 -DHAVE_STRING_H=1 -DHAVE_MEMORY_H=1 -DHAVE_STRINGS_H=1 -DHAVE_INTTYPES_H=1 -DHAVE_STDINT_H=1 -DHAVE_UNISTD_H=1 -DHAVE_DLFCN_H=1 -DLT_OBJDIR=\\\".libs/\\\" -DHAVE_LIBGMP=1 -DHAVE_LIMITS_H=1 -DHAVE_STDLIB_H=1 -DHAVE_STRING_H=1 -DHAVE_GMP_H=1 -DHAVE_STRCHR=1 -I. -I/Users/forets/.julia/v0.5/CDDLib/deps/src/cddlib-5ff766051042f3413c534af8ffcbbe00f66b3ab1/lib-src-gmp  -I/usr/local/include -DGMPRATIONAL -DGMPRATIONAL -I/Users/forets/.julia/v0.5/CDDLib/deps/src/cddlib-5ff766051042f3413c534af8ffcbbe00f66b3ab1/lib-src -I/Users/forets/.julia/v0.5/CDDLib/deps/src/cddlib-5ff766051042f3413c534af8ffcbbe00f66b3ab1/lib-src-gmp -I/Users/forets/.julia/v0.5/Homebrew/deps/usr/include  -g -O2 -MT cddproj_f.lo -MD -MP -MF $depbase.Tpo -c -o cddproj_f.lo /Users/forets/.julia/v0.5/CDDLib/deps/src/cddlib-5ff766051042f3413c534af8ffcbbe00f66b3ab1/lib-src-gmp/cddproj_f.c &&\\\n",
      "\tmv -f $depbase.Tpo $depbase.Plo\n",
      "libtool: compile:  gcc -DPACKAGE_NAME=\\\"cddlib\\\" -DPACKAGE_TARNAME=\\\"cddlib\\\" -DPACKAGE_VERSION=\\\"0.94\\\" \"-DPACKAGE_STRING=\\\"cddlib 0.94\\\"\" -DPACKAGE_BUGREPORT=\\\"\\\" -DPACKAGE_URL=\\\"\\\" -DPACKAGE=\\\"cddlib\\\" -DVERSION=\\\"0.94\\\" -DSTDC_HEADERS=1 -DHAVE_SYS_TYPES_H=1 -DHAVE_SYS_STAT_H=1 -DHAVE_STDLIB_H=1 -DHAVE_STRING_H=1 -DHAVE_MEMORY_H=1 -DHAVE_STRINGS_H=1 -DHAVE_INTTYPES_H=1 -DHAVE_STDINT_H=1 -DHAVE_UNISTD_H=1 -DHAVE_DLFCN_H=1 -DLT_OBJDIR=\\\".libs/\\\" -DHAVE_LIBGMP=1 -DHAVE_LIMITS_H=1 -DHAVE_STDLIB_H=1 -DHAVE_STRING_H=1 -DHAVE_GMP_H=1 -DHAVE_STRCHR=1 -I. -I/Users/forets/.julia/v0.5/CDDLib/deps/src/cddlib-5ff766051042f3413c534af8ffcbbe00f66b3ab1/lib-src-gmp -I/usr/local/include -DGMPRATIONAL -DGMPRATIONAL -I/Users/forets/.julia/v0.5/CDDLib/deps/src/cddlib-5ff766051042f3413c534af8ffcbbe00f66b3ab1/lib-src -I/Users/forets/.julia/v0.5/CDDLib/deps/src/cddlib-5ff766051042f3413c534af8ffcbbe00f66b3ab1/lib-src-gmp -I/Users/forets/.julia/v0.5/Homebrew/deps/usr/include -g -O2 -MT cddcore.lo -MD -MP -MF .deps/cddcore.Tpo -c /Users/forets/.julia/v0.5/CDDLib/deps/src/cddlib-5ff766051042f3413c534af8ffcbbe00f66b3ab1/lib-src-gmp/cddcore.c -o cddcore.o >/dev/null 2>&1\n",
      "libtool: compile:  gcc -DPACKAGE_NAME=\\\"cddlib\\\" -DPACKAGE_TARNAME=\\\"cddlib\\\" -DPACKAGE_VERSION=\\\"0.94\\\" \"-DPACKAGE_STRING=\\\"cddlib 0.94\\\"\" -DPACKAGE_BUGREPORT=\\\"\\\" -DPACKAGE_URL=\\\"\\\" -DPACKAGE=\\\"cddlib\\\" -DVERSION=\\\"0.94\\\" -DSTDC_HEADERS=1 -DHAVE_SYS_TYPES_H=1 -DHAVE_SYS_STAT_H=1 -DHAVE_STDLIB_H=1 -DHAVE_STRING_H=1 -DHAVE_MEMORY_H=1 -DHAVE_STRINGS_H=1 -DHAVE_INTTYPES_H=1 -DHAVE_STDINT_H=1 -DHAVE_UNISTD_H=1 -DHAVE_DLFCN_H=1 -DLT_OBJDIR=\\\".libs/\\\" -DHAVE_LIBGMP=1 -DHAVE_LIMITS_H=1 -DHAVE_STDLIB_H=1 -DHAVE_STRING_H=1 -DHAVE_GMP_H=1 -DHAVE_STRCHR=1 -I. -I/Users/forets/.julia/v0.5/CDDLib/deps/src/cddlib-5ff766051042f3413c534af8ffcbbe00f66b3ab1/lib-src-gmp -I/usr/local/include -DGMPRATIONAL -DGMPRATIONAL -I/Users/forets/.julia/v0.5/CDDLib/deps/src/cddlib-5ff766051042f3413c534af8ffcbbe00f66b3ab1/lib-src -I/Users/forets/.julia/v0.5/CDDLib/deps/src/cddlib-5ff766051042f3413c534af8ffcbbe00f66b3ab1/lib-src-gmp -I/Users/forets/.julia/v0.5/Homebrew/deps/usr/include -g -O2 -MT cddlib_f.lo -MD -MP -MF .deps/cddlib_f.Tpo -c /Users/forets/.julia/v0.5/CDDLib/deps/src/cddlib-5ff766051042f3413c534af8ffcbbe00f66b3ab1/lib-src-gmp/cddlib_f.c -o cddlib_f.o >/dev/null 2>&1\n",
      "depbase=`echo setoper.lo | sed 's|[^/]*$|.deps/&|;s|\\.lo$||'`;\\\n",
      "\t/bin/sh ../libtool  --tag=CC   --mode=compile gcc -DPACKAGE_NAME=\\\"cddlib\\\" -DPACKAGE_TARNAME=\\\"cddlib\\\" -DPACKAGE_VERSION=\\\"0.94\\\" -DPACKAGE_STRING=\\\"cddlib\\ 0.94\\\" -DPACKAGE_BUGREPORT=\\\"\\\" -DPACKAGE_URL=\\\"\\\" -DPACKAGE=\\\"cddlib\\\" -DVERSION=\\\"0.94\\\" -DSTDC_HEADERS=1 -DHAVE_SYS_TYPES_H=1 -DHAVE_SYS_STAT_H=1 -DHAVE_STDLIB_H=1 -DHAVE_STRING_H=1 -DHAVE_MEMORY_H=1 -DHAVE_STRINGS_H=1 -DHAVE_INTTYPES_H=1 -DHAVE_STDINT_H=1 -DHAVE_UNISTD_H=1 -DHAVE_DLFCN_H=1 -DLT_OBJDIR=\\\".libs/\\\" -DHAVE_LIBGMP=1 -DHAVE_LIMITS_H=1 -DHAVE_STDLIB_H=1 -DHAVE_STRING_H=1 -DHAVE_GMP_H=1 -DHAVE_STRCHR=1 -I. -I/Users/forets/.julia/v0.5/CDDLib/deps/src/cddlib-5ff766051042f3413c534af8ffcbbe00f66b3ab1/lib-src-gmp  -I/usr/local/include -DGMPRATIONAL -DGMPRATIONAL -I/Users/forets/.julia/v0.5/CDDLib/deps/src/cddlib-5ff766051042f3413c534af8ffcbbe00f66b3ab1/lib-src -I/Users/forets/.julia/v0.5/CDDLib/deps/src/cddlib-5ff766051042f3413c534af8ffcbbe00f66b3ab1/lib-src-gmp -I/Users/forets/.julia/v0.5/Homebrew/deps/usr/include  -g -O2 -MT setoper.lo -MD -MP -MF $depbase.Tpo -c -o setoper.lo /Users/forets/.julia/v0.5/CDDLib/deps/src/cddlib-5ff766051042f3413c534af8ffcbbe00f66b3ab1/lib-src-gmp/setoper.c &&\\\n",
      "\tmv -f $depbase.Tpo $depbase.Plo\n",
      "libtool: compile:  gcc -DPACKAGE_NAME=\\\"cddlib\\\" -DPACKAGE_TARNAME=\\\"cddlib\\\" -DPACKAGE_VERSION=\\\"0.94\\\" \"-DPACKAGE_STRING=\\\"cddlib 0.94\\\"\" -DPACKAGE_BUGREPORT=\\\"\\\" -DPACKAGE_URL=\\\"\\\" -DPACKAGE=\\\"cddlib\\\" -DVERSION=\\\"0.94\\\" -DSTDC_HEADERS=1 -DHAVE_SYS_TYPES_H=1 -DHAVE_SYS_STAT_H=1 -DHAVE_STDLIB_H=1 -DHAVE_STRING_H=1 -DHAVE_MEMORY_H=1 -DHAVE_STRINGS_H=1 -DHAVE_INTTYPES_H=1 -DHAVE_STDINT_H=1 -DHAVE_UNISTD_H=1 -DHAVE_DLFCN_H=1 -DLT_OBJDIR=\\\".libs/\\\" -DHAVE_LIBGMP=1 -DHAVE_LIMITS_H=1 -DHAVE_STDLIB_H=1 -DHAVE_STRING_H=1 -DHAVE_GMP_H=1 -DHAVE_STRCHR=1 -I. -I/Users/forets/.julia/v0.5/CDDLib/deps/src/cddlib-5ff766051042f3413c534af8ffcbbe00f66b3ab1/lib-src-gmp -I/usr/local/include -DGMPRATIONAL -DGMPRATIONAL -I/Users/forets/.julia/v0.5/CDDLib/deps/src/cddlib-5ff766051042f3413c534af8ffcbbe00f66b3ab1/lib-src -I/Users/forets/.julia/v0.5/CDDLib/deps/src/cddlib-5ff766051042f3413c534af8ffcbbe00f66b3ab1/lib-src-gmp -I/Users/forets/.julia/v0.5/Homebrew/deps/usr/include -g -O2 -MT cddproj_f.lo -MD -MP -MF .deps/cddproj_f.Tpo -c /Users/forets/.julia/v0.5/CDDLib/deps/src/cddlib-5ff766051042f3413c534af8ffcbbe00f66b3ab1/lib-src-gmp/cddproj_f.c  -fno-common -DPIC -o .libs/cddproj_f.o\n",
      "libtool: compile:  gcc -DPACKAGE_NAME=\\\"cddlib\\\" -DPACKAGE_TARNAME=\\\"cddlib\\\" -DPACKAGE_VERSION=\\\"0.94\\\" \"-DPACKAGE_STRING=\\\"cddlib 0.94\\\"\" -DPACKAGE_BUGREPORT=\\\"\\\" -DPACKAGE_URL=\\\"\\\" -DPACKAGE=\\\"cddlib\\\" -DVERSION=\\\"0.94\\\" -DSTDC_HEADERS=1 -DHAVE_SYS_TYPES_H=1 -DHAVE_SYS_STAT_H=1 -DHAVE_STDLIB_H=1 -DHAVE_STRING_H=1 -DHAVE_MEMORY_H=1 -DHAVE_STRINGS_H=1 -DHAVE_INTTYPES_H=1 -DHAVE_STDINT_H=1 -DHAVE_UNISTD_H=1 -DHAVE_DLFCN_H=1 -DLT_OBJDIR=\\\".libs/\\\" -DHAVE_LIBGMP=1 -DHAVE_LIMITS_H=1 -DHAVE_STDLIB_H=1 -DHAVE_STRING_H=1 -DHAVE_GMP_H=1 -DHAVE_STRCHR=1 -I. -I/Users/forets/.julia/v0.5/CDDLib/deps/src/cddlib-5ff766051042f3413c534af8ffcbbe00f66b3ab1/lib-src-gmp -I/usr/local/include -DGMPRATIONAL -DGMPRATIONAL -I/Users/forets/.julia/v0.5/CDDLib/deps/src/cddlib-5ff766051042f3413c534af8ffcbbe00f66b3ab1/lib-src -I/Users/forets/.julia/v0.5/CDDLib/deps/src/cddlib-5ff766051042f3413c534af8ffcbbe00f66b3ab1/lib-src-gmp -I/Users/forets/.julia/v0.5/Homebrew/deps/usr/include -g -O2 -MT cddlp.lo -MD -MP -MF .deps/cddlp.Tpo -c /Users/forets/.julia/v0.5/CDDLib/deps/src/cddlib-5ff766051042f3413c534af8ffcbbe00f66b3ab1/lib-src-gmp/cddlp.c -o cddlp.o >/dev/null 2>&1\n",
      "libtool: compile:  gcc -DPACKAGE_NAME=\\\"cddlib\\\" -DPACKAGE_TARNAME=\\\"cddlib\\\" -DPACKAGE_VERSION=\\\"0.94\\\" \"-DPACKAGE_STRING=\\\"cddlib 0.94\\\"\" -DPACKAGE_BUGREPORT=\\\"\\\" -DPACKAGE_URL=\\\"\\\" -DPACKAGE=\\\"cddlib\\\" -DVERSION=\\\"0.94\\\" -DSTDC_HEADERS=1 -DHAVE_SYS_TYPES_H=1 -DHAVE_SYS_STAT_H=1 -DHAVE_STDLIB_H=1 -DHAVE_STRING_H=1 -DHAVE_MEMORY_H=1 -DHAVE_STRINGS_H=1 -DHAVE_INTTYPES_H=1 -DHAVE_STDINT_H=1 -DHAVE_UNISTD_H=1 -DHAVE_DLFCN_H=1 -DLT_OBJDIR=\\\".libs/\\\" -DHAVE_LIBGMP=1 -DHAVE_LIMITS_H=1 -DHAVE_STDLIB_H=1 -DHAVE_STRING_H=1 -DHAVE_GMP_H=1 -DHAVE_STRCHR=1 -I. -I/Users/forets/.julia/v0.5/CDDLib/deps/src/cddlib-5ff766051042f3413c534af8ffcbbe00f66b3ab1/lib-src-gmp -I/usr/local/include -DGMPRATIONAL -DGMPRATIONAL -I/Users/forets/.julia/v0.5/CDDLib/deps/src/cddlib-5ff766051042f3413c534af8ffcbbe00f66b3ab1/lib-src -I/Users/forets/.julia/v0.5/CDDLib/deps/src/cddlib-5ff766051042f3413c534af8ffcbbe00f66b3ab1/lib-src-gmp -I/Users/forets/.julia/v0.5/Homebrew/deps/usr/include -g -O2 -MT cddcore_f.lo -MD -MP -MF .deps/cddcore_f.Tpo -c /Users/forets/.julia/v0.5/CDDLib/deps/src/cddlib-5ff766051042f3413c534af8ffcbbe00f66b3ab1/lib-src-gmp/cddcore_f.c -o cddcore_f.o >/dev/null 2>&1\n",
      "libtool: compile:  gcc -DPACKAGE_NAME=\\\"cddlib\\\" -DPACKAGE_TARNAME=\\\"cddlib\\\" -DPACKAGE_VERSION=\\\"0.94\\\" \"-DPACKAGE_STRING=\\\"cddlib 0.94\\\"\" -DPACKAGE_BUGREPORT=\\\"\\\" -DPACKAGE_URL=\\\"\\\" -DPACKAGE=\\\"cddlib\\\" -DVERSION=\\\"0.94\\\" -DSTDC_HEADERS=1 -DHAVE_SYS_TYPES_H=1 -DHAVE_SYS_STAT_H=1 -DHAVE_STDLIB_H=1 -DHAVE_STRING_H=1 -DHAVE_MEMORY_H=1 -DHAVE_STRINGS_H=1 -DHAVE_INTTYPES_H=1 -DHAVE_STDINT_H=1 -DHAVE_UNISTD_H=1 -DHAVE_DLFCN_H=1 -DLT_OBJDIR=\\\".libs/\\\" -DHAVE_LIBGMP=1 -DHAVE_LIMITS_H=1 -DHAVE_STDLIB_H=1 -DHAVE_STRING_H=1 -DHAVE_GMP_H=1 -DHAVE_STRCHR=1 -I. -I/Users/forets/.julia/v0.5/CDDLib/deps/src/cddlib-5ff766051042f3413c534af8ffcbbe00f66b3ab1/lib-src-gmp -I/usr/local/include -DGMPRATIONAL -DGMPRATIONAL -I/Users/forets/.julia/v0.5/CDDLib/deps/src/cddlib-5ff766051042f3413c534af8ffcbbe00f66b3ab1/lib-src -I/Users/forets/.julia/v0.5/CDDLib/deps/src/cddlib-5ff766051042f3413c534af8ffcbbe00f66b3ab1/lib-src-gmp -I/Users/forets/.julia/v0.5/Homebrew/deps/usr/include -g -O2 -MT cddio_f.lo -MD -MP -MF .deps/cddio_f.Tpo -c /Users/forets/.julia/v0.5/CDDLib/deps/src/cddlib-5ff766051042f3413c534af8ffcbbe00f66b3ab1/lib-src-gmp/cddio_f.c -o cddio_f.o >/dev/null 2>&1\n",
      "libtool: compile:  gcc -DPACKAGE_NAME=\\\"cddlib\\\" -DPACKAGE_TARNAME=\\\"cddlib\\\" -DPACKAGE_VERSION=\\\"0.94\\\" \"-DPACKAGE_STRING=\\\"cddlib 0.94\\\"\" -DPACKAGE_BUGREPORT=\\\"\\\" -DPACKAGE_URL=\\\"\\\" -DPACKAGE=\\\"cddlib\\\" -DVERSION=\\\"0.94\\\" -DSTDC_HEADERS=1 -DHAVE_SYS_TYPES_H=1 -DHAVE_SYS_STAT_H=1 -DHAVE_STDLIB_H=1 -DHAVE_STRING_H=1 -DHAVE_MEMORY_H=1 -DHAVE_STRINGS_H=1 -DHAVE_INTTYPES_H=1 -DHAVE_STDINT_H=1 -DHAVE_UNISTD_H=1 -DHAVE_DLFCN_H=1 -DLT_OBJDIR=\\\".libs/\\\" -DHAVE_LIBGMP=1 -DHAVE_LIMITS_H=1 -DHAVE_STDLIB_H=1 -DHAVE_STRING_H=1 -DHAVE_GMP_H=1 -DHAVE_STRCHR=1 -I. -I/Users/forets/.julia/v0.5/CDDLib/deps/src/cddlib-5ff766051042f3413c534af8ffcbbe00f66b3ab1/lib-src-gmp -I/usr/local/include -DGMPRATIONAL -DGMPRATIONAL -I/Users/forets/.julia/v0.5/CDDLib/deps/src/cddlib-5ff766051042f3413c534af8ffcbbe00f66b3ab1/lib-src -I/Users/forets/.julia/v0.5/CDDLib/deps/src/cddlib-5ff766051042f3413c534af8ffcbbe00f66b3ab1/lib-src-gmp -I/Users/forets/.julia/v0.5/Homebrew/deps/usr/include -g -O2 -MT cddproj_f.lo -MD -MP -MF .deps/cddproj_f.Tpo -c /Users/forets/.julia/v0.5/CDDLib/deps/src/cddlib-5ff766051042f3413c534af8ffcbbe00f66b3ab1/lib-src-gmp/cddproj_f.c -o cddproj_f.o >/dev/null 2>&1\n",
      "libtool: compile:  gcc -DPACKAGE_NAME=\\\"cddlib\\\" -DPACKAGE_TARNAME=\\\"cddlib\\\" -DPACKAGE_VERSION=\\\"0.94\\\" \"-DPACKAGE_STRING=\\\"cddlib 0.94\\\"\" -DPACKAGE_BUGREPORT=\\\"\\\" -DPACKAGE_URL=\\\"\\\" -DPACKAGE=\\\"cddlib\\\" -DVERSION=\\\"0.94\\\" -DSTDC_HEADERS=1 -DHAVE_SYS_TYPES_H=1 -DHAVE_SYS_STAT_H=1 -DHAVE_STDLIB_H=1 -DHAVE_STRING_H=1 -DHAVE_MEMORY_H=1 -DHAVE_STRINGS_H=1 -DHAVE_INTTYPES_H=1 -DHAVE_STDINT_H=1 -DHAVE_UNISTD_H=1 -DHAVE_DLFCN_H=1 -DLT_OBJDIR=\\\".libs/\\\" -DHAVE_LIBGMP=1 -DHAVE_LIMITS_H=1 -DHAVE_STDLIB_H=1 -DHAVE_STRING_H=1 -DHAVE_GMP_H=1 -DHAVE_STRCHR=1 -I. -I/Users/forets/.julia/v0.5/CDDLib/deps/src/cddlib-5ff766051042f3413c534af8ffcbbe00f66b3ab1/lib-src-gmp -I/usr/local/include -DGMPRATIONAL -DGMPRATIONAL -I/Users/forets/.julia/v0.5/CDDLib/deps/src/cddlib-5ff766051042f3413c534af8ffcbbe00f66b3ab1/lib-src -I/Users/forets/.julia/v0.5/CDDLib/deps/src/cddlib-5ff766051042f3413c534af8ffcbbe00f66b3ab1/lib-src-gmp -I/Users/forets/.julia/v0.5/Homebrew/deps/usr/include -g -O2 -MT setoper.lo -MD -MP -MF .deps/setoper.Tpo -c /Users/forets/.julia/v0.5/CDDLib/deps/src/cddlib-5ff766051042f3413c534af8ffcbbe00f66b3ab1/lib-src-gmp/setoper.c  -fno-common -DPIC -o .libs/setoper.o\n",
      "libtool: compile:  gcc -DPACKAGE_NAME=\\\"cddlib\\\" -DPACKAGE_TARNAME=\\\"cddlib\\\" -DPACKAGE_VERSION=\\\"0.94\\\" \"-DPACKAGE_STRING=\\\"cddlib 0.94\\\"\" -DPACKAGE_BUGREPORT=\\\"\\\" -DPACKAGE_URL=\\\"\\\" -DPACKAGE=\\\"cddlib\\\" -DVERSION=\\\"0.94\\\" -DSTDC_HEADERS=1 -DHAVE_SYS_TYPES_H=1 -DHAVE_SYS_STAT_H=1 -DHAVE_STDLIB_H=1 -DHAVE_STRING_H=1 -DHAVE_MEMORY_H=1 -DHAVE_STRINGS_H=1 -DHAVE_INTTYPES_H=1 -DHAVE_STDINT_H=1 -DHAVE_UNISTD_H=1 -DHAVE_DLFCN_H=1 -DLT_OBJDIR=\\\".libs/\\\" -DHAVE_LIBGMP=1 -DHAVE_LIMITS_H=1 -DHAVE_STDLIB_H=1 -DHAVE_STRING_H=1 -DHAVE_GMP_H=1 -DHAVE_STRCHR=1 -I. -I/Users/forets/.julia/v0.5/CDDLib/deps/src/cddlib-5ff766051042f3413c534af8ffcbbe00f66b3ab1/lib-src-gmp -I/usr/local/include -DGMPRATIONAL -DGMPRATIONAL -I/Users/forets/.julia/v0.5/CDDLib/deps/src/cddlib-5ff766051042f3413c534af8ffcbbe00f66b3ab1/lib-src -I/Users/forets/.julia/v0.5/CDDLib/deps/src/cddlib-5ff766051042f3413c534af8ffcbbe00f66b3ab1/lib-src-gmp -I/Users/forets/.julia/v0.5/Homebrew/deps/usr/include -g -O2 -MT setoper.lo -MD -MP -MF .deps/setoper.Tpo -c /Users/forets/.julia/v0.5/CDDLib/deps/src/cddlib-5ff766051042f3413c534af8ffcbbe00f66b3ab1/lib-src-gmp/setoper.c -o setoper.o >/dev/null 2>&1\n",
      "libtool: compile:  gcc -DPACKAGE_NAME=\\\"cddlib\\\" -DPACKAGE_TARNAME=\\\"cddlib\\\" -DPACKAGE_VERSION=\\\"0.94\\\" \"-DPACKAGE_STRING=\\\"cddlib 0.94\\\"\" -DPACKAGE_BUGREPORT=\\\"\\\" -DPACKAGE_URL=\\\"\\\" -DPACKAGE=\\\"cddlib\\\" -DVERSION=\\\"0.94\\\" -DSTDC_HEADERS=1 -DHAVE_SYS_TYPES_H=1 -DHAVE_SYS_STAT_H=1 -DHAVE_STDLIB_H=1 -DHAVE_STRING_H=1 -DHAVE_MEMORY_H=1 -DHAVE_STRINGS_H=1 -DHAVE_INTTYPES_H=1 -DHAVE_STDINT_H=1 -DHAVE_UNISTD_H=1 -DHAVE_DLFCN_H=1 -DLT_OBJDIR=\\\".libs/\\\" -DHAVE_LIBGMP=1 -DHAVE_LIMITS_H=1 -DHAVE_STDLIB_H=1 -DHAVE_STRING_H=1 -DHAVE_GMP_H=1 -DHAVE_STRCHR=1 -I. -I/Users/forets/.julia/v0.5/CDDLib/deps/src/cddlib-5ff766051042f3413c534af8ffcbbe00f66b3ab1/lib-src-gmp -I/usr/local/include -DGMPRATIONAL -DGMPRATIONAL -I/Users/forets/.julia/v0.5/CDDLib/deps/src/cddlib-5ff766051042f3413c534af8ffcbbe00f66b3ab1/lib-src -I/Users/forets/.julia/v0.5/CDDLib/deps/src/cddlib-5ff766051042f3413c534af8ffcbbe00f66b3ab1/lib-src-gmp -I/Users/forets/.julia/v0.5/Homebrew/deps/usr/include -g -O2 -MT cddlp_f.lo -MD -MP -MF .deps/cddlp_f.Tpo -c /Users/forets/.julia/v0.5/CDDLib/deps/src/cddlib-5ff766051042f3413c534af8ffcbbe00f66b3ab1/lib-src-gmp/cddlp_f.c -o cddlp_f.o >/dev/null 2>&1\n",
      "/bin/sh ../libtool  --tag=CC   --mode=link gcc  -g -O2 -version-info 0:0:0 -no-undefined -L/Applications/SageMath/local/lib -Wl,-rpath,/Applications/SageMath/local/lib  -L/Users/forets/.julia/v0.5/CDDLib/deps/usr/lib -L/Users/forets/.julia/v0.5/Homebrew/deps/usr/lib -Wl,-rpath -Wl,/Users/forets/.julia/v0.5/CDDLib/deps/usr/lib -o libcddgmp.la -rpath /Users/forets/.julia/v0.5/CDDLib/deps/usr/lib cddstd.lo cddcore.lo cddlp.lo cddmp.lo cddio.lo cddlib.lo cddproj.lo cddstd_f.lo cddcore_f.lo cddlp_f.lo cddmp_f.lo cddio_f.lo cddlib_f.lo cddproj_f.lo setoper.lo  -lgmp \n",
      "libtool: link: gcc -dynamiclib  -o .libs/libcddgmp.0.dylib  .libs/cddstd.o .libs/cddcore.o .libs/cddlp.o .libs/cddmp.o .libs/cddio.o .libs/cddlib.o .libs/cddproj.o .libs/cddstd_f.o .libs/cddcore_f.o .libs/cddlp_f.o .libs/cddmp_f.o .libs/cddio_f.o .libs/cddlib_f.o .libs/cddproj_f.o .libs/setoper.o   -L/Applications/SageMath/local/lib -L/Users/forets/.julia/v0.5/CDDLib/deps/usr/lib -L/Users/forets/.julia/v0.5/Homebrew/deps/usr/lib -lgmp  -g -O2 -Wl,-rpath -Wl,/Applications/SageMath/local/lib -Wl,-rpath -Wl,/Users/forets/.julia/v0.5/CDDLib/deps/usr/lib   -install_name  /Users/forets/.julia/v0.5/CDDLib/deps/usr/lib/libcddgmp.0.dylib -compatibility_version 1 -current_version 1.0 -Wl,-single_module\n",
      "libtool: link: (cd \".libs\" && rm -f \"libcddgmp.dylib\" && ln -s \"libcddgmp.0.dylib\" \"libcddgmp.dylib\")\n",
      "libtool: link: ar cru .libs/libcddgmp.a  cddstd.o cddcore.o cddlp.o cddmp.o cddio.o cddlib.o cddproj.o cddstd_f.o cddcore_f.o cddlp_f.o cddmp_f.o cddio_f.o cddlib_f.o cddproj_f.o setoper.o\n",
      "libtool: link: ranlib .libs/libcddgmp.a\n"
     ]
    },
    {
     "name": "stderr",
     "output_type": "stream",
     "text": [
      "ld: warning: directory not found for option '-L/Users/forets/.julia/v0.5/CDDLib/deps/usr/lib'\n"
     ]
    },
    {
     "name": "stdout",
     "output_type": "stream",
     "text": [
      "libtool: link: ( cd \".libs\" && rm -f \"libcddgmp.la\" && ln -s \"../libcddgmp.la\" \"libcddgmp.la\" )\n",
      "Making all in src-gmp\n",
      "depbase=`echo simplecdd.o | sed 's|[^/]*$|.deps/&|;s|\\.o$||'`;\\\n",
      "\tgcc -DPACKAGE_NAME=\\\"cddlib\\\" -DPACKAGE_TARNAME=\\\"cddlib\\\" -DPACKAGE_VERSION=\\\"0.94\\\" -DPACKAGE_STRING=\\\"cddlib\\ 0.94\\\" -DPACKAGE_BUGREPORT=\\\"\\\" -DPACKAGE_URL=\\\"\\\" -DPACKAGE=\\\"cddlib\\\" -DVERSION=\\\"0.94\\\" -DSTDC_HEADERS=1 -DHAVE_SYS_TYPES_H=1 -DHAVE_SYS_STAT_H=1 -DHAVE_STDLIB_H=1 -DHAVE_STRING_H=1 -DHAVE_MEMORY_H=1 -DHAVE_STRINGS_H=1 -DHAVE_INTTYPES_H=1 -DHAVE_STDINT_H=1 -DHAVE_UNISTD_H=1 -DHAVE_DLFCN_H=1 -DLT_OBJDIR=\\\".libs/\\\" -DHAVE_LIBGMP=1 -DHAVE_LIMITS_H=1 -DHAVE_STDLIB_H=1 -DHAVE_STRING_H=1 -DHAVE_GMP_H=1 -DHAVE_STRCHR=1 -I. -I/Users/forets/.julia/v0.5/CDDLib/deps/src/cddlib-5ff766051042f3413c534af8ffcbbe00f66b3ab1/src-gmp  -I../lib-src-gmp -I/usr/local/include -DGMPRATIONAL -DGMPRATIONAL -I/Users/forets/.julia/v0.5/CDDLib/deps/src/cddlib-5ff766051042f3413c534af8ffcbbe00f66b3ab1/lib-src -I/Users/forets/.julia/v0.5/CDDLib/deps/src/cddlib-5ff766051042f3413c534af8ffcbbe00f66b3ab1/lib-src-gmp -I/Users/forets/.julia/v0.5/Homebrew/deps/usr/include  -g -O2 -MT simplecdd.o -MD -MP -MF $depbase.Tpo -c -o simplecdd.o /Users/forets/.julia/v0.5/CDDLib/deps/src/cddlib-5ff766051042f3413c534af8ffcbbe00f66b3ab1/src-gmp/simplecdd.c &&\\\n",
      "\tmv -f $depbase.Tpo $depbase.Po\n",
      "depbase=`echo lcdd.o | sed 's|[^/]*$|.deps/&|;s|\\.o$||'`;\\\n",
      "\tgcc -DPACKAGE_NAME=\\\"cddlib\\\" -DPACKAGE_TARNAME=\\\"cddlib\\\" -DPACKAGE_VERSION=\\\"0.94\\\" -DPACKAGE_STRING=\\\"cddlib\\ 0.94\\\" -DPACKAGE_BUGREPORT=\\\"\\\" -DPACKAGE_URL=\\\"\\\" -DPACKAGE=\\\"cddlib\\\" -DVERSION=\\\"0.94\\\" -DSTDC_HEADERS=1 -DHAVE_SYS_TYPES_H=1 -DHAVE_SYS_STAT_H=1 -DHAVE_STDLIB_H=1 -DHAVE_STRING_H=1 -DHAVE_MEMORY_H=1 -DHAVE_STRINGS_H=1 -DHAVE_INTTYPES_H=1 -DHAVE_STDINT_H=1 -DHAVE_UNISTD_H=1 -DHAVE_DLFCN_H=1 -DLT_OBJDIR=\\\".libs/\\\" -DHAVE_LIBGMP=1 -DHAVE_LIMITS_H=1 -DHAVE_STDLIB_H=1 -DHAVE_STRING_H=1 -DHAVE_GMP_H=1 -DHAVE_STRCHR=1 -I. -I/Users/forets/.julia/v0.5/CDDLib/deps/src/cddlib-5ff766051042f3413c534af8ffcbbe00f66b3ab1/src-gmp  -I../lib-src-gmp -I/usr/local/include -DGMPRATIONAL -DGMPRATIONAL -I/Users/forets/.julia/v0.5/CDDLib/deps/src/cddlib-5ff766051042f3413c534af8ffcbbe00f66b3ab1/lib-src -I/Users/forets/.julia/v0.5/CDDLib/deps/src/cddlib-5ff766051042f3413c534af8ffcbbe00f66b3ab1/lib-src-gmp -I/Users/forets/.julia/v0.5/Homebrew/deps/usr/include  -g -O2 -MT lcdd.o -MD -MP -MF $depbase.Tpo -c -o lcdd.o /Users/forets/.julia/v0.5/CDDLib/deps/src/cddlib-5ff766051042f3413c534af8ffcbbe00f66b3ab1/src-gmp/lcdd.c &&\\\n",
      "\tmv -f $depbase.Tpo $depbase.Po\n",
      "depbase=`echo redcheck.o | sed 's|[^/]*$|.deps/&|;s|\\.o$||'`;\\\n",
      "\tgcc -DPACKAGE_NAME=\\\"cddlib\\\" -DPACKAGE_TARNAME=\\\"cddlib\\\" -DPACKAGE_VERSION=\\\"0.94\\\" -DPACKAGE_STRING=\\\"cddlib\\ 0.94\\\" -DPACKAGE_BUGREPORT=\\\"\\\" -DPACKAGE_URL=\\\"\\\" -DPACKAGE=\\\"cddlib\\\" -DVERSION=\\\"0.94\\\" -DSTDC_HEADERS=1 -DHAVE_SYS_TYPES_H=1 -DHAVE_SYS_STAT_H=1 -DHAVE_STDLIB_H=1 -DHAVE_STRING_H=1 -DHAVE_MEMORY_H=1 -DHAVE_STRINGS_H=1 -DHAVE_INTTYPES_H=1 -DHAVE_STDINT_H=1 -DHAVE_UNISTD_H=1 -DHAVE_DLFCN_H=1 -DLT_OBJDIR=\\\".libs/\\\" -DHAVE_LIBGMP=1 -DHAVE_LIMITS_H=1 -DHAVE_STDLIB_H=1 -DHAVE_STRING_H=1 -DHAVE_GMP_H=1 -DHAVE_STRCHR=1 -I. -I/Users/forets/.julia/v0.5/CDDLib/deps/src/cddlib-5ff766051042f3413c534af8ffcbbe00f66b3ab1/src-gmp  -I../lib-src-gmp -I/usr/local/include -DGMPRATIONAL -DGMPRATIONAL -I/Users/forets/.julia/v0.5/CDDLib/deps/src/cddlib-5ff766051042f3413c534af8ffcbbe00f66b3ab1/lib-src -I/Users/forets/.julia/v0.5/CDDLib/deps/src/cddlib-5ff766051042f3413c534af8ffcbbe00f66b3ab1/lib-src-gmp -I/Users/forets/.julia/v0.5/Homebrew/deps/usr/include  -g -O2 -MT redcheck.o -MD -MP -MF $depbase.Tpo -c -o redcheck.o /Users/forets/.julia/v0.5/CDDLib/deps/src/cddlib-5ff766051042f3413c534af8ffcbbe00f66b3ab1/src-gmp/redcheck.c &&\\\n",
      "\tmv -f $depbase.Tpo $depbase.Po\n",
      "depbase=`echo fourier.o | sed 's|[^/]*$|.deps/&|;s|\\.o$||'`;\\\n",
      "\tgcc -DPACKAGE_NAME=\\\"cddlib\\\" -DPACKAGE_TARNAME=\\\"cddlib\\\" -DPACKAGE_VERSION=\\\"0.94\\\" -DPACKAGE_STRING=\\\"cddlib\\ 0.94\\\" -DPACKAGE_BUGREPORT=\\\"\\\" -DPACKAGE_URL=\\\"\\\" -DPACKAGE=\\\"cddlib\\\" -DVERSION=\\\"0.94\\\" -DSTDC_HEADERS=1 -DHAVE_SYS_TYPES_H=1 -DHAVE_SYS_STAT_H=1 -DHAVE_STDLIB_H=1 -DHAVE_STRING_H=1 -DHAVE_MEMORY_H=1 -DHAVE_STRINGS_H=1 -DHAVE_INTTYPES_H=1 -DHAVE_STDINT_H=1 -DHAVE_UNISTD_H=1 -DHAVE_DLFCN_H=1 -DLT_OBJDIR=\\\".libs/\\\" -DHAVE_LIBGMP=1 -DHAVE_LIMITS_H=1 -DHAVE_STDLIB_H=1 -DHAVE_STRING_H=1 -DHAVE_GMP_H=1 -DHAVE_STRCHR=1 -I. -I/Users/forets/.julia/v0.5/CDDLib/deps/src/cddlib-5ff766051042f3413c534af8ffcbbe00f66b3ab1/src-gmp  -I../lib-src-gmp -I/usr/local/include -DGMPRATIONAL -DGMPRATIONAL -I/Users/forets/.julia/v0.5/CDDLib/deps/src/cddlib-5ff766051042f3413c534af8ffcbbe00f66b3ab1/lib-src -I/Users/forets/.julia/v0.5/CDDLib/deps/src/cddlib-5ff766051042f3413c534af8ffcbbe00f66b3ab1/lib-src-gmp -I/Users/forets/.julia/v0.5/Homebrew/deps/usr/include  -g -O2 -MT fourier.o -MD -MP -MF $depbase.Tpo -c -o fourier.o /Users/forets/.julia/v0.5/CDDLib/deps/src/cddlib-5ff766051042f3413c534af8ffcbbe00f66b3ab1/src-gmp/fourier.c &&\\\n",
      "\tmv -f $depbase.Tpo $depbase.Po\n",
      "depbase=`echo projection.o | sed 's|[^/]*$|.deps/&|;s|\\.o$||'`;\\\n",
      "\tgcc -DPACKAGE_NAME=\\\"cddlib\\\" -DPACKAGE_TARNAME=\\\"cddlib\\\" -DPACKAGE_VERSION=\\\"0.94\\\" -DPACKAGE_STRING=\\\"cddlib\\ 0.94\\\" -DPACKAGE_BUGREPORT=\\\"\\\" -DPACKAGE_URL=\\\"\\\" -DPACKAGE=\\\"cddlib\\\" -DVERSION=\\\"0.94\\\" -DSTDC_HEADERS=1 -DHAVE_SYS_TYPES_H=1 -DHAVE_SYS_STAT_H=1 -DHAVE_STDLIB_H=1 -DHAVE_STRING_H=1 -DHAVE_MEMORY_H=1 -DHAVE_STRINGS_H=1 -DHAVE_INTTYPES_H=1 -DHAVE_STDINT_H=1 -DHAVE_UNISTD_H=1 -DHAVE_DLFCN_H=1 -DLT_OBJDIR=\\\".libs/\\\" -DHAVE_LIBGMP=1 -DHAVE_LIMITS_H=1 -DHAVE_STDLIB_H=1 -DHAVE_STRING_H=1 -DHAVE_GMP_H=1 -DHAVE_STRCHR=1 -I. -I/Users/forets/.julia/v0.5/CDDLib/deps/src/cddlib-5ff766051042f3413c534af8ffcbbe00f66b3ab1/src-gmp  -I../lib-src-gmp -I/usr/local/include -DGMPRATIONAL -DGMPRATIONAL -I/Users/forets/.julia/v0.5/CDDLib/deps/src/cddlib-5ff766051042f3413c534af8ffcbbe00f66b3ab1/lib-src -I/Users/forets/.julia/v0.5/CDDLib/deps/src/cddlib-5ff766051042f3413c534af8ffcbbe00f66b3ab1/lib-src-gmp -I/Users/forets/.julia/v0.5/Homebrew/deps/usr/include  -g -O2 -MT projection.o -MD -MP -MF $depbase.Tpo -c -o projection.o /Users/forets/.julia/v0.5/CDDLib/deps/src/cddlib-5ff766051042f3413c534af8ffcbbe00f66b3ab1/src-gmp/projection.c &&\\\n",
      "\tmv -f $depbase.Tpo $depbase.Po\n",
      "depbase=`echo adjacency.o | sed 's|[^/]*$|.deps/&|;s|\\.o$||'`;\\\n",
      "\tgcc -DPACKAGE_NAME=\\\"cddlib\\\" -DPACKAGE_TARNAME=\\\"cddlib\\\" -DPACKAGE_VERSION=\\\"0.94\\\" -DPACKAGE_STRING=\\\"cddlib\\ 0.94\\\" -DPACKAGE_BUGREPORT=\\\"\\\" -DPACKAGE_URL=\\\"\\\" -DPACKAGE=\\\"cddlib\\\" -DVERSION=\\\"0.94\\\" -DSTDC_HEADERS=1 -DHAVE_SYS_TYPES_H=1 -DHAVE_SYS_STAT_H=1 -DHAVE_STDLIB_H=1 -DHAVE_STRING_H=1 -DHAVE_MEMORY_H=1 -DHAVE_STRINGS_H=1 -DHAVE_INTTYPES_H=1 -DHAVE_STDINT_H=1 -DHAVE_UNISTD_H=1 -DHAVE_DLFCN_H=1 -DLT_OBJDIR=\\\".libs/\\\" -DHAVE_LIBGMP=1 -DHAVE_LIMITS_H=1 -DHAVE_STDLIB_H=1 -DHAVE_STRING_H=1 -DHAVE_GMP_H=1 -DHAVE_STRCHR=1 -I. -I/Users/forets/.julia/v0.5/CDDLib/deps/src/cddlib-5ff766051042f3413c534af8ffcbbe00f66b3ab1/src-gmp  -I../lib-src-gmp -I/usr/local/include -DGMPRATIONAL -DGMPRATIONAL -I/Users/forets/.julia/v0.5/CDDLib/deps/src/cddlib-5ff766051042f3413c534af8ffcbbe00f66b3ab1/lib-src -I/Users/forets/.julia/v0.5/CDDLib/deps/src/cddlib-5ff766051042f3413c534af8ffcbbe00f66b3ab1/lib-src-gmp -I/Users/forets/.julia/v0.5/Homebrew/deps/usr/include  -g -O2 -MT adjacency.o -MD -MP -MF $depbase.Tpo -c -o adjacency.o /Users/forets/.julia/v0.5/CDDLib/deps/src/cddlib-5ff766051042f3413c534af8ffcbbe00f66b3ab1/src-gmp/adjacency.c &&\\\n",
      "\tmv -f $depbase.Tpo $depbase.Po\n",
      "depbase=`echo allfaces.o | sed 's|[^/]*$|.deps/&|;s|\\.o$||'`;\\\n",
      "\tgcc -DPACKAGE_NAME=\\\"cddlib\\\" -DPACKAGE_TARNAME=\\\"cddlib\\\" -DPACKAGE_VERSION=\\\"0.94\\\" -DPACKAGE_STRING=\\\"cddlib\\ 0.94\\\" -DPACKAGE_BUGREPORT=\\\"\\\" -DPACKAGE_URL=\\\"\\\" -DPACKAGE=\\\"cddlib\\\" -DVERSION=\\\"0.94\\\" -DSTDC_HEADERS=1 -DHAVE_SYS_TYPES_H=1 -DHAVE_SYS_STAT_H=1 -DHAVE_STDLIB_H=1 -DHAVE_STRING_H=1 -DHAVE_MEMORY_H=1 -DHAVE_STRINGS_H=1 -DHAVE_INTTYPES_H=1 -DHAVE_STDINT_H=1 -DHAVE_UNISTD_H=1 -DHAVE_DLFCN_H=1 -DLT_OBJDIR=\\\".libs/\\\" -DHAVE_LIBGMP=1 -DHAVE_LIMITS_H=1 -DHAVE_STDLIB_H=1 -DHAVE_STRING_H=1 -DHAVE_GMP_H=1 -DHAVE_STRCHR=1 -I. -I/Users/forets/.julia/v0.5/CDDLib/deps/src/cddlib-5ff766051042f3413c534af8ffcbbe00f66b3ab1/src-gmp  -I../lib-src-gmp -I/usr/local/include -DGMPRATIONAL -DGMPRATIONAL -I/Users/forets/.julia/v0.5/CDDLib/deps/src/cddlib-5ff766051042f3413c534af8ffcbbe00f66b3ab1/lib-src -I/Users/forets/.julia/v0.5/CDDLib/deps/src/cddlib-5ff766051042f3413c534af8ffcbbe00f66b3ab1/lib-src-gmp -I/Users/forets/.julia/v0.5/Homebrew/deps/usr/include  -g -O2 -MT allfaces.o -MD -MP -MF $depbase.Tpo -c -o allfaces.o /Users/forets/.julia/v0.5/CDDLib/deps/src/cddlib-5ff766051042f3413c534af8ffcbbe00f66b3ab1/src-gmp/allfaces.c &&\\\n",
      "\tmv -f $depbase.Tpo $depbase.Po\n",
      "depbase=`echo testshoot.o | sed 's|[^/]*$|.deps/&|;s|\\.o$||'`;\\\n",
      "\tgcc -DPACKAGE_NAME=\\\"cddlib\\\" -DPACKAGE_TARNAME=\\\"cddlib\\\" -DPACKAGE_VERSION=\\\"0.94\\\" -DPACKAGE_STRING=\\\"cddlib\\ 0.94\\\" -DPACKAGE_BUGREPORT=\\\"\\\" -DPACKAGE_URL=\\\"\\\" -DPACKAGE=\\\"cddlib\\\" -DVERSION=\\\"0.94\\\" -DSTDC_HEADERS=1 -DHAVE_SYS_TYPES_H=1 -DHAVE_SYS_STAT_H=1 -DHAVE_STDLIB_H=1 -DHAVE_STRING_H=1 -DHAVE_MEMORY_H=1 -DHAVE_STRINGS_H=1 -DHAVE_INTTYPES_H=1 -DHAVE_STDINT_H=1 -DHAVE_UNISTD_H=1 -DHAVE_DLFCN_H=1 -DLT_OBJDIR=\\\".libs/\\\" -DHAVE_LIBGMP=1 -DHAVE_LIMITS_H=1 -DHAVE_STDLIB_H=1 -DHAVE_STRING_H=1 -DHAVE_GMP_H=1 -DHAVE_STRCHR=1 -I. -I/Users/forets/.julia/v0.5/CDDLib/deps/src/cddlib-5ff766051042f3413c534af8ffcbbe00f66b3ab1/src-gmp  -I../lib-src-gmp -I/usr/local/include -DGMPRATIONAL -DGMPRATIONAL -I/Users/forets/.julia/v0.5/CDDLib/deps/src/cddlib-5ff766051042f3413c534af8ffcbbe00f66b3ab1/lib-src -I/Users/forets/.julia/v0.5/CDDLib/deps/src/cddlib-5ff766051042f3413c534af8ffcbbe00f66b3ab1/lib-src-gmp -I/Users/forets/.julia/v0.5/Homebrew/deps/usr/include  -g -O2 -MT testshoot.o -MD -MP -MF $depbase.Tpo -c -o testshoot.o /Users/forets/.julia/v0.5/CDDLib/deps/src/cddlib-5ff766051042f3413c534af8ffcbbe00f66b3ab1/src-gmp/testshoot.c &&\\\n",
      "\tmv -f $depbase.Tpo $depbase.Po\n",
      "depbase=`echo testcdd1.o | sed 's|[^/]*$|.deps/&|;s|\\.o$||'`;\\\n",
      "\tgcc -DPACKAGE_NAME=\\\"cddlib\\\" -DPACKAGE_TARNAME=\\\"cddlib\\\" -DPACKAGE_VERSION=\\\"0.94\\\" -DPACKAGE_STRING=\\\"cddlib\\ 0.94\\\" -DPACKAGE_BUGREPORT=\\\"\\\" -DPACKAGE_URL=\\\"\\\" -DPACKAGE=\\\"cddlib\\\" -DVERSION=\\\"0.94\\\" -DSTDC_HEADERS=1 -DHAVE_SYS_TYPES_H=1 -DHAVE_SYS_STAT_H=1 -DHAVE_STDLIB_H=1 -DHAVE_STRING_H=1 -DHAVE_MEMORY_H=1 -DHAVE_STRINGS_H=1 -DHAVE_INTTYPES_H=1 -DHAVE_STDINT_H=1 -DHAVE_UNISTD_H=1 -DHAVE_DLFCN_H=1 -DLT_OBJDIR=\\\".libs/\\\" -DHAVE_LIBGMP=1 -DHAVE_LIMITS_H=1 -DHAVE_STDLIB_H=1 -DHAVE_STRING_H=1 -DHAVE_GMP_H=1 -DHAVE_STRCHR=1 -I. -I/Users/forets/.julia/v0.5/CDDLib/deps/src/cddlib-5ff766051042f3413c534af8ffcbbe00f66b3ab1/src-gmp  -I../lib-src-gmp -I/usr/local/include -DGMPRATIONAL -DGMPRATIONAL -I/Users/forets/.julia/v0.5/CDDLib/deps/src/cddlib-5ff766051042f3413c534af8ffcbbe00f66b3ab1/lib-src -I/Users/forets/.julia/v0.5/CDDLib/deps/src/cddlib-5ff766051042f3413c534af8ffcbbe00f66b3ab1/lib-src-gmp -I/Users/forets/.julia/v0.5/Homebrew/deps/usr/include  -g -O2 -MT testcdd1.o -MD -MP -MF $depbase.Tpo -c -o testcdd1.o /Users/forets/.julia/v0.5/CDDLib/deps/src/cddlib-5ff766051042f3413c534af8ffcbbe00f66b3ab1/src-gmp/testcdd1.c &&\\\n",
      "\tmv -f $depbase.Tpo $depbase.Po\n",
      "depbase=`echo testcdd2.o | sed 's|[^/]*$|.deps/&|;s|\\.o$||'`;\\\n",
      "\tgcc -DPACKAGE_NAME=\\\"cddlib\\\" -DPACKAGE_TARNAME=\\\"cddlib\\\" -DPACKAGE_VERSION=\\\"0.94\\\" -DPACKAGE_STRING=\\\"cddlib\\ 0.94\\\" -DPACKAGE_BUGREPORT=\\\"\\\" -DPACKAGE_URL=\\\"\\\" -DPACKAGE=\\\"cddlib\\\" -DVERSION=\\\"0.94\\\" -DSTDC_HEADERS=1 -DHAVE_SYS_TYPES_H=1 -DHAVE_SYS_STAT_H=1 -DHAVE_STDLIB_H=1 -DHAVE_STRING_H=1 -DHAVE_MEMORY_H=1 -DHAVE_STRINGS_H=1 -DHAVE_INTTYPES_H=1 -DHAVE_STDINT_H=1 -DHAVE_UNISTD_H=1 -DHAVE_DLFCN_H=1 -DLT_OBJDIR=\\\".libs/\\\" -DHAVE_LIBGMP=1 -DHAVE_LIMITS_H=1 -DHAVE_STDLIB_H=1 -DHAVE_STRING_H=1 -DHAVE_GMP_H=1 -DHAVE_STRCHR=1 -I. -I/Users/forets/.julia/v0.5/CDDLib/deps/src/cddlib-5ff766051042f3413c534af8ffcbbe00f66b3ab1/src-gmp  -I../lib-src-gmp -I/usr/local/include -DGMPRATIONAL -DGMPRATIONAL -I/Users/forets/.julia/v0.5/CDDLib/deps/src/cddlib-5ff766051042f3413c534af8ffcbbe00f66b3ab1/lib-src -I/Users/forets/.julia/v0.5/CDDLib/deps/src/cddlib-5ff766051042f3413c534af8ffcbbe00f66b3ab1/lib-src-gmp -I/Users/forets/.julia/v0.5/Homebrew/deps/usr/include  -g -O2 -MT testcdd2.o -MD -MP -MF $depbase.Tpo -c -o testcdd2.o /Users/forets/.julia/v0.5/CDDLib/deps/src/cddlib-5ff766051042f3413c534af8ffcbbe00f66b3ab1/src-gmp/testcdd2.c &&\\\n",
      "\tmv -f $depbase.Tpo $depbase.Po\n",
      "depbase=`echo testlp1.o | sed 's|[^/]*$|.deps/&|;s|\\.o$||'`;\\\n",
      "\tgcc -DPACKAGE_NAME=\\\"cddlib\\\" -DPACKAGE_TARNAME=\\\"cddlib\\\" -DPACKAGE_VERSION=\\\"0.94\\\" -DPACKAGE_STRING=\\\"cddlib\\ 0.94\\\" -DPACKAGE_BUGREPORT=\\\"\\\" -DPACKAGE_URL=\\\"\\\" -DPACKAGE=\\\"cddlib\\\" -DVERSION=\\\"0.94\\\" -DSTDC_HEADERS=1 -DHAVE_SYS_TYPES_H=1 -DHAVE_SYS_STAT_H=1 -DHAVE_STDLIB_H=1 -DHAVE_STRING_H=1 -DHAVE_MEMORY_H=1 -DHAVE_STRINGS_H=1 -DHAVE_INTTYPES_H=1 -DHAVE_STDINT_H=1 -DHAVE_UNISTD_H=1 -DHAVE_DLFCN_H=1 -DLT_OBJDIR=\\\".libs/\\\" -DHAVE_LIBGMP=1 -DHAVE_LIMITS_H=1 -DHAVE_STDLIB_H=1 -DHAVE_STRING_H=1 -DHAVE_GMP_H=1 -DHAVE_STRCHR=1 -I. -I/Users/forets/.julia/v0.5/CDDLib/deps/src/cddlib-5ff766051042f3413c534af8ffcbbe00f66b3ab1/src-gmp  -I../lib-src-gmp -I/usr/local/include -DGMPRATIONAL -DGMPRATIONAL -I/Users/forets/.julia/v0.5/CDDLib/deps/src/cddlib-5ff766051042f3413c534af8ffcbbe00f66b3ab1/lib-src -I/Users/forets/.julia/v0.5/CDDLib/deps/src/cddlib-5ff766051042f3413c534af8ffcbbe00f66b3ab1/lib-src-gmp -I/Users/forets/.julia/v0.5/Homebrew/deps/usr/include  -g -O2 -MT testlp1.o -MD -MP -MF $depbase.Tpo -c -o testlp1.o /Users/forets/.julia/v0.5/CDDLib/deps/src/cddlib-5ff766051042f3413c534af8ffcbbe00f66b3ab1/src-gmp/testlp1.c &&\\\n",
      "\tmv -f $depbase.Tpo $depbase.Po\n",
      "depbase=`echo testlp2.o | sed 's|[^/]*$|.deps/&|;s|\\.o$||'`;\\\n",
      "\tgcc -DPACKAGE_NAME=\\\"cddlib\\\" -DPACKAGE_TARNAME=\\\"cddlib\\\" -DPACKAGE_VERSION=\\\"0.94\\\" -DPACKAGE_STRING=\\\"cddlib\\ 0.94\\\" -DPACKAGE_BUGREPORT=\\\"\\\" -DPACKAGE_URL=\\\"\\\" -DPACKAGE=\\\"cddlib\\\" -DVERSION=\\\"0.94\\\" -DSTDC_HEADERS=1 -DHAVE_SYS_TYPES_H=1 -DHAVE_SYS_STAT_H=1 -DHAVE_STDLIB_H=1 -DHAVE_STRING_H=1 -DHAVE_MEMORY_H=1 -DHAVE_STRINGS_H=1 -DHAVE_INTTYPES_H=1 -DHAVE_STDINT_H=1 -DHAVE_UNISTD_H=1 -DHAVE_DLFCN_H=1 -DLT_OBJDIR=\\\".libs/\\\" -DHAVE_LIBGMP=1 -DHAVE_LIMITS_H=1 -DHAVE_STDLIB_H=1 -DHAVE_STRING_H=1 -DHAVE_GMP_H=1 -DHAVE_STRCHR=1 -I. -I/Users/forets/.julia/v0.5/CDDLib/deps/src/cddlib-5ff766051042f3413c534af8ffcbbe00f66b3ab1/src-gmp  -I../lib-src-gmp -I/usr/local/include -DGMPRATIONAL -DGMPRATIONAL -I/Users/forets/.julia/v0.5/CDDLib/deps/src/cddlib-5ff766051042f3413c534af8ffcbbe00f66b3ab1/lib-src -I/Users/forets/.julia/v0.5/CDDLib/deps/src/cddlib-5ff766051042f3413c534af8ffcbbe00f66b3ab1/lib-src-gmp -I/Users/forets/.julia/v0.5/Homebrew/deps/usr/include  -g -O2 -MT testlp2.o -MD -MP -MF $depbase.Tpo -c -o testlp2.o /Users/forets/.julia/v0.5/CDDLib/deps/src/cddlib-5ff766051042f3413c534af8ffcbbe00f66b3ab1/src-gmp/testlp2.c &&\\\n",
      "\tmv -f $depbase.Tpo $depbase.Po\n",
      "depbase=`echo testlp3.o | sed 's|[^/]*$|.deps/&|;s|\\.o$||'`;\\\n",
      "\tgcc -DPACKAGE_NAME=\\\"cddlib\\\" -DPACKAGE_TARNAME=\\\"cddlib\\\" -DPACKAGE_VERSION=\\\"0.94\\\" -DPACKAGE_STRING=\\\"cddlib\\ 0.94\\\" -DPACKAGE_BUGREPORT=\\\"\\\" -DPACKAGE_URL=\\\"\\\" -DPACKAGE=\\\"cddlib\\\" -DVERSION=\\\"0.94\\\" -DSTDC_HEADERS=1 -DHAVE_SYS_TYPES_H=1 -DHAVE_SYS_STAT_H=1 -DHAVE_STDLIB_H=1 -DHAVE_STRING_H=1 -DHAVE_MEMORY_H=1 -DHAVE_STRINGS_H=1 -DHAVE_INTTYPES_H=1 -DHAVE_STDINT_H=1 -DHAVE_UNISTD_H=1 -DHAVE_DLFCN_H=1 -DLT_OBJDIR=\\\".libs/\\\" -DHAVE_LIBGMP=1 -DHAVE_LIMITS_H=1 -DHAVE_STDLIB_H=1 -DHAVE_STRING_H=1 -DHAVE_GMP_H=1 -DHAVE_STRCHR=1 -I. -I/Users/forets/.julia/v0.5/CDDLib/deps/src/cddlib-5ff766051042f3413c534af8ffcbbe00f66b3ab1/src-gmp  -I../lib-src-gmp -I/usr/local/include -DGMPRATIONAL -DGMPRATIONAL -I/Users/forets/.julia/v0.5/CDDLib/deps/src/cddlib-5ff766051042f3413c534af8ffcbbe00f66b3ab1/lib-src -I/Users/forets/.julia/v0.5/CDDLib/deps/src/cddlib-5ff766051042f3413c534af8ffcbbe00f66b3ab1/lib-src-gmp -I/Users/forets/.julia/v0.5/Homebrew/deps/usr/include  -g -O2 -MT testlp3.o -MD -MP -MF $depbase.Tpo -c -o testlp3.o /Users/forets/.julia/v0.5/CDDLib/deps/src/cddlib-5ff766051042f3413c534af8ffcbbe00f66b3ab1/src-gmp/testlp3.c &&\\\n",
      "\tmv -f $depbase.Tpo $depbase.Po\n",
      "/bin/sh ../libtool  --tag=CC   --mode=link gcc  -g -O2 -L/usr/local/lib -L/Applications/SageMath/local/lib -Wl,-rpath,/Applications/SageMath/local/lib  -L/Users/forets/.julia/v0.5/CDDLib/deps/usr/lib -L/Users/forets/.julia/v0.5/Homebrew/deps/usr/lib -Wl,-rpath -Wl,/Users/forets/.julia/v0.5/CDDLib/deps/usr/lib -o scdd_gmp simplecdd.o ../lib-src-gmp/libcddgmp.la -lgmp \n",
      "/bin/sh ../libtool  --tag=CC   --mode=link gcc  -g -O2 -L/usr/local/lib -L/Applications/SageMath/local/lib -Wl,-rpath,/Applications/SageMath/local/lib  -L/Users/forets/.julia/v0.5/CDDLib/deps/usr/lib -L/Users/forets/.julia/v0.5/Homebrew/deps/usr/lib -Wl,-rpath -Wl,/Users/forets/.julia/v0.5/CDDLib/deps/usr/lib -o lcdd_gmp lcdd.o ../lib-src-gmp/libcddgmp.la -lgmp \n",
      "/bin/sh ../libtool  --tag=CC   --mode=link gcc  -g -O2 -L/usr/local/lib -L/Applications/SageMath/local/lib -Wl,-rpath,/Applications/SageMath/local/lib  -L/Users/forets/.julia/v0.5/CDDLib/deps/usr/lib -L/Users/forets/.julia/v0.5/Homebrew/deps/usr/lib -Wl,-rpath -Wl,/Users/forets/.julia/v0.5/CDDLib/deps/usr/lib -o redcheck_gmp redcheck.o ../lib-src-gmp/libcddgmp.la -lgmp \n",
      "/bin/sh ../libtool  --tag=CC   --mode=link gcc  -g -O2 -L/usr/local/lib -L/Applications/SageMath/local/lib -Wl,-rpath,/Applications/SageMath/local/lib  -L/Users/forets/.julia/v0.5/CDDLib/deps/usr/lib -L/Users/forets/.julia/v0.5/Homebrew/deps/usr/lib -Wl,-rpath -Wl,/Users/forets/.julia/v0.5/CDDLib/deps/usr/lib -o fourier_gmp fourier.o ../lib-src-gmp/libcddgmp.la -lgmp \n",
      "/bin/sh ../libtool  --tag=CC   --mode=link gcc  -g -O2 -L/usr/local/lib -L/Applications/SageMath/local/lib -Wl,-rpath,/Applications/SageMath/local/lib  -L/Users/forets/.julia/v0.5/CDDLib/deps/usr/lib -L/Users/forets/.julia/v0.5/Homebrew/deps/usr/lib -Wl,-rpath -Wl,/Users/forets/.julia/v0.5/CDDLib/deps/usr/lib -o projection_gmp projection.o ../lib-src-gmp/libcddgmp.la -lgmp \n",
      "/bin/sh ../libtool  --tag=CC   --mode=link gcc  -g -O2 -L/usr/local/lib -L/Applications/SageMath/local/lib -Wl,-rpath,/Applications/SageMath/local/lib  -L/Users/forets/.julia/v0.5/CDDLib/deps/usr/lib -L/Users/forets/.julia/v0.5/Homebrew/deps/usr/lib -Wl,-rpath -Wl,/Users/forets/.julia/v0.5/CDDLib/deps/usr/lib -o adjacency_gmp adjacency.o ../lib-src-gmp/libcddgmp.la -lgmp \n",
      "/bin/sh ../libtool  --tag=CC   --mode=link gcc  -g -O2 -L/usr/local/lib -L/Applications/SageMath/local/lib -Wl,-rpath,/Applications/SageMath/local/lib  -L/Users/forets/.julia/v0.5/CDDLib/deps/usr/lib -L/Users/forets/.julia/v0.5/Homebrew/deps/usr/lib -Wl,-rpath -Wl,/Users/forets/.julia/v0.5/CDDLib/deps/usr/lib -o allfaces_gmp allfaces.o ../lib-src-gmp/libcddgmp.la -lgmp \n",
      "/bin/sh ../libtool  --tag=CC   --mode=link gcc  -g -O2 -L/usr/local/lib -L/Applications/SageMath/local/lib -Wl,-rpath,/Applications/SageMath/local/lib  -L/Users/forets/.julia/v0.5/CDDLib/deps/usr/lib -L/Users/forets/.julia/v0.5/Homebrew/deps/usr/lib -Wl,-rpath -Wl,/Users/forets/.julia/v0.5/CDDLib/deps/usr/lib -o testshoot_gmp testshoot.o ../lib-src-gmp/libcddgmp.la -lgmp \n",
      "libtool: link: gcc -g -O2 -Wl,-rpath -Wl,/Applications/SageMath/local/lib -Wl,-rpath -Wl,/Users/forets/.julia/v0.5/CDDLib/deps/usr/lib -o .libs/scdd_gmp simplecdd.o  -L/usr/local/lib -L/Applications/SageMath/local/lib -L/Users/forets/.julia/v0.5/CDDLib/deps/usr/lib -L/Users/forets/.julia/v0.5/Homebrew/deps/usr/lib ../lib-src-gmp/.libs/libcddgmp.dylib -lgmp\n",
      "libtool: link: gcc -g -O2 -Wl,-rpath -Wl,/Applications/SageMath/local/lib -Wl,-rpath -Wl,/Users/forets/.julia/v0.5/CDDLib/deps/usr/lib -o .libs/lcdd_gmp lcdd.o  -L/usr/local/lib -L/Applications/SageMath/local/lib -L/Users/forets/.julia/v0.5/CDDLib/deps/usr/lib -L/Users/forets/.julia/v0.5/Homebrew/deps/usr/lib ../lib-src-gmp/.libs/libcddgmp.dylib -lgmp\n",
      "libtool: link: gcc -g -O2 -Wl,-rpath -Wl,/Applications/SageMath/local/lib -Wl,-rpath -Wl,/Users/forets/.julia/v0.5/CDDLib/deps/usr/lib -o .libs/redcheck_gmp redcheck.o  -L/usr/local/lib -L/Applications/SageMath/local/lib -L/Users/forets/.julia/v0.5/CDDLib/deps/usr/lib -L/Users/forets/.julia/v0.5/Homebrew/deps/usr/lib ../lib-src-gmp/.libs/libcddgmp.dylib -lgmp\n",
      "/bin/sh ../libtool  --tag=CC   --mode=link gcc  -g -O2 -L/usr/local/lib -L/Applications/SageMath/local/lib -Wl,-rpath,/Applications/SageMath/local/lib  -L/Users/forets/.julia/v0.5/CDDLib/deps/usr/lib -L/Users/forets/.julia/v0.5/Homebrew/deps/usr/lib -Wl,-rpath -Wl,/Users/forets/.julia/v0.5/CDDLib/deps/usr/lib -o testcdd1_gmp testcdd1.o ../lib-src-gmp/libcddgmp.la -lgmp \n",
      "/bin/sh ../libtool  --tag=CC   --mode=link gcc  -g -O2 -L/usr/local/lib -L/Applications/SageMath/local/lib -Wl,-rpath,/Applications/SageMath/local/lib  -L/Users/forets/.julia/v0.5/CDDLib/deps/usr/lib -L/Users/forets/.julia/v0.5/Homebrew/deps/usr/lib -Wl,-rpath -Wl,/Users/forets/.julia/v0.5/CDDLib/deps/usr/lib -o testcdd2_gmp testcdd2.o ../lib-src-gmp/libcddgmp.la -lgmp \n",
      "/bin/sh ../libtool  --tag=CC   --mode=link gcc  -g -O2 -L/usr/local/lib -L/Applications/SageMath/local/lib -Wl,-rpath,/Applications/SageMath/local/lib  -L/Users/forets/.julia/v0.5/CDDLib/deps/usr/lib -L/Users/forets/.julia/v0.5/Homebrew/deps/usr/lib -Wl,-rpath -Wl,/Users/forets/.julia/v0.5/CDDLib/deps/usr/lib -o testlp1_gmp testlp1.o ../lib-src-gmp/libcddgmp.la -lgmp \n"
     ]
    },
    {
     "name": "stderr",
     "output_type": "stream",
     "text": [
      "ld: warning: directory not found for option '-L/Users/forets/.julia/v0.5/CDDLib/deps/usr/lib'\n",
      "ld: warning: directory not found for option '-L/Users/forets/.julia/v0.5/CDDLib/deps/usr/lib'\n",
      "ld: warning: directory not found for option '-L/Users/forets/.julia/v0.5/CDDLib/deps/usr/lib'\n"
     ]
    },
    {
     "name": "stdout",
     "output_type": "stream",
     "text": [
      "libtool: link: gcc -g -O2 -Wl,-rpath -Wl,/Applications/SageMath/local/lib -Wl,-rpath -Wl,/Users/forets/.julia/v0.5/CDDLib/deps/usr/lib -o .libs/allfaces_gmp allfaces.o  -L/usr/local/lib -L/Applications/SageMath/local/lib -L/Users/forets/.julia/v0.5/CDDLib/deps/usr/lib -L/Users/forets/.julia/v0.5/Homebrew/deps/usr/lib ../lib-src-gmp/.libs/libcddgmp.dylib -lgmp\n",
      "libtool: link: gcc -g -O2 -Wl,-rpath -Wl,/Applications/SageMath/local/lib -Wl,-rpath -Wl,/Users/forets/.julia/v0.5/CDDLib/deps/usr/lib -o .libs/projection_gmp projection.o  -L/usr/local/lib -L/Applications/SageMath/local/lib -L/Users/forets/.julia/v0.5/CDDLib/deps/usr/lib -L/Users/forets/.julia/v0.5/Homebrew/deps/usr/lib ../lib-src-gmp/.libs/libcddgmp.dylib -lgmp\n",
      "libtool: link: gcc -g -O2 -Wl,-rpath -Wl,/Applications/SageMath/local/lib -Wl,-rpath -Wl,/Users/forets/.julia/v0.5/CDDLib/deps/usr/lib -o .libs/adjacency_gmp adjacency.o  -L/usr/local/lib -L/Applications/SageMath/local/lib -L/Users/forets/.julia/v0.5/CDDLib/deps/usr/lib -L/Users/forets/.julia/v0.5/Homebrew/deps/usr/lib ../lib-src-gmp/.libs/libcddgmp.dylib -lgmp\n",
      "libtool: link: gcc -g -O2 -Wl,-rpath -Wl,/Applications/SageMath/local/lib -Wl,-rpath -Wl,/Users/forets/.julia/v0.5/CDDLib/deps/usr/lib -o .libs/testshoot_gmp testshoot.o  -L/usr/local/lib -L/Applications/SageMath/local/lib -L/Users/forets/.julia/v0.5/CDDLib/deps/usr/lib -L/Users/forets/.julia/v0.5/Homebrew/deps/usr/lib ../lib-src-gmp/.libs/libcddgmp.dylib -lgmp\n",
      "libtool: link: gcc -g -O2 -Wl,-rpath -Wl,/Applications/SageMath/local/lib -Wl,-rpath -Wl,/Users/forets/.julia/v0.5/CDDLib/deps/usr/lib -o .libs/fourier_gmp fourier.o  -L/usr/local/lib -L/Applications/SageMath/local/lib -L/Users/forets/.julia/v0.5/CDDLib/deps/usr/lib -L/Users/forets/.julia/v0.5/Homebrew/deps/usr/lib ../lib-src-gmp/.libs/libcddgmp.dylib -lgmp\n",
      "/bin/sh ../libtool  --tag=CC   --mode=link gcc  -g -O2 -L/usr/local/lib -L/Applications/SageMath/local/lib -Wl,-rpath,/Applications/SageMath/local/lib  -L/Users/forets/.julia/v0.5/CDDLib/deps/usr/lib -L/Users/forets/.julia/v0.5/Homebrew/deps/usr/lib -Wl,-rpath -Wl,/Users/forets/.julia/v0.5/CDDLib/deps/usr/lib -o testlp2_gmp testlp2.o ../lib-src-gmp/libcddgmp.la -lgmp \n",
      "/bin/sh ../libtool  --tag=CC   --mode=link gcc  -g -O2 -L/usr/local/lib -L/Applications/SageMath/local/lib -Wl,-rpath,/Applications/SageMath/local/lib  -L/Users/forets/.julia/v0.5/CDDLib/deps/usr/lib -L/Users/forets/.julia/v0.5/Homebrew/deps/usr/lib -Wl,-rpath -Wl,/Users/forets/.julia/v0.5/CDDLib/deps/usr/lib -o testlp3_gmp testlp3.o ../lib-src-gmp/libcddgmp.la -lgmp \n"
     ]
    },
    {
     "name": "stderr",
     "output_type": "stream",
     "text": [
      "ldld: warning: directory not : foundwarning: directory  not found forfor  optionoption  ''--LL//UsersUsers/forets/.julia//forets/v0.5.julia/v0.5//CDDLibCDDLib//deps/usr/lib'\n",
      "deps/usr/lib'\n",
      "ld: warning: directory not found for option '-L/Users/forets/.julia/v0.5/CDDLib/deps/usr/lib'\n",
      "ld: warning: directory not found for option '-L/Users/forets/.julia/v0.5/CDDLib/deps/usr/lib'\n",
      "ld: warning: directory not found for option '-L/Users/forets/.julia/v0.5/CDDLib/deps/usr/lib'\n"
     ]
    },
    {
     "name": "stdout",
     "output_type": "stream",
     "text": [
      "libtool: link: gcc -g -O2 -Wl,-rpath -Wl,/Applications/SageMath/local/lib -Wl,-rpath -Wl,/Users/forets/.julia/v0.5/CDDLib/deps/usr/lib -o .libs/testcdd1_gmp testcdd1.o  -L/usr/local/lib -L/Applications/SageMath/local/lib -L/Users/forets/.julia/v0.5/CDDLib/deps/usr/lib -L/Users/forets/.julia/v0.5/Homebrew/deps/usr/lib ../lib-src-gmp/.libs/libcddgmp.dylib -lgmp\n",
      "libtool: link: gcc -g -O2 -Wl,-rpath -Wl,/Applications/SageMath/local/lib -Wl,-rpath -Wl,/Users/forets/.julia/v0.5/CDDLib/deps/usr/lib -o .libs/testlp1_gmp testlp1.o  -L/usr/local/lib -L/Applications/SageMath/local/lib -L/Users/forets/.julia/v0.5/CDDLib/deps/usr/lib -L/Users/forets/.julia/v0.5/Homebrew/deps/usr/lib ../lib-src-gmp/.libs/libcddgmp.dylib -lgmp\n",
      "libtool: link: gcc -g -O2 -Wl,-rpath -Wl,/Applications/SageMath/local/lib -Wl,-rpath -Wl,/Users/forets/.julia/v0.5/CDDLib/deps/usr/lib -o .libs/testcdd2_gmp testcdd2.o  -L/usr/local/lib -L/Applications/SageMath/local/lib -L/Users/forets/.julia/v0.5/CDDLib/deps/usr/lib -L/Users/forets/.julia/v0.5/Homebrew/deps/usr/lib ../lib-src-gmp/.libs/libcddgmp.dylib -lgmp\n",
      "libtool: link: gcc -g -O2 -Wl,-rpath -Wl,/Applications/SageMath/local/lib -Wl,-rpath -Wl,/Users/forets/.julia/v0.5/CDDLib/deps/usr/lib -o .libs/testlp3_gmp testlp3.o  -L/usr/local/lib -L/Applications/SageMath/local/lib -L/Users/forets/.julia/v0.5/CDDLib/deps/usr/lib -L/Users/forets/.julia/v0.5/Homebrew/deps/usr/lib ../lib-src-gmp/.libs/libcddgmp.dylib -lgmp\n",
      "libtool: link: gcc -g -O2 -Wl,-rpath -Wl,/Applications/SageMath/local/lib -Wl,-rpath -Wl,/Users/forets/.julia/v0.5/CDDLib/deps/usr/lib -o .libs/testlp2_gmp testlp2.o  -L/usr/local/lib -L/Applications/SageMath/local/lib -L/Users/forets/.julia/v0.5/CDDLib/deps/usr/lib -L/Users/forets/.julia/v0.5/Homebrew/deps/usr/lib ../lib-src-gmp/.libs/libcddgmp.dylib -lgmp\n",
      "make[1]: Nothing to be done for `all-am'.\n"
     ]
    },
    {
     "name": "stderr",
     "output_type": "stream",
     "text": [
      "ld: warning: directory not found for option '-L/Users/forets/.julia/v0.5/CDDLib/deps/usr/lib'\n",
      "ld: warning: directory not found for option '-L/Users/forets/.julia/v0.5/CDDLib/deps/usr/lib'\n",
      "ld: warning: directory not found for option '-L/Users/forets/.julia/v0.5/CDDLib/deps/usr/lib'\n",
      "ldld::  warningwarning::  directorydirectory  notnot  foundfound  forfor  optionoption  ''--LL//UsersUsers//foretsforets//..juliajulia//v0.5v0.5//CDDLib/CDDLib/depsdeps//usrusr//liblib''\n",
      "\n"
     ]
    },
    {
     "name": "stdout",
     "output_type": "stream",
     "text": [
      "Making install in lib-src\n",
      " /usr/local/opt/coreutils/libexec/gnubin/mkdir -p '/Users/forets/.julia/v0.5/CDDLib/deps/usr/include'\n",
      " /usr/local/opt/coreutils/libexec/gnubin/mkdir -p '/Users/forets/.julia/v0.5/CDDLib/deps/usr/lib'\n",
      " /bin/sh ../libtool   --mode=install /usr/local/opt/coreutils/libexec/gnubin/install -c   libcdd.la '/Users/forets/.julia/v0.5/CDDLib/deps/usr/lib'\n",
      " /usr/local/opt/coreutils/libexec/gnubin/install -c -m 644 /Users/forets/.julia/v0.5/CDDLib/deps/src/cddlib-5ff766051042f3413c534af8ffcbbe00f66b3ab1/lib-src/cddstd.h /Users/forets/.julia/v0.5/CDDLib/deps/src/cddlib-5ff766051042f3413c534af8ffcbbe00f66b3ab1/lib-src/cdd.h /Users/forets/.julia/v0.5/CDDLib/deps/src/cddlib-5ff766051042f3413c534af8ffcbbe00f66b3ab1/lib-src/cddmp.h /Users/forets/.julia/v0.5/CDDLib/deps/src/cddlib-5ff766051042f3413c534af8ffcbbe00f66b3ab1/lib-src/cddtypes.h /Users/forets/.julia/v0.5/CDDLib/deps/src/cddlib-5ff766051042f3413c534af8ffcbbe00f66b3ab1/lib-src/setoper.h '/Users/forets/.julia/v0.5/CDDLib/deps/usr/include'\n",
      "libtool: install: /usr/local/opt/coreutils/libexec/gnubin/install -c .libs/libcdd.0.dylib /Users/forets/.julia/v0.5/CDDLib/deps/usr/lib/libcdd.0.dylib\n",
      "libtool: install: (cd /Users/forets/.julia/v0.5/CDDLib/deps/usr/lib && { ln -s -f libcdd.0.dylib libcdd.dylib || { rm -f libcdd.dylib && ln -s libcdd.0.dylib libcdd.dylib; }; })\n",
      "libtool: install: /usr/local/opt/coreutils/libexec/gnubin/install -c .libs/libcdd.lai /Users/forets/.julia/v0.5/CDDLib/deps/usr/lib/libcdd.la\n",
      "libtool: install: /usr/local/opt/coreutils/libexec/gnubin/install -c .libs/libcdd.a /Users/forets/.julia/v0.5/CDDLib/deps/usr/lib/libcdd.a\n",
      "libtool: install: chmod 644 /Users/forets/.julia/v0.5/CDDLib/deps/usr/lib/libcdd.a\n",
      "libtool: install: ranlib /Users/forets/.julia/v0.5/CDDLib/deps/usr/lib/libcdd.a\n"
     ]
    },
    {
     "name": "stderr",
     "output_type": "stream",
     "text": [
      "INFO: Changing Directory to /Users/forets/.julia/v0.5/CDDLib/deps/builds/libcddgmp\n"
     ]
    },
    {
     "name": "stdout",
     "output_type": "stream",
     "text": [
      "Making install in src\n",
      "make[2]: Nothing to be done for `install-data-am'.\n",
      " /usr/local/opt/coreutils/libexec/gnubin/mkdir -p '/Users/forets/.julia/v0.5/CDDLib/deps/usr/bin'\n",
      "  /bin/sh ../libtool   --mode=install /usr/local/opt/coreutils/libexec/gnubin/install -c scdd lcdd redcheck fourier projection adjacency allfaces testcdd1 testshoot testcdd2 testlp1 testlp2 testlp3 '/Users/forets/.julia/v0.5/CDDLib/deps/usr/bin'\n",
      "libtool: install: /usr/local/opt/coreutils/libexec/gnubin/install -c .libs/scdd /Users/forets/.julia/v0.5/CDDLib/deps/usr/bin/scdd\n",
      "libtool: install: /usr/local/opt/coreutils/libexec/gnubin/install -c .libs/lcdd /Users/forets/.julia/v0.5/CDDLib/deps/usr/bin/lcdd\n",
      "libtool: install: /usr/local/opt/coreutils/libexec/gnubin/install -c .libs/redcheck /Users/forets/.julia/v0.5/CDDLib/deps/usr/bin/redcheck\n",
      "libtool: install: /usr/local/opt/coreutils/libexec/gnubin/install -c .libs/fourier /Users/forets/.julia/v0.5/CDDLib/deps/usr/bin/fourier\n",
      "libtool: install: /usr/local/opt/coreutils/libexec/gnubin/install -c .libs/projection /Users/forets/.julia/v0.5/CDDLib/deps/usr/bin/projection\n",
      "libtool: install: /usr/local/opt/coreutils/libexec/gnubin/install -c .libs/adjacency /Users/forets/.julia/v0.5/CDDLib/deps/usr/bin/adjacency\n",
      "libtool: install: /usr/local/opt/coreutils/libexec/gnubin/install -c .libs/allfaces /Users/forets/.julia/v0.5/CDDLib/deps/usr/bin/allfaces\n",
      "libtool: install: /usr/local/opt/coreutils/libexec/gnubin/install -c .libs/testcdd1 /Users/forets/.julia/v0.5/CDDLib/deps/usr/bin/testcdd1\n",
      "libtool: install: /usr/local/opt/coreutils/libexec/gnubin/install -c .libs/testshoot /Users/forets/.julia/v0.5/CDDLib/deps/usr/bin/testshoot\n",
      "libtool: install: /usr/local/opt/coreutils/libexec/gnubin/install -c .libs/testcdd2 /Users/forets/.julia/v0.5/CDDLib/deps/usr/bin/testcdd2\n",
      "libtool: install: /usr/local/opt/coreutils/libexec/gnubin/install -c .libs/testlp1 /Users/forets/.julia/v0.5/CDDLib/deps/usr/bin/testlp1\n",
      "libtool: install: /usr/local/opt/coreutils/libexec/gnubin/install -c .libs/testlp2 /Users/forets/.julia/v0.5/CDDLib/deps/usr/bin/testlp2\n",
      "libtool: install: /usr/local/opt/coreutils/libexec/gnubin/install -c .libs/testlp3 /Users/forets/.julia/v0.5/CDDLib/deps/usr/bin/testlp3\n",
      "Making install in lib-src-gmp\n",
      " /usr/local/opt/coreutils/libexec/gnubin/mkdir -p '/Users/forets/.julia/v0.5/CDDLib/deps/usr/lib'\n",
      " /usr/local/opt/coreutils/libexec/gnubin/mkdir -p '/Users/forets/.julia/v0.5/CDDLib/deps/usr/include'\n",
      " /bin/sh ../libtool   --mode=install /usr/local/opt/coreutils/libexec/gnubin/install -c   libcddgmp.la '/Users/forets/.julia/v0.5/CDDLib/deps/usr/lib'\n",
      " /usr/local/opt/coreutils/libexec/gnubin/install -c -m 644 /Users/forets/.julia/v0.5/CDDLib/deps/src/cddlib-5ff766051042f3413c534af8ffcbbe00f66b3ab1/lib-src-gmp/cddstd.h /Users/forets/.julia/v0.5/CDDLib/deps/src/cddlib-5ff766051042f3413c534af8ffcbbe00f66b3ab1/lib-src-gmp/cdd.h /Users/forets/.julia/v0.5/CDDLib/deps/src/cddlib-5ff766051042f3413c534af8ffcbbe00f66b3ab1/lib-src-gmp/cddmp.h /Users/forets/.julia/v0.5/CDDLib/deps/src/cddlib-5ff766051042f3413c534af8ffcbbe00f66b3ab1/lib-src-gmp/cddtypes.h /Users/forets/.julia/v0.5/CDDLib/deps/src/cddlib-5ff766051042f3413c534af8ffcbbe00f66b3ab1/lib-src-gmp/cddstd_f.h /Users/forets/.julia/v0.5/CDDLib/deps/src/cddlib-5ff766051042f3413c534af8ffcbbe00f66b3ab1/lib-src-gmp/cdd_f.h /Users/forets/.julia/v0.5/CDDLib/deps/src/cddlib-5ff766051042f3413c534af8ffcbbe00f66b3ab1/lib-src-gmp/cddmp_f.h /Users/forets/.julia/v0.5/CDDLib/deps/src/cddlib-5ff766051042f3413c534af8ffcbbe00f66b3ab1/lib-src-gmp/cddtypes_f.h /Users/forets/.julia/v0.5/CDDLib/deps/src/cddlib-5ff766051042f3413c534af8ffcbbe00f66b3ab1/lib-src-gmp/setoper.h '/Users/forets/.julia/v0.5/CDDLib/deps/usr/include'\n",
      "libtool: install: /usr/local/opt/coreutils/libexec/gnubin/install -c .libs/libcddgmp.0.dylib /Users/forets/.julia/v0.5/CDDLib/deps/usr/lib/libcddgmp.0.dylib\n",
      "libtool: install: (cd /Users/forets/.julia/v0.5/CDDLib/deps/usr/lib && { ln -s -f libcddgmp.0.dylib libcddgmp.dylib || { rm -f libcddgmp.dylib && ln -s libcddgmp.0.dylib libcddgmp.dylib; }; })\n",
      "libtool: install: /usr/local/opt/coreutils/libexec/gnubin/install -c .libs/libcddgmp.lai /Users/forets/.julia/v0.5/CDDLib/deps/usr/lib/libcddgmp.la\n",
      "libtool: install: /usr/local/opt/coreutils/libexec/gnubin/install -c .libs/libcddgmp.a /Users/forets/.julia/v0.5/CDDLib/deps/usr/lib/libcddgmp.a\n",
      "libtool: install: chmod 644 /Users/forets/.julia/v0.5/CDDLib/deps/usr/lib/libcddgmp.a\n",
      "libtool: install: ranlib /Users/forets/.julia/v0.5/CDDLib/deps/usr/lib/libcddgmp.a\n",
      "Making install in src-gmp\n",
      "make[2]: Nothing to be done for `install-data-am'.\n",
      " /usr/local/opt/coreutils/libexec/gnubin/mkdir -p '/Users/forets/.julia/v0.5/CDDLib/deps/usr/bin'\n",
      "  /bin/sh ../libtool   --mode=install /usr/local/opt/coreutils/libexec/gnubin/install -c scdd_gmp lcdd_gmp redcheck_gmp fourier_gmp projection_gmp adjacency_gmp allfaces_gmp testshoot_gmp testcdd1_gmp testcdd2_gmp testlp1_gmp testlp2_gmp testlp3_gmp '/Users/forets/.julia/v0.5/CDDLib/deps/usr/bin'\n",
      "libtool: install: /usr/local/opt/coreutils/libexec/gnubin/install -c .libs/scdd_gmp /Users/forets/.julia/v0.5/CDDLib/deps/usr/bin/scdd_gmp\n",
      "libtool: install: /usr/local/opt/coreutils/libexec/gnubin/install -c .libs/lcdd_gmp /Users/forets/.julia/v0.5/CDDLib/deps/usr/bin/lcdd_gmp\n",
      "libtool: install: /usr/local/opt/coreutils/libexec/gnubin/install -c .libs/redcheck_gmp /Users/forets/.julia/v0.5/CDDLib/deps/usr/bin/redcheck_gmp\n",
      "libtool: install: /usr/local/opt/coreutils/libexec/gnubin/install -c .libs/fourier_gmp /Users/forets/.julia/v0.5/CDDLib/deps/usr/bin/fourier_gmp\n",
      "libtool: install: /usr/local/opt/coreutils/libexec/gnubin/install -c .libs/projection_gmp /Users/forets/.julia/v0.5/CDDLib/deps/usr/bin/projection_gmp\n",
      "libtool: install: /usr/local/opt/coreutils/libexec/gnubin/install -c .libs/adjacency_gmp /Users/forets/.julia/v0.5/CDDLib/deps/usr/bin/adjacency_gmp\n",
      "libtool: install: /usr/local/opt/coreutils/libexec/gnubin/install -c .libs/allfaces_gmp /Users/forets/.julia/v0.5/CDDLib/deps/usr/bin/allfaces_gmp\n",
      "libtool: install: /usr/local/opt/coreutils/libexec/gnubin/install -c .libs/testshoot_gmp /Users/forets/.julia/v0.5/CDDLib/deps/usr/bin/testshoot_gmp\n",
      "libtool: install: /usr/local/opt/coreutils/libexec/gnubin/install -c .libs/testcdd1_gmp /Users/forets/.julia/v0.5/CDDLib/deps/usr/bin/testcdd1_gmp\n",
      "libtool: install: /usr/local/opt/coreutils/libexec/gnubin/install -c .libs/testcdd2_gmp /Users/forets/.julia/v0.5/CDDLib/deps/usr/bin/testcdd2_gmp\n",
      "libtool: install: /usr/local/opt/coreutils/libexec/gnubin/install -c .libs/testlp1_gmp /Users/forets/.julia/v0.5/CDDLib/deps/usr/bin/testlp1_gmp\n",
      "libtool: install: /usr/local/opt/coreutils/libexec/gnubin/install -c .libs/testlp2_gmp /Users/forets/.julia/v0.5/CDDLib/deps/usr/bin/testlp2_gmp\n",
      "libtool: install: /usr/local/opt/coreutils/libexec/gnubin/install -c .libs/testlp3_gmp /Users/forets/.julia/v0.5/CDDLib/deps/usr/bin/testlp3_gmp\n",
      "make[2]: Nothing to be done for `install-exec-am'.\n",
      "make[2]: Nothing to be done for `install-data-am'.\n"
     ]
    },
    {
     "name": "stderr",
     "output_type": "stream",
     "text": [
      "\n",
      "================================[ BUILD ERRORS ]================================\n",
      "\n",
      "WARNING: Homebrew had build errors.\n",
      "\n",
      " - packages with build errors remain installed in /Users/forets/.julia/v0.5\n",
      " - build the package(s) and all dependencies with `Pkg.build(\"Homebrew\")`\n",
      " - build a single package by running its `deps/build.jl` script\n",
      "\n",
      "================================================================================\n",
      "INFO: Package database updated\n",
      "INFO: METADATA is out-of-date — you may not have the latest version of CDDLib\n",
      "INFO: Use `Pkg.update()` to get the latest versions of your packages\n"
     ]
    }
   ],
   "source": [
    "Pkg.add(\"CDDLib\")"
   ]
  },
  {
   "cell_type": "code",
   "execution_count": 3,
   "metadata": {
    "collapsed": true
   },
   "outputs": [
    {
     "name": "stderr",
     "output_type": "stream",
     "text": [
      "INFO: Cloning cache of LRSLib from https://github.com/JuliaPolyhedra/LRSLib.jl.git\n",
      "INFO: Installing LRSLib v0.0.2\n",
      "INFO: Building Homebrew\n"
     ]
    },
    {
     "name": "stdout",
     "output_type": "stream",
     "text": [
      "Already up-to-date.\n"
     ]
    },
    {
     "name": "stderr",
     "output_type": "stream",
     "text": [
      "Error: Refusing to uninstall /Users/forets/.julia/v0.5/Homebrew/deps/usr/Cellar/gmp/6.1.1\n",
      "because it is required by nettle 3.3, which is currently installed.\n",
      "You can override this and force removal with:\n",
      "  brew uninstall --ignore-dependencies gmp\n",
      "==============================[ ERROR: Homebrew ]===============================\n",
      "\n",
      "LoadError: failed process: Process(`/Users/forets/.julia/v0.5/Homebrew/deps/usr/bin/brew rm gmp --force`, ProcessExited(1)) [1]\n",
      "while loading /Users/forets/.julia/v0.5/Homebrew/deps/build.jl, in expression starting on line 2\n",
      "\n",
      "================================================================================\n",
      "INFO: Building LRSLib\n",
      "INFO: Attempting to Create directory /Users/forets/.julia/v0.5/LRSLib/deps/downloads\n",
      "INFO: Downloading file https://github.com/blegat/lrslib/archive/2b35cc36c39d1ebca35dbc21a75a35864f0c07b1.zip\n",
      "  % Total    % Received % Xferd  Average Speed   Time    Time     Time  Current\n",
      "                                 Dload  Upload   Total   Spent    Left  Speed\n",
      "100   152    0   152    0     0    133      0 --:--:--  0:00:01 --:--:--   133\n",
      "100  278k    0  278k    0     0  88102      0 --:--:--  0:00:03 --:--:--  208k\n"
     ]
    },
    {
     "name": "stdout",
     "output_type": "stream",
     "text": [
      "Archive:  /Users/forets/.julia/v0.5/LRSLib/deps/downloads/2b35cc36c39d1ebca35dbc21a75a35864f0c07b1.zip\n",
      "2b35cc36c39d1ebca35dbc21a75a35864f0c07b1\n",
      "   creating: /Users/forets/.julia/v0.5/LRSLib/deps/src/lrslib-2b35cc36c39d1ebca35dbc21a75a35864f0c07b1/\n",
      "  inflating: /Users/forets/.julia/v0.5/LRSLib/deps/src/lrslib-2b35cc36c39d1ebca35dbc21a75a35864f0c07b1/2nash.c  \n",
      "  inflating: /Users/forets/.julia/v0.5/LRSLib/deps/src/lrslib-2b35cc36c39d1ebca35dbc21a75a35864f0c07b1/COPYING  \n",
      "  inflating: /Users/forets/.julia/v0.5/LRSLib/deps/src/lrslib-2b35cc36c39d1ebca35dbc21a75a35864f0c07b1/README  \n",
      "  inflating: /Users/forets/.julia/v0.5/LRSLib/deps/src/lrslib-2b35cc36c39d1ebca35dbc21a75a35864f0c07b1/chdemo.c  \n",
      "  inflating: /Users/forets/.julia/v0.5/LRSLib/deps/src/lrslib-2b35cc36c39d1ebca35dbc21a75a35864f0c07b1/cleanthreads  \n",
      "  inflating: /Users/forets/.julia/v0.5/LRSLib/deps/src/lrslib-2b35cc36c39d1ebca35dbc21a75a35864f0c07b1/cube.ext  \n",
      "  inflating: /Users/forets/.julia/v0.5/LRSLib/deps/src/lrslib-2b35cc36c39d1ebca35dbc21a75a35864f0c07b1/cube.ine  \n",
      "   creating: /Users/forets/.julia/v0.5/LRSLib/deps/src/lrslib-2b35cc36c39d1ebca35dbc21a75a35864f0c07b1/ext/\n",
      "   creating: /Users/forets/.julia/v0.5/LRSLib/deps/src/lrslib-2b35cc36c39d1ebca35dbc21a75a35864f0c07b1/ext/metric/\n",
      "  inflating: /Users/forets/.julia/v0.5/LRSLib/deps/src/lrslib-2b35cc36c39d1ebca35dbc21a75a35864f0c07b1/ext/metric/cp4.ext  \n",
      "  inflating: /Users/forets/.julia/v0.5/LRSLib/deps/src/lrslib-2b35cc36c39d1ebca35dbc21a75a35864f0c07b1/ext/metric/cp5.ext  \n",
      "  inflating: /Users/forets/.julia/v0.5/LRSLib/deps/src/lrslib-2b35cc36c39d1ebca35dbc21a75a35864f0c07b1/ext/metric/cp6.ext  \n",
      "  inflating: /Users/forets/.julia/v0.5/LRSLib/deps/src/lrslib-2b35cc36c39d1ebca35dbc21a75a35864f0c07b1/ext/metric/cp7.ext  \n",
      "  inflating: /Users/forets/.julia/v0.5/LRSLib/deps/src/lrslib-2b35cc36c39d1ebca35dbc21a75a35864f0c07b1/ext/metric/mp5.ext  \n",
      "   creating: /Users/forets/.julia/v0.5/LRSLib/deps/src/lrslib-2b35cc36c39d1ebca35dbc21a75a35864f0c07b1/ext/test/\n",
      "  inflating: /Users/forets/.julia/v0.5/LRSLib/deps/src/lrslib-2b35cc36c39d1ebca35dbc21a75a35864f0c07b1/ext/test/cut16_11.ext  \n",
      "  inflating: /Users/forets/.julia/v0.5/LRSLib/deps/src/lrslib-2b35cc36c39d1ebca35dbc21a75a35864f0c07b1/ext/test/cut32_16.ext  \n",
      "  inflating: /Users/forets/.julia/v0.5/LRSLib/deps/src/lrslib-2b35cc36c39d1ebca35dbc21a75a35864f0c07b1/ext/test/cyclic25_13.ext  \n",
      "  inflating: /Users/forets/.julia/v0.5/LRSLib/deps/src/lrslib-2b35cc36c39d1ebca35dbc21a75a35864f0c07b1/ext/test/tsp5.ext  \n",
      "  inflating: /Users/forets/.julia/v0.5/LRSLib/deps/src/lrslib-2b35cc36c39d1ebca35dbc21a75a35864f0c07b1/float2rat.c  \n",
      "  inflating: /Users/forets/.julia/v0.5/LRSLib/deps/src/lrslib-2b35cc36c39d1ebca35dbc21a75a35864f0c07b1/fourier.c  \n",
      "  inflating: /Users/forets/.julia/v0.5/LRSLib/deps/src/lrslib-2b35cc36c39d1ebca35dbc21a75a35864f0c07b1/game  \n",
      "  inflating: /Users/forets/.julia/v0.5/LRSLib/deps/src/lrslib-2b35cc36c39d1ebca35dbc21a75a35864f0c07b1/game1  \n",
      "  inflating: /Users/forets/.julia/v0.5/LRSLib/deps/src/lrslib-2b35cc36c39d1ebca35dbc21a75a35864f0c07b1/game2  \n",
      "   creating: /Users/forets/.julia/v0.5/LRSLib/deps/src/lrslib-2b35cc36c39d1ebca35dbc21a75a35864f0c07b1/ine/\n",
      "   creating: /Users/forets/.julia/v0.5/LRSLib/deps/src/lrslib-2b35cc36c39d1ebca35dbc21a75a35864f0c07b1/ine/cocoa13/\n",
      "  inflating: /Users/forets/.julia/v0.5/LRSLib/deps/src/lrslib-2b35cc36c39d1ebca35dbc21a75a35864f0c07b1/ine/cocoa13/bv10.ine  \n",
      "  inflating: /Users/forets/.julia/v0.5/LRSLib/deps/src/lrslib-2b35cc36c39d1ebca35dbc21a75a35864f0c07b1/ine/cocoa13/bv4.ine  \n",
      "  inflating: /Users/forets/.julia/v0.5/LRSLib/deps/src/lrslib-2b35cc36c39d1ebca35dbc21a75a35864f0c07b1/ine/cocoa13/bv5.ine  \n",
      "  inflating: /Users/forets/.julia/v0.5/LRSLib/deps/src/lrslib-2b35cc36c39d1ebca35dbc21a75a35864f0c07b1/ine/cocoa13/bv6.ine  \n",
      "  inflating: /Users/forets/.julia/v0.5/LRSLib/deps/src/lrslib-2b35cc36c39d1ebca35dbc21a75a35864f0c07b1/ine/cocoa13/bv7.ine  \n",
      "  inflating: /Users/forets/.julia/v0.5/LRSLib/deps/src/lrslib-2b35cc36c39d1ebca35dbc21a75a35864f0c07b1/ine/cocoa13/bv8.ine  \n",
      "  inflating: /Users/forets/.julia/v0.5/LRSLib/deps/src/lrslib-2b35cc36c39d1ebca35dbc21a75a35864f0c07b1/ine/cocoa13/bv9.ine  \n",
      "  inflating: /Users/forets/.julia/v0.5/LRSLib/deps/src/lrslib-2b35cc36c39d1ebca35dbc21a75a35864f0c07b1/ine/cocoa13/c28-14.ext  \n",
      "  inflating: /Users/forets/.julia/v0.5/LRSLib/deps/src/lrslib-2b35cc36c39d1ebca35dbc21a75a35864f0c07b1/ine/cocoa13/c30-15.ext  \n",
      "  inflating: /Users/forets/.julia/v0.5/LRSLib/deps/src/lrslib-2b35cc36c39d1ebca35dbc21a75a35864f0c07b1/ine/cocoa13/c40-20.ext  \n",
      "  inflating: /Users/forets/.julia/v0.5/LRSLib/deps/src/lrslib-2b35cc36c39d1ebca35dbc21a75a35864f0c07b1/ine/cocoa13/mit.ine  \n",
      "  inflating: /Users/forets/.julia/v0.5/LRSLib/deps/src/lrslib-2b35cc36c39d1ebca35dbc21a75a35864f0c07b1/ine/cocoa13/perm10.ine  \n",
      "  inflating: /Users/forets/.julia/v0.5/LRSLib/deps/src/lrslib-2b35cc36c39d1ebca35dbc21a75a35864f0c07b1/ine/cocoa13/perm4.ine  \n",
      "  inflating: /Users/forets/.julia/v0.5/LRSLib/deps/src/lrslib-2b35cc36c39d1ebca35dbc21a75a35864f0c07b1/ine/cocoa13/perm5.ine  \n",
      "  inflating: /Users/forets/.julia/v0.5/LRSLib/deps/src/lrslib-2b35cc36c39d1ebca35dbc21a75a35864f0c07b1/ine/cocoa13/perm6.ine  \n",
      "  inflating: /Users/forets/.julia/v0.5/LRSLib/deps/src/lrslib-2b35cc36c39d1ebca35dbc21a75a35864f0c07b1/ine/cocoa13/perm7.ine  \n",
      "  inflating: /Users/forets/.julia/v0.5/LRSLib/deps/src/lrslib-2b35cc36c39d1ebca35dbc21a75a35864f0c07b1/ine/cocoa13/perm8.ine  \n",
      "  inflating: /Users/forets/.julia/v0.5/LRSLib/deps/src/lrslib-2b35cc36c39d1ebca35dbc21a75a35864f0c07b1/ine/cocoa13/perm9.ine  \n",
      "   creating: /Users/forets/.julia/v0.5/LRSLib/deps/src/lrslib-2b35cc36c39d1ebca35dbc21a75a35864f0c07b1/ine/metric/\n",
      "  inflating: /Users/forets/.julia/v0.5/LRSLib/deps/src/lrslib-2b35cc36c39d1ebca35dbc21a75a35864f0c07b1/ine/metric/cp4.ine  \n",
      "  inflating: /Users/forets/.julia/v0.5/LRSLib/deps/src/lrslib-2b35cc36c39d1ebca35dbc21a75a35864f0c07b1/ine/metric/cp5.ine  \n",
      "  inflating: /Users/forets/.julia/v0.5/LRSLib/deps/src/lrslib-2b35cc36c39d1ebca35dbc21a75a35864f0c07b1/ine/metric/cp6.ine  \n",
      "  inflating: /Users/forets/.julia/v0.5/LRSLib/deps/src/lrslib-2b35cc36c39d1ebca35dbc21a75a35864f0c07b1/ine/metric/mp5.ine  \n",
      "  inflating: /Users/forets/.julia/v0.5/LRSLib/deps/src/lrslib-2b35cc36c39d1ebca35dbc21a75a35864f0c07b1/ine/metric/mp6.ine  \n",
      "   creating: /Users/forets/.julia/v0.5/LRSLib/deps/src/lrslib-2b35cc36c39d1ebca35dbc21a75a35864f0c07b1/ine/mit/\n",
      "  inflating: /Users/forets/.julia/v0.5/LRSLib/deps/src/lrslib-2b35cc36c39d1ebca35dbc21a75a35864f0c07b1/ine/mit/mit.ine  \n",
      "  inflating: /Users/forets/.julia/v0.5/LRSLib/deps/src/lrslib-2b35cc36c39d1ebca35dbc21a75a35864f0c07b1/ine/mit/mit288-281.ine  \n",
      "  inflating: /Users/forets/.julia/v0.5/LRSLib/deps/src/lrslib-2b35cc36c39d1ebca35dbc21a75a35864f0c07b1/ine/mit/mit31-20.ine  \n",
      "  inflating: /Users/forets/.julia/v0.5/LRSLib/deps/src/lrslib-2b35cc36c39d1ebca35dbc21a75a35864f0c07b1/ine/mit/mit41-16.ine  \n",
      "  inflating: /Users/forets/.julia/v0.5/LRSLib/deps/src/lrslib-2b35cc36c39d1ebca35dbc21a75a35864f0c07b1/ine/mit/mit708-9.ine  \n",
      "  inflating: /Users/forets/.julia/v0.5/LRSLib/deps/src/lrslib-2b35cc36c39d1ebca35dbc21a75a35864f0c07b1/ine/mit/mit71-61.ine  \n",
      "  inflating: /Users/forets/.julia/v0.5/LRSLib/deps/src/lrslib-2b35cc36c39d1ebca35dbc21a75a35864f0c07b1/ine/mit/mit90-86.ine  \n",
      "   creating: /Users/forets/.julia/v0.5/LRSLib/deps/src/lrslib-2b35cc36c39d1ebca35dbc21a75a35864f0c07b1/ine/test-061/\n",
      "  inflating: /Users/forets/.julia/v0.5/LRSLib/deps/src/lrslib-2b35cc36c39d1ebca35dbc21a75a35864f0c07b1/ine/test-061/bv7.ine  \n",
      "  inflating: /Users/forets/.julia/v0.5/LRSLib/deps/src/lrslib-2b35cc36c39d1ebca35dbc21a75a35864f0c07b1/ine/test-061/c40-20.ext  \n",
      "  inflating: /Users/forets/.julia/v0.5/LRSLib/deps/src/lrslib-2b35cc36c39d1ebca35dbc21a75a35864f0c07b1/ine/test-061/cp6.ine  \n",
      "  inflating: /Users/forets/.julia/v0.5/LRSLib/deps/src/lrslib-2b35cc36c39d1ebca35dbc21a75a35864f0c07b1/ine/test-061/fq48-19.ine  \n",
      "  inflating: /Users/forets/.julia/v0.5/LRSLib/deps/src/lrslib-2b35cc36c39d1ebca35dbc21a75a35864f0c07b1/ine/test-061/m6.ine  \n",
      "  inflating: /Users/forets/.julia/v0.5/LRSLib/deps/src/lrslib-2b35cc36c39d1ebca35dbc21a75a35864f0c07b1/ine/test-061/mit.ine  \n",
      "  inflating: /Users/forets/.julia/v0.5/LRSLib/deps/src/lrslib-2b35cc36c39d1ebca35dbc21a75a35864f0c07b1/ine/test-061/mit71-61.ine  \n",
      "  inflating: /Users/forets/.julia/v0.5/LRSLib/deps/src/lrslib-2b35cc36c39d1ebca35dbc21a75a35864f0c07b1/ine/test-061/perm10.ine  \n",
      "   creating: /Users/forets/.julia/v0.5/LRSLib/deps/src/lrslib-2b35cc36c39d1ebca35dbc21a75a35864f0c07b1/ine/test/\n",
      "  inflating: /Users/forets/.julia/v0.5/LRSLib/deps/src/lrslib-2b35cc36c39d1ebca35dbc21a75a35864f0c07b1/ine/test/cross4.ine  \n",
      "  inflating: /Users/forets/.julia/v0.5/LRSLib/deps/src/lrslib-2b35cc36c39d1ebca35dbc21a75a35864f0c07b1/ine/test/cyclic17_8.ine  \n",
      "  inflating: /Users/forets/.julia/v0.5/LRSLib/deps/src/lrslib-2b35cc36c39d1ebca35dbc21a75a35864f0c07b1/ine/test/diamond.ine  \n",
      "  inflating: /Users/forets/.julia/v0.5/LRSLib/deps/src/lrslib-2b35cc36c39d1ebca35dbc21a75a35864f0c07b1/ine/test/in0.ine  \n",
      "  inflating: /Users/forets/.julia/v0.5/LRSLib/deps/src/lrslib-2b35cc36c39d1ebca35dbc21a75a35864f0c07b1/ine/test/in1.ine  \n",
      "  inflating: /Users/forets/.julia/v0.5/LRSLib/deps/src/lrslib-2b35cc36c39d1ebca35dbc21a75a35864f0c07b1/ine/test/in2.ine  \n",
      "  inflating: /Users/forets/.julia/v0.5/LRSLib/deps/src/lrslib-2b35cc36c39d1ebca35dbc21a75a35864f0c07b1/ine/test/in3.ine  \n",
      "  inflating: /Users/forets/.julia/v0.5/LRSLib/deps/src/lrslib-2b35cc36c39d1ebca35dbc21a75a35864f0c07b1/ine/test/in4.ine  \n",
      "  inflating: /Users/forets/.julia/v0.5/LRSLib/deps/src/lrslib-2b35cc36c39d1ebca35dbc21a75a35864f0c07b1/ine/test/in5.ine  \n",
      "  inflating: /Users/forets/.julia/v0.5/LRSLib/deps/src/lrslib-2b35cc36c39d1ebca35dbc21a75a35864f0c07b1/ine/test/in6.ine  \n",
      "  inflating: /Users/forets/.julia/v0.5/LRSLib/deps/src/lrslib-2b35cc36c39d1ebca35dbc21a75a35864f0c07b1/ine/test/in7.ine  \n",
      "  inflating: /Users/forets/.julia/v0.5/LRSLib/deps/src/lrslib-2b35cc36c39d1ebca35dbc21a75a35864f0c07b1/ine/test/inf.ine  \n",
      "  inflating: /Users/forets/.julia/v0.5/LRSLib/deps/src/lrslib-2b35cc36c39d1ebca35dbc21a75a35864f0c07b1/ine/test/kkd38_6.ine  \n",
      "  inflating: /Users/forets/.julia/v0.5/LRSLib/deps/src/lrslib-2b35cc36c39d1ebca35dbc21a75a35864f0c07b1/ine/test/kq20_11.ine  \n",
      "  inflating: /Users/forets/.julia/v0.5/LRSLib/deps/src/lrslib-2b35cc36c39d1ebca35dbc21a75a35864f0c07b1/ine/test/kq20_11a.ine  \n",
      "  inflating: /Users/forets/.julia/v0.5/LRSLib/deps/src/lrslib-2b35cc36c39d1ebca35dbc21a75a35864f0c07b1/ine/test/metric40_11.ine  \n",
      "  inflating: /Users/forets/.julia/v0.5/LRSLib/deps/src/lrslib-2b35cc36c39d1ebca35dbc21a75a35864f0c07b1/ine/test/metric80_16.ine  \n",
      "  inflating: /Users/forets/.julia/v0.5/LRSLib/deps/src/lrslib-2b35cc36c39d1ebca35dbc21a75a35864f0c07b1/ine/test/mit31_20.ine  \n",
      "  inflating: /Users/forets/.julia/v0.5/LRSLib/deps/src/lrslib-2b35cc36c39d1ebca35dbc21a75a35864f0c07b1/ine/test/trunc10.ine  \n",
      "  inflating: /Users/forets/.julia/v0.5/LRSLib/deps/src/lrslib-2b35cc36c39d1ebca35dbc21a75a35864f0c07b1/ine/test/trunc7.ine  \n",
      "  inflating: /Users/forets/.julia/v0.5/LRSLib/deps/src/lrslib-2b35cc36c39d1ebca35dbc21a75a35864f0c07b1/ine/test/truss2.ine  \n",
      "  inflating: /Users/forets/.julia/v0.5/LRSLib/deps/src/lrslib-2b35cc36c39d1ebca35dbc21a75a35864f0c07b1/ine/test/tsp5.ine  \n",
      "  inflating: /Users/forets/.julia/v0.5/LRSLib/deps/src/lrslib-2b35cc36c39d1ebca35dbc21a75a35864f0c07b1/lpdemo.c  \n",
      "  inflating: /Users/forets/.julia/v0.5/LRSLib/deps/src/lrslib-2b35cc36c39d1ebca35dbc21a75a35864f0c07b1/lpdemo2.c  \n",
      "  inflating: /Users/forets/.julia/v0.5/LRSLib/deps/src/lrslib-2b35cc36c39d1ebca35dbc21a75a35864f0c07b1/lrs.c  \n",
      "  inflating: /Users/forets/.julia/v0.5/LRSLib/deps/src/lrslib-2b35cc36c39d1ebca35dbc21a75a35864f0c07b1/lrs.cpp  \n",
      "  inflating: /Users/forets/.julia/v0.5/LRSLib/deps/src/lrslib-2b35cc36c39d1ebca35dbc21a75a35864f0c07b1/lrsgmp.c  \n",
      "  inflating: /Users/forets/.julia/v0.5/LRSLib/deps/src/lrslib-2b35cc36c39d1ebca35dbc21a75a35864f0c07b1/lrsgmp.h  \n",
      "  inflating: /Users/forets/.julia/v0.5/LRSLib/deps/src/lrslib-2b35cc36c39d1ebca35dbc21a75a35864f0c07b1/lrslib.c  \n",
      "  inflating: /Users/forets/.julia/v0.5/LRSLib/deps/src/lrslib-2b35cc36c39d1ebca35dbc21a75a35864f0c07b1/lrslib.h  \n",
      "  inflating: /Users/forets/.julia/v0.5/LRSLib/deps/src/lrslib-2b35cc36c39d1ebca35dbc21a75a35864f0c07b1/lrslong.c  \n",
      "  inflating: /Users/forets/.julia/v0.5/LRSLib/deps/src/lrslib-2b35cc36c39d1ebca35dbc21a75a35864f0c07b1/lrslong.h  \n",
      "  inflating: /Users/forets/.julia/v0.5/LRSLib/deps/src/lrslib-2b35cc36c39d1ebca35dbc21a75a35864f0c07b1/lrsmp.c  \n",
      "  inflating: /Users/forets/.julia/v0.5/LRSLib/deps/src/lrslib-2b35cc36c39d1ebca35dbc21a75a35864f0c07b1/lrsmp.h  \n",
      "  inflating: /Users/forets/.julia/v0.5/LRSLib/deps/src/lrslib-2b35cc36c39d1ebca35dbc21a75a35864f0c07b1/lrsnash.c  \n",
      "  inflating: /Users/forets/.julia/v0.5/LRSLib/deps/src/lrslib-2b35cc36c39d1ebca35dbc21a75a35864f0c07b1/lrsnashlib.c  \n",
      "  inflating: /Users/forets/.julia/v0.5/LRSLib/deps/src/lrslib-2b35cc36c39d1ebca35dbc21a75a35864f0c07b1/lrsnashlib.h  \n",
      "  inflating: /Users/forets/.julia/v0.5/LRSLib/deps/src/lrslib-2b35cc36c39d1ebca35dbc21a75a35864f0c07b1/makefile  \n",
      "  inflating: /Users/forets/.julia/v0.5/LRSLib/deps/src/lrslib-2b35cc36c39d1ebca35dbc21a75a35864f0c07b1/mit.ine  \n",
      "  inflating: /Users/forets/.julia/v0.5/LRSLib/deps/src/lrslib-2b35cc36c39d1ebca35dbc21a75a35864f0c07b1/mp5.ine  \n",
      "  inflating: /Users/forets/.julia/v0.5/LRSLib/deps/src/lrslib-2b35cc36c39d1ebca35dbc21a75a35864f0c07b1/mp5.mplrs  \n",
      "  inflating: /Users/forets/.julia/v0.5/LRSLib/deps/src/lrslib-2b35cc36c39d1ebca35dbc21a75a35864f0c07b1/mp5.plrs  \n",
      "  inflating: /Users/forets/.julia/v0.5/LRSLib/deps/src/lrslib-2b35cc36c39d1ebca35dbc21a75a35864f0c07b1/mplrs.c  \n",
      "  inflating: /Users/forets/.julia/v0.5/LRSLib/deps/src/lrslib-2b35cc36c39d1ebca35dbc21a75a35864f0c07b1/mplrs.h  \n",
      "  inflating: /Users/forets/.julia/v0.5/LRSLib/deps/src/lrslib-2b35cc36c39d1ebca35dbc21a75a35864f0c07b1/nashdemo.c  \n",
      "  inflating: /Users/forets/.julia/v0.5/LRSLib/deps/src/lrslib-2b35cc36c39d1ebca35dbc21a75a35864f0c07b1/plotD.gp  \n",
      "  inflating: /Users/forets/.julia/v0.5/LRSLib/deps/src/lrslib-2b35cc36c39d1ebca35dbc21a75a35864f0c07b1/plotL.gp  \n",
      "  inflating: /Users/forets/.julia/v0.5/LRSLib/deps/src/lrslib-2b35cc36c39d1ebca35dbc21a75a35864f0c07b1/plrs.cpp  \n",
      "  inflating: /Users/forets/.julia/v0.5/LRSLib/deps/src/lrslib-2b35cc36c39d1ebca35dbc21a75a35864f0c07b1/plrs.hpp  \n",
      "  inflating: /Users/forets/.julia/v0.5/LRSLib/deps/src/lrslib-2b35cc36c39d1ebca35dbc21a75a35864f0c07b1/rat2float.c  \n",
      "  inflating: /Users/forets/.julia/v0.5/LRSLib/deps/src/lrslib-2b35cc36c39d1ebca35dbc21a75a35864f0c07b1/redund.c  \n",
      "  inflating: /Users/forets/.julia/v0.5/LRSLib/deps/src/lrslib-2b35cc36c39d1ebca35dbc21a75a35864f0c07b1/setupnash.c  \n",
      "  inflating: /Users/forets/.julia/v0.5/LRSLib/deps/src/lrslib-2b35cc36c39d1ebca35dbc21a75a35864f0c07b1/setupnash2.c  \n",
      "  inflating: /Users/forets/.julia/v0.5/LRSLib/deps/src/lrslib-2b35cc36c39d1ebca35dbc21a75a35864f0c07b1/vedemo.c  \n"
     ]
    },
    {
     "name": "stderr",
     "output_type": "stream",
     "text": [
      "INFO: Done downloading file https://github.com/blegat/lrslib/archive/2b35cc36c39d1ebca35dbc21a75a35864f0c07b1.zip\n",
      "INFO: Attempting to Create directory /Users/forets/.julia/v0.5/LRSLib/deps/src\n",
      "INFO: Attempting to Create directory /Users/forets/.julia/v0.5/LRSLib/deps\n",
      "INFO: Directory /Users/forets/.julia/v0.5/LRSLib/deps already created\n",
      "INFO: Attempting to Create directory /Users/forets/.julia/v0.5/LRSLib/deps/usr\n",
      "INFO: Attempting to Create directory /Users/forets/.julia/v0.5/LRSLib/deps/usr/lib\n",
      "INFO: Changing Directory to /Users/forets/.julia/v0.5/LRSLib/deps/src/lrslib-2b35cc36c39d1ebca35dbc21a75a35864f0c07b1\n"
     ]
    },
    {
     "name": "stdout",
     "output_type": "stream",
     "text": [
      "patching file makefile\n",
      "Hunk #3 succeeded at 163 with fuzz 2.\n",
      "gcc -c -fPIC -O3  -DTIMES -DSIGNALS -DGMP -I/Users/forets/.julia/v0.5/Homebrew/deps/usr/include -o lrslib-GMP-SHR.o lrslib.c\n",
      "gcc -c -fPIC -O3  -DTIMES -DSIGNALS -DGMP -I/Users/forets/.julia/v0.5/Homebrew/deps/usr/include -o lrsgmp-GMP-SHR.o lrsgmp.c\n",
      "gcc -shared -Wl,-install_name,liblrsgmp.dylib.0  -o liblrsgmp.dylib.0 lrslib-GMP-SHR.o lrsgmp-GMP-SHR.o -L/Users/forets/.julia/v0.5/Homebrew/deps/usr/lib -lgmp\n",
      "ln -sf liblrsgmp.dylib.0 liblrsgmp.dylib\n",
      "make LRSGMPLIB=liblrsgmp.dylib\n",
      "gcc -c -O3  -DTIMES -DSIGNALS -DGMP -I/Users/forets/.julia/v0.5/Homebrew/deps/usr/include -o 2nash-GMP.o 2nash.c\n",
      "gcc 2nash-GMP.o -L. -llrsgmp -L/Users/forets/.julia/v0.5/Homebrew/deps/usr/lib  -lgmp -o 2nash\n",
      "gcc -c -O3  -DTIMES -DSIGNALS -DGMP -I/Users/forets/.julia/v0.5/Homebrew/deps/usr/include -o lrs-GMP.o lrs.c\n",
      "gcc lrs-GMP.o -L. -llrsgmp -L/Users/forets/.julia/v0.5/Homebrew/deps/usr/lib  -lgmp -o lrs\n",
      "gcc -O3  -DTIMES -DSIGNALS -DLRSLONG -o lrs1 lrs.c lrslib.c lrslong.c\n",
      "gcc -O3  -o lrsnash lrsnash.c lrsnashlib.c lrslib.c lrsgmp.c -L/Users/forets/.julia/v0.5/Homebrew/deps/usr/lib -lgmp -DGMP -I/Users/forets/.julia/v0.5/Homebrew/deps/usr/include -Wno-return-type\n",
      "gcc -O3  -o nashdemo nashdemo.c lrsnashlib.c lrslib.c lrsgmp.c -L/Users/forets/.julia/v0.5/Homebrew/deps/usr/lib -lgmp -DGMP -I/Users/forets/.julia/v0.5/Homebrew/deps/usr/include -Wno-return-type\n",
      "gcc -O3 -o 2nash 2nash.c\n",
      "gcc -c -O3  -DTIMES -DSIGNALS -DGMP -I/Users/forets/.julia/v0.5/Homebrew/deps/usr/include -o redund-GMP.o redund.c\n",
      "gcc redund-GMP.o -L. -llrsgmp -L/Users/forets/.julia/v0.5/Homebrew/deps/usr/lib  -lgmp -o redund\n",
      "gcc -O3  -DTIMES -DSIGNALS -DLRSLONG -o redund1 redund.c lrslib.c lrslong.c\n",
      "gcc -O3  -DTIMES -DSIGNALS -o setnash setupnash.c lrslib.c lrsmp.c\n",
      "gcc -O3  -DTIMES -DSIGNALS -o setnash2 setupnash2.c lrslib.c lrsmp.c\n",
      "rm 2nash-GMP.o lrs-GMP.o redund-GMP.o\n"
     ]
    },
    {
     "name": "stderr",
     "output_type": "stream",
     "text": [
      "\n",
      "================================[ BUILD ERRORS ]================================\n",
      "\n",
      "WARNING: Homebrew had build errors.\n",
      "\n",
      " - packages with build errors remain installed in /Users/forets/.julia/v0.5\n",
      " - build the package(s) and all dependencies with `Pkg.build(\"Homebrew\")`\n",
      " - build a single package by running its `deps/build.jl` script\n",
      "\n",
      "================================================================================\n",
      "INFO: Package database updated\n",
      "INFO: METADATA is out-of-date — you may not have the latest version of LRSLib\n",
      "INFO: Use `Pkg.update()` to get the latest versions of your packages\n"
     ]
    }
   ],
   "source": [
    "Pkg.add(\"LRSLib\")"
   ]
  },
  {
   "cell_type": "code",
   "execution_count": 2,
   "metadata": {
    "collapsed": false
   },
   "outputs": [
    {
     "name": "stderr",
     "output_type": "stream",
     "text": [
      "INFO: Updating METADATA...\n",
      "INFO: Updating cache of DataFrames...\n",
      "INFO: Updating cache of DataFrames...\n",
      "INFO: Updating Expokit phimv...\n",
      "INFO: Updating Gadfly master...\n",
      "INFO: Computing changes...\n",
      "INFO: No packages to install, update or remove\n"
     ]
    }
   ],
   "source": [
    "Pkg.update()"
   ]
  },
  {
   "cell_type": "code",
   "execution_count": 14,
   "metadata": {
    "collapsed": true
   },
   "outputs": [
    {
     "name": "stderr",
     "output_type": "stream",
     "text": [
      "INFO: Building Homebrew\n"
     ]
    },
    {
     "name": "stdout",
     "output_type": "stream",
     "text": [
      "Already up-to-date.\n"
     ]
    },
    {
     "name": "stderr",
     "output_type": "stream",
     "text": [
      "Error: Refusing to uninstall /Users/forets/.julia/v0.5/Homebrew/deps/usr/Cellar/gmp/6.1.1\n",
      "because it is required by nettle 3.3, which is currently installed.\n",
      "You can override this and force removal with:\n",
      "  brew uninstall --ignore-dependencies gmp\n",
      "==============================[ ERROR: Homebrew ]===============================\n",
      "\n",
      "LoadError: failed process: Process(`/Users/forets/.julia/v0.5/Homebrew/deps/usr/bin/brew rm gmp --force`, ProcessExited(1)) [1]\n",
      "while loading /Users/forets/.julia/v0.5/Homebrew/deps/build.jl, in expression starting on line 2\n",
      "\n",
      "================================================================================\n",
      "\n",
      "================================[ BUILD ERRORS ]================================\n",
      "\n",
      "WARNING: Homebrew had build errors.\n",
      "\n",
      " - packages with build errors remain installed in /Users/forets/.julia/v0.5\n",
      " - build the package(s) and all dependencies with `Pkg.build(\"Homebrew\")`\n",
      " - build a single package by running its `deps/build.jl` script\n",
      "\n",
      "================================================================================\n"
     ]
    }
   ],
   "source": [
    "Pkg.build(\"Homebrew\")"
   ]
  },
  {
   "cell_type": "code",
   "execution_count": 15,
   "metadata": {
    "collapsed": false
   },
   "outputs": [
    {
     "name": "stdout",
     "output_type": "stream",
     "text": [
      "==> Downloading https://homebrew.bintray.com/bottles/gmp-6.1.2.el_capitan.bottle.tar.gz\n",
      "Already downloaded: /Users/forets/Library/Caches/Homebrew/gmp-6.1.2.el_capitan.bottle.tar.gz\n",
      "==> Pouring gmp-6.1.2.el_capitan.bottle.tar.gz\n",
      "🍺  /usr/local/Cellar/gmp/6.1.2: 18 files, 3.2M\n"
     ]
    }
   ],
   "source": [
    "run(`brew install gmp`)"
   ]
  },
  {
   "cell_type": "code",
   "execution_count": 10,
   "metadata": {
    "collapsed": false
   },
   "outputs": [
    {
     "name": "stdout",
     "output_type": "stream",
     "text": [
      "search: run trunc truncate round rounding RoundUp RoundDown RoundToZero\n",
      "\n"
     ]
    },
    {
     "data": {
      "text/markdown": [
       "```\n",
       "run(command)\n",
       "```\n",
       "\n",
       "Run a command object, constructed with backticks. Throws an error if anything goes wrong, including the process exiting with a non-zero status.\n"
      ],
      "text/plain": [
       "```\n",
       "run(command)\n",
       "```\n",
       "\n",
       "Run a command object, constructed with backticks. Throws an error if anything goes wrong, including the process exiting with a non-zero status.\n"
      ]
     },
     "execution_count": 10,
     "metadata": {},
     "output_type": "execute_result"
    }
   ],
   "source": [
    "?run"
   ]
  },
  {
   "cell_type": "code",
   "execution_count": 18,
   "metadata": {
    "collapsed": true
   },
   "outputs": [],
   "source": [
    "using Homebrew"
   ]
  },
  {
   "cell_type": "code",
   "execution_count": 20,
   "metadata": {
    "collapsed": false
   },
   "outputs": [
    {
     "name": "stdout",
     "output_type": "stream",
     "text": [
      "                      Homebrew   6149 KB     Module\n"
     ]
    }
   ],
   "source": [
    "whos(Homebrew)"
   ]
  },
  {
   "cell_type": "code",
   "execution_count": 25,
   "metadata": {
    "collapsed": false
   },
   "outputs": [
    {
     "data": {
      "text/markdown": [
       "`brew(cmd::Cmd; no_stderr=false, no_stdout=false, verbose=false, force=false, quiet=false)`\n",
       "\n",
       "Run command `cmd` using the configured brew binary, optionally suppressing stdout and stderr, and providing flags such as `--verbose` to the brew binary.\n"
      ],
      "text/plain": [
       "`brew(cmd::Cmd; no_stderr=false, no_stdout=false, verbose=false, force=false, quiet=false)`\n",
       "\n",
       "Run command `cmd` using the configured brew binary, optionally suppressing stdout and stderr, and providing flags such as `--verbose` to the brew binary.\n"
      ]
     },
     "execution_count": 25,
     "metadata": {},
     "output_type": "execute_result"
    }
   ],
   "source": [
    "?Homebrew.brew"
   ]
  },
  {
   "cell_type": "code",
   "execution_count": 29,
   "metadata": {
    "collapsed": false
   },
   "outputs": [
    {
     "name": "stdout",
     "output_type": "stream",
     "text": [
      "Uninstalling /Users/forets/.julia/v0.5/Homebrew/deps/usr/Cellar/gmp/6.1.1... (17 files, 3.2M)\n"
     ]
    }
   ],
   "source": [
    "Homebrew.brew(`uninstall --ignore-dependencies gmp`)"
   ]
  },
  {
   "cell_type": "code",
   "execution_count": 30,
   "metadata": {
    "collapsed": false
   },
   "outputs": [
    {
     "name": "stdout",
     "output_type": "stream",
     "text": [
      "==> Downloading https://homebrew.bintray.com/bottles/gmp-6.1.2.el_capitan.bottle.tar.gz\n",
      "==> Pouring gmp-6.1.2.el_capitan.bottle.tar.gz\n",
      "🍺  /Users/forets/.julia/v0.5/Homebrew/deps/usr/Cellar/gmp/6.1.2: 18 files, 3.2M\n"
     ]
    }
   ],
   "source": [
    "Homebrew.brew(`install gmp`)"
   ]
  },
  {
   "cell_type": "code",
   "execution_count": 31,
   "metadata": {
    "collapsed": false
   },
   "outputs": [
    {
     "name": "stderr",
     "output_type": "stream",
     "text": [
      "INFO: Building Homebrew\n"
     ]
    },
    {
     "name": "stdout",
     "output_type": "stream",
     "text": [
      "Updated 1 tap (homebrew/core).\n",
      "==> Updated Formulae\n",
      "aws-sdk-cpp\n",
      "awscli\n",
      "cabal-install\n",
      "caddy\n",
      "chromedriver\n",
      "elasticsearch@2.4\n",
      "gnome-builder\n",
      "macvim\n",
      "sqliteodbc\n",
      "syncthing\n",
      "terraform\n",
      "vim\n",
      "zplug\n",
      "zsh\n"
     ]
    },
    {
     "name": "stderr",
     "output_type": "stream",
     "text": [
      "Error: Refusing to uninstall /Users/forets/.julia/v0.5/Homebrew/deps/usr/Cellar/libpng/1.6.25\n",
      "because it is required by gobject-introspection 1.50.0, which is currently installed.\n",
      "You can override this and force removal with:\n",
      "  brew uninstall --ignore-dependencies libpng\n",
      "==============================[ ERROR: Homebrew ]===============================\n",
      "\n",
      "LoadError: failed process: Process(`/Users/forets/.julia/v0.5/Homebrew/deps/usr/bin/brew rm libpng --force`, ProcessExited(1)) [1]\n",
      "while loading /Users/forets/.julia/v0.5/Homebrew/deps/build.jl, in expression starting on line 2\n",
      "\n",
      "================================================================================\n",
      "\n",
      "================================[ BUILD ERRORS ]================================\n",
      "\n",
      "WARNING: Homebrew had build errors.\n",
      "\n",
      " - packages with build errors remain installed in /Users/forets/.julia/v0.5\n",
      " - build the package(s) and all dependencies with `Pkg.build(\"Homebrew\")`\n",
      " - build a single package by running its `deps/build.jl` script\n",
      "\n",
      "================================================================================\n"
     ]
    }
   ],
   "source": [
    "Pkg.build(\"Homebrew\")"
   ]
  },
  {
   "cell_type": "code",
   "execution_count": 32,
   "metadata": {
    "collapsed": false
   },
   "outputs": [
    {
     "name": "stdout",
     "output_type": "stream",
     "text": [
      "Uninstalling /Users/forets/.julia/v0.5/Homebrew/deps/usr/Cellar/libpng/1.6.25... (25 files, 1.2M)\n"
     ]
    }
   ],
   "source": [
    "Homebrew.brew(`uninstall --ignore-dependencies libpng`)"
   ]
  },
  {
   "cell_type": "code",
   "execution_count": 33,
   "metadata": {
    "collapsed": false
   },
   "outputs": [
    {
     "name": "stdout",
     "output_type": "stream",
     "text": [
      "==> Downloading https://homebrew.bintray.com/bottles/libpng-1.6.26.el_capitan.bottle.tar.gz\n",
      "==> Pouring libpng-1.6.26.el_capitan.bottle.tar.gz\n",
      "🍺  /Users/forets/.julia/v0.5/Homebrew/deps/usr/Cellar/libpng/1.6.26: 26 files, 1.2M\n"
     ]
    }
   ],
   "source": [
    "Homebrew.brew(`install libpng`)"
   ]
  },
  {
   "cell_type": "code",
   "execution_count": 1,
   "metadata": {
    "collapsed": false
   },
   "outputs": [
    {
     "name": "stderr",
     "output_type": "stream",
     "text": [
      "INFO: Building Homebrew\n"
     ]
    },
    {
     "name": "stdout",
     "output_type": "stream",
     "text": [
      "Already up-to-date.\n"
     ]
    }
   ],
   "source": [
    "Pkg.build(\"Homebrew\")"
   ]
  },
  {
   "cell_type": "code",
   "execution_count": 3,
   "metadata": {
    "collapsed": false
   },
   "outputs": [
    {
     "name": "stderr",
     "output_type": "stream",
     "text": [
      "INFO: Nothing to be done\n"
     ]
    }
   ],
   "source": [
    "Pkg.add(\"CDDLib\")"
   ]
  },
  {
   "cell_type": "code",
   "execution_count": 4,
   "metadata": {
    "collapsed": false
   },
   "outputs": [
    {
     "name": "stderr",
     "output_type": "stream",
     "text": [
      "INFO: Nothing to be done\n"
     ]
    }
   ],
   "source": [
    "Pkg.add(\"LRSLib\")"
   ]
  },
  {
   "cell_type": "code",
   "execution_count": null,
   "metadata": {
    "collapsed": true
   },
   "outputs": [],
   "source": []
  },
  {
   "cell_type": "code",
   "execution_count": 6,
   "metadata": {
    "collapsed": false
   },
   "outputs": [
    {
     "data": {
      "text/plain": [
       "32-element Array{Array{Float64,1},1}:\n",
       " [0.913208,-0.913208,-0.913208,-0.913208,-0.913208] \n",
       " [0.913208,-0.913208,-0.913208,-0.913208,0.913208]  \n",
       " [0.913208,-0.913208,-0.913208,0.913208,-0.913208]  \n",
       " [0.913208,-0.913208,-0.913208,0.913208,0.913208]   \n",
       " [0.913208,-0.913208,0.913208,-0.913208,-0.913208]  \n",
       " [0.913208,-0.913208,0.913208,-0.913208,0.913208]   \n",
       " [0.913208,-0.913208,0.913208,0.913208,-0.913208]   \n",
       " [0.913208,-0.913208,0.913208,0.913208,0.913208]    \n",
       " [0.913208,0.913208,0.913208,-0.913208,-0.913208]   \n",
       " [0.913208,0.913208,0.913208,-0.913208,0.913208]    \n",
       " [0.913208,0.913208,0.913208,0.913208,0.913208]     \n",
       " [0.913208,0.913208,0.913208,0.913208,-0.913208]    \n",
       " [0.913208,0.913208,-0.913208,0.913208,0.913208]    \n",
       " ⋮                                                  \n",
       " [-0.913208,0.913208,-0.913208,0.913208,0.913208]   \n",
       " [-0.913208,0.913208,-0.913208,0.913208,-0.913208]  \n",
       " [-0.913208,0.913208,-0.913208,-0.913208,0.913208]  \n",
       " [-0.913208,0.913208,-0.913208,-0.913208,-0.913208] \n",
       " [-0.913208,-0.913208,0.913208,0.913208,0.913208]   \n",
       " [-0.913208,-0.913208,0.913208,0.913208,-0.913208]  \n",
       " [-0.913208,-0.913208,0.913208,-0.913208,0.913208]  \n",
       " [-0.913208,-0.913208,0.913208,-0.913208,-0.913208] \n",
       " [-0.913208,-0.913208,-0.913208,0.913208,0.913208]  \n",
       " [-0.913208,-0.913208,-0.913208,0.913208,-0.913208] \n",
       " [-0.913208,-0.913208,-0.913208,-0.913208,0.913208] \n",
       " [-0.913208,-0.913208,-0.913208,-0.913208,-0.913208]"
      ]
     },
     "execution_count": 6,
     "metadata": {},
     "output_type": "execute_result"
    }
   ],
   "source": [
    "v = [[0.9132076842, -0.9132076842, -0.9132076842, -0.9132076842, -0.9132076842],\n",
    " [0.9132076842, -0.9132076842, -0.9132076842, -0.9132076842, 0.9132076842],\n",
    " [0.9132076842, -0.9132076842, -0.9132076842, 0.9132076842, -0.9132076842],\n",
    " [0.9132076842, -0.9132076842, -0.9132076842, 0.9132076842, 0.9132076842],\n",
    " [0.9132076842, -0.9132076842, 0.9132076842, -0.9132076842, -0.9132076842],\n",
    " [0.9132076842, -0.9132076842, 0.9132076842, -0.9132076842, 0.9132076842],\n",
    " [0.9132076842, -0.9132076842, 0.9132076842, 0.9132076842, -0.9132076842],\n",
    " [0.9132076842, -0.9132076842, 0.9132076842, 0.9132076842, 0.9132076842],\n",
    " [0.9132076842, 0.9132076842, 0.9132076842, -0.9132076842, -0.9132076842],\n",
    " [0.9132076842, 0.9132076842, 0.9132076842, -0.9132076842, 0.9132076842],\n",
    " [0.9132076842, 0.9132076842, 0.9132076842, 0.9132076842, 0.9132076842],\n",
    " [0.9132076842, 0.9132076842, 0.9132076842, 0.9132076842, -0.9132076842],\n",
    " [0.9132076842, 0.9132076842, -0.9132076842, 0.9132076842, 0.9132076842],\n",
    " [0.9132076842, 0.9132076842, -0.9132076842, 0.9132076842, -0.9132076842],\n",
    " [0.9132076842, 0.9132076842, -0.9132076842, -0.9132076842, 0.9132076842],\n",
    " [0.9132076842, 0.9132076842, -0.9132076842, -0.9132076842, -0.9132076842],\n",
    " [-0.9132076842, 0.9132076842, 0.9132076842, 0.9132076842, 0.9132076842],\n",
    " [-0.9132076842, 0.9132076842, 0.9132076842, 0.9132076842, -0.9132076842],\n",
    " [-0.9132076842, 0.9132076842, 0.9132076842, -0.9132076842, 0.9132076842],\n",
    " [-0.9132076842, 0.9132076842, 0.9132076842, -0.9132076842, -0.9132076842],\n",
    " [-0.9132076842, 0.9132076842, -0.9132076842, 0.9132076842, 0.9132076842],\n",
    " [-0.9132076842, 0.9132076842, -0.9132076842, 0.9132076842, -0.9132076842],\n",
    " [-0.9132076842, 0.9132076842, -0.9132076842, -0.9132076842, 0.9132076842],\n",
    " [-0.9132076842, 0.9132076842, -0.9132076842, -0.9132076842, -0.9132076842],\n",
    " [-0.9132076842, -0.9132076842, 0.9132076842, 0.9132076842, 0.9132076842],\n",
    " [-0.9132076842, -0.9132076842, 0.9132076842, 0.9132076842, -0.9132076842],\n",
    " [-0.9132076842, -0.9132076842, 0.9132076842, -0.9132076842, 0.9132076842],\n",
    " [-0.9132076842, -0.9132076842, 0.9132076842, -0.9132076842, -0.9132076842],\n",
    " [-0.9132076842, -0.9132076842, -0.9132076842, 0.9132076842, 0.9132076842],\n",
    " [-0.9132076842, -0.9132076842, -0.9132076842, 0.9132076842, -0.9132076842],\n",
    " [-0.9132076842, -0.9132076842, -0.9132076842, -0.9132076842, 0.9132076842],\n",
    " [-0.9132076842, -0.9132076842, -0.9132076842, -0.9132076842, -0.9132076842]]"
   ]
  },
  {
   "cell_type": "code",
   "execution_count": 9,
   "metadata": {
    "collapsed": false
   },
   "outputs": [
    {
     "name": "stderr",
     "output_type": "stream",
     "text": [
      "INFO: Cloning LinearAlgebra from https://github.com/andreasnoack/LinearAlgebra.jl.git\n",
      "INFO: Computing changes...\n",
      "INFO: No packages to install, update or remove\n"
     ]
    }
   ],
   "source": [
    "Pkg.clone(\"https://github.com/andreasnoack/LinearAlgebra.jl.git\")"
   ]
  },
  {
   "cell_type": "code",
   "execution_count": 10,
   "metadata": {
    "collapsed": false
   },
   "outputs": [
    {
     "name": "stderr",
     "output_type": "stream",
     "text": [
      "INFO: Cloning ConvexHull from https://github.com/JuliaPolyhedra/ConvexHull.jl.git\n",
      "INFO: Computing changes...\n",
      "INFO: Cloning cache of Combinatorics from https://github.com/JuliaMath/Combinatorics.jl.git\n",
      "INFO: Cloning cache of RowEchelon from https://github.com/blegat/RowEchelon.jl.git\n",
      "INFO: Installing Combinatorics v0.3.2\n",
      "INFO: Installing RowEchelon v0.0.2\n"
     ]
    }
   ],
   "source": [
    "Pkg.clone(\"https://github.com/JuliaPolyhedra/ConvexHull.jl.git\")"
   ]
  },
  {
   "cell_type": "code",
   "execution_count": 11,
   "metadata": {
    "collapsed": false
   },
   "outputs": [
    {
     "name": "stderr",
     "output_type": "stream",
     "text": [
      "INFO: Cloning QHull from https://github.com/davidavdav/QHull.jl.git\n",
      "INFO: Computing changes...\n",
      "INFO: No packages to install, update or remove\n"
     ]
    }
   ],
   "source": [
    "Pkg.clone(\"https://github.com/davidavdav/QHull.jl.git\")"
   ]
  },
  {
   "cell_type": "code",
   "execution_count": null,
   "metadata": {
    "collapsed": true
   },
   "outputs": [],
   "source": []
  }
 ],
 "metadata": {
  "kernelspec": {
   "display_name": "Julia 0.5.0",
   "language": "julia",
   "name": "julia-0.5"
  },
  "language_info": {
   "file_extension": ".jl",
   "mimetype": "application/julia",
   "name": "julia",
   "version": "0.5.0"
  }
 },
 "nbformat": 4,
 "nbformat_minor": 0
}
